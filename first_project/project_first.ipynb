{
 "cells": [
  {
   "cell_type": "markdown",
   "id": "517882bf",
   "metadata": {
    "id": "517882bf"
   },
   "source": [
    "# Проект"
   ]
  },
  {
   "cell_type": "markdown",
   "id": "b6e92507",
   "metadata": {
    "id": "b6e92507"
   },
   "source": [
    "**Оптимизация публикаций сообщений в мессендежере для повышения информированности адресатов и активизации обратной связи на сообщения.**"
   ]
  },
  {
   "cell_type": "markdown",
   "id": "b645488e",
   "metadata": {},
   "source": [
    "**ОГЛАВЛЕНИЕ**\n",
    "\n",
    "1. [Описание проекта](#first)\n",
    "2. [Выгрузка и первое изучение данных](#second)\n",
    "3. [Предобработка и изучение данных](#third)\\\n",
    "    3.1. [Удаление ненужных столбцов](#third_1)\\\n",
    "    3.2. [Изменение типов данных в некоторых столбцах](#third_2)\\\n",
    "    3.3. [Предобработка пропусков в данных](#third_3)\\\n",
    "    3.4. [Проверка дубликатов в данных](#third_4)\\\n",
    "    3.5. [Изучение значений данных, выявление аномальных и редких значений](#third_5)\\\n",
    "    3.6. [Добавление новых столбцов - распределение данных по категориям](#third_6)\n",
    "4. [Исследовательский анализ данных](#fourth)\\\n",
    "    4.1. [Изучение зависимости длины сообщений и активности обратной связи на сообщения](#fourth_1)\\\n",
    "    4.2. [Изучение зависимости времени дня публикации сообщения и активности обратной связи на сообщения](#fourth_2)\\\n",
    "    4.3. [Изучение зависимости канала публикации сообщения и активности обратной связи на сообщения](#fourth_3)\\\n",
    "    4.4. [Изучение зависимости тематики публикации сообщения и активности обратной связи на сообщения](#fourth_4)   \n",
    "5. [Общие выводы и итоговые рекомендации](#fifth)"
   ]
  },
  {
   "cell_type": "markdown",
   "id": "2e3e620e",
   "metadata": {
    "id": "2e3e620e"
   },
   "source": [
    " <a id=\"first\"></a> \n",
    "## Описание проекта"
   ]
  },
  {
   "cell_type": "markdown",
   "id": "af5c9627",
   "metadata": {
    "id": "af5c9627"
   },
   "source": [
    "**Проблема:** низкая обратная связь на посты, публикуемые в чатах.\n",
    "\n",
    "**Цель проекта:** дать рекомендации для повышения обратной связи на посты, публикуемые в чатах.  \n",
    "\n",
    "**Краткий план работы:**\n",
    " 1. Изучение и предобработка данных для их дальнейшего анализа.\n",
    " 2. Добавление новых данных - распределение имеющихся данных по категориям.\n",
    " 3. Исследование данных и формулирование рекомендаций:\n",
    "  - изучение зависимости длины сообщений и активности обратной связи на сообщения;\n",
    "  - формулирование рекомендаций по оптимальной длине сообщений для повышения активности обратной связи;\n",
    "  - изучение зависимости времени дня публикации сообщения и активности обратной связи на сообщения;\n",
    "  - формулирование рекомендаций по оптимальному времени дня публикаций сообщений для повышения активности обратной связи;\n",
    "  - изучение зависимости канала публикации сообщения и активности обратной связи на сообщения;\n",
    "  - изучение зависимости тематики публикации сообщения и активности обратной связи на сообщения.\n",
    " 4. Формулирование общих выводов и рекомендаций."
   ]
  },
  {
   "cell_type": "markdown",
   "id": "bdb0f242",
   "metadata": {
    "id": "bdb0f242"
   },
   "source": [
    " <a id=\"second\"></a> \n",
    "## Выгрузка и первое изучение данных"
   ]
  },
  {
   "cell_type": "code",
   "execution_count": 1,
   "id": "4a360605",
   "metadata": {
    "id": "4a360605"
   },
   "outputs": [],
   "source": [
    "import numpy as np\n",
    "import pandas as pd\n",
    "import matplotlib.pyplot as plt\n",
    "import seaborn as sns\n",
    "import ast"
   ]
  },
  {
   "cell_type": "code",
   "execution_count": 2,
   "id": "5bd2e2a8",
   "metadata": {},
   "outputs": [],
   "source": [
    "try:\n",
    "    df = pd.read_csv('chat_data_clean.csv')\n",
    "except:\n",
    "    df = pd.read_csv('/content/drive/MyDrive/datasets/chat_data_clean.csv')"
   ]
  },
  {
   "cell_type": "code",
   "execution_count": 3,
   "id": "1faa318a",
   "metadata": {
    "colab": {
     "base_uri": "https://localhost:8080/",
     "height": 624
    },
    "id": "1faa318a",
    "outputId": "0f79f10a-448c-4e1c-b322-b3e91922b2de"
   },
   "outputs": [
    {
     "data": {
      "text/html": [
       "<div>\n",
       "<style scoped>\n",
       "    .dataframe tbody tr th:only-of-type {\n",
       "        vertical-align: middle;\n",
       "    }\n",
       "\n",
       "    .dataframe tbody tr th {\n",
       "        vertical-align: top;\n",
       "    }\n",
       "\n",
       "    .dataframe thead th {\n",
       "        text-align: right;\n",
       "    }\n",
       "</style>\n",
       "<table border=\"1\" class=\"dataframe\">\n",
       "  <thead>\n",
       "    <tr style=\"text-align: right;\">\n",
       "      <th></th>\n",
       "      <th>Unnamed: 0</th>\n",
       "      <th>client_msg_id</th>\n",
       "      <th>type</th>\n",
       "      <th>user</th>\n",
       "      <th>ts</th>\n",
       "      <th>latest_reply</th>\n",
       "      <th>team</th>\n",
       "      <th>thread_ts</th>\n",
       "      <th>subtype</th>\n",
       "      <th>channel</th>\n",
       "      <th>file_date</th>\n",
       "      <th>attachments</th>\n",
       "      <th>reactions</th>\n",
       "      <th>text_len</th>\n",
       "      <th>text_words</th>\n",
       "    </tr>\n",
       "  </thead>\n",
       "  <tbody>\n",
       "    <tr>\n",
       "      <th>0</th>\n",
       "      <td>0</td>\n",
       "      <td>ae31e785-257b-4290-a4c6-9721337f67ea</td>\n",
       "      <td>message</td>\n",
       "      <td>U03JYMWQLP5</td>\n",
       "      <td>1.669643e+09</td>\n",
       "      <td>1.669645e+09</td>\n",
       "      <td>TPV9DP0N4</td>\n",
       "      <td>1.669643e+09</td>\n",
       "      <td>NaN</td>\n",
       "      <td>data-analysts-bus</td>\n",
       "      <td>2022-11-28</td>\n",
       "      <td>0</td>\n",
       "      <td>NaN</td>\n",
       "      <td>297</td>\n",
       "      <td>47</td>\n",
       "    </tr>\n",
       "    <tr>\n",
       "      <th>1</th>\n",
       "      <td>1</td>\n",
       "      <td>7f644ae8-16d4-4c9e-9c4f-8b2d6df6a28d</td>\n",
       "      <td>message</td>\n",
       "      <td>U03V483FRKM</td>\n",
       "      <td>1.669645e+09</td>\n",
       "      <td>NaN</td>\n",
       "      <td>TPV9DP0N4</td>\n",
       "      <td>1.669643e+09</td>\n",
       "      <td>NaN</td>\n",
       "      <td>data-analysts-bus</td>\n",
       "      <td>2022-11-28</td>\n",
       "      <td>0</td>\n",
       "      <td>[{'name': 'pray', 'users': ['U03JYMWQLP5'], 'c...</td>\n",
       "      <td>434</td>\n",
       "      <td>63</td>\n",
       "    </tr>\n",
       "    <tr>\n",
       "      <th>2</th>\n",
       "      <td>2</td>\n",
       "      <td>NaN</td>\n",
       "      <td>message</td>\n",
       "      <td>U02KVQJHQ5S</td>\n",
       "      <td>1.669647e+09</td>\n",
       "      <td>NaN</td>\n",
       "      <td>NaN</td>\n",
       "      <td>NaN</td>\n",
       "      <td>channel_join</td>\n",
       "      <td>data-analysts-bus</td>\n",
       "      <td>2022-11-28</td>\n",
       "      <td>0</td>\n",
       "      <td>NaN</td>\n",
       "      <td>37</td>\n",
       "      <td>5</td>\n",
       "    </tr>\n",
       "    <tr>\n",
       "      <th>3</th>\n",
       "      <td>3</td>\n",
       "      <td>6c5bf2c1-8579-413c-8e8f-ec3a0e3698a8</td>\n",
       "      <td>message</td>\n",
       "      <td>U03JYMWQLP5</td>\n",
       "      <td>1.669709e+09</td>\n",
       "      <td>1.669719e+09</td>\n",
       "      <td>NaN</td>\n",
       "      <td>1.669709e+09</td>\n",
       "      <td>NaN</td>\n",
       "      <td>data-analysts-bus</td>\n",
       "      <td>2022-11-29</td>\n",
       "      <td>0</td>\n",
       "      <td>[{'name': 'cat-high-five', 'users': ['U040E2D6...</td>\n",
       "      <td>69</td>\n",
       "      <td>12</td>\n",
       "    </tr>\n",
       "    <tr>\n",
       "      <th>4</th>\n",
       "      <td>4</td>\n",
       "      <td>b5e3413b-8f04-4192-948b-2423eb3192b2</td>\n",
       "      <td>message</td>\n",
       "      <td>U040E2D6CF2</td>\n",
       "      <td>1.669711e+09</td>\n",
       "      <td>NaN</td>\n",
       "      <td>TPV9DP0N4</td>\n",
       "      <td>1.669709e+09</td>\n",
       "      <td>NaN</td>\n",
       "      <td>data-analysts-bus</td>\n",
       "      <td>2022-11-29</td>\n",
       "      <td>0</td>\n",
       "      <td>NaN</td>\n",
       "      <td>19</td>\n",
       "      <td>2</td>\n",
       "    </tr>\n",
       "    <tr>\n",
       "      <th>...</th>\n",
       "      <td>...</td>\n",
       "      <td>...</td>\n",
       "      <td>...</td>\n",
       "      <td>...</td>\n",
       "      <td>...</td>\n",
       "      <td>...</td>\n",
       "      <td>...</td>\n",
       "      <td>...</td>\n",
       "      <td>...</td>\n",
       "      <td>...</td>\n",
       "      <td>...</td>\n",
       "      <td>...</td>\n",
       "      <td>...</td>\n",
       "      <td>...</td>\n",
       "      <td>...</td>\n",
       "    </tr>\n",
       "    <tr>\n",
       "      <th>26528</th>\n",
       "      <td>26528</td>\n",
       "      <td>NaN</td>\n",
       "      <td>message</td>\n",
       "      <td>U02KVQJHQ5S</td>\n",
       "      <td>1.669816e+09</td>\n",
       "      <td>NaN</td>\n",
       "      <td>NaN</td>\n",
       "      <td>NaN</td>\n",
       "      <td>channel_join</td>\n",
       "      <td>sql_teamwork_new</td>\n",
       "      <td>2022-11-30</td>\n",
       "      <td>0</td>\n",
       "      <td>NaN</td>\n",
       "      <td>37</td>\n",
       "      <td>5</td>\n",
       "    </tr>\n",
       "    <tr>\n",
       "      <th>26529</th>\n",
       "      <td>26529</td>\n",
       "      <td>d7cdfd29-40a3-4f22-b3ce-755975902652</td>\n",
       "      <td>message</td>\n",
       "      <td>U036P42C39Q</td>\n",
       "      <td>1.670506e+09</td>\n",
       "      <td>NaN</td>\n",
       "      <td>TPV9DP0N4</td>\n",
       "      <td>NaN</td>\n",
       "      <td>NaN</td>\n",
       "      <td>sql_teamwork_new</td>\n",
       "      <td>2022-12-08</td>\n",
       "      <td>0</td>\n",
       "      <td>NaN</td>\n",
       "      <td>340</td>\n",
       "      <td>53</td>\n",
       "    </tr>\n",
       "    <tr>\n",
       "      <th>26530</th>\n",
       "      <td>26530</td>\n",
       "      <td>b403e184-0a77-42ff-96ee-8813a06c387e</td>\n",
       "      <td>message</td>\n",
       "      <td>U036P42C39Q</td>\n",
       "      <td>1.670605e+09</td>\n",
       "      <td>NaN</td>\n",
       "      <td>TPV9DP0N4</td>\n",
       "      <td>NaN</td>\n",
       "      <td>NaN</td>\n",
       "      <td>sql_teamwork_new</td>\n",
       "      <td>2022-12-09</td>\n",
       "      <td>0</td>\n",
       "      <td>NaN</td>\n",
       "      <td>110</td>\n",
       "      <td>5</td>\n",
       "    </tr>\n",
       "    <tr>\n",
       "      <th>26531</th>\n",
       "      <td>26531</td>\n",
       "      <td>NaN</td>\n",
       "      <td>message</td>\n",
       "      <td>U04H3QE10EM</td>\n",
       "      <td>1.674485e+09</td>\n",
       "      <td>NaN</td>\n",
       "      <td>NaN</td>\n",
       "      <td>NaN</td>\n",
       "      <td>channel_join</td>\n",
       "      <td>sql_teamwork_new</td>\n",
       "      <td>2023-01-23</td>\n",
       "      <td>0</td>\n",
       "      <td>NaN</td>\n",
       "      <td>37</td>\n",
       "      <td>5</td>\n",
       "    </tr>\n",
       "    <tr>\n",
       "      <th>26532</th>\n",
       "      <td>26532</td>\n",
       "      <td>NaN</td>\n",
       "      <td>message</td>\n",
       "      <td>U04H3QE10EM</td>\n",
       "      <td>1.675239e+09</td>\n",
       "      <td>NaN</td>\n",
       "      <td>NaN</td>\n",
       "      <td>NaN</td>\n",
       "      <td>channel_leave</td>\n",
       "      <td>sql_teamwork_new</td>\n",
       "      <td>2023-02-01</td>\n",
       "      <td>0</td>\n",
       "      <td>NaN</td>\n",
       "      <td>35</td>\n",
       "      <td>5</td>\n",
       "    </tr>\n",
       "  </tbody>\n",
       "</table>\n",
       "<p>26533 rows × 15 columns</p>\n",
       "</div>"
      ],
      "text/plain": [
       "       Unnamed: 0                         client_msg_id     type         user  \\\n",
       "0               0  ae31e785-257b-4290-a4c6-9721337f67ea  message  U03JYMWQLP5   \n",
       "1               1  7f644ae8-16d4-4c9e-9c4f-8b2d6df6a28d  message  U03V483FRKM   \n",
       "2               2                                   NaN  message  U02KVQJHQ5S   \n",
       "3               3  6c5bf2c1-8579-413c-8e8f-ec3a0e3698a8  message  U03JYMWQLP5   \n",
       "4               4  b5e3413b-8f04-4192-948b-2423eb3192b2  message  U040E2D6CF2   \n",
       "...           ...                                   ...      ...          ...   \n",
       "26528       26528                                   NaN  message  U02KVQJHQ5S   \n",
       "26529       26529  d7cdfd29-40a3-4f22-b3ce-755975902652  message  U036P42C39Q   \n",
       "26530       26530  b403e184-0a77-42ff-96ee-8813a06c387e  message  U036P42C39Q   \n",
       "26531       26531                                   NaN  message  U04H3QE10EM   \n",
       "26532       26532                                   NaN  message  U04H3QE10EM   \n",
       "\n",
       "                 ts  latest_reply       team     thread_ts        subtype  \\\n",
       "0      1.669643e+09  1.669645e+09  TPV9DP0N4  1.669643e+09            NaN   \n",
       "1      1.669645e+09           NaN  TPV9DP0N4  1.669643e+09            NaN   \n",
       "2      1.669647e+09           NaN        NaN           NaN   channel_join   \n",
       "3      1.669709e+09  1.669719e+09        NaN  1.669709e+09            NaN   \n",
       "4      1.669711e+09           NaN  TPV9DP0N4  1.669709e+09            NaN   \n",
       "...             ...           ...        ...           ...            ...   \n",
       "26528  1.669816e+09           NaN        NaN           NaN   channel_join   \n",
       "26529  1.670506e+09           NaN  TPV9DP0N4           NaN            NaN   \n",
       "26530  1.670605e+09           NaN  TPV9DP0N4           NaN            NaN   \n",
       "26531  1.674485e+09           NaN        NaN           NaN   channel_join   \n",
       "26532  1.675239e+09           NaN        NaN           NaN  channel_leave   \n",
       "\n",
       "                 channel   file_date  attachments  \\\n",
       "0      data-analysts-bus  2022-11-28            0   \n",
       "1      data-analysts-bus  2022-11-28            0   \n",
       "2      data-analysts-bus  2022-11-28            0   \n",
       "3      data-analysts-bus  2022-11-29            0   \n",
       "4      data-analysts-bus  2022-11-29            0   \n",
       "...                  ...         ...          ...   \n",
       "26528   sql_teamwork_new  2022-11-30            0   \n",
       "26529   sql_teamwork_new  2022-12-08            0   \n",
       "26530   sql_teamwork_new  2022-12-09            0   \n",
       "26531   sql_teamwork_new  2023-01-23            0   \n",
       "26532   sql_teamwork_new  2023-02-01            0   \n",
       "\n",
       "                                               reactions  text_len  text_words  \n",
       "0                                                    NaN       297          47  \n",
       "1      [{'name': 'pray', 'users': ['U03JYMWQLP5'], 'c...       434          63  \n",
       "2                                                    NaN        37           5  \n",
       "3      [{'name': 'cat-high-five', 'users': ['U040E2D6...        69          12  \n",
       "4                                                    NaN        19           2  \n",
       "...                                                  ...       ...         ...  \n",
       "26528                                                NaN        37           5  \n",
       "26529                                                NaN       340          53  \n",
       "26530                                                NaN       110           5  \n",
       "26531                                                NaN        37           5  \n",
       "26532                                                NaN        35           5  \n",
       "\n",
       "[26533 rows x 15 columns]"
      ]
     },
     "execution_count": 3,
     "metadata": {},
     "output_type": "execute_result"
    }
   ],
   "source": [
    "df"
   ]
  },
  {
   "cell_type": "code",
   "execution_count": 4,
   "id": "9d763f3a",
   "metadata": {
    "colab": {
     "base_uri": "https://localhost:8080/"
    },
    "id": "9d763f3a",
    "outputId": "1b952d6e-6078-4c91-ffe3-6a224c832c9b"
   },
   "outputs": [
    {
     "name": "stdout",
     "output_type": "stream",
     "text": [
      "<class 'pandas.core.frame.DataFrame'>\n",
      "RangeIndex: 26533 entries, 0 to 26532\n",
      "Data columns (total 15 columns):\n",
      " #   Column         Non-Null Count  Dtype  \n",
      "---  ------         --------------  -----  \n",
      " 0   Unnamed: 0     26533 non-null  int64  \n",
      " 1   client_msg_id  18262 non-null  object \n",
      " 2   type           26533 non-null  object \n",
      " 3   user           23643 non-null  object \n",
      " 4   ts             26533 non-null  float64\n",
      " 5   latest_reply   2303 non-null   float64\n",
      " 6   team           15857 non-null  object \n",
      " 7   thread_ts      18222 non-null  float64\n",
      " 8   subtype        8317 non-null   object \n",
      " 9   channel        26533 non-null  object \n",
      " 10  file_date      26533 non-null  object \n",
      " 11  attachments    26533 non-null  int64  \n",
      " 12  reactions      4169 non-null   object \n",
      " 13  text_len       26533 non-null  int64  \n",
      " 14  text_words     26533 non-null  int64  \n",
      "dtypes: float64(3), int64(4), object(8)\n",
      "memory usage: 3.0+ MB\n"
     ]
    }
   ],
   "source": [
    "df.info()"
   ]
  },
  {
   "cell_type": "markdown",
   "id": "97abc022",
   "metadata": {
    "id": "97abc022"
   },
   "source": [
    "Исходные данные содержат 13 колонок с информацией.\\\n",
    "В части данных имеются пропуски, у части данных необходимо изменить тип данных."
   ]
  },
  {
   "cell_type": "markdown",
   "id": "92a5ac34",
   "metadata": {
    "id": "92a5ac34"
   },
   "source": [
    " <a id=\"third\"></a> \n",
    "## Предобработка и изучение данных"
   ]
  },
  {
   "cell_type": "markdown",
   "id": "6971f8ea",
   "metadata": {
    "id": "6971f8ea"
   },
   "source": [
    " <a id=\"third_1\"></a> \n",
    "### Удаление ненужных столбцов"
   ]
  },
  {
   "cell_type": "code",
   "execution_count": 5,
   "id": "0fb81dcb",
   "metadata": {
    "id": "0fb81dcb"
   },
   "outputs": [],
   "source": [
    "df=df.drop(['Unnamed: 0'], axis=1)"
   ]
  },
  {
   "cell_type": "markdown",
   "id": "b08ca0da",
   "metadata": {
    "id": "b08ca0da"
   },
   "source": [
    "Удалили столбец Unnamed: 0, так как он дублирует индексы в датафрейме."
   ]
  },
  {
   "cell_type": "code",
   "execution_count": 6,
   "id": "8b426c77",
   "metadata": {
    "colab": {
     "base_uri": "https://localhost:8080/",
     "height": 250
    },
    "id": "8b426c77",
    "outputId": "a493d6bc-8e75-422d-cfbe-66c136a78736"
   },
   "outputs": [
    {
     "data": {
      "text/html": [
       "<div>\n",
       "<style scoped>\n",
       "    .dataframe tbody tr th:only-of-type {\n",
       "        vertical-align: middle;\n",
       "    }\n",
       "\n",
       "    .dataframe tbody tr th {\n",
       "        vertical-align: top;\n",
       "    }\n",
       "\n",
       "    .dataframe thead th {\n",
       "        text-align: right;\n",
       "    }\n",
       "</style>\n",
       "<table border=\"1\" class=\"dataframe\">\n",
       "  <thead>\n",
       "    <tr style=\"text-align: right;\">\n",
       "      <th></th>\n",
       "      <th>client_msg_id</th>\n",
       "      <th>type</th>\n",
       "      <th>user</th>\n",
       "      <th>ts</th>\n",
       "      <th>latest_reply</th>\n",
       "      <th>team</th>\n",
       "      <th>thread_ts</th>\n",
       "      <th>subtype</th>\n",
       "      <th>channel</th>\n",
       "      <th>file_date</th>\n",
       "      <th>attachments</th>\n",
       "      <th>reactions</th>\n",
       "      <th>text_len</th>\n",
       "      <th>text_words</th>\n",
       "    </tr>\n",
       "  </thead>\n",
       "  <tbody>\n",
       "    <tr>\n",
       "      <th>0</th>\n",
       "      <td>ae31e785-257b-4290-a4c6-9721337f67ea</td>\n",
       "      <td>message</td>\n",
       "      <td>U03JYMWQLP5</td>\n",
       "      <td>1.669643e+09</td>\n",
       "      <td>1.669645e+09</td>\n",
       "      <td>TPV9DP0N4</td>\n",
       "      <td>1.669643e+09</td>\n",
       "      <td>NaN</td>\n",
       "      <td>data-analysts-bus</td>\n",
       "      <td>2022-11-28</td>\n",
       "      <td>0</td>\n",
       "      <td>NaN</td>\n",
       "      <td>297</td>\n",
       "      <td>47</td>\n",
       "    </tr>\n",
       "    <tr>\n",
       "      <th>1</th>\n",
       "      <td>7f644ae8-16d4-4c9e-9c4f-8b2d6df6a28d</td>\n",
       "      <td>message</td>\n",
       "      <td>U03V483FRKM</td>\n",
       "      <td>1.669645e+09</td>\n",
       "      <td>NaN</td>\n",
       "      <td>TPV9DP0N4</td>\n",
       "      <td>1.669643e+09</td>\n",
       "      <td>NaN</td>\n",
       "      <td>data-analysts-bus</td>\n",
       "      <td>2022-11-28</td>\n",
       "      <td>0</td>\n",
       "      <td>[{'name': 'pray', 'users': ['U03JYMWQLP5'], 'c...</td>\n",
       "      <td>434</td>\n",
       "      <td>63</td>\n",
       "    </tr>\n",
       "    <tr>\n",
       "      <th>2</th>\n",
       "      <td>NaN</td>\n",
       "      <td>message</td>\n",
       "      <td>U02KVQJHQ5S</td>\n",
       "      <td>1.669647e+09</td>\n",
       "      <td>NaN</td>\n",
       "      <td>NaN</td>\n",
       "      <td>NaN</td>\n",
       "      <td>channel_join</td>\n",
       "      <td>data-analysts-bus</td>\n",
       "      <td>2022-11-28</td>\n",
       "      <td>0</td>\n",
       "      <td>NaN</td>\n",
       "      <td>37</td>\n",
       "      <td>5</td>\n",
       "    </tr>\n",
       "    <tr>\n",
       "      <th>3</th>\n",
       "      <td>6c5bf2c1-8579-413c-8e8f-ec3a0e3698a8</td>\n",
       "      <td>message</td>\n",
       "      <td>U03JYMWQLP5</td>\n",
       "      <td>1.669709e+09</td>\n",
       "      <td>1.669719e+09</td>\n",
       "      <td>NaN</td>\n",
       "      <td>1.669709e+09</td>\n",
       "      <td>NaN</td>\n",
       "      <td>data-analysts-bus</td>\n",
       "      <td>2022-11-29</td>\n",
       "      <td>0</td>\n",
       "      <td>[{'name': 'cat-high-five', 'users': ['U040E2D6...</td>\n",
       "      <td>69</td>\n",
       "      <td>12</td>\n",
       "    </tr>\n",
       "    <tr>\n",
       "      <th>4</th>\n",
       "      <td>b5e3413b-8f04-4192-948b-2423eb3192b2</td>\n",
       "      <td>message</td>\n",
       "      <td>U040E2D6CF2</td>\n",
       "      <td>1.669711e+09</td>\n",
       "      <td>NaN</td>\n",
       "      <td>TPV9DP0N4</td>\n",
       "      <td>1.669709e+09</td>\n",
       "      <td>NaN</td>\n",
       "      <td>data-analysts-bus</td>\n",
       "      <td>2022-11-29</td>\n",
       "      <td>0</td>\n",
       "      <td>NaN</td>\n",
       "      <td>19</td>\n",
       "      <td>2</td>\n",
       "    </tr>\n",
       "  </tbody>\n",
       "</table>\n",
       "</div>"
      ],
      "text/plain": [
       "                          client_msg_id     type         user            ts  \\\n",
       "0  ae31e785-257b-4290-a4c6-9721337f67ea  message  U03JYMWQLP5  1.669643e+09   \n",
       "1  7f644ae8-16d4-4c9e-9c4f-8b2d6df6a28d  message  U03V483FRKM  1.669645e+09   \n",
       "2                                   NaN  message  U02KVQJHQ5S  1.669647e+09   \n",
       "3  6c5bf2c1-8579-413c-8e8f-ec3a0e3698a8  message  U03JYMWQLP5  1.669709e+09   \n",
       "4  b5e3413b-8f04-4192-948b-2423eb3192b2  message  U040E2D6CF2  1.669711e+09   \n",
       "\n",
       "   latest_reply       team     thread_ts       subtype            channel  \\\n",
       "0  1.669645e+09  TPV9DP0N4  1.669643e+09           NaN  data-analysts-bus   \n",
       "1           NaN  TPV9DP0N4  1.669643e+09           NaN  data-analysts-bus   \n",
       "2           NaN        NaN           NaN  channel_join  data-analysts-bus   \n",
       "3  1.669719e+09        NaN  1.669709e+09           NaN  data-analysts-bus   \n",
       "4           NaN  TPV9DP0N4  1.669709e+09           NaN  data-analysts-bus   \n",
       "\n",
       "    file_date  attachments                                          reactions  \\\n",
       "0  2022-11-28            0                                                NaN   \n",
       "1  2022-11-28            0  [{'name': 'pray', 'users': ['U03JYMWQLP5'], 'c...   \n",
       "2  2022-11-28            0                                                NaN   \n",
       "3  2022-11-29            0  [{'name': 'cat-high-five', 'users': ['U040E2D6...   \n",
       "4  2022-11-29            0                                                NaN   \n",
       "\n",
       "   text_len  text_words  \n",
       "0       297          47  \n",
       "1       434          63  \n",
       "2        37           5  \n",
       "3        69          12  \n",
       "4        19           2  "
      ]
     },
     "execution_count": 6,
     "metadata": {},
     "output_type": "execute_result"
    }
   ],
   "source": [
    "df.head()"
   ]
  },
  {
   "cell_type": "markdown",
   "id": "d03c3998",
   "metadata": {
    "id": "d03c3998"
   },
   "source": [
    " <a id=\"third_2\"></a> \n",
    "### Изменение типов данных в некоторых столбцах"
   ]
  },
  {
   "cell_type": "markdown",
   "id": "2a9e54cf",
   "metadata": {
    "id": "2a9e54cf"
   },
   "source": [
    " - **ts** - дату поста привели к формату даты и времени:"
   ]
  },
  {
   "cell_type": "code",
   "execution_count": 7,
   "id": "ef338cf7",
   "metadata": {
    "colab": {
     "base_uri": "https://localhost:8080/"
    },
    "id": "ef338cf7",
    "outputId": "9c4da12c-ef48-4e7b-ba7c-9be626822b08"
   },
   "outputs": [
    {
     "data": {
      "text/plain": [
       "0       2022-11-28 13:49:23\n",
       "1       2022-11-28 14:24:08\n",
       "2       2022-11-28 14:48:50\n",
       "3       2022-11-29 08:08:12\n",
       "4       2022-11-29 08:32:32\n",
       "                ...        \n",
       "26528   2022-11-30 13:44:46\n",
       "26529   2022-12-08 13:23:11\n",
       "26530   2022-12-09 16:57:37\n",
       "26531   2023-01-23 14:42:06\n",
       "26532   2023-02-01 08:11:59\n",
       "Name: ts, Length: 26533, dtype: datetime64[ns]"
      ]
     },
     "execution_count": 7,
     "metadata": {},
     "output_type": "execute_result"
    }
   ],
   "source": [
    "df['ts'] = pd.to_datetime(df['ts'], unit='s').dt.round('1s')\n",
    "df['ts']"
   ]
  },
  {
   "cell_type": "markdown",
   "id": "d9cf1e1e",
   "metadata": {
    "id": "d9cf1e1e"
   },
   "source": [
    " - **thread_ts** - дату треда привели к формату даты и времени:"
   ]
  },
  {
   "cell_type": "code",
   "execution_count": 8,
   "id": "74011ecf",
   "metadata": {
    "colab": {
     "base_uri": "https://localhost:8080/"
    },
    "id": "74011ecf",
    "outputId": "6ea2859c-f17e-49df-ea4a-3f4893002b44"
   },
   "outputs": [
    {
     "data": {
      "text/plain": [
       "0       2022-11-28 13:49:23\n",
       "1       2022-11-28 13:49:23\n",
       "2                       NaT\n",
       "3       2022-11-29 08:08:12\n",
       "4       2022-11-29 08:08:12\n",
       "                ...        \n",
       "26528                   NaT\n",
       "26529                   NaT\n",
       "26530                   NaT\n",
       "26531                   NaT\n",
       "26532                   NaT\n",
       "Name: thread_ts, Length: 26533, dtype: datetime64[ns]"
      ]
     },
     "execution_count": 8,
     "metadata": {},
     "output_type": "execute_result"
    }
   ],
   "source": [
    "df['thread_ts'] = pd.to_datetime(df['thread_ts'], unit='s').dt.round('1s')\n",
    "df['thread_ts']"
   ]
  },
  {
   "cell_type": "markdown",
   "id": "2b59655d",
   "metadata": {
    "id": "2b59655d"
   },
   "source": [
    " - **latest_reply** - дату ответа привели к формату даты и времени:"
   ]
  },
  {
   "cell_type": "code",
   "execution_count": 9,
   "id": "0adc17c4",
   "metadata": {
    "colab": {
     "base_uri": "https://localhost:8080/"
    },
    "id": "0adc17c4",
    "outputId": "15168f63-55f7-44ce-f6f6-a5224cd51f5e"
   },
   "outputs": [
    {
     "data": {
      "text/plain": [
       "0       2022-11-28 14:24:08\n",
       "1                       NaT\n",
       "2                       NaT\n",
       "3       2022-11-29 10:56:57\n",
       "4                       NaT\n",
       "                ...        \n",
       "26528                   NaT\n",
       "26529                   NaT\n",
       "26530                   NaT\n",
       "26531                   NaT\n",
       "26532                   NaT\n",
       "Name: latest_reply, Length: 26533, dtype: datetime64[ns]"
      ]
     },
     "execution_count": 9,
     "metadata": {},
     "output_type": "execute_result"
    }
   ],
   "source": [
    "df['latest_reply'] = pd.to_datetime(df['latest_reply'], unit='s').dt.round('1s')\n",
    "df['latest_reply']"
   ]
  },
  {
   "cell_type": "markdown",
   "id": "06d93e33",
   "metadata": {
    "id": "06d93e33"
   },
   "source": [
    " - **channel** - наименование каналов привели к формату строки:"
   ]
  },
  {
   "cell_type": "code",
   "execution_count": 10,
   "id": "5db68b08",
   "metadata": {
    "id": "5db68b08"
   },
   "outputs": [],
   "source": [
    "df['channel'] = df['channel'].astype(str)"
   ]
  },
  {
   "cell_type": "markdown",
   "id": "8beb7d7e",
   "metadata": {
    "id": "8beb7d7e"
   },
   "source": [
    " - **file_date** - дату файла привели к формату даты:"
   ]
  },
  {
   "cell_type": "code",
   "execution_count": 11,
   "id": "4e37ac93",
   "metadata": {
    "colab": {
     "base_uri": "https://localhost:8080/"
    },
    "id": "4e37ac93",
    "outputId": "ac48bbc1-9300-4335-b019-ca236deb3aa7"
   },
   "outputs": [
    {
     "data": {
      "text/plain": [
       "0       2022-11-28\n",
       "1       2022-11-28\n",
       "2       2022-11-28\n",
       "3       2022-11-29\n",
       "4       2022-11-29\n",
       "           ...    \n",
       "26528   2022-11-30\n",
       "26529   2022-12-08\n",
       "26530   2022-12-09\n",
       "26531   2023-01-23\n",
       "26532   2023-02-01\n",
       "Name: file_date, Length: 26533, dtype: datetime64[ns]"
      ]
     },
     "execution_count": 11,
     "metadata": {},
     "output_type": "execute_result"
    }
   ],
   "source": [
    "df['file_date'] = pd.to_datetime(df['file_date'])\n",
    "df['file_date']"
   ]
  },
  {
   "cell_type": "markdown",
   "id": "2739b4e9",
   "metadata": {
    "id": "2739b4e9"
   },
   "source": [
    " <a id=\"third_3\"></a> \n",
    "### Предобработка пропусков в данных"
   ]
  },
  {
   "cell_type": "markdown",
   "id": "ebf0f918",
   "metadata": {
    "id": "ebf0f918"
   },
   "source": [
    " - **client_msg_id** - id сообщения:"
   ]
  },
  {
   "cell_type": "code",
   "execution_count": 12,
   "id": "fad0148e",
   "metadata": {
    "colab": {
     "base_uri": "https://localhost:8080/"
    },
    "id": "fad0148e",
    "outputId": "dfd2cb99-efda-4d18-ae28-d7258f8f188c"
   },
   "outputs": [
    {
     "name": "stdout",
     "output_type": "stream",
     "text": [
      "Количество пропущенных значений id сообщения: 8271 , или 31 %\n"
     ]
    }
   ],
   "source": [
    "print('Количество пропущенных значений id сообщения:', len(df[df['client_msg_id'].isna()]), ', или', round(len(df[df['client_msg_id'].isna()])/len(df['client_msg_id'])*100), '%')"
   ]
  },
  {
   "cell_type": "markdown",
   "id": "fc2980f3",
   "metadata": {
    "id": "fc2980f3"
   },
   "source": [
    "Мы не можем заполнить пропуски в данном столбце, пропуски оставили не заполненными."
   ]
  },
  {
   "cell_type": "markdown",
   "id": "9f3fe16e",
   "metadata": {
    "id": "9f3fe16e"
   },
   "source": [
    " - **type** - тип поста:"
   ]
  },
  {
   "cell_type": "markdown",
   "id": "25b80378",
   "metadata": {
    "id": "25b80378"
   },
   "source": [
    "Пропусков нет."
   ]
  },
  {
   "cell_type": "markdown",
   "id": "fd4c9790",
   "metadata": {
    "id": "fd4c9790"
   },
   "source": [
    "- **user** - id пользователя:"
   ]
  },
  {
   "cell_type": "code",
   "execution_count": 13,
   "id": "c352fb2f",
   "metadata": {
    "colab": {
     "base_uri": "https://localhost:8080/"
    },
    "id": "c352fb2f",
    "outputId": "4876c7a6-62a5-491c-d51a-0c96000739b2"
   },
   "outputs": [
    {
     "name": "stdout",
     "output_type": "stream",
     "text": [
      "Количество пропущенных значений id пользователя: 2890 , или 11 %\n"
     ]
    }
   ],
   "source": [
    "print('Количество пропущенных значений id пользователя:', len(df[df['user'].isna()]), ', или', round(len(df[df['user'].isna()])/len(df['user'])*100), '%')"
   ]
  },
  {
   "cell_type": "markdown",
   "id": "d1417a3e",
   "metadata": {
    "id": "d1417a3e"
   },
   "source": [
    "Мы не можем знать, какой именно пользователь написал пост в чате, поэтому не можем заполнить пропуски. Пропуски оставили не заполненными."
   ]
  },
  {
   "cell_type": "code",
   "execution_count": 14,
   "id": "d65294b8",
   "metadata": {
    "colab": {
     "base_uri": "https://localhost:8080/"
    },
    "id": "d65294b8",
    "outputId": "0ab4812f-9627-412d-97ad-e0c464938461"
   },
   "outputs": [
    {
     "data": {
      "text/plain": [
       "client_msg_id       0\n",
       "type             2890\n",
       "user                0\n",
       "ts               2890\n",
       "latest_reply      913\n",
       "team                2\n",
       "thread_ts         919\n",
       "subtype          2890\n",
       "channel          2890\n",
       "file_date        2890\n",
       "attachments      2890\n",
       "reactions          59\n",
       "text_len         2890\n",
       "text_words       2890\n",
       "dtype: int64"
      ]
     },
     "execution_count": 14,
     "metadata": {},
     "output_type": "execute_result"
    }
   ],
   "source": [
    "d1 = df[df['user'].isna()==True] # проверяем, соответствуют ли пропуски в других столбцах пропускам в столбце user\n",
    "d1.count()"
   ]
  },
  {
   "cell_type": "markdown",
   "id": "4a509f0b",
   "metadata": {
    "id": "4a509f0b"
   },
   "source": [
    "Мы видим, что пропускам в столбце user соответствуют пропуски в столбце client_msg_id. Стоит учитывать, что пропусков id сообщений больше, чем пропусков id пользователя."
   ]
  },
  {
   "cell_type": "markdown",
   "id": "873c78ac",
   "metadata": {
    "id": "873c78ac"
   },
   "source": [
    "- **ts** - дата поста:"
   ]
  },
  {
   "cell_type": "markdown",
   "id": "2009f952",
   "metadata": {
    "id": "2009f952"
   },
   "source": [
    "Пропусков нет."
   ]
  },
  {
   "cell_type": "markdown",
   "id": "ba7902c1",
   "metadata": {
    "id": "ba7902c1"
   },
   "source": [
    "- **thread_ts** - дата треда:"
   ]
  },
  {
   "cell_type": "code",
   "execution_count": 15,
   "id": "591204af",
   "metadata": {
    "colab": {
     "base_uri": "https://localhost:8080/"
    },
    "id": "591204af",
    "outputId": "4e3eb22c-df80-4956-a913-c02ef9ce33e1"
   },
   "outputs": [
    {
     "name": "stdout",
     "output_type": "stream",
     "text": [
      "Количество пропущенных значений даты треда: 8311 , или 31 %\n"
     ]
    }
   ],
   "source": [
    "print('Количество пропущенных значений даты треда:', len(df[df['thread_ts'].isna()]), ', или', round(len(df[df['thread_ts'].isna()])/len(df['user'])*100), '%')"
   ]
  },
  {
   "cell_type": "markdown",
   "id": "495933da",
   "metadata": {
    "id": "495933da"
   },
   "source": [
    "Мы не можем заполнить пропущенные значения в дате треда, поэтому мы оставили эти пропуски не заполненными."
   ]
  },
  {
   "cell_type": "markdown",
   "id": "f35e0420",
   "metadata": {
    "id": "f35e0420"
   },
   "source": [
    "- **latest_reply** - дата ответа:"
   ]
  },
  {
   "cell_type": "markdown",
   "id": "988dd50f",
   "metadata": {
    "id": "988dd50f"
   },
   "source": [
    "Большая часть данных в столбце latest_reply содержит пропуски. Данный столбец может содержать пропуски, так как на сообщения могло не быть ответов. Пропуски оставили не заполненными."
   ]
  },
  {
   "cell_type": "markdown",
   "id": "9e946ac8",
   "metadata": {
    "id": "9e946ac8"
   },
   "source": [
    "- **team** - факт вхождения в неизвестную группу (?):"
   ]
  },
  {
   "cell_type": "markdown",
   "id": "2c655a6d",
   "metadata": {
    "id": "2c655a6d"
   },
   "source": [
    "Значительная часть данных в данном столбце не заполнена.  Мы не можем заполнить пропущенные значения в данном столбце, поэтому мы оставили эти пропуски не заполненными."
   ]
  },
  {
   "cell_type": "markdown",
   "id": "46e2b0e5",
   "metadata": {
    "id": "46e2b0e5"
   },
   "source": [
    " - **subtype** - метка действия пользователя:"
   ]
  },
  {
   "cell_type": "markdown",
   "id": "1fc931da",
   "metadata": {
    "id": "1fc931da"
   },
   "source": [
    "Большая часть данных в столбце subtype содержит пропуски. Мы не можем заполнить пропущенные значения в данном столбце, поэтому мы оставили эти пропуски не заполненными."
   ]
  },
  {
   "cell_type": "markdown",
   "id": "a4366c04",
   "metadata": {
    "id": "a4366c04"
   },
   "source": [
    " - **channel** - канал:"
   ]
  },
  {
   "cell_type": "markdown",
   "id": "704a406a",
   "metadata": {
    "id": "704a406a"
   },
   "source": [
    "Пропусков нет."
   ]
  },
  {
   "cell_type": "markdown",
   "id": "3eafbc35",
   "metadata": {
    "id": "3eafbc35"
   },
   "source": [
    " - **file_date** - дата файла:"
   ]
  },
  {
   "cell_type": "markdown",
   "id": "53ddf9ea",
   "metadata": {
    "id": "53ddf9ea"
   },
   "source": [
    "Пропусков нет."
   ]
  },
  {
   "cell_type": "code",
   "execution_count": 16,
   "id": "d5e9a6b0",
   "metadata": {
    "colab": {
     "base_uri": "https://localhost:8080/"
    },
    "id": "d5e9a6b0",
    "outputId": "1717af61-f2ff-4b39-b22e-290b8ff2d6f7"
   },
   "outputs": [
    {
     "data": {
      "text/plain": [
       "array([0, 1, 2, 3, 4, 5])"
      ]
     },
     "execution_count": 16,
     "metadata": {},
     "output_type": "execute_result"
    }
   ],
   "source": [
    "df['attachments'].unique()"
   ]
  },
  {
   "cell_type": "markdown",
   "id": "b13c77b8",
   "metadata": {
    "id": "b13c77b8"
   },
   "source": [
    "Отсутствие пропусков является странным фактом, так как не к каждому сообщению прикрепляется файл.\\\n",
    "Мы посмоотрели уникальные значения в столбце attachments - прикреплённые файлы: мы видим, что часть данных в этом столбце равна 0, что вероятно означает, что к данным сообщениям файлы не прикреплялись. Вероятно, дата файла для значений 0 в столбце attachments также проставлялась: данное предполжение проверено в следующем разделе 3.5 настоящего проекта."
   ]
  },
  {
   "cell_type": "markdown",
   "id": "f213f958",
   "metadata": {
    "id": "f213f958"
   },
   "source": [
    " - **attachments** - прикреплённые файлы:"
   ]
  },
  {
   "cell_type": "markdown",
   "id": "f20e1085",
   "metadata": {
    "id": "f20e1085"
   },
   "source": [
    "Пропусков нет."
   ]
  },
  {
   "cell_type": "markdown",
   "id": "1df6fea5",
   "metadata": {
    "id": "1df6fea5"
   },
   "source": [
    "Отсутствие пропусков является странным фактом, так как не к каждому сообщению прикрепляется файл.\n",
    "Часть данных в этом столбце равна 0, что вероятно означает, что к данным сообщениям файлы не прикреплялись."
   ]
  },
  {
   "cell_type": "markdown",
   "id": "026870b0",
   "metadata": {
    "id": "026870b0"
   },
   "source": [
    " - **reactions** - реакции:     "
   ]
  },
  {
   "cell_type": "markdown",
   "id": "07fed846",
   "metadata": {
    "id": "07fed846"
   },
   "source": [
    "Большая часть данных в столбце reactions содержит пропуски. Данный столбец может содержать пропуски, так как на сообщения могло не быть реакций. Пропуски оставили не заполненными.   "
   ]
  },
  {
   "cell_type": "markdown",
   "id": "ff90147c",
   "metadata": {
    "id": "ff90147c"
   },
   "source": [
    " - **text_len** - длина текста сообщения:"
   ]
  },
  {
   "cell_type": "markdown",
   "id": "6bdad43f",
   "metadata": {
    "id": "6bdad43f"
   },
   "source": [
    "Пропусков нет."
   ]
  },
  {
   "cell_type": "markdown",
   "id": "3eba46a4",
   "metadata": {
    "id": "3eba46a4"
   },
   "source": [
    " - **text_words** - количество слов в сообщении:"
   ]
  },
  {
   "cell_type": "markdown",
   "id": "0ac1f39e",
   "metadata": {
    "id": "0ac1f39e"
   },
   "source": [
    "Пропусков нет."
   ]
  },
  {
   "cell_type": "markdown",
   "id": "ba45e35b",
   "metadata": {
    "id": "ba45e35b"
   },
   "source": [
    " <a id=\"third_4\"></a> \n",
    "### Проверка дубликатов в данных"
   ]
  },
  {
   "cell_type": "markdown",
   "id": "4e03f491",
   "metadata": {
    "id": "4e03f491"
   },
   "source": [
    "#### Явные дубликаты в датафрейме:"
   ]
  },
  {
   "cell_type": "code",
   "execution_count": 17,
   "id": "429c729d",
   "metadata": {
    "colab": {
     "base_uri": "https://localhost:8080/"
    },
    "id": "429c729d",
    "outputId": "3711cc2e-ce1c-410f-92a9-2c69e24f3089"
   },
   "outputs": [
    {
     "data": {
      "text/plain": [
       "369"
      ]
     },
     "execution_count": 17,
     "metadata": {},
     "output_type": "execute_result"
    }
   ],
   "source": [
    "df.duplicated().sum()"
   ]
  },
  {
   "cell_type": "markdown",
   "id": "88887e36",
   "metadata": {
    "id": "88887e36"
   },
   "source": [
    "Данные содержат явные дубликаты."
   ]
  },
  {
   "cell_type": "code",
   "execution_count": 18,
   "id": "5845c506",
   "metadata": {
    "colab": {
     "base_uri": "https://localhost:8080/",
     "height": 641
    },
    "id": "5845c506",
    "outputId": "468496b5-f7ae-43da-f9f8-bca22ff4a19c"
   },
   "outputs": [
    {
     "data": {
      "text/html": [
       "<div>\n",
       "<style scoped>\n",
       "    .dataframe tbody tr th:only-of-type {\n",
       "        vertical-align: middle;\n",
       "    }\n",
       "\n",
       "    .dataframe tbody tr th {\n",
       "        vertical-align: top;\n",
       "    }\n",
       "\n",
       "    .dataframe thead th {\n",
       "        text-align: right;\n",
       "    }\n",
       "</style>\n",
       "<table border=\"1\" class=\"dataframe\">\n",
       "  <thead>\n",
       "    <tr style=\"text-align: right;\">\n",
       "      <th></th>\n",
       "      <th>client_msg_id</th>\n",
       "      <th>type</th>\n",
       "      <th>user</th>\n",
       "      <th>ts</th>\n",
       "      <th>latest_reply</th>\n",
       "      <th>team</th>\n",
       "      <th>thread_ts</th>\n",
       "      <th>subtype</th>\n",
       "      <th>channel</th>\n",
       "      <th>file_date</th>\n",
       "      <th>attachments</th>\n",
       "      <th>reactions</th>\n",
       "      <th>text_len</th>\n",
       "      <th>text_words</th>\n",
       "    </tr>\n",
       "  </thead>\n",
       "  <tbody>\n",
       "    <tr>\n",
       "      <th>0</th>\n",
       "      <td>ae31e785-257b-4290-a4c6-9721337f67ea</td>\n",
       "      <td>message</td>\n",
       "      <td>U03JYMWQLP5</td>\n",
       "      <td>2022-11-28 13:49:23</td>\n",
       "      <td>2022-11-28 14:24:08</td>\n",
       "      <td>TPV9DP0N4</td>\n",
       "      <td>2022-11-28 13:49:23</td>\n",
       "      <td>NaN</td>\n",
       "      <td>data-analysts-bus</td>\n",
       "      <td>2022-11-28</td>\n",
       "      <td>0</td>\n",
       "      <td>NaN</td>\n",
       "      <td>297</td>\n",
       "      <td>47</td>\n",
       "    </tr>\n",
       "    <tr>\n",
       "      <th>1</th>\n",
       "      <td>7f644ae8-16d4-4c9e-9c4f-8b2d6df6a28d</td>\n",
       "      <td>message</td>\n",
       "      <td>U03V483FRKM</td>\n",
       "      <td>2022-11-28 14:24:08</td>\n",
       "      <td>NaT</td>\n",
       "      <td>TPV9DP0N4</td>\n",
       "      <td>2022-11-28 13:49:23</td>\n",
       "      <td>NaN</td>\n",
       "      <td>data-analysts-bus</td>\n",
       "      <td>2022-11-28</td>\n",
       "      <td>0</td>\n",
       "      <td>[{'name': 'pray', 'users': ['U03JYMWQLP5'], 'c...</td>\n",
       "      <td>434</td>\n",
       "      <td>63</td>\n",
       "    </tr>\n",
       "    <tr>\n",
       "      <th>2</th>\n",
       "      <td>NaN</td>\n",
       "      <td>message</td>\n",
       "      <td>U02KVQJHQ5S</td>\n",
       "      <td>2022-11-28 14:48:50</td>\n",
       "      <td>NaT</td>\n",
       "      <td>NaN</td>\n",
       "      <td>NaT</td>\n",
       "      <td>channel_join</td>\n",
       "      <td>data-analysts-bus</td>\n",
       "      <td>2022-11-28</td>\n",
       "      <td>0</td>\n",
       "      <td>NaN</td>\n",
       "      <td>37</td>\n",
       "      <td>5</td>\n",
       "    </tr>\n",
       "    <tr>\n",
       "      <th>3</th>\n",
       "      <td>6c5bf2c1-8579-413c-8e8f-ec3a0e3698a8</td>\n",
       "      <td>message</td>\n",
       "      <td>U03JYMWQLP5</td>\n",
       "      <td>2022-11-29 08:08:12</td>\n",
       "      <td>2022-11-29 10:56:57</td>\n",
       "      <td>NaN</td>\n",
       "      <td>2022-11-29 08:08:12</td>\n",
       "      <td>NaN</td>\n",
       "      <td>data-analysts-bus</td>\n",
       "      <td>2022-11-29</td>\n",
       "      <td>0</td>\n",
       "      <td>[{'name': 'cat-high-five', 'users': ['U040E2D6...</td>\n",
       "      <td>69</td>\n",
       "      <td>12</td>\n",
       "    </tr>\n",
       "    <tr>\n",
       "      <th>4</th>\n",
       "      <td>b5e3413b-8f04-4192-948b-2423eb3192b2</td>\n",
       "      <td>message</td>\n",
       "      <td>U040E2D6CF2</td>\n",
       "      <td>2022-11-29 08:32:32</td>\n",
       "      <td>NaT</td>\n",
       "      <td>TPV9DP0N4</td>\n",
       "      <td>2022-11-29 08:08:12</td>\n",
       "      <td>NaN</td>\n",
       "      <td>data-analysts-bus</td>\n",
       "      <td>2022-11-29</td>\n",
       "      <td>0</td>\n",
       "      <td>NaN</td>\n",
       "      <td>19</td>\n",
       "      <td>2</td>\n",
       "    </tr>\n",
       "    <tr>\n",
       "      <th>...</th>\n",
       "      <td>...</td>\n",
       "      <td>...</td>\n",
       "      <td>...</td>\n",
       "      <td>...</td>\n",
       "      <td>...</td>\n",
       "      <td>...</td>\n",
       "      <td>...</td>\n",
       "      <td>...</td>\n",
       "      <td>...</td>\n",
       "      <td>...</td>\n",
       "      <td>...</td>\n",
       "      <td>...</td>\n",
       "      <td>...</td>\n",
       "      <td>...</td>\n",
       "    </tr>\n",
       "    <tr>\n",
       "      <th>26528</th>\n",
       "      <td>NaN</td>\n",
       "      <td>message</td>\n",
       "      <td>U02KVQJHQ5S</td>\n",
       "      <td>2022-11-30 13:44:46</td>\n",
       "      <td>NaT</td>\n",
       "      <td>NaN</td>\n",
       "      <td>NaT</td>\n",
       "      <td>channel_join</td>\n",
       "      <td>sql_teamwork_new</td>\n",
       "      <td>2022-11-30</td>\n",
       "      <td>0</td>\n",
       "      <td>NaN</td>\n",
       "      <td>37</td>\n",
       "      <td>5</td>\n",
       "    </tr>\n",
       "    <tr>\n",
       "      <th>26529</th>\n",
       "      <td>d7cdfd29-40a3-4f22-b3ce-755975902652</td>\n",
       "      <td>message</td>\n",
       "      <td>U036P42C39Q</td>\n",
       "      <td>2022-12-08 13:23:11</td>\n",
       "      <td>NaT</td>\n",
       "      <td>TPV9DP0N4</td>\n",
       "      <td>NaT</td>\n",
       "      <td>NaN</td>\n",
       "      <td>sql_teamwork_new</td>\n",
       "      <td>2022-12-08</td>\n",
       "      <td>0</td>\n",
       "      <td>NaN</td>\n",
       "      <td>340</td>\n",
       "      <td>53</td>\n",
       "    </tr>\n",
       "    <tr>\n",
       "      <th>26530</th>\n",
       "      <td>b403e184-0a77-42ff-96ee-8813a06c387e</td>\n",
       "      <td>message</td>\n",
       "      <td>U036P42C39Q</td>\n",
       "      <td>2022-12-09 16:57:37</td>\n",
       "      <td>NaT</td>\n",
       "      <td>TPV9DP0N4</td>\n",
       "      <td>NaT</td>\n",
       "      <td>NaN</td>\n",
       "      <td>sql_teamwork_new</td>\n",
       "      <td>2022-12-09</td>\n",
       "      <td>0</td>\n",
       "      <td>NaN</td>\n",
       "      <td>110</td>\n",
       "      <td>5</td>\n",
       "    </tr>\n",
       "    <tr>\n",
       "      <th>26531</th>\n",
       "      <td>NaN</td>\n",
       "      <td>message</td>\n",
       "      <td>U04H3QE10EM</td>\n",
       "      <td>2023-01-23 14:42:06</td>\n",
       "      <td>NaT</td>\n",
       "      <td>NaN</td>\n",
       "      <td>NaT</td>\n",
       "      <td>channel_join</td>\n",
       "      <td>sql_teamwork_new</td>\n",
       "      <td>2023-01-23</td>\n",
       "      <td>0</td>\n",
       "      <td>NaN</td>\n",
       "      <td>37</td>\n",
       "      <td>5</td>\n",
       "    </tr>\n",
       "    <tr>\n",
       "      <th>26532</th>\n",
       "      <td>NaN</td>\n",
       "      <td>message</td>\n",
       "      <td>U04H3QE10EM</td>\n",
       "      <td>2023-02-01 08:11:59</td>\n",
       "      <td>NaT</td>\n",
       "      <td>NaN</td>\n",
       "      <td>NaT</td>\n",
       "      <td>channel_leave</td>\n",
       "      <td>sql_teamwork_new</td>\n",
       "      <td>2023-02-01</td>\n",
       "      <td>0</td>\n",
       "      <td>NaN</td>\n",
       "      <td>35</td>\n",
       "      <td>5</td>\n",
       "    </tr>\n",
       "  </tbody>\n",
       "</table>\n",
       "<p>26164 rows × 14 columns</p>\n",
       "</div>"
      ],
      "text/plain": [
       "                              client_msg_id     type         user  \\\n",
       "0      ae31e785-257b-4290-a4c6-9721337f67ea  message  U03JYMWQLP5   \n",
       "1      7f644ae8-16d4-4c9e-9c4f-8b2d6df6a28d  message  U03V483FRKM   \n",
       "2                                       NaN  message  U02KVQJHQ5S   \n",
       "3      6c5bf2c1-8579-413c-8e8f-ec3a0e3698a8  message  U03JYMWQLP5   \n",
       "4      b5e3413b-8f04-4192-948b-2423eb3192b2  message  U040E2D6CF2   \n",
       "...                                     ...      ...          ...   \n",
       "26528                                   NaN  message  U02KVQJHQ5S   \n",
       "26529  d7cdfd29-40a3-4f22-b3ce-755975902652  message  U036P42C39Q   \n",
       "26530  b403e184-0a77-42ff-96ee-8813a06c387e  message  U036P42C39Q   \n",
       "26531                                   NaN  message  U04H3QE10EM   \n",
       "26532                                   NaN  message  U04H3QE10EM   \n",
       "\n",
       "                       ts        latest_reply       team           thread_ts  \\\n",
       "0     2022-11-28 13:49:23 2022-11-28 14:24:08  TPV9DP0N4 2022-11-28 13:49:23   \n",
       "1     2022-11-28 14:24:08                 NaT  TPV9DP0N4 2022-11-28 13:49:23   \n",
       "2     2022-11-28 14:48:50                 NaT        NaN                 NaT   \n",
       "3     2022-11-29 08:08:12 2022-11-29 10:56:57        NaN 2022-11-29 08:08:12   \n",
       "4     2022-11-29 08:32:32                 NaT  TPV9DP0N4 2022-11-29 08:08:12   \n",
       "...                   ...                 ...        ...                 ...   \n",
       "26528 2022-11-30 13:44:46                 NaT        NaN                 NaT   \n",
       "26529 2022-12-08 13:23:11                 NaT  TPV9DP0N4                 NaT   \n",
       "26530 2022-12-09 16:57:37                 NaT  TPV9DP0N4                 NaT   \n",
       "26531 2023-01-23 14:42:06                 NaT        NaN                 NaT   \n",
       "26532 2023-02-01 08:11:59                 NaT        NaN                 NaT   \n",
       "\n",
       "             subtype            channel  file_date  attachments  \\\n",
       "0                NaN  data-analysts-bus 2022-11-28            0   \n",
       "1                NaN  data-analysts-bus 2022-11-28            0   \n",
       "2       channel_join  data-analysts-bus 2022-11-28            0   \n",
       "3                NaN  data-analysts-bus 2022-11-29            0   \n",
       "4                NaN  data-analysts-bus 2022-11-29            0   \n",
       "...              ...                ...        ...          ...   \n",
       "26528   channel_join   sql_teamwork_new 2022-11-30            0   \n",
       "26529            NaN   sql_teamwork_new 2022-12-08            0   \n",
       "26530            NaN   sql_teamwork_new 2022-12-09            0   \n",
       "26531   channel_join   sql_teamwork_new 2023-01-23            0   \n",
       "26532  channel_leave   sql_teamwork_new 2023-02-01            0   \n",
       "\n",
       "                                               reactions  text_len  text_words  \n",
       "0                                                    NaN       297          47  \n",
       "1      [{'name': 'pray', 'users': ['U03JYMWQLP5'], 'c...       434          63  \n",
       "2                                                    NaN        37           5  \n",
       "3      [{'name': 'cat-high-five', 'users': ['U040E2D6...        69          12  \n",
       "4                                                    NaN        19           2  \n",
       "...                                                  ...       ...         ...  \n",
       "26528                                                NaN        37           5  \n",
       "26529                                                NaN       340          53  \n",
       "26530                                                NaN       110           5  \n",
       "26531                                                NaN        37           5  \n",
       "26532                                                NaN        35           5  \n",
       "\n",
       "[26164 rows x 14 columns]"
      ]
     },
     "execution_count": 18,
     "metadata": {},
     "output_type": "execute_result"
    }
   ],
   "source": [
    "df.drop_duplicates()"
   ]
  },
  {
   "cell_type": "markdown",
   "id": "73260e16",
   "metadata": {
    "id": "73260e16"
   },
   "source": [
    "Удалили явные дубликаты."
   ]
  },
  {
   "cell_type": "markdown",
   "id": "88ea6643",
   "metadata": {
    "id": "88ea6643"
   },
   "source": [
    "#### Явные дубликаты в отдельных столбцах:\n",
    " \n",
    "Явные дубликаты не допустимы только в столбце client_msg_id."
   ]
  },
  {
   "cell_type": "code",
   "execution_count": 19,
   "id": "c74faf2b",
   "metadata": {
    "colab": {
     "base_uri": "https://localhost:8080/"
    },
    "id": "c74faf2b",
    "outputId": "349d25cf-e1df-4b26-dc41-b09be13e42f6"
   },
   "outputs": [
    {
     "data": {
      "text/plain": [
       "array([nan], dtype=object)"
      ]
     },
     "execution_count": 19,
     "metadata": {},
     "output_type": "execute_result"
    }
   ],
   "source": [
    "df[df['client_msg_id'].duplicated()]['client_msg_id'].unique() # смотрим, есть в столбце client_msg_id значения дубликатов, кроме пропусков"
   ]
  },
  {
   "cell_type": "markdown",
   "id": "ab760bc7",
   "metadata": {
    "id": "ab760bc7"
   },
   "source": [
    "Дубликатов в столбце client_msg_id нет."
   ]
  },
  {
   "cell_type": "markdown",
   "id": "096a2881",
   "metadata": {
    "id": "096a2881"
   },
   "source": [
    "#### Неявные дубликаты:\n",
    "\n",
    "Неявные дубликаты могут содержаться только в некоторых столбцах:"
   ]
  },
  {
   "cell_type": "markdown",
   "id": "f89be6fe",
   "metadata": {
    "id": "f89be6fe"
   },
   "source": [
    " - **type**:"
   ]
  },
  {
   "cell_type": "code",
   "execution_count": 20,
   "id": "be3d7691",
   "metadata": {
    "colab": {
     "base_uri": "https://localhost:8080/"
    },
    "id": "be3d7691",
    "outputId": "9bdd8b91-1f5c-458c-b2ac-059861e25ebd"
   },
   "outputs": [
    {
     "data": {
      "text/plain": [
       "array(['message'], dtype=object)"
      ]
     },
     "execution_count": 20,
     "metadata": {},
     "output_type": "execute_result"
    }
   ],
   "source": [
    "df['type'].unique()"
   ]
  },
  {
   "cell_type": "markdown",
   "id": "f2fda0ee",
   "metadata": {
    "id": "f2fda0ee"
   },
   "source": [
    "Данные столбца type содержат только одно значение - \"message\".\\\n",
    "Данный столбец не имеет пропусков и во всех ячейках содержит одинаковое значение, поэтому данный столбец не имеет ценности для исследования.\\\n",
    "Мы удалили данный столбец."
   ]
  },
  {
   "cell_type": "code",
   "execution_count": 21,
   "id": "b71e3d6f",
   "metadata": {
    "id": "b71e3d6f"
   },
   "outputs": [],
   "source": [
    "df=df.drop(['type'], axis=1)"
   ]
  },
  {
   "cell_type": "code",
   "execution_count": 22,
   "id": "0bba0bbb",
   "metadata": {
    "colab": {
     "base_uri": "https://localhost:8080/"
    },
    "id": "0bba0bbb",
    "outputId": "a49bcf35-7f7e-4ca2-97fa-307a8e4d6e2c"
   },
   "outputs": [
    {
     "name": "stdout",
     "output_type": "stream",
     "text": [
      "<class 'pandas.core.frame.DataFrame'>\n",
      "RangeIndex: 26533 entries, 0 to 26532\n",
      "Data columns (total 13 columns):\n",
      " #   Column         Non-Null Count  Dtype         \n",
      "---  ------         --------------  -----         \n",
      " 0   client_msg_id  18262 non-null  object        \n",
      " 1   user           23643 non-null  object        \n",
      " 2   ts             26533 non-null  datetime64[ns]\n",
      " 3   latest_reply   2303 non-null   datetime64[ns]\n",
      " 4   team           15857 non-null  object        \n",
      " 5   thread_ts      18222 non-null  datetime64[ns]\n",
      " 6   subtype        8317 non-null   object        \n",
      " 7   channel        26533 non-null  object        \n",
      " 8   file_date      26533 non-null  datetime64[ns]\n",
      " 9   attachments    26533 non-null  int64         \n",
      " 10  reactions      4169 non-null   object        \n",
      " 11  text_len       26533 non-null  int64         \n",
      " 12  text_words     26533 non-null  int64         \n",
      "dtypes: datetime64[ns](4), int64(3), object(6)\n",
      "memory usage: 2.6+ MB\n"
     ]
    }
   ],
   "source": [
    "df.info()"
   ]
  },
  {
   "cell_type": "markdown",
   "id": "ab5a989f",
   "metadata": {
    "id": "ab5a989f"
   },
   "source": [
    " - **subtype**:"
   ]
  },
  {
   "cell_type": "code",
   "execution_count": 23,
   "id": "67e9ae91",
   "metadata": {
    "colab": {
     "base_uri": "https://localhost:8080/"
    },
    "id": "67e9ae91",
    "outputId": "2b851cca-8814-4505-fbe3-2bad8356263f"
   },
   "outputs": [
    {
     "data": {
      "text/plain": [
       "array([nan, 'channel_join', 'bot_remove', 'thread_broadcast',\n",
       "       'channel_unarchive', 'channel_leave', 'bot_message',\n",
       "       'channel_purpose', 'tombstone', 'channel_name'], dtype=object)"
      ]
     },
     "execution_count": 23,
     "metadata": {},
     "output_type": "execute_result"
    }
   ],
   "source": [
    "df['subtype'].unique()"
   ]
  },
  {
   "cell_type": "markdown",
   "id": "5d49532d",
   "metadata": {
    "id": "5d49532d"
   },
   "source": [
    "Метки действий пользователей, если соотносить их названия с предполагаемым смыслом, не имеют неявных дубликатов."
   ]
  },
  {
   "cell_type": "markdown",
   "id": "65be0e71",
   "metadata": {
    "id": "65be0e71"
   },
   "source": [
    " - **channel**:"
   ]
  },
  {
   "cell_type": "code",
   "execution_count": 24,
   "id": "2d272a0b",
   "metadata": {
    "colab": {
     "base_uri": "https://localhost:8080/"
    },
    "id": "2d272a0b",
    "outputId": "a92734b3-c99c-4e0d-86e7-7193c77d3365"
   },
   "outputs": [
    {
     "data": {
      "text/plain": [
       "571"
      ]
     },
     "execution_count": 24,
     "metadata": {},
     "output_type": "execute_result"
    }
   ],
   "source": [
    "df['channel'].nunique()"
   ]
  },
  {
   "cell_type": "code",
   "execution_count": 25,
   "id": "51d0d6bb",
   "metadata": {
    "colab": {
     "base_uri": "https://localhost:8080/"
    },
    "id": "51d0d6bb",
    "outputId": "8bc4c32c-a7f2-49d2-d132-2e00f4fcc846"
   },
   "outputs": [
    {
     "data": {
      "text/plain": [
       "array(['data-analysts-bus', 'datatracker_logs', 'data_complaints',\n",
       "       'data_edteam_info', 'da_42_exerciser_1', 'da_42_exerciser_2',\n",
       "       'da_42_projects_1', 'da_42_projects_2', 'da_50_info',\n",
       "       'da_50_library', 'da_50_teamwork', 'da_52_exerciser', 'da_52_info',\n",
       "       'da_52_library', 'da_52_projects', 'da_52_teamwork',\n",
       "       'da_53_exerciser_1', 'da_53_exerciser_2', 'da_53_info',\n",
       "       'da_53_library', 'da_53_projects_1', 'da_53_projects_2',\n",
       "       'da_53_teamwork', 'da_54_exerciser_01', 'da_54_exerciser_02',\n",
       "       'da_54_info', 'da_54_library', 'da_54_projects_01',\n",
       "       'da_54_projects_02', 'da_54_teamwork', 'da_55_exerciser',\n",
       "       'da_55_info', 'da_55_library', 'da_55_projects', 'da_55_teamwork',\n",
       "       'da_56b_exerciser', 'da_56b_info', 'da_56b_library',\n",
       "       'da_56b_projects', 'da_56b_teamwork', 'da_56_exerciser_1',\n",
       "       'da_56_exerciser_2', 'da_56_info', 'da_56_library',\n",
       "       'da_56_projects_1', 'da_56_projects_2', 'da_56_teamwork',\n",
       "       'da_58_digitalprof', 'da_58_exerciser_1', 'da_58_exerciser_2',\n",
       "       'da_58_exerciser_3', 'da_58_info', 'da_58_library',\n",
       "       'da_58_projects_1', 'da_58_projects_2', 'da_58_projects_3',\n",
       "       'da_58_teamwork', 'da_59b_exerciser', 'da_59b_info',\n",
       "       'da_59b_library', 'da_59b_projects', 'da_59b_teamwork',\n",
       "       'da_59_exerciser_01', 'da_59_exerciser_02', 'da_59_exerciser_03',\n",
       "       'da_59_info', 'da_59_library', 'da_59_projects_01',\n",
       "       'da_59_projects_02', 'da_59_projects_03', 'da_59_teamwork',\n",
       "       'da_60_exerciser_01', 'da_60_exerciser_02', 'da_60_exerciser_03',\n",
       "       'da_60_info', 'da_60_library', 'da_60_projects_01',\n",
       "       'da_60_projects_02', 'da_60_projects_03', 'da_60_teamwork',\n",
       "       'da_60_цифровые-профессии', 'da_61b_exerciser', 'da_61b_info',\n",
       "       'da_61b_projects', 'da_61b_teamwork', 'da_61_exerciser_01',\n",
       "       'da_61_exerciser_02', 'da_61_exerciser_03', 'da_61_info',\n",
       "       'da_61_library', 'da_61_project_01', 'da_61_project_02',\n",
       "       'da_61_project_03', 'da_61_teamwork', 'da_62_b2g',\n",
       "       'da_62_exerciser_1', 'da_62_exerciser_2', 'da_62_info',\n",
       "       'da_62_library', 'da_62_projects_1', 'da_62_projects_2',\n",
       "       'da_62_teamwork', 'da_63_exerciser_1', 'da_63_exerciser_2',\n",
       "       'da_63_info', 'da_63_library', 'da_63_mentors', 'da_63_projects_1',\n",
       "       'da_63_projects_2', 'da_63_teamwork', 'da_63_цифровые_профессии',\n",
       "       'da_bc_02_apps', 'da_bc_02_final_info', 'da_bc_02_telecom',\n",
       "       'da_bc_03_info', 'da_bc_03_library', 'da_bc_03_study',\n",
       "       'da_bc_03_teamwork', 'da_bc_04_info', 'da_bc_04_library',\n",
       "       'da_bc_04_study', 'da_bc_04_teamwork', 'da_plus_09_exerciser',\n",
       "       'da_plus_09_info', 'da_plus_09_kt', 'da_plus_09_library',\n",
       "       'da_plus_09_projects', 'da_plus_09_teamwork',\n",
       "       'da_plus_10_exerciser', 'da_plus_10_info', 'da_plus_10_kt',\n",
       "       'da_plus_10_library', 'da_plus_10_mentors', 'da_plus_10_projects',\n",
       "       'da_plus_10_teamwork', 'da_plus_11_exerciser', 'da_plus_11_info',\n",
       "       'da_plus_11_library', 'da_plus_11_project', 'da_plus_11_teamwork',\n",
       "       'da_plus_12_exerciser', 'da_plus_12_info', 'da_plus_12_kt',\n",
       "       'da_plus_12_library', 'da_plus_12_projects', 'da_plus_12_teamwork',\n",
       "       'da_plus_13_exerciser', 'da_plus_13_info', 'da_plus_13_library',\n",
       "       'da_plus_13_projects', 'da_plus_13_teamwork',\n",
       "       'da_plus_14_exerciser', 'da_plus_14_info', 'da_plus_14_library',\n",
       "       'da_plus_14_projects', 'da_plus_14_teamwork',\n",
       "       'da_plus_15_exerciser', 'da_plus_15_info', 'da_plus_15_library',\n",
       "       'da_plus_15_projects', 'da_plus_15_teamwork',\n",
       "       'da_plus_16_exerciser', 'da_plus_16_info', 'da_plus_16_library',\n",
       "       'da_plus_16_mentors', 'da_plus_16_projects', 'da_plus_16_teamwork',\n",
       "       'da_plus_17_exerciser', 'da_plus_17_info', 'da_plus_17_library',\n",
       "       'da_plus_17_projects', 'da_plus_17_teamwork',\n",
       "       'da_plus_18_exerciser_1', 'da_plus_18_exerciser_2',\n",
       "       'da_plus_18_info', 'da_plus_18_library', 'da_plus_18_projects_1',\n",
       "       'da_plus_18_projects_2', 'da_plus_18_teamwork',\n",
       "       'da_plus_19_exerciser', 'da_plus_19_info', 'da_plus_19_library',\n",
       "       'da_plus_19_mentors', 'da_plus_19_projects', 'da_plus_19_teamwork',\n",
       "       'da_plus_8_info', 'da_plus_8_kt', 'da_plus_8_library',\n",
       "       'da_plus_8_teamwork', 'de-pro1', 'de-pro2', 'de-pro3', 'de-pro4',\n",
       "       'de-project', 'design_web_plus', 'de_1_info', 'de_22_community',\n",
       "       'de_22_exerciser', 'de_22_group_orange', 'de_22_group_red',\n",
       "       'de_22_group_yellow', 'de_22_info', 'de_22_library',\n",
       "       'de_22_projects', 'de_22_tutorial', 'de_23_community',\n",
       "       'de_23_exerciser', 'de_23_group_blue', 'de_23_group_green',\n",
       "       'de_23_group_red', 'de_23_group_yellow', 'de_23_info',\n",
       "       'de_23_library', 'de_23_problem_1', 'de_23_projects',\n",
       "       'de_23_tutorial', 'de_24_community', 'de_24_exerciser',\n",
       "       'de_24_group_green', 'de_24_group_orange', 'de_24_group_red',\n",
       "       'de_24_group_yellow', 'de_24_info', 'de_24_library',\n",
       "       'de_24_projects', 'de_24_topic1', 'de_24_topic2', 'de_24_topic3',\n",
       "       'de_24_tutorial', 'de_25_community', 'de_25_exerciser',\n",
       "       'de_25_group_blue', 'de_25_group_orange', 'de_25_group_purple',\n",
       "       'de_25_group_red', 'de_25_info', 'de_25_library', 'de_25_projects',\n",
       "       'de_25_tutorial', 'de_26_community', 'de_26_exerciser',\n",
       "       'de_26_group_green', 'de_26_group_purple', 'de_26_group_red',\n",
       "       'de_26_group_yellow', 'de_26_info', 'de_26_library',\n",
       "       'de_26_projects', 'de_26_tutorial', 'de_27_2_community',\n",
       "       'de_27_2_digital_professions', 'de_27_2_exerciser',\n",
       "       'de_27_2_group_green', 'de_27_2_group_orange',\n",
       "       'de_27_2_group_yellow', 'de_27_2_info', 'de_27_2_library',\n",
       "       'de_27_2_projects', 'de_27_2_tutorial', 'de_27_community',\n",
       "       'de_27_exerciser', 'de_27_group_green', 'de_27_group_red',\n",
       "       'de_27_group_yellow', 'de_27_info', 'de_27_library',\n",
       "       'de_27_projects', 'de_27_tutorial', 'de_28_2_community',\n",
       "       'de_28_2_digital_professions', 'de_28_2_exerciser',\n",
       "       'de_28_2_group_green', 'de_28_2_group_red', 'de_28_2_group_yellow',\n",
       "       'de_28_2_info', 'de_28_2_library', 'de_28_2_projects',\n",
       "       'de_28_2_tutorial', 'de_28_community', 'de_28_digital_professions',\n",
       "       'de_28_exerciser', 'de_28_group_green', 'de_28_group_red',\n",
       "       'de_28_group_yellow', 'de_28_info', 'de_28_library',\n",
       "       'de_28_projects', 'de_28_tutorial', 'de_29_2_community',\n",
       "       'de_29_2_digital_professions', 'de_29_2_exerciser',\n",
       "       'de_29_2_group_green', 'de_29_2_group_red', 'de_29_2_group_yellow',\n",
       "       'de_29_2_info', 'de_29_2_library', 'de_29_2_mentors',\n",
       "       'de_29_2_projects', 'de_29_2_tutorial', 'de_29_community',\n",
       "       'de_29_digital_professions', 'de_29_exerciser', 'de_29_group_blue',\n",
       "       'de_29_group_purple', 'de_29_group_red', 'de_29_info',\n",
       "       'de_29_library', 'de_29_projects', 'de_29_tutorial', 'de_2_info',\n",
       "       'de_30_community', 'de_30_digital_professions', 'de_30_exerciser',\n",
       "       'de_30_group_green', 'de_30_group_red', 'de_30_group_yellow',\n",
       "       'de_30_info', 'de_30_library', 'de_30_mentors', 'de_30_projects',\n",
       "       'de_30_tutorial', 'de_3_exerciser', 'de_3_info', 'de_3_projects',\n",
       "       'de_4_exerciser', 'de_4_info', 'de_4_projects', 'de_5_exerciser',\n",
       "       'de_5_info', 'de_5_library', 'de_5_mentors', 'de_5_projects',\n",
       "       'de_5_teamwork', 'de_6_exerciser', 'de_6_info', 'de_6_library',\n",
       "       'de_6_mentors', 'de_6_projects', 'de_6_teamwork', 'de_7_exerciser',\n",
       "       'de_7_info', 'de_7_library', 'de_7_mentors', 'de_7_projects',\n",
       "       'de_7_teamwork', 'de_8_exerciser', 'de_8_info', 'de_8_library',\n",
       "       'de_8_mentors', 'de_8_projects', 'de_8_teamwork',\n",
       "       'de_8_workshop_project1', 'de_random_coffee', 'dl_04_community',\n",
       "       'dl_04_info', 'dl_04_students_feedback', 'dl_04_teach_me',\n",
       "       'dl_05_community', 'dl_05_info', 'dl_05_students_feedback',\n",
       "       'dl_05_teach_me', 'dl_06_community', 'dl_06_group_green',\n",
       "       'dl_06_group_yellow', 'dl_06_info', 'dl_06_student_feedback',\n",
       "       'dl_06_teach_me', 'dl_07_community', 'dl_07_info',\n",
       "       'dl_07_student_feedback', 'dl_07_teach_me', 'dl_academ',\n",
       "       'donorsearch', 'ds_35_exerciser_1', 'ds_35_exerciser_2',\n",
       "       'ds_35_exerciser_3', 'ds_35_projects_1', 'ds_35_projects_2',\n",
       "       'ds_35_projects_3', 'ds_38_info', 'ds_38_library',\n",
       "       'ds_38_teamwork', 'ds_40_info', 'ds_40_library', 'ds_40_teamwork',\n",
       "       'ds_42_exerciser', 'ds_42_info', 'ds_42_library', 'ds_42_project',\n",
       "       'ds_42_teamwork', 'ds_43_info', 'ds_43_library', 'ds_43_teamwork',\n",
       "       'ds_44_exerciser', 'ds_44_info', 'ds_44_library', 'ds_44_projects',\n",
       "       'ds_44_teamwork', 'ds_45_exerciser', 'ds_45_info', 'ds_45_library',\n",
       "       'ds_45_projects', 'ds_45_teamwork', 'ds_46_exerciser',\n",
       "       'ds_46_info', 'ds_46_library', 'ds_46_projects', 'ds_46_teamwork',\n",
       "       'ds_47_exerciser', 'ds_47_info', 'ds_47_library', 'ds_47_projects',\n",
       "       'ds_47_teamwork', 'ds_48_exerciser', 'ds_48_info', 'ds_48_library',\n",
       "       'ds_48_projects', 'ds_48_teamwork', 'ds_49_exerciser',\n",
       "       'ds_49_info', 'ds_49_library', 'ds_49_projects', 'ds_49_teamwork',\n",
       "       'ds_50_exerciser_1', 'ds_50_exerciser_2', 'ds_50_info',\n",
       "       'ds_50_library', 'ds_50_projects_1', 'ds_50_projects_2',\n",
       "       'ds_50_teamwork', 'ds_51b_info', 'ds_51b_library',\n",
       "       'ds_51b_projects', 'ds_51b_teamwork', 'ds_54b_exerciser',\n",
       "       'ds_54b_info', 'ds_54b_library', 'ds_54b_projects',\n",
       "       'ds_54b_teamwork', 'ds_55_exerciser_1', 'ds_55_exerciser_2',\n",
       "       'ds_55_exerciser_3', 'ds_55_info', 'ds_55_library',\n",
       "       'ds_55_projects_1', 'ds_55_projects_2', 'ds_55_teamwork',\n",
       "       'ds_57_exerciser_1', 'ds_57_exerciser_2', 'ds_57_info',\n",
       "       'ds_57_library', 'ds_57_projects_1', 'ds_57_projects_2',\n",
       "       'ds_57_teamwork', 'ds_58_exerciser_1', 'ds_58_exerciser_2',\n",
       "       'ds_58_info', 'ds_58_library', 'ds_58_projects_1',\n",
       "       'ds_58_projects_2', 'ds_58_teamwork', 'ds_bc_02_exerciser',\n",
       "       'ds_bc_02_info', 'ds_bc_02_library', 'ds_bc_02_projects',\n",
       "       'ds_bc_02_teamwork', 'ds_bc_03_exerciser', 'ds_bc_03_info',\n",
       "       'ds_bc_03_library', 'ds_bc_03_projects', 'ds_bc_03_teamwork',\n",
       "       'ds_bc_04_exerciser', 'ds_bc_04_info', 'ds_bc_04_library',\n",
       "       'ds_bc_04_projects', 'ds_bc_04_teamwork', 'ds_bc_05_info',\n",
       "       'ds_bc_05_library', 'ds_bc_05_study', 'ds_bc_05_teamwork',\n",
       "       'ds_plus_05_exerciser', 'ds_plus_05_info', 'ds_plus_05_projects',\n",
       "       'ds_plus_05_teamwork', 'ds_plus_06_exerciser', 'ds_plus_06_info',\n",
       "       'ds_plus_06_projects', 'ds_plus_06_teamwork',\n",
       "       'ds_plus_07_exerciser', 'ds_plus_07_info', 'ds_plus_07_projects',\n",
       "       'ds_plus_07_teamwork', 'ds_plus_08_exerciser', 'ds_plus_08_info',\n",
       "       'ds_plus_08_library', 'ds_plus_08_projects', 'ds_plus_08_teamwork',\n",
       "       'ds_plus_09_exerciser', 'ds_plus_09_info', 'ds_plus_09_kt',\n",
       "       'ds_plus_09_library', 'ds_plus_09_projects', 'ds_plus_09_teamwork',\n",
       "       'ds_plus_10_exerciser', 'ds_plus_10_info', 'ds_plus_10_library',\n",
       "       'ds_plus_10_projects', 'ds_plus_10_teamwork',\n",
       "       'ds_plus_11_exerciser', 'ds_plus_11_library',\n",
       "       'ds_plus_11_projects', 'ds_plus_11_teamwork',\n",
       "       'ds_plus_12_exerciser', 'ds_plus_12_info', 'ds_plus_12_library',\n",
       "       'ds_plus_12_projects', 'ds_plus_12_teamwork',\n",
       "       'ds_plus_13_exerciser', 'ds_plus_13_info', 'ds_plus_13_library',\n",
       "       'ds_plus_13_projects', 'ds_plus_13_teamwork',\n",
       "       'ds_plus_14_exerciser', 'ds_plus_14_info', 'ds_plus_14_library',\n",
       "       'ds_plus_14_projects', 'ds_plus_14_teamwork',\n",
       "       'ds_plus_15_exerciser', 'ds_plus_15_info', 'ds_plus_15_library',\n",
       "       'ds_plus_15_projects_1', 'ds_plus_15_projects_2',\n",
       "       'ds_plus_15_teamwork', 'ds_plus_17_exerciser', 'ds_plus_17_info',\n",
       "       'ds_plus_17_library', 'ds_plus_17_mentors', 'ds_plus_17_projects',\n",
       "       'ds_plus_17_teamwork', 'ds_plus_18_exerciser', 'ds_plus_18_info',\n",
       "       'ds_plus_18_library', 'ds_plus_18_projects', 'ds_plus_18_teamwork',\n",
       "       'ds_plus_19_exerciser', 'ds_plus_19_info', 'ds_plus_19_library',\n",
       "       'ds_plus_19_projects', 'ds_plus_19_teamwork',\n",
       "       'masterskaya_10ds_plus', 'masterskaya_10dа_plus',\n",
       "       'masterskaya_11ds_plus', 'masterskaya_11dа_plus',\n",
       "       'masterskaya_12ds_plus', 'masterskaya_7ds_plus',\n",
       "       'masterskaya_8ds_plus', 'masterskaya_8dа_plus',\n",
       "       'masterskaya_9ds_plus', 'masterskaya_9dа_plus', 'sql_04_exerciser',\n",
       "       'sql_04_info', 'sql_04_teamwork', 'sql_exerciser',\n",
       "       'sql_exerciser_03', 'sql_exerciser_new', 'sql_info', 'sql_info_03',\n",
       "       'sql_info_new', 'sql_teamwork', 'sql_teamwork_03',\n",
       "       'sql_teamwork_new'], dtype=object)"
      ]
     },
     "execution_count": 25,
     "metadata": {},
     "output_type": "execute_result"
    }
   ],
   "source": [
    "df['channel'].unique()"
   ]
  },
  {
   "cell_type": "markdown",
   "id": "ff22941c",
   "metadata": {
    "id": "ff22941c"
   },
   "source": [
    "Столбец Channel имеет 571 уникальное значение.\\\n",
    "В разделе 3.6 настоящего проекта каналы в целях анализа будут распределены по категориям, что невилирует эффект неявных дубликатов, если такие есть."
   ]
  },
  {
   "cell_type": "markdown",
   "id": "5fea8d3a",
   "metadata": {
    "id": "5fea8d3a"
   },
   "source": [
    " - **reactions**:"
   ]
  },
  {
   "cell_type": "code",
   "execution_count": 26,
   "id": "e68e54e6",
   "metadata": {
    "colab": {
     "base_uri": "https://localhost:8080/"
    },
    "id": "e68e54e6",
    "outputId": "9ac98c25-1b44-4bc1-a5b6-cca49ab91114"
   },
   "outputs": [
    {
     "data": {
      "text/plain": [
       "2661"
      ]
     },
     "execution_count": 26,
     "metadata": {},
     "output_type": "execute_result"
    }
   ],
   "source": [
    "df['reactions'].nunique()"
   ]
  },
  {
   "cell_type": "code",
   "execution_count": 27,
   "id": "da27882f",
   "metadata": {
    "colab": {
     "base_uri": "https://localhost:8080/"
    },
    "id": "da27882f",
    "outputId": "cfd9c069-579c-4448-f80e-7039259a4424"
   },
   "outputs": [
    {
     "data": {
      "text/plain": [
       "array([nan, \"[{'name': 'pray', 'users': ['U03JYMWQLP5'], 'count': 1}]\",\n",
       "       \"[{'name': 'cat-high-five', 'users': ['U040E2D6CF2'], 'count': 1}]\",\n",
       "       ..., \"[{'name': 'pray', 'users': ['U03RSC0RSBU'], 'count': 1}]\",\n",
       "       \"[{'name': 'cat-high-five', 'users': ['U02QK4VR38F'], 'count': 1}]\",\n",
       "       \"[{'name': 'cat-high-five', 'users': ['U044T2TLGH3'], 'count': 1}]\"],\n",
       "      dtype=object)"
      ]
     },
     "execution_count": 27,
     "metadata": {},
     "output_type": "execute_result"
    }
   ],
   "source": [
    "df['reactions'].unique()"
   ]
  },
  {
   "cell_type": "markdown",
   "id": "640aa019",
   "metadata": {
    "id": "640aa019"
   },
   "source": [
    "Столбец Reactions имеет 2661 уникальное значение.\\\n",
    "В настоящем проекте мы не будем анализировать смысл реакций, а только их количество, поэтому наличие неявных дубликатов в реакциях не повлияет на результаты нашего анализа."
   ]
  },
  {
   "cell_type": "markdown",
   "id": "8cc328a6",
   "metadata": {
    "id": "8cc328a6"
   },
   "source": [
    " <a id=\"third_5\"></a> \n",
    "### Изучение значений данных, выявление аномальных и редких значений"
   ]
  },
  {
   "cell_type": "markdown",
   "id": "55a56390",
   "metadata": {
    "id": "55a56390"
   },
   "source": [
    " - **Изучение данных в столбцах, содержащих даты и время:\\\n",
    " ts,\\\n",
    " latest_reply,\\\n",
    " thread_ts,\\\n",
    " file_date**"
   ]
  },
  {
   "cell_type": "code",
   "execution_count": 28,
   "id": "eaa5a8e3",
   "metadata": {
    "colab": {
     "base_uri": "https://localhost:8080/"
    },
    "id": "eaa5a8e3",
    "outputId": "8e65c56f-353d-4dc0-e6ec-0ebd183b2fc5"
   },
   "outputs": [
    {
     "data": {
      "text/plain": [
       "Timestamp('2022-10-21 09:00:00')"
      ]
     },
     "execution_count": 28,
     "metadata": {},
     "output_type": "execute_result"
    }
   ],
   "source": [
    "df['ts'].min()"
   ]
  },
  {
   "cell_type": "code",
   "execution_count": 29,
   "id": "849573a9",
   "metadata": {
    "colab": {
     "base_uri": "https://localhost:8080/"
    },
    "id": "849573a9",
    "outputId": "2661fa8e-160f-4878-90db-30d55b12ec17"
   },
   "outputs": [
    {
     "data": {
      "text/plain": [
       "Timestamp('2023-02-09 11:02:04')"
      ]
     },
     "execution_count": 29,
     "metadata": {},
     "output_type": "execute_result"
    }
   ],
   "source": [
    "df['ts'].max()"
   ]
  },
  {
   "cell_type": "markdown",
   "id": "cece7a9e",
   "metadata": {
    "id": "cece7a9e"
   },
   "source": [
    "Мы видим, что датафрейм содержит данные за период с 21 октября 2022г. по 2 сентября 2023г."
   ]
  },
  {
   "cell_type": "code",
   "execution_count": 30,
   "id": "89bee5a9",
   "metadata": {
    "colab": {
     "base_uri": "https://localhost:8080/",
     "height": 206
    },
    "id": "89bee5a9",
    "outputId": "f78ab3a9-f2e8-4487-bd95-a41f76159ec0"
   },
   "outputs": [
    {
     "data": {
      "text/html": [
       "<div>\n",
       "<style scoped>\n",
       "    .dataframe tbody tr th:only-of-type {\n",
       "        vertical-align: middle;\n",
       "    }\n",
       "\n",
       "    .dataframe tbody tr th {\n",
       "        vertical-align: top;\n",
       "    }\n",
       "\n",
       "    .dataframe thead th {\n",
       "        text-align: right;\n",
       "    }\n",
       "</style>\n",
       "<table border=\"1\" class=\"dataframe\">\n",
       "  <thead>\n",
       "    <tr style=\"text-align: right;\">\n",
       "      <th></th>\n",
       "      <th>ts</th>\n",
       "      <th>latest_reply</th>\n",
       "      <th>thread_ts</th>\n",
       "      <th>file_date</th>\n",
       "    </tr>\n",
       "  </thead>\n",
       "  <tbody>\n",
       "    <tr>\n",
       "      <th>0</th>\n",
       "      <td>2022-11-28 13:49:23</td>\n",
       "      <td>2022-11-28 14:24:08</td>\n",
       "      <td>2022-11-28 13:49:23</td>\n",
       "      <td>2022-11-28</td>\n",
       "    </tr>\n",
       "    <tr>\n",
       "      <th>3</th>\n",
       "      <td>2022-11-29 08:08:12</td>\n",
       "      <td>2022-11-29 10:56:57</td>\n",
       "      <td>2022-11-29 08:08:12</td>\n",
       "      <td>2022-11-29</td>\n",
       "    </tr>\n",
       "    <tr>\n",
       "      <th>7</th>\n",
       "      <td>2022-11-29 10:26:46</td>\n",
       "      <td>2022-11-29 12:08:02</td>\n",
       "      <td>2022-11-29 10:26:46</td>\n",
       "      <td>2022-11-29</td>\n",
       "    </tr>\n",
       "    <tr>\n",
       "      <th>15</th>\n",
       "      <td>2022-11-29 12:02:05</td>\n",
       "      <td>2022-11-29 13:36:28</td>\n",
       "      <td>2022-11-29 12:02:05</td>\n",
       "      <td>2022-11-29</td>\n",
       "    </tr>\n",
       "    <tr>\n",
       "      <th>20</th>\n",
       "      <td>2022-11-30 14:18:35</td>\n",
       "      <td>2022-12-01 12:54:43</td>\n",
       "      <td>2022-11-30 14:18:35</td>\n",
       "      <td>2022-11-30</td>\n",
       "    </tr>\n",
       "  </tbody>\n",
       "</table>\n",
       "</div>"
      ],
      "text/plain": [
       "                    ts        latest_reply           thread_ts  file_date\n",
       "0  2022-11-28 13:49:23 2022-11-28 14:24:08 2022-11-28 13:49:23 2022-11-28\n",
       "3  2022-11-29 08:08:12 2022-11-29 10:56:57 2022-11-29 08:08:12 2022-11-29\n",
       "7  2022-11-29 10:26:46 2022-11-29 12:08:02 2022-11-29 10:26:46 2022-11-29\n",
       "15 2022-11-29 12:02:05 2022-11-29 13:36:28 2022-11-29 12:02:05 2022-11-29\n",
       "20 2022-11-30 14:18:35 2022-12-01 12:54:43 2022-11-30 14:18:35 2022-11-30"
      ]
     },
     "execution_count": 30,
     "metadata": {},
     "output_type": "execute_result"
    }
   ],
   "source": [
    "dates_check = df[df['latest_reply'].isna()==False][['ts','latest_reply','thread_ts','file_date']] # создали рабочий датафрейм для изучения дат и времени последних ответов\n",
    "dates_check.head()"
   ]
  },
  {
   "cell_type": "code",
   "execution_count": 31,
   "id": "09be1344",
   "metadata": {
    "colab": {
     "base_uri": "https://localhost:8080/",
     "height": 206
    },
    "id": "09be1344",
    "outputId": "ed3c0322-8f94-4926-a4c6-a6a4a10bf093"
   },
   "outputs": [
    {
     "data": {
      "text/html": [
       "<div>\n",
       "<style scoped>\n",
       "    .dataframe tbody tr th:only-of-type {\n",
       "        vertical-align: middle;\n",
       "    }\n",
       "\n",
       "    .dataframe tbody tr th {\n",
       "        vertical-align: top;\n",
       "    }\n",
       "\n",
       "    .dataframe thead th {\n",
       "        text-align: right;\n",
       "    }\n",
       "</style>\n",
       "<table border=\"1\" class=\"dataframe\">\n",
       "  <thead>\n",
       "    <tr style=\"text-align: right;\">\n",
       "      <th></th>\n",
       "      <th>ts</th>\n",
       "      <th>latest_reply</th>\n",
       "      <th>thread_ts</th>\n",
       "      <th>file_date</th>\n",
       "      <th>ts_latest_reply</th>\n",
       "    </tr>\n",
       "  </thead>\n",
       "  <tbody>\n",
       "    <tr>\n",
       "      <th>0</th>\n",
       "      <td>2022-11-28 13:49:23</td>\n",
       "      <td>2022-11-28 14:24:08</td>\n",
       "      <td>2022-11-28 13:49:23</td>\n",
       "      <td>2022-11-28</td>\n",
       "      <td>100</td>\n",
       "    </tr>\n",
       "    <tr>\n",
       "      <th>3</th>\n",
       "      <td>2022-11-29 08:08:12</td>\n",
       "      <td>2022-11-29 10:56:57</td>\n",
       "      <td>2022-11-29 08:08:12</td>\n",
       "      <td>2022-11-29</td>\n",
       "      <td>100</td>\n",
       "    </tr>\n",
       "    <tr>\n",
       "      <th>7</th>\n",
       "      <td>2022-11-29 10:26:46</td>\n",
       "      <td>2022-11-29 12:08:02</td>\n",
       "      <td>2022-11-29 10:26:46</td>\n",
       "      <td>2022-11-29</td>\n",
       "      <td>100</td>\n",
       "    </tr>\n",
       "    <tr>\n",
       "      <th>15</th>\n",
       "      <td>2022-11-29 12:02:05</td>\n",
       "      <td>2022-11-29 13:36:28</td>\n",
       "      <td>2022-11-29 12:02:05</td>\n",
       "      <td>2022-11-29</td>\n",
       "      <td>100</td>\n",
       "    </tr>\n",
       "    <tr>\n",
       "      <th>20</th>\n",
       "      <td>2022-11-30 14:18:35</td>\n",
       "      <td>2022-12-01 12:54:43</td>\n",
       "      <td>2022-11-30 14:18:35</td>\n",
       "      <td>2022-11-30</td>\n",
       "      <td>100</td>\n",
       "    </tr>\n",
       "  </tbody>\n",
       "</table>\n",
       "</div>"
      ],
      "text/plain": [
       "                    ts        latest_reply           thread_ts  file_date  \\\n",
       "0  2022-11-28 13:49:23 2022-11-28 14:24:08 2022-11-28 13:49:23 2022-11-28   \n",
       "3  2022-11-29 08:08:12 2022-11-29 10:56:57 2022-11-29 08:08:12 2022-11-29   \n",
       "7  2022-11-29 10:26:46 2022-11-29 12:08:02 2022-11-29 10:26:46 2022-11-29   \n",
       "15 2022-11-29 12:02:05 2022-11-29 13:36:28 2022-11-29 12:02:05 2022-11-29   \n",
       "20 2022-11-30 14:18:35 2022-12-01 12:54:43 2022-11-30 14:18:35 2022-11-30   \n",
       "\n",
       "    ts_latest_reply  \n",
       "0               100  \n",
       "3               100  \n",
       "7               100  \n",
       "15              100  \n",
       "20              100  "
      ]
     },
     "execution_count": 31,
     "metadata": {},
     "output_type": "execute_result"
    }
   ],
   "source": [
    "dates_check['ts_latest_reply'] = np.where((dates_check['latest_reply'] >= dates_check['ts']), 100, 200) # если ответ позже сообщения, будет значение 100, если наоборот - 200 \n",
    "dates_check.head()"
   ]
  },
  {
   "cell_type": "code",
   "execution_count": 32,
   "id": "874f8288",
   "metadata": {
    "colab": {
     "base_uri": "https://localhost:8080/"
    },
    "id": "874f8288",
    "outputId": "386338c8-99ef-4a1b-ff10-09de428101de"
   },
   "outputs": [
    {
     "data": {
      "text/plain": [
       "array([100])"
      ]
     },
     "execution_count": 32,
     "metadata": {},
     "output_type": "execute_result"
    }
   ],
   "source": [
    "dates_check['ts_latest_reply'].unique()"
   ]
  },
  {
   "cell_type": "markdown",
   "id": "0ea5c7e1",
   "metadata": {
    "id": "0ea5c7e1"
   },
   "source": [
    "Все ответы на сообщения были опубликованы позже самих сообщений."
   ]
  },
  {
   "cell_type": "code",
   "execution_count": 33,
   "id": "89cb6e50",
   "metadata": {
    "id": "89cb6e50"
   },
   "outputs": [],
   "source": [
    "dates_check['ts_latest_reply_diff'] = dates_check['latest_reply'] - dates_check['ts'] # создаем столбец с разницой даты и времени публикации сообщения и последнего ответа на него"
   ]
  },
  {
   "cell_type": "code",
   "execution_count": 34,
   "id": "73e23556",
   "metadata": {
    "colab": {
     "base_uri": "https://localhost:8080/"
    },
    "id": "73e23556",
    "outputId": "e3626b8b-d5c1-4d73-e449-21aaf978231d"
   },
   "outputs": [
    {
     "data": {
      "text/plain": [
       "count                         2303\n",
       "mean     4 days 02:12:43.624402952\n",
       "std      5 days 02:57:46.031596782\n",
       "min                0 days 00:00:01\n",
       "25%         0 days 04:56:50.500000\n",
       "50%                1 days 12:41:19\n",
       "75%                7 days 01:27:03\n",
       "max               43 days 15:42:40\n",
       "Name: ts_latest_reply_diff, dtype: object"
      ]
     },
     "execution_count": 34,
     "metadata": {},
     "output_type": "execute_result"
    }
   ],
   "source": [
    "dates_check['ts_latest_reply_diff'].describe()"
   ]
  },
  {
   "cell_type": "markdown",
   "id": "cc3cc995",
   "metadata": {
    "id": "cc3cc995"
   },
   "source": [
    "На первые 1.5 дня приходится 50% ответов, на первую неделю - 75% ответов.\\\n",
    "Мы видим, что встречаются последние ответы на сообщения, данные за очень короткое время. Это может объясняться тем, что при публикации сообщения пользователь тут же сам создал на него ответ - добавил дополнительную информацию к первоначальному сообщению.\\\n",
    "При дальнейшем анализе ответов на сообщения нужно отсекать очень быстрые ответы."
   ]
  },
  {
   "cell_type": "code",
   "execution_count": 35,
   "id": "525cd89d",
   "metadata": {
    "colab": {
     "base_uri": "https://localhost:8080/",
     "height": 803
    },
    "id": "525cd89d",
    "outputId": "671aa2ad-650c-458a-bc92-82e458e67ecc"
   },
   "outputs": [
    {
     "data": {
      "image/png": "[encoded data removed]",
      "text/plain": [
       "<Figure size 1800x720 with 1 Axes>"
      ]
     },
     "metadata": {
      "needs_background": "light"
     },
     "output_type": "display_data"
    }
   ],
   "source": [
    "h1 = (dates_check['ts_latest_reply_diff'].astype('timedelta64[s]') / 86400).plot.hist(bins=43, figsize=(25, 10))\n",
    "h1.set_title('Распределение количества дней между публикацией сообщения и последним ответом на сообщение',\n",
    "                 fontsize=18, fontweight=\"bold\")\n",
    "h1.set_xlabel('Количество дней', fontsize=14, fontweight=\"bold\")\n",
    "h1.set_ylabel('Количество сообщений', fontsize=14, fontweight=\"bold\")\n",
    "plt.xticks(np.arange(0, 44, 1), fontsize=14)\n",
    "plt.yticks(fontsize=14);"
   ]
  },
  {
   "cell_type": "markdown",
   "id": "3247b237",
   "metadata": {
    "id": "3247b237"
   },
   "source": [
    "Мы видим, что бОльшая часть ответов дается на сообщения в первые два дня после публикации сообщений."
   ]
  },
  {
   "cell_type": "code",
   "execution_count": 36,
   "id": "51b80b17",
   "metadata": {
    "colab": {
     "base_uri": "https://localhost:8080/",
     "height": 206
    },
    "id": "51b80b17",
    "outputId": "1630703d-fafa-4adf-d0c7-928d90b0932d"
   },
   "outputs": [
    {
     "data": {
      "text/html": [
       "<div>\n",
       "<style scoped>\n",
       "    .dataframe tbody tr th:only-of-type {\n",
       "        vertical-align: middle;\n",
       "    }\n",
       "\n",
       "    .dataframe tbody tr th {\n",
       "        vertical-align: top;\n",
       "    }\n",
       "\n",
       "    .dataframe thead th {\n",
       "        text-align: right;\n",
       "    }\n",
       "</style>\n",
       "<table border=\"1\" class=\"dataframe\">\n",
       "  <thead>\n",
       "    <tr style=\"text-align: right;\">\n",
       "      <th></th>\n",
       "      <th>ts</th>\n",
       "      <th>latest_reply</th>\n",
       "      <th>thread_ts</th>\n",
       "      <th>file_date</th>\n",
       "      <th>ts_latest_reply</th>\n",
       "      <th>ts_latest_reply_diff</th>\n",
       "      <th>ts_thread_ts</th>\n",
       "    </tr>\n",
       "  </thead>\n",
       "  <tbody>\n",
       "    <tr>\n",
       "      <th>0</th>\n",
       "      <td>2022-11-28 13:49:23</td>\n",
       "      <td>2022-11-28 14:24:08</td>\n",
       "      <td>2022-11-28 13:49:23</td>\n",
       "      <td>2022-11-28</td>\n",
       "      <td>100</td>\n",
       "      <td>0 days 00:34:45</td>\n",
       "      <td>100</td>\n",
       "    </tr>\n",
       "    <tr>\n",
       "      <th>3</th>\n",
       "      <td>2022-11-29 08:08:12</td>\n",
       "      <td>2022-11-29 10:56:57</td>\n",
       "      <td>2022-11-29 08:08:12</td>\n",
       "      <td>2022-11-29</td>\n",
       "      <td>100</td>\n",
       "      <td>0 days 02:48:45</td>\n",
       "      <td>100</td>\n",
       "    </tr>\n",
       "    <tr>\n",
       "      <th>7</th>\n",
       "      <td>2022-11-29 10:26:46</td>\n",
       "      <td>2022-11-29 12:08:02</td>\n",
       "      <td>2022-11-29 10:26:46</td>\n",
       "      <td>2022-11-29</td>\n",
       "      <td>100</td>\n",
       "      <td>0 days 01:41:16</td>\n",
       "      <td>100</td>\n",
       "    </tr>\n",
       "    <tr>\n",
       "      <th>15</th>\n",
       "      <td>2022-11-29 12:02:05</td>\n",
       "      <td>2022-11-29 13:36:28</td>\n",
       "      <td>2022-11-29 12:02:05</td>\n",
       "      <td>2022-11-29</td>\n",
       "      <td>100</td>\n",
       "      <td>0 days 01:34:23</td>\n",
       "      <td>100</td>\n",
       "    </tr>\n",
       "    <tr>\n",
       "      <th>20</th>\n",
       "      <td>2022-11-30 14:18:35</td>\n",
       "      <td>2022-12-01 12:54:43</td>\n",
       "      <td>2022-11-30 14:18:35</td>\n",
       "      <td>2022-11-30</td>\n",
       "      <td>100</td>\n",
       "      <td>0 days 22:36:08</td>\n",
       "      <td>100</td>\n",
       "    </tr>\n",
       "  </tbody>\n",
       "</table>\n",
       "</div>"
      ],
      "text/plain": [
       "                    ts        latest_reply           thread_ts  file_date  \\\n",
       "0  2022-11-28 13:49:23 2022-11-28 14:24:08 2022-11-28 13:49:23 2022-11-28   \n",
       "3  2022-11-29 08:08:12 2022-11-29 10:56:57 2022-11-29 08:08:12 2022-11-29   \n",
       "7  2022-11-29 10:26:46 2022-11-29 12:08:02 2022-11-29 10:26:46 2022-11-29   \n",
       "15 2022-11-29 12:02:05 2022-11-29 13:36:28 2022-11-29 12:02:05 2022-11-29   \n",
       "20 2022-11-30 14:18:35 2022-12-01 12:54:43 2022-11-30 14:18:35 2022-11-30   \n",
       "\n",
       "    ts_latest_reply ts_latest_reply_diff  ts_thread_ts  \n",
       "0               100      0 days 00:34:45           100  \n",
       "3               100      0 days 02:48:45           100  \n",
       "7               100      0 days 01:41:16           100  \n",
       "15              100      0 days 01:34:23           100  \n",
       "20              100      0 days 22:36:08           100  "
      ]
     },
     "execution_count": 36,
     "metadata": {},
     "output_type": "execute_result"
    }
   ],
   "source": [
    "dates_check['ts_thread_ts'] = np.where((dates_check['ts'] >= dates_check['thread_ts']), 100, 200) # если дата треда позже сообщения, будет значение 100, если наоборот - 200 \n",
    "dates_check.head()"
   ]
  },
  {
   "cell_type": "code",
   "execution_count": 37,
   "id": "03239402",
   "metadata": {
    "colab": {
     "base_uri": "https://localhost:8080/"
    },
    "id": "03239402",
    "outputId": "38caa901-4d64-4c45-c97d-9bbe2e08d797"
   },
   "outputs": [
    {
     "data": {
      "text/plain": [
       "array([100])"
      ]
     },
     "execution_count": 37,
     "metadata": {},
     "output_type": "execute_result"
    }
   ],
   "source": [
    "dates_check['ts_latest_reply'].unique()"
   ]
  },
  {
   "cell_type": "markdown",
   "id": "340255b6",
   "metadata": {
    "id": "340255b6"
   },
   "source": [
    "Все сообщения были опубликованы позже создания тредов."
   ]
  },
  {
   "cell_type": "code",
   "execution_count": 38,
   "id": "03901fb3",
   "metadata": {
    "colab": {
     "base_uri": "https://localhost:8080/",
     "height": 206
    },
    "id": "03901fb3",
    "outputId": "15b7a7bd-4c29-4134-dc81-fe84562028c1"
   },
   "outputs": [
    {
     "data": {
      "text/html": [
       "<div>\n",
       "<style scoped>\n",
       "    .dataframe tbody tr th:only-of-type {\n",
       "        vertical-align: middle;\n",
       "    }\n",
       "\n",
       "    .dataframe tbody tr th {\n",
       "        vertical-align: top;\n",
       "    }\n",
       "\n",
       "    .dataframe thead th {\n",
       "        text-align: right;\n",
       "    }\n",
       "</style>\n",
       "<table border=\"1\" class=\"dataframe\">\n",
       "  <thead>\n",
       "    <tr style=\"text-align: right;\">\n",
       "      <th></th>\n",
       "      <th>ts</th>\n",
       "      <th>latest_reply</th>\n",
       "      <th>thread_ts</th>\n",
       "      <th>file_date</th>\n",
       "      <th>ts_latest_reply</th>\n",
       "      <th>ts_latest_reply_diff</th>\n",
       "      <th>ts_thread_ts</th>\n",
       "      <th>ts_f_d</th>\n",
       "    </tr>\n",
       "  </thead>\n",
       "  <tbody>\n",
       "    <tr>\n",
       "      <th>0</th>\n",
       "      <td>2022-11-28 13:49:23</td>\n",
       "      <td>2022-11-28 14:24:08</td>\n",
       "      <td>2022-11-28 13:49:23</td>\n",
       "      <td>2022-11-28</td>\n",
       "      <td>100</td>\n",
       "      <td>0 days 00:34:45</td>\n",
       "      <td>100</td>\n",
       "      <td>100</td>\n",
       "    </tr>\n",
       "    <tr>\n",
       "      <th>3</th>\n",
       "      <td>2022-11-29 08:08:12</td>\n",
       "      <td>2022-11-29 10:56:57</td>\n",
       "      <td>2022-11-29 08:08:12</td>\n",
       "      <td>2022-11-29</td>\n",
       "      <td>100</td>\n",
       "      <td>0 days 02:48:45</td>\n",
       "      <td>100</td>\n",
       "      <td>100</td>\n",
       "    </tr>\n",
       "    <tr>\n",
       "      <th>7</th>\n",
       "      <td>2022-11-29 10:26:46</td>\n",
       "      <td>2022-11-29 12:08:02</td>\n",
       "      <td>2022-11-29 10:26:46</td>\n",
       "      <td>2022-11-29</td>\n",
       "      <td>100</td>\n",
       "      <td>0 days 01:41:16</td>\n",
       "      <td>100</td>\n",
       "      <td>100</td>\n",
       "    </tr>\n",
       "    <tr>\n",
       "      <th>15</th>\n",
       "      <td>2022-11-29 12:02:05</td>\n",
       "      <td>2022-11-29 13:36:28</td>\n",
       "      <td>2022-11-29 12:02:05</td>\n",
       "      <td>2022-11-29</td>\n",
       "      <td>100</td>\n",
       "      <td>0 days 01:34:23</td>\n",
       "      <td>100</td>\n",
       "      <td>100</td>\n",
       "    </tr>\n",
       "    <tr>\n",
       "      <th>20</th>\n",
       "      <td>2022-11-30 14:18:35</td>\n",
       "      <td>2022-12-01 12:54:43</td>\n",
       "      <td>2022-11-30 14:18:35</td>\n",
       "      <td>2022-11-30</td>\n",
       "      <td>100</td>\n",
       "      <td>0 days 22:36:08</td>\n",
       "      <td>100</td>\n",
       "      <td>100</td>\n",
       "    </tr>\n",
       "  </tbody>\n",
       "</table>\n",
       "</div>"
      ],
      "text/plain": [
       "                    ts        latest_reply           thread_ts  file_date  \\\n",
       "0  2022-11-28 13:49:23 2022-11-28 14:24:08 2022-11-28 13:49:23 2022-11-28   \n",
       "3  2022-11-29 08:08:12 2022-11-29 10:56:57 2022-11-29 08:08:12 2022-11-29   \n",
       "7  2022-11-29 10:26:46 2022-11-29 12:08:02 2022-11-29 10:26:46 2022-11-29   \n",
       "15 2022-11-29 12:02:05 2022-11-29 13:36:28 2022-11-29 12:02:05 2022-11-29   \n",
       "20 2022-11-30 14:18:35 2022-12-01 12:54:43 2022-11-30 14:18:35 2022-11-30   \n",
       "\n",
       "    ts_latest_reply ts_latest_reply_diff  ts_thread_ts  ts_f_d  \n",
       "0               100      0 days 00:34:45           100     100  \n",
       "3               100      0 days 02:48:45           100     100  \n",
       "7               100      0 days 01:41:16           100     100  \n",
       "15              100      0 days 01:34:23           100     100  \n",
       "20              100      0 days 22:36:08           100     100  "
      ]
     },
     "execution_count": 38,
     "metadata": {},
     "output_type": "execute_result"
    }
   ],
   "source": [
    "dates_check['ts_f_d'] = np.where((dates_check['ts'] >= dates_check['file_date']), 100, 200) # если дата треда позже сообщения, будет значение 100, если наоборот - 200 \n",
    "dates_check.head()"
   ]
  },
  {
   "cell_type": "code",
   "execution_count": 39,
   "id": "25b43796",
   "metadata": {
    "colab": {
     "base_uri": "https://localhost:8080/"
    },
    "id": "25b43796",
    "outputId": "3300d431-d96b-4113-dbec-aa693691f87e"
   },
   "outputs": [
    {
     "data": {
      "text/plain": [
       "array([100])"
      ]
     },
     "execution_count": 39,
     "metadata": {},
     "output_type": "execute_result"
    }
   ],
   "source": [
    "dates_check['ts_latest_reply'].unique()"
   ]
  },
  {
   "cell_type": "markdown",
   "id": "1f8b6806",
   "metadata": {
    "id": "1f8b6806"
   },
   "source": [
    "Все даты файлов не ранее даты сообщений."
   ]
  },
  {
   "cell_type": "code",
   "execution_count": 40,
   "id": "1af1509b",
   "metadata": {},
   "outputs": [
    {
     "data": {
      "text/html": [
       "<div>\n",
       "<style scoped>\n",
       "    .dataframe tbody tr th:only-of-type {\n",
       "        vertical-align: middle;\n",
       "    }\n",
       "\n",
       "    .dataframe tbody tr th {\n",
       "        vertical-align: top;\n",
       "    }\n",
       "\n",
       "    .dataframe thead th {\n",
       "        text-align: right;\n",
       "    }\n",
       "</style>\n",
       "<table border=\"1\" class=\"dataframe\">\n",
       "  <thead>\n",
       "    <tr style=\"text-align: right;\">\n",
       "      <th></th>\n",
       "      <th>client_msg_id</th>\n",
       "      <th>user</th>\n",
       "      <th>ts</th>\n",
       "      <th>latest_reply</th>\n",
       "      <th>team</th>\n",
       "      <th>thread_ts</th>\n",
       "      <th>subtype</th>\n",
       "      <th>channel</th>\n",
       "      <th>file_date</th>\n",
       "      <th>attachments</th>\n",
       "      <th>reactions</th>\n",
       "      <th>text_len</th>\n",
       "      <th>text_words</th>\n",
       "    </tr>\n",
       "  </thead>\n",
       "  <tbody>\n",
       "    <tr>\n",
       "      <th>197</th>\n",
       "      <td>NaN</td>\n",
       "      <td>U01QMDLG9AP</td>\n",
       "      <td>2022-12-13 14:06:04</td>\n",
       "      <td>2022-12-13 14:19:01</td>\n",
       "      <td>TPV9DP0N4</td>\n",
       "      <td>2022-12-13 14:06:04</td>\n",
       "      <td>NaN</td>\n",
       "      <td>data_edteam_info</td>\n",
       "      <td>2022-12-13</td>\n",
       "      <td>1</td>\n",
       "      <td>NaN</td>\n",
       "      <td>208</td>\n",
       "      <td>30</td>\n",
       "    </tr>\n",
       "    <tr>\n",
       "      <th>567</th>\n",
       "      <td>ee9d32ed-aa7e-43ad-822b-7352c84bae21</td>\n",
       "      <td>USWMKAJHW</td>\n",
       "      <td>2022-11-28 12:34:02</td>\n",
       "      <td>NaT</td>\n",
       "      <td>TPV9DP0N4</td>\n",
       "      <td>2022-11-28 07:00:57</td>\n",
       "      <td>NaN</td>\n",
       "      <td>da_53_exerciser_1</td>\n",
       "      <td>2022-11-28</td>\n",
       "      <td>1</td>\n",
       "      <td>NaN</td>\n",
       "      <td>156</td>\n",
       "      <td>10</td>\n",
       "    </tr>\n",
       "    <tr>\n",
       "      <th>610</th>\n",
       "      <td>b810ed66-92bd-43c3-b8bb-ffca4b3e9b2a</td>\n",
       "      <td>USWMKAJHW</td>\n",
       "      <td>2022-12-07 04:52:17</td>\n",
       "      <td>NaT</td>\n",
       "      <td>TPV9DP0N4</td>\n",
       "      <td>2022-11-28 07:00:59</td>\n",
       "      <td>NaN</td>\n",
       "      <td>da_53_exerciser_1</td>\n",
       "      <td>2022-12-06</td>\n",
       "      <td>2</td>\n",
       "      <td>[{'name': 'heavy_check_mark', 'users': ['U034A...</td>\n",
       "      <td>1197</td>\n",
       "      <td>139</td>\n",
       "    </tr>\n",
       "  </tbody>\n",
       "</table>\n",
       "</div>"
      ],
      "text/plain": [
       "                            client_msg_id         user                  ts  \\\n",
       "197                                   NaN  U01QMDLG9AP 2022-12-13 14:06:04   \n",
       "567  ee9d32ed-aa7e-43ad-822b-7352c84bae21    USWMKAJHW 2022-11-28 12:34:02   \n",
       "610  b810ed66-92bd-43c3-b8bb-ffca4b3e9b2a    USWMKAJHW 2022-12-07 04:52:17   \n",
       "\n",
       "           latest_reply       team           thread_ts subtype  \\\n",
       "197 2022-12-13 14:19:01  TPV9DP0N4 2022-12-13 14:06:04     NaN   \n",
       "567                 NaT  TPV9DP0N4 2022-11-28 07:00:57     NaN   \n",
       "610                 NaT  TPV9DP0N4 2022-11-28 07:00:59     NaN   \n",
       "\n",
       "               channel  file_date  attachments  \\\n",
       "197   data_edteam_info 2022-12-13            1   \n",
       "567  da_53_exerciser_1 2022-11-28            1   \n",
       "610  da_53_exerciser_1 2022-12-06            2   \n",
       "\n",
       "                                             reactions  text_len  text_words  \n",
       "197                                                NaN       208          30  \n",
       "567                                                NaN       156          10  \n",
       "610  [{'name': 'heavy_check_mark', 'users': ['U034A...      1197         139  "
      ]
     },
     "execution_count": 40,
     "metadata": {},
     "output_type": "execute_result"
    }
   ],
   "source": [
    "df.query('attachments > 0').head(3)"
   ]
  },
  {
   "cell_type": "markdown",
   "id": "87c1bade",
   "metadata": {
    "id": "87c1bade"
   },
   "source": [
    " - **Изучение данных в столбцах, содержащих информацию о размерах сообщений:\\\n",
    " text_len,\\\n",
    " text_words**"
   ]
  },
  {
   "cell_type": "code",
   "execution_count": 41,
   "id": "75370990",
   "metadata": {
    "colab": {
     "base_uri": "https://localhost:8080/"
    },
    "id": "75370990",
    "outputId": "cdfed65d-e443-4de2-cee7-00d10e98c155"
   },
   "outputs": [
    {
     "data": {
      "text/plain": [
       "count    26533.000000\n",
       "mean       155.156484\n",
       "std        242.823825\n",
       "min          0.000000\n",
       "25%         37.000000\n",
       "50%         80.000000\n",
       "75%        178.000000\n",
       "max      10933.000000\n",
       "Name: text_len, dtype: float64"
      ]
     },
     "execution_count": 41,
     "metadata": {},
     "output_type": "execute_result"
    }
   ],
   "source": [
    "df['text_len'].describe()"
   ]
  },
  {
   "cell_type": "code",
   "execution_count": 42,
   "id": "7dbae547",
   "metadata": {
    "colab": {
     "base_uri": "https://localhost:8080/",
     "height": 800
    },
    "id": "7dbae547",
    "outputId": "e411b775-0528-47fd-d7ad-3f2c98481401"
   },
   "outputs": [
    {
     "data": {
      "image/png": "[encoded data removed]",
      "text/plain": [
       "<Figure size 1800x720 with 1 Axes>"
      ]
     },
     "metadata": {
      "needs_background": "light"
     },
     "output_type": "display_data"
    }
   ],
   "source": [
    "h2 = df['text_len'].hist(bins=100, figsize=(25, 10)) # гистограмма по длинам всех сообщений\n",
    "h2.set_title('Распределение длин текста сообщений', fontsize=18, fontweight=\"bold\")\n",
    "h2.set_xlabel('Длина сообщений', fontsize=14, fontweight=\"bold\")\n",
    "h2.set_ylabel('Количество сообщений', fontsize=14, fontweight=\"bold\")\n",
    "plt.xticks(np.arange(0, 11000, 500));"
   ]
  },
  {
   "cell_type": "markdown",
   "id": "628f393f",
   "metadata": {
    "id": "628f393f"
   },
   "source": [
    "Мы видим, что весьма незначительное количество сообщений являются аномально длинными, то есть имеют длину в несколько тысяч символов. Это может объясняться тем, что некоторые сообщения являются длинными объявлениями, например, от кураторов когорт.\\\n",
    "При дальнейшем анализе при необходимости нужно отсекать аномально длинные сообщения.\n",
    "\n",
    "Для большей наглядности распределения длин сообщений мы построили гистограмму с ограничением количества символов до 1000."
   ]
  },
  {
   "cell_type": "code",
   "execution_count": 43,
   "id": "d942d8ca",
   "metadata": {
    "colab": {
     "base_uri": "https://localhost:8080/",
     "height": 786
    },
    "id": "d942d8ca",
    "outputId": "861cfd77-4547-408d-d152-f147efc39aa7"
   },
   "outputs": [
    {
     "data": {
      "image/png": "[encoded data removed]",
      "text/plain": [
       "<Figure size 1800x720 with 1 Axes>"
      ]
     },
     "metadata": {
      "needs_background": "light"
     },
     "output_type": "display_data"
    }
   ],
   "source": [
    "h3 = df[df['text_len']<=1000]['text_len'].hist(bins=100, figsize=(25, 10)) # Для наглядности ограничили длину сообщения до 1000 знаков\n",
    "h3.set_title('Распределение длин текста сообщений (c ограничением до 1000 символов)', fontsize=18, fontweight=\"bold\")\n",
    "h3.set_xlabel('Длина сообщений', fontsize=14, fontweight=\"bold\")\n",
    "h3.set_ylabel('Количество сообщений', fontsize=14, fontweight=\"bold\")\n",
    "plt.xticks(np.arange(0, 1000, 20));"
   ]
  },
  {
   "cell_type": "markdown",
   "id": "db60fdb5",
   "metadata": {
    "id": "db60fdb5"
   },
   "source": [
    "Мы видим, что наиболее распространенная величина сообщений - около 40 символов.\\\n",
    "50% сообщений имеют длину в 80 символов, 75% сообщений имеют длину 178 символов."
   ]
  },
  {
   "cell_type": "markdown",
   "id": "QkKzTQME0jmA",
   "metadata": {
    "id": "QkKzTQME0jmA"
   },
   "source": []
  },
  {
   "cell_type": "code",
   "execution_count": 44,
   "id": "3db4e0a2",
   "metadata": {
    "colab": {
     "base_uri": "https://localhost:8080/"
    },
    "id": "3db4e0a2",
    "outputId": "f68e6143-289d-4808-8acc-33a001331600"
   },
   "outputs": [
    {
     "data": {
      "text/plain": [
       "count    26533.000000\n",
       "mean        20.740813\n",
       "std         30.822556\n",
       "min          0.000000\n",
       "25%          5.000000\n",
       "50%         11.000000\n",
       "75%         24.000000\n",
       "max        989.000000\n",
       "Name: text_words, dtype: float64"
      ]
     },
     "execution_count": 44,
     "metadata": {},
     "output_type": "execute_result"
    }
   ],
   "source": [
    "df['text_words'].describe()"
   ]
  },
  {
   "cell_type": "code",
   "execution_count": 45,
   "id": "f1239667",
   "metadata": {
    "colab": {
     "base_uri": "https://localhost:8080/",
     "height": 800
    },
    "id": "f1239667",
    "outputId": "c20d9e96-0220-4d14-b139-162c54739ea8"
   },
   "outputs": [
    {
     "data": {
      "image/png": "[encoded data removed]",
      "text/plain": [
       "<Figure size 1800x720 with 1 Axes>"
      ]
     },
     "metadata": {
      "needs_background": "light"
     },
     "output_type": "display_data"
    }
   ],
   "source": [
    "h4 = df['text_words'].hist(bins=100, figsize=(25, 10)) # гистограмма по количеству слов всех сообщений\n",
    "h4.set_title('Распределение размеров сообщений по количеству слов', fontsize=18, fontweight=\"bold\")\n",
    "h4.set_xlabel('Количество слов', fontsize=14, fontweight=\"bold\")\n",
    "h4.set_ylabel('Количество сообщений', fontsize=14, fontweight=\"bold\")\n",
    "plt.xticks(np.arange(0, 1000, 20));"
   ]
  },
  {
   "cell_type": "markdown",
   "id": "64fa39b1",
   "metadata": {
    "id": "64fa39b1"
   },
   "source": [
    "Мы видим, что весьма незначительное количество сообщений являются аномально большими, то есть имеют количество слов более 100. Это также, каки и аномально большое количество символов в сообщениях, может объясняться тем, что некоторые сообщения являются длинными объявлениями, например, от кураторов когорт.\\\n",
    "При дальнейшем анализе при необходимости нужно отсекать аномально большие сообщения.\n",
    "\n",
    "Для большей наглядности распределения размеров сообщений мы построили гистограмму с ограничением количества слов до 100."
   ]
  },
  {
   "cell_type": "code",
   "execution_count": 46,
   "id": "68510bda",
   "metadata": {
    "colab": {
     "base_uri": "https://localhost:8080/",
     "height": 786
    },
    "id": "68510bda",
    "outputId": "53277ccd-3dc4-4522-9a2e-937b23c3c336"
   },
   "outputs": [
    {
     "data": {
      "image/png": "[encoded data removed]",
      "text/plain": [
       "<Figure size 1800x720 with 1 Axes>"
      ]
     },
     "metadata": {
      "needs_background": "light"
     },
     "output_type": "display_data"
    }
   ],
   "source": [
    "h5 = df[df['text_words']<=100]['text_words'].hist(bins=100, figsize=(25, 10)) # Для наглядности ограничили количество слов в сообщениях до 100\n",
    "h5.set_title('Распределение размеров сообщений по количеству слов (c ограничением до 100 слов)', fontsize=18, fontweight=\"bold\")\n",
    "h5.set_xlabel('Количество слов', fontsize=14, fontweight=\"bold\")\n",
    "h5.set_ylabel('Количество сообщений', fontsize=14, fontweight=\"bold\")\n",
    "plt.xticks(np.arange(0, 100, 5));"
   ]
  },
  {
   "cell_type": "markdown",
   "id": "fd74c050",
   "metadata": {
    "id": "fd74c050"
   },
   "source": [
    "Мы видим, что наиболее распространенный размер сообщений - 6 слов.\\\n",
    "50% сообщений имеют 6 слов, 75% сообщений имеют 24 слова."
   ]
  },
  {
   "cell_type": "markdown",
   "id": "c421c163",
   "metadata": {
    "id": "c421c163"
   },
   "source": [
    " <a id=\"third_6\"></a> \n",
    "### Добавление новых столбцов - распределение данных по категориям"
   ]
  },
  {
   "cell_type": "markdown",
   "id": "a9bea273",
   "metadata": {
    "id": "a9bea273"
   },
   "source": [
    "В целях проведения исследования мы добавили следующие столбцы:"
   ]
  },
  {
   "cell_type": "markdown",
   "id": "d6b359a5",
   "metadata": {
    "id": "d6b359a5"
   },
   "source": [
    " - **course - основное направление канала в мессенджере**:"
   ]
  },
  {
   "cell_type": "markdown",
   "id": "9b03a7b5",
   "metadata": {
    "id": "9b03a7b5"
   },
   "source": [
    "При просмотре уникальных значений каналов в разделе 3.4.3 проекта мы заметили, что наименования каналов начинаются с обозначения курса обучения, что мы принимаем как основное направление канала."
   ]
  },
  {
   "cell_type": "code",
   "execution_count": 47,
   "id": "e392615f",
   "metadata": {
    "id": "e392615f"
   },
   "outputs": [],
   "source": [
    "df['course'] = df['channel']"
   ]
  },
  {
   "cell_type": "code",
   "execution_count": 48,
   "id": "395ac2ff",
   "metadata": {
    "id": "395ac2ff"
   },
   "outputs": [],
   "source": [
    "pd.set_option('mode.chained_assignment', None)"
   ]
  },
  {
   "cell_type": "code",
   "execution_count": 49,
   "id": "807b95c5",
   "metadata": {
    "id": "807b95c5"
   },
   "outputs": [],
   "source": [
    "def cutter_1(a):\n",
    "    for i in range(len(a)):\n",
    "        a[i] = a[i].partition('_')[0]\n",
    "    \n",
    "cutter_1(df['course'])"
   ]
  },
  {
   "cell_type": "code",
   "execution_count": 50,
   "id": "f21957a5",
   "metadata": {
    "colab": {
     "base_uri": "https://localhost:8080/"
    },
    "id": "f21957a5",
    "outputId": "46fa7f53-218a-40c8-bfc9-3d459a6b62ef"
   },
   "outputs": [
    {
     "data": {
      "text/plain": [
       "array(['data-analysts-bus', 'datatracker', 'data', 'da', 'de-pro1',\n",
       "       'de-pro2', 'de-pro3', 'de-pro4', 'de-project', 'design', 'de',\n",
       "       'dl', 'donorsearch', 'ds', 'masterskaya', 'sql'], dtype=object)"
      ]
     },
     "execution_count": 50,
     "metadata": {},
     "output_type": "execute_result"
    }
   ],
   "source": [
    "df['course'].unique()"
   ]
  },
  {
   "cell_type": "markdown",
   "id": "4ffb84ac",
   "metadata": {
    "id": "4ffb84ac"
   },
   "source": [
    "Мы добавили столбец course, в котором содержатся наименования направлений обучения, которые соответствуют основным направлениям каналов."
   ]
  },
  {
   "cell_type": "markdown",
   "id": "44bab845",
   "metadata": {
    "id": "44bab845"
   },
   "source": [
    " - **theme - тематика сообщений в каналах**:"
   ]
  },
  {
   "cell_type": "markdown",
   "id": "6f7787af",
   "metadata": {
    "id": "6f7787af"
   },
   "source": [
    "При просмотре уникальных значений каналов в разделе 3.4.3 проекта мы также заметили, что наименования каналов содержат общие тематики для большинства курсов, которые мы выделили в столбце theme."
   ]
  },
  {
   "cell_type": "code",
   "execution_count": 51,
   "id": "9ac6c478",
   "metadata": {
    "id": "9ac6c478"
   },
   "outputs": [],
   "source": [
    "df['theme'] = df['channel']"
   ]
  },
  {
   "cell_type": "code",
   "execution_count": 52,
   "id": "f168f7a1",
   "metadata": {
    "id": "f168f7a1"
   },
   "outputs": [],
   "source": [
    "def cutter_3(a):\n",
    "    for i in range(len(a)):\n",
    "        if a[i].__contains__('library'):\n",
    "            a[i] = 'library'\n",
    "        else:\n",
    "            if a[i].__contains__('projects'):\n",
    "                a[i] = 'projects'\n",
    "            else: \n",
    "                if a[i].__contains__('exerciser'):\n",
    "                    a[i] = 'exerciser'\n",
    "                else:\n",
    "                    if a[i].__contains__('teamwork'):\n",
    "                        a[i] = 'teamwork'\n",
    "                    else:\n",
    "                        if a[i].__contains__('info'):\n",
    "                            a[i] = 'info'\n",
    "                        else:\n",
    "                            a[i] = 'other'"
   ]
  },
  {
   "cell_type": "code",
   "execution_count": 53,
   "id": "0e34e856",
   "metadata": {
    "colab": {
     "base_uri": "https://localhost:8080/"
    },
    "id": "0e34e856",
    "outputId": "7a4ff99e-aeee-48b6-ec5f-b8edbea62053"
   },
   "outputs": [
    {
     "data": {
      "text/plain": [
       "array(['other', 'info', 'exerciser', 'projects', 'library', 'teamwork'],\n",
       "      dtype=object)"
      ]
     },
     "execution_count": 53,
     "metadata": {},
     "output_type": "execute_result"
    }
   ],
   "source": [
    "cutter_3(df['theme'])\n",
    "df['theme'].unique()"
   ]
  },
  {
   "cell_type": "code",
   "execution_count": 54,
   "id": "f71454d2",
   "metadata": {
    "id": "f71454d2"
   },
   "outputs": [],
   "source": [
    "oth_q =df[df['theme'] == 'other']['theme'].count()\n",
    "oth_p = oth_q/df['theme'].count()"
   ]
  },
  {
   "cell_type": "code",
   "execution_count": 55,
   "id": "4ef31c17",
   "metadata": {
    "colab": {
     "base_uri": "https://localhost:8080/"
    },
    "id": "4ef31c17",
    "outputId": "2e8e4833-b973-4195-c97d-d8e08a78367e"
   },
   "outputs": [
    {
     "name": "stdout",
     "output_type": "stream",
     "text": [
      "Количество каналов с тематикой other составляет: 3190 , или 12.0 %\n"
     ]
    }
   ],
   "source": [
    "print('Количество каналов с тематикой other составляет:', oth_q, ', или', round((oth_p)*100, 1), '%')"
   ]
  },
  {
   "cell_type": "markdown",
   "id": "4b26a62f",
   "metadata": {
    "id": "4b26a62f"
   },
   "source": [
    " - **ts_hour - час дня публикации сообщения**:"
   ]
  },
  {
   "cell_type": "code",
   "execution_count": 56,
   "id": "87a0421b",
   "metadata": {
    "colab": {
     "base_uri": "https://localhost:8080/"
    },
    "id": "87a0421b",
    "outputId": "4bb0b40e-7492-4470-993b-6d8cd539339c"
   },
   "outputs": [
    {
     "data": {
      "text/plain": [
       "array([13, 14,  8, 10, 11, 12, 18,  9, 15, 16, 17,  6,  3,  5,  7, 20, 22,\n",
       "       19, 21, 23,  2,  4,  1,  0])"
      ]
     },
     "execution_count": 56,
     "metadata": {},
     "output_type": "execute_result"
    }
   ],
   "source": [
    "df['ts_hour'] = pd.DatetimeIndex(df['ts']).hour #выделяем числовое обозначения часа дня\n",
    "df['ts_hour'].unique()"
   ]
  },
  {
   "cell_type": "markdown",
   "id": "125dbf6d",
   "metadata": {
    "id": "125dbf6d"
   },
   "source": [
    "Столбец ts_hour содержит числовое обозначение часа дня публикации сообщения от 0 до 23."
   ]
  },
  {
   "cell_type": "markdown",
   "id": "51f17f87",
   "metadata": {
    "id": "51f17f87"
   },
   "source": [
    " - **day_time - время дня публикации сообщения**:"
   ]
  },
  {
   "cell_type": "code",
   "execution_count": 57,
   "id": "26b6f8c5",
   "metadata": {
    "id": "26b6f8c5"
   },
   "outputs": [],
   "source": [
    "df['day_time'] = df['ts_hour']"
   ]
  },
  {
   "cell_type": "code",
   "execution_count": 58,
   "id": "3680df44",
   "metadata": {
    "id": "3680df44"
   },
   "outputs": [],
   "source": [
    "def cutter_4(a):\n",
    "    for i in range(len(a)):\n",
    "        if a[i] >= 6 and a[i]<10:\n",
    "            a[i] = 'утро'\n",
    "        else:\n",
    "            if a[i] >= 10 and a[i]<14:\n",
    "                a[i] = 'с утра до обеда'\n",
    "            else: \n",
    "                if a[i] >= 14 and a[i]<18:\n",
    "                    a[i] = 'с обеда до вечера'\n",
    "                else:\n",
    "                    if a[i] >= 18 and a[i]<23:\n",
    "                        a[i] = 'вечер'\n",
    "                    else:\n",
    "                        if a[i] >= 23 or a[i]<6:\n",
    "                            a[i] = 'ночь'\n",
    "                        else:\n",
    "                            a[i] = 'other'"
   ]
  },
  {
   "cell_type": "code",
   "execution_count": 59,
   "id": "1485d4db",
   "metadata": {
    "colab": {
     "base_uri": "https://localhost:8080/"
    },
    "id": "1485d4db",
    "outputId": "1b50ff63-3b09-43d2-d400-723b3c9e51ec"
   },
   "outputs": [
    {
     "data": {
      "text/plain": [
       "array(['с утра до обеда', 'с обеда до вечера', 'утро', 'вечер', 'ночь'],\n",
       "      dtype=object)"
      ]
     },
     "execution_count": 59,
     "metadata": {},
     "output_type": "execute_result"
    }
   ],
   "source": [
    "cutter_4(df['day_time'])\n",
    "df['day_time'].unique()"
   ]
  },
  {
   "cell_type": "markdown",
   "id": "95d97121",
   "metadata": {
    "id": "95d97121"
   },
   "source": [
    "Столбец day_time содержит текстовое обозначение времени дня публикации сообщения."
   ]
  },
  {
   "cell_type": "markdown",
   "id": "16b794de",
   "metadata": {
    "id": "16b794de"
   },
   "source": [
    " - **day_time - день публикации сообщения**:"
   ]
  },
  {
   "cell_type": "code",
   "execution_count": 60,
   "id": "2d75022e",
   "metadata": {
    "colab": {
     "base_uri": "https://localhost:8080/"
    },
    "id": "2d75022e",
    "outputId": "0b03ab0b-937b-4d2f-c6d2-36f4984028c7"
   },
   "outputs": [
    {
     "data": {
      "text/plain": [
       "array([28, 29, 30,  1,  2,  3,  5,  6,  7,  9, 12, 13, 14, 16,  4, 10, 11,\n",
       "       25,  8, 15, 21, 19, 27, 17, 22, 23, 26, 24, 31, 20, 18])"
      ]
     },
     "execution_count": 60,
     "metadata": {},
     "output_type": "execute_result"
    }
   ],
   "source": [
    "df['ts_day'] = pd.DatetimeIndex(df['ts']).day\n",
    "df['ts_day'].unique()"
   ]
  },
  {
   "cell_type": "markdown",
   "id": "b4716b46",
   "metadata": {
    "id": "b4716b46"
   },
   "source": [
    "Столбец ts_day содержит числовое обозначение дня публикации сообщения от 1 до 31."
   ]
  },
  {
   "cell_type": "markdown",
   "id": "0aa80fd2",
   "metadata": {
    "id": "0aa80fd2"
   },
   "source": [
    " - **ts_month - месяц публикации сообщения**:"
   ]
  },
  {
   "cell_type": "code",
   "execution_count": 61,
   "id": "389e67eb",
   "metadata": {
    "colab": {
     "base_uri": "https://localhost:8080/"
    },
    "id": "389e67eb",
    "outputId": "5fc96379-5941-4c87-89ef-05272188d8d4"
   },
   "outputs": [
    {
     "data": {
      "text/plain": [
       "array([11, 12, 10,  1,  2])"
      ]
     },
     "execution_count": 61,
     "metadata": {},
     "output_type": "execute_result"
    }
   ],
   "source": [
    "df['ts_month'] = pd.DatetimeIndex(df['ts']).month\n",
    "df['ts_month'].unique()"
   ]
  },
  {
   "cell_type": "markdown",
   "id": "54810423",
   "metadata": {
    "id": "54810423"
   },
   "source": [
    "Столбец ts_month содержит числовое обозначение месяца публикации сообщения от 10 до 2, то есть с октября по февраль."
   ]
  },
  {
   "cell_type": "markdown",
   "id": "a9938ff7",
   "metadata": {
    "id": "a9938ff7"
   },
   "source": [
    "Данные в столбце ts_month ограничены пятью месяцами, но их выделение все равно имеет значение для исследования, так как можно проанализировать активность пользователей мессенджера в государственные праздники, например, в новогодние и 23 февраля."
   ]
  },
  {
   "cell_type": "code",
   "execution_count": 62,
   "id": "2537fa0b",
   "metadata": {
    "colab": {
     "base_uri": "https://localhost:8080/"
    },
    "id": "2537fa0b",
    "outputId": "e07310fe-1850-4165-c57d-9be395177e39"
   },
   "outputs": [
    {
     "data": {
      "text/plain": [
       "ts_month\n",
       "1        14\n",
       "2        10\n",
       "10        7\n",
       "11     8180\n",
       "12    18322\n",
       "Name: ts_month, dtype: int64"
      ]
     },
     "execution_count": 62,
     "metadata": {},
     "output_type": "execute_result"
    }
   ],
   "source": [
    "ts_month_bar = df.groupby('ts_month')['ts_month'].count()\n",
    "ts_month_bar"
   ]
  },
  {
   "cell_type": "code",
   "execution_count": 63,
   "id": "c0a98446",
   "metadata": {
    "colab": {
     "base_uri": "https://localhost:8080/",
     "height": 602
    },
    "id": "c0a98446",
    "outputId": "0e4374df-99fd-4eb2-ef17-8dca9ff53ea6"
   },
   "outputs": [
    {
     "data": {
      "image/png": "[encoded data removed]",
      "text/plain": [
       "<Figure size 1800x504 with 1 Axes>"
      ]
     },
     "metadata": {
      "needs_background": "light"
     },
     "output_type": "display_data"
    }
   ],
   "source": [
    "ts_month_fig = ts_month_bar.plot(kind = 'bar', grid = True, figsize=(25, 7))\n",
    "ts_month_fig.set_ylabel('Количество сообщений', fontsize=18, fontweight=\"bold\")\n",
    "ts_month_fig.set_xlabel('Порядковый номер месяца', fontsize=18, fontweight=\"bold\")\n",
    "ts_month_fig.set_title('Распределение количества сообщений по месяцам', fontsize=18, fontweight=\"bold\")\n",
    "plt.xticks(rotation = 0);"
   ]
  },
  {
   "cell_type": "markdown",
   "id": "3bb1c098",
   "metadata": {
    "id": "3bb1c098"
   },
   "source": [
    "Мы видим, что основная часть сообщений в датасете приходится на два месяца: ноябрь и декабрь."
   ]
  },
  {
   "cell_type": "code",
   "execution_count": 64,
   "id": "015930e3",
   "metadata": {
    "colab": {
     "base_uri": "https://localhost:8080/"
    },
    "id": "015930e3",
    "outputId": "ea6ce7d8-e544-4b02-e5a0-0ae7d0e32d16"
   },
   "outputs": [
    {
     "name": "stdout",
     "output_type": "stream",
     "text": [
      "На два месяца - ноябрь и декабрь, приходится 99.88 % сообщений в датасете\n"
     ]
    }
   ],
   "source": [
    "m_c = (df[df['ts_month'] >=11]['ts_month'].count() / df['ts_month'].count() *100).round(2)\n",
    "print('На два месяца - ноябрь и декабрь, приходится', m_c, '% сообщений в датасете'  )"
   ]
  },
  {
   "cell_type": "markdown",
   "id": "84e320cb",
   "metadata": {
    "id": "84e320cb"
   },
   "source": [
    " - **total_reactions - количество реакций**:"
   ]
  },
  {
   "cell_type": "code",
   "execution_count": 65,
   "id": "57e72121",
   "metadata": {
    "id": "57e72121"
   },
   "outputs": [],
   "source": [
    "def react(reactions):\n",
    "    x = 0\n",
    "    if reactions !=0:\n",
    "        if (type(reactions)==str):\n",
    "            reactions = ast.literal_eval(reactions)\n",
    "            for item in reactions:\n",
    "                x = sum(item['count'] for item in reactions)\n",
    "        else: \n",
    "            x = 0 \n",
    "    return x"
   ]
  },
  {
   "cell_type": "code",
   "execution_count": 66,
   "id": "7856305d",
   "metadata": {
    "id": "7856305d"
   },
   "outputs": [],
   "source": [
    "df['all_reactions'] = df['reactions'].apply(react)"
   ]
  },
  {
   "cell_type": "code",
   "execution_count": 67,
   "id": "8be8a423",
   "metadata": {
    "colab": {
     "base_uri": "https://localhost:8080/"
    },
    "id": "8be8a423",
    "outputId": "559c9361-95cf-4bdc-c6e6-2a59f234fef8"
   },
   "outputs": [
    {
     "data": {
      "text/plain": [
       "<bound method Series.count of 1        1\n",
       "3        1\n",
       "7        5\n",
       "9        1\n",
       "14       1\n",
       "        ..\n",
       "26480    1\n",
       "26486    7\n",
       "26494    1\n",
       "26518    1\n",
       "26524    1\n",
       "Name: all_reactions, Length: 4169, dtype: int64>"
      ]
     },
     "execution_count": 67,
     "metadata": {},
     "output_type": "execute_result"
    }
   ],
   "source": [
    "df[df['all_reactions']>0]['all_reactions'].count"
   ]
  },
  {
   "cell_type": "code",
   "execution_count": 68,
   "id": "39b942f4",
   "metadata": {
    "colab": {
     "base_uri": "https://localhost:8080/"
    },
    "id": "39b942f4",
    "outputId": "b512255a-6894-49e3-a745-e82188b039f2"
   },
   "outputs": [
    {
     "data": {
      "text/plain": [
       "count    26533.000000\n",
       "mean         0.420608\n",
       "std          2.912863\n",
       "min          0.000000\n",
       "25%          0.000000\n",
       "50%          0.000000\n",
       "75%          0.000000\n",
       "max        180.000000\n",
       "Name: all_reactions, dtype: float64"
      ]
     },
     "execution_count": 68,
     "metadata": {},
     "output_type": "execute_result"
    }
   ],
   "source": [
    "df['all_reactions'].describe()"
   ]
  },
  {
   "cell_type": "markdown",
   "id": "35f66542",
   "metadata": {
    "id": "35f66542"
   },
   "source": [
    "Мы посчитали количество реакций на сообщения.\\\n",
    "БОльшая часть сообщений не имеет реакций."
   ]
  },
  {
   "cell_type": "code",
   "execution_count": 69,
   "id": "102197f5",
   "metadata": {
    "colab": {
     "base_uri": "https://localhost:8080/"
    },
    "id": "102197f5",
    "outputId": "68102512-bdf0-4ca3-a379-cf5747d175a3"
   },
   "outputs": [
    {
     "data": {
      "text/plain": [
       "count    4169.000000\n",
       "mean        2.676901\n",
       "std         6.926017\n",
       "min         1.000000\n",
       "25%         1.000000\n",
       "50%         1.000000\n",
       "75%         2.000000\n",
       "max       180.000000\n",
       "Name: all_reactions, dtype: float64"
      ]
     },
     "execution_count": 69,
     "metadata": {},
     "output_type": "execute_result"
    }
   ],
   "source": [
    "df[df['all_reactions'] != 0]['all_reactions'].describe()"
   ]
  },
  {
   "cell_type": "markdown",
   "id": "6a888c9b",
   "metadata": {
    "id": "6a888c9b"
   },
   "source": [
    "Среди сообщений, которые имеют реакции, бОльшая часть сообщений имеет от 1 до 2 реакций."
   ]
  },
  {
   "cell_type": "markdown",
   "id": "d6a525d5",
   "metadata": {
    "id": "d6a525d5"
   },
   "source": [
    " - **len_group - распределение сообщений по группам в зависимости от длины сообщений**:"
   ]
  },
  {
   "cell_type": "code",
   "execution_count": 70,
   "id": "b02f925f",
   "metadata": {
    "id": "b02f925f"
   },
   "outputs": [],
   "source": [
    "df['len_group'] = df['text_len']"
   ]
  },
  {
   "cell_type": "code",
   "execution_count": 71,
   "id": "c01aee08",
   "metadata": {
    "id": "c01aee08"
   },
   "outputs": [],
   "source": [
    "def cutter_5(a):\n",
    "    for i in range(len(a)):\n",
    "        if a[i] >= 0 and a[i]<100:\n",
    "            a[i] = 'от 0 до 100 символов'\n",
    "        else:\n",
    "            if a[i] >= 100 and a[i]<200:\n",
    "                a[i] = 'от 100 до 200 символов'\n",
    "            else: \n",
    "                if a[i] >= 200 and a[i]<500:\n",
    "                    a[i] = 'от 200 до 500 символов'\n",
    "                else:\n",
    "                    if a[i] >= 500 and a[i]<1000:\n",
    "                        a[i] = 'от 500 до 1000 символов'\n",
    "                    else:\n",
    "                        if a[i] >= 1000 and a[i]<=2000:\n",
    "                            a[i] = 'от 1000 до 2000 символов'\n",
    "                        else:\n",
    "                            a[i] = 'более 2000 символов'"
   ]
  },
  {
   "cell_type": "code",
   "execution_count": 72,
   "id": "13005fb6",
   "metadata": {
    "colab": {
     "base_uri": "https://localhost:8080/"
    },
    "id": "13005fb6",
    "outputId": "792ed843-ebdc-4690-974a-d20e33b40b86"
   },
   "outputs": [
    {
     "data": {
      "text/plain": [
       "array(['от 200 до 500 символов', 'от 0 до 100 символов',\n",
       "       'от 100 до 200 символов', 'от 500 до 1000 символов',\n",
       "       'от 1000 до 2000 символов', 'более 2000 символов'], dtype=object)"
      ]
     },
     "execution_count": 72,
     "metadata": {},
     "output_type": "execute_result"
    }
   ],
   "source": [
    "cutter_5(df['len_group'])\n",
    "df['len_group'].unique()"
   ]
  },
  {
   "cell_type": "markdown",
   "id": "c3cc5848",
   "metadata": {
    "id": "c3cc5848"
   },
   "source": [
    "Мы сгруппировали сообщения на группы по количеству символов, учитывая данные по распределению сообщений по длине текста в п.3.5 настоящего проекта."
   ]
  },
  {
   "cell_type": "markdown",
   "id": "8627fae5",
   "metadata": {
    "id": "8627fae5"
   },
   "source": [
    " - **words_group - распределение сообщений по группам в зависимости от количества слов в сообщениях**:"
   ]
  },
  {
   "cell_type": "code",
   "execution_count": 73,
   "id": "3acafca8",
   "metadata": {
    "id": "3acafca8"
   },
   "outputs": [],
   "source": [
    "df['words_group'] = df['text_words']"
   ]
  },
  {
   "cell_type": "code",
   "execution_count": 74,
   "id": "710cc3bc",
   "metadata": {
    "id": "710cc3bc"
   },
   "outputs": [],
   "source": [
    "def cutter_6(a):\n",
    "    for i in range(len(a)):\n",
    "        if a[i] >= 0 and a[i]<10:\n",
    "            a[i] = 'от 0 до 10 слов'\n",
    "        else:\n",
    "            if a[i] >= 10 and a[i]<20:\n",
    "                a[i] = 'от 10 до 20 слов'\n",
    "            else: \n",
    "                if a[i] >= 20 and a[i]<50:\n",
    "                    a[i] = 'от 20 до 50 слов'\n",
    "                else:\n",
    "                    if a[i] >= 50 and a[i]<100:\n",
    "                        a[i] = 'от 50 до 100 слов'\n",
    "                    else:\n",
    "                        if a[i] >= 100 and a[i]<=200:\n",
    "                            a[i] = 'от 100 до 200 слов'\n",
    "                        else:\n",
    "                            a[i] = 'более 200 символов'"
   ]
  },
  {
   "cell_type": "code",
   "execution_count": 75,
   "id": "0a6552d9",
   "metadata": {
    "colab": {
     "base_uri": "https://localhost:8080/"
    },
    "id": "0a6552d9",
    "outputId": "54cf40d1-40a4-4d40-8054-b8706da81553"
   },
   "outputs": [
    {
     "data": {
      "text/plain": [
       "array(['от 20 до 50 слов', 'от 50 до 100 слов', 'от 0 до 10 слов',\n",
       "       'от 10 до 20 слов', 'от 100 до 200 слов', 'более 200 символов'],\n",
       "      dtype=object)"
      ]
     },
     "execution_count": 75,
     "metadata": {},
     "output_type": "execute_result"
    }
   ],
   "source": [
    "cutter_6(df['words_group'])\n",
    "df['words_group'].unique()"
   ]
  },
  {
   "cell_type": "markdown",
   "id": "98be8444",
   "metadata": {
    "id": "98be8444"
   },
   "source": [
    "Мы сгруппировали сообщения на группы по количеству слов, учитывая данные по распределению сообщений по количеству слов в п.3.5 настоящего проекта."
   ]
  },
  {
   "cell_type": "markdown",
   "id": "37ebadba",
   "metadata": {
    "id": "37ebadba"
   },
   "source": [
    " <a id=\"fourth\"></a> \n",
    "## Исследовательский анализ данных"
   ]
  },
  {
   "cell_type": "markdown",
   "id": "859e0dc6",
   "metadata": {
    "id": "859e0dc6"
   },
   "source": [
    "Мы проанализировали активность обратной связи на сообщения через количество реакций на сообщения в различных разрезах тематик, периодов публикаций и длины текста сообщений."
   ]
  },
  {
   "cell_type": "markdown",
   "id": "d71d78ca",
   "metadata": {
    "id": "d71d78ca"
   },
   "source": [
    "В разделе 3.6 настоящего проекта мы установили, что 99.88% сообщений в датасете приходится на два месяца: ноябрь и декабрь.\\\n",
    "Также мы проверили, на какие месяцы приходятся реакции к сообщениям."
   ]
  },
  {
   "cell_type": "code",
   "execution_count": 76,
   "id": "6ac1b129",
   "metadata": {
    "colab": {
     "base_uri": "https://localhost:8080/"
    },
    "id": "6ac1b129",
    "outputId": "f7799733-cadf-4971-a3db-102be1001028"
   },
   "outputs": [
    {
     "data": {
      "text/plain": [
       "ts_month\n",
       "11    1178\n",
       "12    2991\n",
       "Name: reactions, dtype: int64"
      ]
     },
     "execution_count": 76,
     "metadata": {},
     "output_type": "execute_result"
    }
   ],
   "source": [
    "df_wr = df[df['reactions'].isna()==False].groupby('ts_month')['reactions'].count()\n",
    "df_wr"
   ]
  },
  {
   "cell_type": "markdown",
   "id": "d5158d95",
   "metadata": {
    "id": "d5158d95"
   },
   "source": [
    "Мы видим, что все реакции к сообщениям приходятся на два месяца - ноябрь и декабрь. Поэтому и с учетом, что 99.88% сообщений также приходятся на эти два месяца, для анализа количества реакций к сообщениям мы создали рабочий датасет df_wr_mn, который содержит данные только ноября и декабря."
   ]
  },
  {
   "cell_type": "code",
   "execution_count": 77,
   "id": "e7d8e65f",
   "metadata": {
    "colab": {
     "base_uri": "https://localhost:8080/"
    },
    "id": "e7d8e65f",
    "outputId": "bdff9c38-bf7a-4a6d-9ed1-1e145938a6a4"
   },
   "outputs": [
    {
     "data": {
      "text/plain": [
       "array([11, 12])"
      ]
     },
     "execution_count": 77,
     "metadata": {},
     "output_type": "execute_result"
    }
   ],
   "source": [
    "df_wr_mn = df[df['ts_month']>=11] # создаем рабочий датасет, который содержит данные только ноября и декабря\n",
    "df_wr_mn['ts_month'].unique()"
   ]
  },
  {
   "cell_type": "markdown",
   "id": "7f61a04c",
   "metadata": {
    "id": "7f61a04c"
   },
   "source": [
    " <a id=\"fourth_1\"></a> \n",
    "### Изучение зависимости длины сообщений и активности обратной связи на сообщения"
   ]
  },
  {
   "cell_type": "markdown",
   "id": "313b31e4",
   "metadata": {
    "id": "313b31e4"
   },
   "source": [
    "В целях изучения зависимости длины сообщений и активности обратной связи на сообщения мы сделали анализ по двум направлениям: зависимость активности обратной связи от длины текста сообщений (в символах) и зависимость активности обратной связи от количества слов в сообщении."
   ]
  },
  {
   "cell_type": "markdown",
   "id": "5a02652e",
   "metadata": {
    "id": "5a02652e"
   },
   "source": [
    "#### Изучение зависимости длины текста сообщений и активности обратной связи на сообщения"
   ]
  },
  {
   "cell_type": "code",
   "execution_count": 78,
   "id": "8fde655b",
   "metadata": {
    "colab": {
     "base_uri": "https://localhost:8080/"
    },
    "id": "8fde655b",
    "outputId": "1cabdf22-1490-4ed8-e591-0ee5e33fa7e5"
   },
   "outputs": [
    {
     "data": {
      "text/plain": [
       "0.17"
      ]
     },
     "execution_count": 78,
     "metadata": {},
     "output_type": "execute_result"
    }
   ],
   "source": [
    "df_wr_mn['all_reactions'].corr(df['text_len']).round(2) # коэффициент корреляции общего количества реакций к сообщению и длины текста сообщения"
   ]
  },
  {
   "cell_type": "code",
   "execution_count": 79,
   "id": "6da32ac5",
   "metadata": {
    "colab": {
     "base_uri": "https://localhost:8080/",
     "height": 669
    },
    "id": "6da32ac5",
    "outputId": "d6bdc3e0-cd88-442a-af20-45cecda7f137"
   },
   "outputs": [
    {
     "data": {
      "image/png": "[encoded data removed]",
      "text/plain": [
       "<Figure size 1440x504 with 1 Axes>"
      ]
     },
     "metadata": {
      "needs_background": "light"
     },
     "output_type": "display_data"
    }
   ],
   "source": [
    "fig1 = df_wr_mn.plot(x='text_len', y='all_reactions', kind='scatter', figsize=(20, 7))\n",
    "fig1.set_title('Зависимость длины текста сообщений и общего количества реакций к сообщениям', fontsize=18, fontweight=\"bold\")\n",
    "fig1.set_xlabel('Длина текста сообщений', fontsize=14, fontweight=\"bold\")\n",
    "fig1.set_ylabel('Количество реакций', fontsize=14, fontweight=\"bold\")\n",
    "plt.xticks(np.arange(0, 11000, 1000));"
   ]
  },
  {
   "cell_type": "markdown",
   "id": "430249fc",
   "metadata": {
    "id": "430249fc"
   },
   "source": [
    "Длина текста сообщений и количества реакций к сообщениям имеют довольно низкий коэффициент корреляции - 0.17, то есть они практически не зависят друг от друга.\\\n",
    "При этом диаграмма рассения показывает нам, что наибольшее количество реакций имеют сообщения с количеством символов около 1000, поэтому для проверки влияния длины сообщения на количество реакций мы далее построили сводную таблицу со средним количеством реакций для разных групп сообщений в зависимости от их длины."
   ]
  },
  {
   "cell_type": "code",
   "execution_count": 80,
   "id": "6f16b987",
   "metadata": {
    "colab": {
     "base_uri": "https://localhost:8080/",
     "height": 269
    },
    "id": "6f16b987",
    "outputId": "a003af8a-6faf-4f71-843c-048f3f3a6696"
   },
   "outputs": [
    {
     "data": {
      "text/html": [
       "<div>\n",
       "<style scoped>\n",
       "    .dataframe tbody tr th:only-of-type {\n",
       "        vertical-align: middle;\n",
       "    }\n",
       "\n",
       "    .dataframe tbody tr th {\n",
       "        vertical-align: top;\n",
       "    }\n",
       "\n",
       "    .dataframe thead th {\n",
       "        text-align: right;\n",
       "    }\n",
       "</style>\n",
       "<table border=\"1\" class=\"dataframe\">\n",
       "  <thead>\n",
       "    <tr style=\"text-align: right;\">\n",
       "      <th></th>\n",
       "      <th>all_reactions</th>\n",
       "    </tr>\n",
       "    <tr>\n",
       "      <th>len_group</th>\n",
       "      <th></th>\n",
       "    </tr>\n",
       "  </thead>\n",
       "  <tbody>\n",
       "    <tr>\n",
       "      <th>более 2000 символов</th>\n",
       "      <td>3.5</td>\n",
       "    </tr>\n",
       "    <tr>\n",
       "      <th>от 1000 до 2000 символов</th>\n",
       "      <td>3.3</td>\n",
       "    </tr>\n",
       "    <tr>\n",
       "      <th>от 500 до 1000 символов</th>\n",
       "      <td>2.3</td>\n",
       "    </tr>\n",
       "    <tr>\n",
       "      <th>от 200 до 500 символов</th>\n",
       "      <td>0.7</td>\n",
       "    </tr>\n",
       "    <tr>\n",
       "      <th>от 100 до 200 символов</th>\n",
       "      <td>0.4</td>\n",
       "    </tr>\n",
       "    <tr>\n",
       "      <th>от 0 до 100 символов</th>\n",
       "      <td>0.2</td>\n",
       "    </tr>\n",
       "  </tbody>\n",
       "</table>\n",
       "</div>"
      ],
      "text/plain": [
       "                          all_reactions\n",
       "len_group                              \n",
       "более 2000 символов                 3.5\n",
       "от 1000 до 2000 символов            3.3\n",
       "от 500 до 1000 символов             2.3\n",
       "от 200 до 500 символов              0.7\n",
       "от 100 до 200 символов              0.4\n",
       "от 0 до 100 символов                0.2"
      ]
     },
     "metadata": {},
     "output_type": "display_data"
    }
   ],
   "source": [
    "group_len_react = df_wr_mn.pivot_table(index='len_group', values=['all_reactions'], aggfunc='mean').round(1) #сводная таблица со средним количеством реакций для разных групп сообщений в зависимости от их длины\n",
    "display(group_len_react.sort_values(by='all_reactions', ascending=False))"
   ]
  },
  {
   "cell_type": "markdown",
   "id": "539688f5",
   "metadata": {
    "id": "539688f5"
   },
   "source": [
    "На основании построенной сводной мы видим интересную зависимость, что чем длиннее сообщение, тем большее количество реакций оно имеет. С учетом низкого коэффициента корреляции длины текста сообщений и количества реакций мы сделаем следующую рекомендацию:\\\n",
    " **- для повышения активности обратной связи на сообщения не стоит сокращать их длину в ущерб содержанию; длинный текст не является фактором, который снижает обратную связь на сообщение.**"
   ]
  },
  {
   "cell_type": "markdown",
   "id": "3510e0c2",
   "metadata": {
    "id": "3510e0c2"
   },
   "source": [
    "#### Изучение зависимости количества слов в сообщениях и активности обратной связи на сообщения"
   ]
  },
  {
   "cell_type": "code",
   "execution_count": 81,
   "id": "578b075f",
   "metadata": {
    "colab": {
     "base_uri": "https://localhost:8080/"
    },
    "id": "578b075f",
    "outputId": "212e44ca-99e3-4b82-8e79-be4caed96198"
   },
   "outputs": [
    {
     "data": {
      "text/plain": [
       "0.19"
      ]
     },
     "execution_count": 81,
     "metadata": {},
     "output_type": "execute_result"
    }
   ],
   "source": [
    "df_wr_mn['all_reactions'].corr(df['text_words']).round(2) # коэффициент корреляции общего количества реакций к сообщению и количества слов в сообщении"
   ]
  },
  {
   "cell_type": "code",
   "execution_count": 82,
   "id": "75fd2108",
   "metadata": {
    "colab": {
     "base_uri": "https://localhost:8080/",
     "height": 669
    },
    "id": "75fd2108",
    "outputId": "c969bf8f-e3e6-4668-90cd-6e3560357cbc"
   },
   "outputs": [
    {
     "data": {
      "image/png": "[encoded data removed]",
      "text/plain": [
       "<Figure size 1440x504 with 1 Axes>"
      ]
     },
     "metadata": {
      "needs_background": "light"
     },
     "output_type": "display_data"
    }
   ],
   "source": [
    "fig2 = df_wr_mn.plot(x='text_words', y='all_reactions', kind='scatter', figsize=(20, 7))\n",
    "fig2.set_title('Зависимость количества слов в сообщениях и общего количества реакций к сообщениям', fontsize=18, fontweight=\"bold\")\n",
    "fig2.set_xlabel('Количество слов в сообщениях', fontsize=14, fontweight=\"bold\")\n",
    "fig2.set_ylabel('Количество реакций', fontsize=14, fontweight=\"bold\")\n",
    "plt.xticks(np.arange(0, 1000, 100));"
   ]
  },
  {
   "cell_type": "code",
   "execution_count": 83,
   "id": "24a10c66",
   "metadata": {
    "colab": {
     "base_uri": "https://localhost:8080/",
     "height": 269
    },
    "id": "24a10c66",
    "outputId": "79fb13d6-fcc3-4d1a-b3d1-93d69af8155d"
   },
   "outputs": [
    {
     "data": {
      "text/html": [
       "<div>\n",
       "<style scoped>\n",
       "    .dataframe tbody tr th:only-of-type {\n",
       "        vertical-align: middle;\n",
       "    }\n",
       "\n",
       "    .dataframe tbody tr th {\n",
       "        vertical-align: top;\n",
       "    }\n",
       "\n",
       "    .dataframe thead th {\n",
       "        text-align: right;\n",
       "    }\n",
       "</style>\n",
       "<table border=\"1\" class=\"dataframe\">\n",
       "  <thead>\n",
       "    <tr style=\"text-align: right;\">\n",
       "      <th></th>\n",
       "      <th>all_reactions</th>\n",
       "    </tr>\n",
       "    <tr>\n",
       "      <th>words_group</th>\n",
       "      <th></th>\n",
       "    </tr>\n",
       "  </thead>\n",
       "  <tbody>\n",
       "    <tr>\n",
       "      <th>более 200 символов</th>\n",
       "      <td>3.8</td>\n",
       "    </tr>\n",
       "    <tr>\n",
       "      <th>от 100 до 200 слов</th>\n",
       "      <td>3.1</td>\n",
       "    </tr>\n",
       "    <tr>\n",
       "      <th>от 50 до 100 слов</th>\n",
       "      <td>1.6</td>\n",
       "    </tr>\n",
       "    <tr>\n",
       "      <th>от 20 до 50 слов</th>\n",
       "      <td>0.5</td>\n",
       "    </tr>\n",
       "    <tr>\n",
       "      <th>от 0 до 10 слов</th>\n",
       "      <td>0.2</td>\n",
       "    </tr>\n",
       "    <tr>\n",
       "      <th>от 10 до 20 слов</th>\n",
       "      <td>0.2</td>\n",
       "    </tr>\n",
       "  </tbody>\n",
       "</table>\n",
       "</div>"
      ],
      "text/plain": [
       "                    all_reactions\n",
       "words_group                      \n",
       "более 200 символов            3.8\n",
       "от 100 до 200 слов            3.1\n",
       "от 50 до 100 слов             1.6\n",
       "от 20 до 50 слов              0.5\n",
       "от 0 до 10 слов               0.2\n",
       "от 10 до 20 слов              0.2"
      ]
     },
     "metadata": {},
     "output_type": "display_data"
    }
   ],
   "source": [
    "group_words_react = df_wr_mn.pivot_table(index='words_group', values=['all_reactions'], aggfunc='mean').round(1) #сводная таблица со средним количеством реакций для разных групп сообщений в зависимости от их длины\n",
    "display(group_words_react.sort_values(by='all_reactions', ascending=False))"
   ]
  },
  {
   "cell_type": "markdown",
   "id": "71288493",
   "metadata": {
    "id": "71288493"
   },
   "source": [
    "На основании построенной сводной мы видим интересную зависимость, что чем больше слов в сообщении, тем большее количество реакций оно имеет. С учетом низкого коэффициента корреляции количества слов в сообщениях и количества реакций мы сделаем следующую рекомендацию:\\\n",
    " **- для повышения активности обратной связи на сообщения не стоит сокращать количество слов в сообщениях в ущерб содержанию; длинный текст не является фактором, который снижает обратную связь на сообщение.**"
   ]
  },
  {
   "cell_type": "markdown",
   "id": "0bfab48c",
   "metadata": {
    "id": "0bfab48c"
   },
   "source": [
    "Рекомендации сделанные на основа анализа зависимости длины сообщения и количества реакций и зависимости количества слов в сообщении и количества реакций ожидаемо одинаковые."
   ]
  },
  {
   "cell_type": "markdown",
   "id": "ca944183",
   "metadata": {
    "id": "ca944183"
   },
   "source": [
    " <a id=\"fourth_2\"></a> \n",
    "### Изучение зависимости времени дня публикации сообщения и активности обратной связи на сообщения"
   ]
  },
  {
   "cell_type": "code",
   "execution_count": 84,
   "id": "9a7b63d7",
   "metadata": {},
   "outputs": [],
   "source": [
    "group_day_time = df_wr_mn.pivot_table(index='day_time', values=['all_reactions'], aggfunc='sum') #сводная таблица с общим количеством реакций для разных направлений обучения"
   ]
  },
  {
   "cell_type": "code",
   "execution_count": 85,
   "id": "2bbb0f30",
   "metadata": {},
   "outputs": [],
   "source": [
    "group_day_time = group_day_time.reindex(['утро','с утра до обеда','с обеда до вечера','вечер','ночь'])"
   ]
  },
  {
   "cell_type": "code",
   "execution_count": 86,
   "id": "0e6acc98",
   "metadata": {},
   "outputs": [
    {
     "data": {
      "text/html": [
       "<div>\n",
       "<style scoped>\n",
       "    .dataframe tbody tr th:only-of-type {\n",
       "        vertical-align: middle;\n",
       "    }\n",
       "\n",
       "    .dataframe tbody tr th {\n",
       "        vertical-align: top;\n",
       "    }\n",
       "\n",
       "    .dataframe thead th {\n",
       "        text-align: right;\n",
       "    }\n",
       "</style>\n",
       "<table border=\"1\" class=\"dataframe\">\n",
       "  <thead>\n",
       "    <tr style=\"text-align: right;\">\n",
       "      <th></th>\n",
       "      <th>Общее количество реакций</th>\n",
       "    </tr>\n",
       "    <tr>\n",
       "      <th>day_time</th>\n",
       "      <th></th>\n",
       "    </tr>\n",
       "  </thead>\n",
       "  <tbody>\n",
       "    <tr>\n",
       "      <th>утро</th>\n",
       "      <td>3416</td>\n",
       "    </tr>\n",
       "    <tr>\n",
       "      <th>с утра до обеда</th>\n",
       "      <td>3630</td>\n",
       "    </tr>\n",
       "    <tr>\n",
       "      <th>с обеда до вечера</th>\n",
       "      <td>2547</td>\n",
       "    </tr>\n",
       "    <tr>\n",
       "      <th>вечер</th>\n",
       "      <td>1191</td>\n",
       "    </tr>\n",
       "    <tr>\n",
       "      <th>ночь</th>\n",
       "      <td>376</td>\n",
       "    </tr>\n",
       "  </tbody>\n",
       "</table>\n",
       "</div>"
      ],
      "text/plain": [
       "                   Общее количество реакций\n",
       "day_time                                   \n",
       "утро                                   3416\n",
       "с утра до обеда                        3630\n",
       "с обеда до вечера                      2547\n",
       "вечер                                  1191\n",
       "ночь                                    376"
      ]
     },
     "execution_count": 86,
     "metadata": {},
     "output_type": "execute_result"
    }
   ],
   "source": [
    "group_day_time.columns = ['Общее количество реакций']\n",
    "group_day_time"
   ]
  },
  {
   "cell_type": "code",
   "execution_count": 87,
   "id": "d70f1489",
   "metadata": {},
   "outputs": [],
   "source": [
    "group_day_time_mes = df_wr_mn.pivot_table(index='day_time', values=['ts'], aggfunc='count')"
   ]
  },
  {
   "cell_type": "code",
   "execution_count": 88,
   "id": "4c93415d",
   "metadata": {},
   "outputs": [],
   "source": [
    "group_day_time_mes = group_day_time_mes.reindex(['утро','с утра до обеда','с обеда до вечера','вечер','ночь'])"
   ]
  },
  {
   "cell_type": "code",
   "execution_count": 89,
   "id": "d6a1769b",
   "metadata": {},
   "outputs": [
    {
     "data": {
      "text/html": [
       "<div>\n",
       "<style scoped>\n",
       "    .dataframe tbody tr th:only-of-type {\n",
       "        vertical-align: middle;\n",
       "    }\n",
       "\n",
       "    .dataframe tbody tr th {\n",
       "        vertical-align: top;\n",
       "    }\n",
       "\n",
       "    .dataframe thead th {\n",
       "        text-align: right;\n",
       "    }\n",
       "</style>\n",
       "<table border=\"1\" class=\"dataframe\">\n",
       "  <thead>\n",
       "    <tr style=\"text-align: right;\">\n",
       "      <th></th>\n",
       "      <th>Общее количество сообщений</th>\n",
       "    </tr>\n",
       "    <tr>\n",
       "      <th>day_time</th>\n",
       "      <th></th>\n",
       "    </tr>\n",
       "  </thead>\n",
       "  <tbody>\n",
       "    <tr>\n",
       "      <th>утро</th>\n",
       "      <td>8139</td>\n",
       "    </tr>\n",
       "    <tr>\n",
       "      <th>с утра до обеда</th>\n",
       "      <td>7243</td>\n",
       "    </tr>\n",
       "    <tr>\n",
       "      <th>с обеда до вечера</th>\n",
       "      <td>6722</td>\n",
       "    </tr>\n",
       "    <tr>\n",
       "      <th>вечер</th>\n",
       "      <td>3536</td>\n",
       "    </tr>\n",
       "    <tr>\n",
       "      <th>ночь</th>\n",
       "      <td>862</td>\n",
       "    </tr>\n",
       "  </tbody>\n",
       "</table>\n",
       "</div>"
      ],
      "text/plain": [
       "                   Общее количество сообщений\n",
       "day_time                                     \n",
       "утро                                     8139\n",
       "с утра до обеда                          7243\n",
       "с обеда до вечера                        6722\n",
       "вечер                                    3536\n",
       "ночь                                      862"
      ]
     },
     "execution_count": 89,
     "metadata": {},
     "output_type": "execute_result"
    }
   ],
   "source": [
    "group_day_time_mes.columns = ['Общее количество сообщений']\n",
    "group_day_time_mes"
   ]
  },
  {
   "cell_type": "code",
   "execution_count": 90,
   "id": "2d19ab0c",
   "metadata": {
    "colab": {
     "base_uri": "https://localhost:8080/",
     "height": 762
    },
    "id": "2d19ab0c",
    "outputId": "4fcdb370-db5a-4734-f9d9-a9f7dc399562"
   },
   "outputs": [
    {
     "data": {
      "image/png": "[encoded data removed]",
      "text/plain": [
       "<Figure size 1800x720 with 2 Axes>"
      ]
     },
     "metadata": {
      "needs_background": "light"
     },
     "output_type": "display_data"
    }
   ],
   "source": [
    "ax3 = plt.subplots(figsize=(25, 10))\n",
    "ax3 = sns.barplot(y=group_day_time['Общее количество реакций'], x=group_day_time.index)\n",
    "ax3.set_title('Распределение количества реакций по времени дня публикации', fontsize=20, fontweight=\"bold\")\n",
    "ax3.set_xlabel('Время дня публикации', fontsize=14, fontweight=\"bold\")\n",
    "ax3.set_ylabel('Количество реакций', fontsize=14, fontweight=\"bold\")\n",
    "plt.xticks(fontsize = 15)\n",
    "ax31 = ax3.twinx() \n",
    "ax31.set_ylabel('Количество сообщений по времени дня', color = 'blue', fontsize=14, fontweight=\"bold\") \n",
    "ax31.plot(group_day_time_mes, color = 'blue') \n",
    "ax31.tick_params(axis ='y', labelcolor = 'blue');"
   ]
  },
  {
   "cell_type": "markdown",
   "id": "3fd76149",
   "metadata": {
    "id": "3fd76149"
   },
   "source": [
    "Мы посмотрели общее количество реакций по времени дня публикации сообщений: реакции есть для всех временных отрезков дня.\\\n",
    "Для определения оптимального времени дня публикации сообщений с целью повысить обратную связь, мы рассчитали среднее количество реакций для разных периодов дня."
   ]
  },
  {
   "cell_type": "code",
   "execution_count": 91,
   "id": "cbbbe250",
   "metadata": {
    "colab": {
     "base_uri": "https://localhost:8080/",
     "height": 81
    },
    "id": "cbbbe250",
    "outputId": "ef368b93-b640-41dc-8e59-e27ee872cbec"
   },
   "outputs": [
    {
     "data": {
      "text/html": [
       "<div>\n",
       "<style scoped>\n",
       "    .dataframe tbody tr th:only-of-type {\n",
       "        vertical-align: middle;\n",
       "    }\n",
       "\n",
       "    .dataframe tbody tr th {\n",
       "        vertical-align: top;\n",
       "    }\n",
       "\n",
       "    .dataframe thead th {\n",
       "        text-align: right;\n",
       "    }\n",
       "</style>\n",
       "<table border=\"1\" class=\"dataframe\">\n",
       "  <thead>\n",
       "    <tr style=\"text-align: right;\">\n",
       "      <th>day_time</th>\n",
       "      <th>с утра до обеда</th>\n",
       "      <th>ночь</th>\n",
       "      <th>утро</th>\n",
       "      <th>с обеда до вечера</th>\n",
       "      <th>вечер</th>\n",
       "    </tr>\n",
       "  </thead>\n",
       "  <tbody>\n",
       "    <tr>\n",
       "      <th>Среднее количество реакций</th>\n",
       "      <td>0.5</td>\n",
       "      <td>0.44</td>\n",
       "      <td>0.42</td>\n",
       "      <td>0.38</td>\n",
       "      <td>0.34</td>\n",
       "    </tr>\n",
       "  </tbody>\n",
       "</table>\n",
       "</div>"
      ],
      "text/plain": [
       "day_time                    с утра до обеда  ночь  утро  с обеда до вечера  \\\n",
       "Среднее количество реакций              0.5  0.44  0.42               0.38   \n",
       "\n",
       "day_time                    вечер  \n",
       "Среднее количество реакций   0.34  "
      ]
     },
     "metadata": {},
     "output_type": "display_data"
    }
   ],
   "source": [
    "group_day_time_mean = df_wr_mn.pivot_table(index='day_time', values=['all_reactions'], aggfunc='mean').round(2).sort_values(by='all_reactions', ascending=False) #сводная таблица с средним количеством реакций для разных направлений обучения\n",
    "group_day_time_mean.columns = ['Среднее количество реакций']\n",
    "display(group_day_time_mean.sort_values(by='Среднее количество реакций', ascending=False).T)"
   ]
  },
  {
   "cell_type": "code",
   "execution_count": 92,
   "id": "08a48ba6",
   "metadata": {
    "colab": {
     "base_uri": "https://localhost:8080/",
     "height": 811
    },
    "id": "08a48ba6",
    "outputId": "247aeb8c-290e-4e19-8384-575379b45723"
   },
   "outputs": [
    {
     "data": {
      "image/png": "[encoded data removed]",
      "text/plain": [
       "<Figure size 1800x720 with 1 Axes>"
      ]
     },
     "metadata": {
      "needs_background": "light"
     },
     "output_type": "display_data"
    }
   ],
   "source": [
    "ax4 = plt.subplots(figsize=(25, 10))\n",
    "ax4 = sns.barplot(y=group_day_time_mean['Среднее количество реакций'], x=group_day_time_mean.index)\n",
    "ax4.set_title('Среднее количество реакций по времени дня', fontsize=20, fontweight=\"bold\")\n",
    "ax4.set_xlabel('Время дня публикации', fontsize=14, fontweight=\"bold\")\n",
    "ax4.set_ylabel('Среднее количество реакций', fontsize=14, fontweight=\"bold\")\n",
    "plt.xticks(fontsize = 15);"
   ]
  },
  {
   "cell_type": "markdown",
   "id": "3d365e44",
   "metadata": {
    "id": "3d365e44"
   },
   "source": [
    "На основании анализа среднего количества реакций на сообщения, опубликованные в разное время дня, можно дать следующую рекомендацию:\\\n",
    " **- для повышения активности обратной связи сообщения стоит публиковать в начале дня - с утра до обеда.**"
   ]
  },
  {
   "cell_type": "markdown",
   "id": "c176778a",
   "metadata": {
    "id": "c176778a"
   },
   "source": [
    " <a id=\"fourth_3\"></a> \n",
    "### Изучение зависимости канала публикации сообщения и активности обратной связи на сообщения"
   ]
  },
  {
   "cell_type": "code",
   "execution_count": 93,
   "id": "4873dc89",
   "metadata": {
    "colab": {
     "base_uri": "https://localhost:8080/",
     "height": 81
    },
    "id": "4873dc89",
    "outputId": "79dd3f4a-51c3-4a61-d7a2-79ee37e25d5f"
   },
   "outputs": [
    {
     "data": {
      "text/html": [
       "<div>\n",
       "<style scoped>\n",
       "    .dataframe tbody tr th:only-of-type {\n",
       "        vertical-align: middle;\n",
       "    }\n",
       "\n",
       "    .dataframe tbody tr th {\n",
       "        vertical-align: top;\n",
       "    }\n",
       "\n",
       "    .dataframe thead th {\n",
       "        text-align: right;\n",
       "    }\n",
       "</style>\n",
       "<table border=\"1\" class=\"dataframe\">\n",
       "  <thead>\n",
       "    <tr style=\"text-align: right;\">\n",
       "      <th>course</th>\n",
       "      <th>da</th>\n",
       "      <th>ds</th>\n",
       "      <th>de</th>\n",
       "      <th>dl</th>\n",
       "      <th>data</th>\n",
       "      <th>sql</th>\n",
       "      <th>data-analysts-bus</th>\n",
       "      <th>masterskaya</th>\n",
       "      <th>datatracker</th>\n",
       "      <th>de-pro1</th>\n",
       "      <th>de-pro2</th>\n",
       "      <th>de-pro3</th>\n",
       "      <th>de-pro4</th>\n",
       "      <th>de-project</th>\n",
       "      <th>design</th>\n",
       "      <th>donorsearch</th>\n",
       "    </tr>\n",
       "  </thead>\n",
       "  <tbody>\n",
       "    <tr>\n",
       "      <th>Общее количество реакций</th>\n",
       "      <td>5832</td>\n",
       "      <td>3016</td>\n",
       "      <td>1267</td>\n",
       "      <td>724</td>\n",
       "      <td>140</td>\n",
       "      <td>64</td>\n",
       "      <td>62</td>\n",
       "      <td>55</td>\n",
       "      <td>0</td>\n",
       "      <td>0</td>\n",
       "      <td>0</td>\n",
       "      <td>0</td>\n",
       "      <td>0</td>\n",
       "      <td>0</td>\n",
       "      <td>0</td>\n",
       "      <td>0</td>\n",
       "    </tr>\n",
       "  </tbody>\n",
       "</table>\n",
       "</div>"
      ],
      "text/plain": [
       "course                      da    ds    de   dl  data  sql  data-analysts-bus  \\\n",
       "Общее количество реакций  5832  3016  1267  724   140   64                 62   \n",
       "\n",
       "course                    masterskaya  datatracker  de-pro1  de-pro2  de-pro3  \\\n",
       "Общее количество реакций           55            0        0        0        0   \n",
       "\n",
       "course                    de-pro4  de-project  design  donorsearch  \n",
       "Общее количество реакций        0           0       0            0  "
      ]
     },
     "metadata": {},
     "output_type": "display_data"
    }
   ],
   "source": [
    "group_course = df_wr_mn.pivot_table(index='course', values=['all_reactions'], aggfunc='sum').sort_values(by='all_reactions', ascending=False) #сводная таблица с общим количеством реакций для разных направлений обучения\n",
    "group_course.columns = ['Общее количество реакций']\n",
    "display(group_course.sort_values(by='Общее количество реакций', ascending=False).T)"
   ]
  },
  {
   "cell_type": "code",
   "execution_count": 94,
   "id": "4e817412",
   "metadata": {
    "colab": {
     "base_uri": "https://localhost:8080/",
     "height": 81
    },
    "id": "4e817412",
    "outputId": "9c4c4b8a-ec4b-4b1a-8f2e-93e315b6cadb"
   },
   "outputs": [
    {
     "data": {
      "text/html": [
       "<div>\n",
       "<style scoped>\n",
       "    .dataframe tbody tr th:only-of-type {\n",
       "        vertical-align: middle;\n",
       "    }\n",
       "\n",
       "    .dataframe tbody tr th {\n",
       "        vertical-align: top;\n",
       "    }\n",
       "\n",
       "    .dataframe thead th {\n",
       "        text-align: right;\n",
       "    }\n",
       "</style>\n",
       "<table border=\"1\" class=\"dataframe\">\n",
       "  <thead>\n",
       "    <tr style=\"text-align: right;\">\n",
       "      <th>course</th>\n",
       "      <th>da</th>\n",
       "      <th>ds</th>\n",
       "      <th>de</th>\n",
       "      <th>dl</th>\n",
       "      <th>sql</th>\n",
       "      <th>data</th>\n",
       "      <th>data-analysts-bus</th>\n",
       "      <th>masterskaya</th>\n",
       "      <th>design</th>\n",
       "      <th>datatracker</th>\n",
       "      <th>de-pro1</th>\n",
       "      <th>de-pro2</th>\n",
       "      <th>de-pro3</th>\n",
       "      <th>de-pro4</th>\n",
       "      <th>de-project</th>\n",
       "      <th>donorsearch</th>\n",
       "    </tr>\n",
       "  </thead>\n",
       "  <tbody>\n",
       "    <tr>\n",
       "      <th>Общее количество сообщений</th>\n",
       "      <td>12912</td>\n",
       "      <td>9815</td>\n",
       "      <td>1976</td>\n",
       "      <td>1325</td>\n",
       "      <td>189</td>\n",
       "      <td>109</td>\n",
       "      <td>97</td>\n",
       "      <td>70</td>\n",
       "      <td>2</td>\n",
       "      <td>1</td>\n",
       "      <td>1</td>\n",
       "      <td>1</td>\n",
       "      <td>1</td>\n",
       "      <td>1</td>\n",
       "      <td>1</td>\n",
       "      <td>1</td>\n",
       "    </tr>\n",
       "  </tbody>\n",
       "</table>\n",
       "</div>"
      ],
      "text/plain": [
       "course                         da    ds    de    dl  sql  data  \\\n",
       "Общее количество сообщений  12912  9815  1976  1325  189   109   \n",
       "\n",
       "course                      data-analysts-bus  masterskaya  design  \\\n",
       "Общее количество сообщений                 97           70       2   \n",
       "\n",
       "course                      datatracker  de-pro1  de-pro2  de-pro3  de-pro4  \\\n",
       "Общее количество сообщений            1        1        1        1        1   \n",
       "\n",
       "course                      de-project  donorsearch  \n",
       "Общее количество сообщений           1            1  "
      ]
     },
     "metadata": {},
     "output_type": "display_data"
    }
   ],
   "source": [
    "group_course_mes = df_wr_mn.pivot_table(index='course', values=['ts'], aggfunc='count').sort_values(by='ts', ascending=False) #сводная таблица с общим количеством сообщений для разных направлений обучения\n",
    "group_course_mes.columns = ['Общее количество сообщений']\n",
    "display(group_course_mes.sort_values(by='Общее количество сообщений', ascending=False).T)"
   ]
  },
  {
   "cell_type": "markdown",
   "id": "8375706b",
   "metadata": {},
   "source": [
    "Изучив уникальные наименования каналов мы видим, что наименования каналов публикаций сообщений отражают направления обучения."
   ]
  },
  {
   "cell_type": "markdown",
   "id": "4b992599",
   "metadata": {
    "id": "4b992599"
   },
   "source": [
    "Мы посмотрели общее количество реакций по направлениям обучения: реакции есть только для направлений da, ds, de, dl, data, sql, data-analysts-bus и masterskaya.\\\n",
    "Для направлений de-pro, de-project, design, donorsearch реакций нет, но для этих каналов в датасете содержится миниальное количество сообщений. Для дальнейшего анализа количества реакций по направлениям обучения мы далее создали еще один рабочий датасет df_wr_mn_2, в котором исключим направления обучения со слишком низким количеством сообщений."
   ]
  },
  {
   "cell_type": "code",
   "execution_count": 95,
   "id": "d8b58d3d",
   "metadata": {
    "id": "d8b58d3d"
   },
   "outputs": [],
   "source": [
    "MyList = ['de-pro1', 'de-pro2', 'de-pro3', 'de-pro4', 'de-project', 'design', 'datatracker', 'donorsearch']"
   ]
  },
  {
   "cell_type": "code",
   "execution_count": 96,
   "id": "17173778",
   "metadata": {
    "id": "17173778"
   },
   "outputs": [],
   "source": [
    "df_wr_mn_2 = df_wr_mn[df_wr_mn['course'].isin(MyList) == False]"
   ]
  },
  {
   "cell_type": "code",
   "execution_count": 97,
   "id": "de57cacd",
   "metadata": {
    "colab": {
     "base_uri": "https://localhost:8080/"
    },
    "id": "de57cacd",
    "outputId": "8b843acf-f03b-46ce-b25f-385e659b25e1"
   },
   "outputs": [
    {
     "name": "stdout",
     "output_type": "stream",
     "text": [
      "<class 'pandas.core.frame.DataFrame'>\n",
      "Int64Index: 26493 entries, 0 to 26530\n",
      "Data columns (total 22 columns):\n",
      " #   Column         Non-Null Count  Dtype         \n",
      "---  ------         --------------  -----         \n",
      " 0   client_msg_id  18259 non-null  object        \n",
      " 1   user           23607 non-null  object        \n",
      " 2   ts             26493 non-null  datetime64[ns]\n",
      " 3   latest_reply   2298 non-null   datetime64[ns]\n",
      " 4   team           15854 non-null  object        \n",
      " 5   thread_ts      18215 non-null  datetime64[ns]\n",
      " 6   subtype        8280 non-null   object        \n",
      " 7   channel        26493 non-null  object        \n",
      " 8   file_date      26493 non-null  datetime64[ns]\n",
      " 9   attachments    26493 non-null  int64         \n",
      " 10  reactions      4169 non-null   object        \n",
      " 11  text_len       26493 non-null  int64         \n",
      " 12  text_words     26493 non-null  int64         \n",
      " 13  course         26493 non-null  object        \n",
      " 14  theme          26493 non-null  object        \n",
      " 15  ts_hour        26493 non-null  int64         \n",
      " 16  day_time       26493 non-null  object        \n",
      " 17  ts_day         26493 non-null  int64         \n",
      " 18  ts_month       26493 non-null  int64         \n",
      " 19  all_reactions  26493 non-null  int64         \n",
      " 20  len_group      26493 non-null  object        \n",
      " 21  words_group    26493 non-null  object        \n",
      "dtypes: datetime64[ns](4), int64(7), object(11)\n",
      "memory usage: 4.6+ MB\n"
     ]
    }
   ],
   "source": [
    "df_wr_mn_2.info()"
   ]
  },
  {
   "cell_type": "code",
   "execution_count": 98,
   "id": "bd401c1e",
   "metadata": {
    "colab": {
     "base_uri": "https://localhost:8080/",
     "height": 81
    },
    "id": "bd401c1e",
    "outputId": "0f7a0b05-5727-4513-aeda-f8504b5872ed"
   },
   "outputs": [
    {
     "data": {
      "text/html": [
       "<div>\n",
       "<style scoped>\n",
       "    .dataframe tbody tr th:only-of-type {\n",
       "        vertical-align: middle;\n",
       "    }\n",
       "\n",
       "    .dataframe tbody tr th {\n",
       "        vertical-align: top;\n",
       "    }\n",
       "\n",
       "    .dataframe thead th {\n",
       "        text-align: right;\n",
       "    }\n",
       "</style>\n",
       "<table border=\"1\" class=\"dataframe\">\n",
       "  <thead>\n",
       "    <tr style=\"text-align: right;\">\n",
       "      <th>course</th>\n",
       "      <th>da</th>\n",
       "      <th>ds</th>\n",
       "      <th>de</th>\n",
       "      <th>dl</th>\n",
       "      <th>sql</th>\n",
       "      <th>data</th>\n",
       "      <th>data-analysts-bus</th>\n",
       "      <th>masterskaya</th>\n",
       "    </tr>\n",
       "  </thead>\n",
       "  <tbody>\n",
       "    <tr>\n",
       "      <th>Общее количество сообщений</th>\n",
       "      <td>12912</td>\n",
       "      <td>9815</td>\n",
       "      <td>1976</td>\n",
       "      <td>1325</td>\n",
       "      <td>189</td>\n",
       "      <td>109</td>\n",
       "      <td>97</td>\n",
       "      <td>70</td>\n",
       "    </tr>\n",
       "  </tbody>\n",
       "</table>\n",
       "</div>"
      ],
      "text/plain": [
       "course                         da    ds    de    dl  sql  data  \\\n",
       "Общее количество сообщений  12912  9815  1976  1325  189   109   \n",
       "\n",
       "course                      data-analysts-bus  masterskaya  \n",
       "Общее количество сообщений                 97           70  "
      ]
     },
     "metadata": {},
     "output_type": "display_data"
    }
   ],
   "source": [
    "group_course_mes_2 = df_wr_mn_2.pivot_table(index='course', values=['ts'], aggfunc='count').sort_values(by='ts', ascending=False) #сводная таблица с общим количеством сообщений для разных направлений обучения с приемлемым для анализа количеством сообщений\n",
    "group_course_mes_2.columns = ['Общее количество сообщений']\n",
    "display(group_course_mes_2.sort_values(by='Общее количество сообщений', ascending=False).T)  "
   ]
  },
  {
   "cell_type": "code",
   "execution_count": 99,
   "id": "032236a3",
   "metadata": {},
   "outputs": [],
   "source": [
    "group_course_mes_2 = group_course_mes_2.reindex(['data','masterskaya','data-analysts-bus','de','dl', 'da','sql','ds'])"
   ]
  },
  {
   "cell_type": "markdown",
   "id": "86006bcd",
   "metadata": {
    "id": "86006bcd"
   },
   "source": [
    "Для направлений обучения, для которых датасет содержит приемлемое количество сообщений, мы рассчитали среднее количество реакций на сообщение."
   ]
  },
  {
   "cell_type": "code",
   "execution_count": 100,
   "id": "5be2b6e3",
   "metadata": {
    "colab": {
     "base_uri": "https://localhost:8080/",
     "height": 81
    },
    "id": "5be2b6e3",
    "outputId": "9e4c8663-5374-441b-8605-3842bb73103e"
   },
   "outputs": [
    {
     "data": {
      "text/html": [
       "<div>\n",
       "<style scoped>\n",
       "    .dataframe tbody tr th:only-of-type {\n",
       "        vertical-align: middle;\n",
       "    }\n",
       "\n",
       "    .dataframe tbody tr th {\n",
       "        vertical-align: top;\n",
       "    }\n",
       "\n",
       "    .dataframe thead th {\n",
       "        text-align: right;\n",
       "    }\n",
       "</style>\n",
       "<table border=\"1\" class=\"dataframe\">\n",
       "  <thead>\n",
       "    <tr style=\"text-align: right;\">\n",
       "      <th>course</th>\n",
       "      <th>data</th>\n",
       "      <th>masterskaya</th>\n",
       "      <th>data-analysts-bus</th>\n",
       "      <th>de</th>\n",
       "      <th>dl</th>\n",
       "      <th>da</th>\n",
       "      <th>sql</th>\n",
       "      <th>ds</th>\n",
       "    </tr>\n",
       "  </thead>\n",
       "  <tbody>\n",
       "    <tr>\n",
       "      <th>Среднее количество реакций</th>\n",
       "      <td>1.28</td>\n",
       "      <td>0.79</td>\n",
       "      <td>0.64</td>\n",
       "      <td>0.64</td>\n",
       "      <td>0.55</td>\n",
       "      <td>0.45</td>\n",
       "      <td>0.34</td>\n",
       "      <td>0.31</td>\n",
       "    </tr>\n",
       "  </tbody>\n",
       "</table>\n",
       "</div>"
      ],
      "text/plain": [
       "course                      data  masterskaya  data-analysts-bus    de    dl  \\\n",
       "Среднее количество реакций  1.28         0.79               0.64  0.64  0.55   \n",
       "\n",
       "course                        da   sql    ds  \n",
       "Среднее количество реакций  0.45  0.34  0.31  "
      ]
     },
     "metadata": {},
     "output_type": "display_data"
    }
   ],
   "source": [
    "group_course_mean = df_wr_mn_2.pivot_table(index='course', values=['all_reactions'], aggfunc='mean').round(2).sort_values(by='all_reactions', ascending=False) #сводная таблица с средним количеством реакций для разных направлений обучения\n",
    "group_course_mean.columns = ['Среднее количество реакций']\n",
    "display(group_course_mean.sort_values(by='Среднее количество реакций', ascending=False).T)"
   ]
  },
  {
   "cell_type": "code",
   "execution_count": 101,
   "id": "061eaea5",
   "metadata": {
    "colab": {
     "base_uri": "https://localhost:8080/",
     "height": 811
    },
    "id": "061eaea5",
    "outputId": "595d35f6-9139-4d3b-8849-d2dc2dfc7fa9"
   },
   "outputs": [
    {
     "data": {
      "image/png": "[encoded data removed]",
      "text/plain": [
       "<Figure size 1800x720 with 2 Axes>"
      ]
     },
     "metadata": {
      "needs_background": "light"
     },
     "output_type": "display_data"
    }
   ],
   "source": [
    "ax2 = plt.subplots(figsize=(25, 10))\n",
    "ax2 = sns.barplot(y=group_course_mean['Среднее количество реакций'], x=group_course_mean.index)\n",
    "ax2.set_title('Среднее количество реакций по направлениям обучения', fontsize=20, fontweight=\"bold\")\n",
    "ax2.set_xlabel('Направления обучения', fontsize=14, fontweight=\"bold\")\n",
    "ax2.set_ylabel('Среднее количество реакций', fontsize=14, fontweight=\"bold\")\n",
    "plt.xticks(fontsize = 15)\n",
    "ax21 = ax2.twinx() \n",
    "ax21.set_ylabel('Количество сообщений по направлениям обучения', color = 'blue', fontsize=14, fontweight=\"bold\") \n",
    "ax21.plot(group_course_mes_2, color = 'blue') \n",
    "ax21.tick_params(axis ='y', labelcolor = 'blue');"
   ]
  },
  {
   "cell_type": "markdown",
   "id": "d352e422",
   "metadata": {
    "id": "d352e422"
   },
   "source": [
    "Мы видим, что среднее количество реакций на сообщения отличается в зависимости от направления обучения, по которому было опубликовано сообщение. Соответственно, курс обучения является существенным фактором, определяющим активность обратной связи на сообщения."
   ]
  },
  {
   "cell_type": "markdown",
   "id": "23b7e94b",
   "metadata": {
    "id": "23b7e94b"
   },
   "source": [
    " <a id=\"fourth_4\"></a> \n",
    "### Изучение зависимости тематики публикации сообщения и активности обратной связи на сообщения"
   ]
  },
  {
   "cell_type": "code",
   "execution_count": 102,
   "id": "64819f7b",
   "metadata": {
    "colab": {
     "base_uri": "https://localhost:8080/",
     "height": 81
    },
    "id": "64819f7b",
    "outputId": "cfba194f-ec85-4c7c-9b65-e4e1e4e500e6"
   },
   "outputs": [
    {
     "data": {
      "text/html": [
       "<div>\n",
       "<style scoped>\n",
       "    .dataframe tbody tr th:only-of-type {\n",
       "        vertical-align: middle;\n",
       "    }\n",
       "\n",
       "    .dataframe tbody tr th {\n",
       "        vertical-align: top;\n",
       "    }\n",
       "\n",
       "    .dataframe thead th {\n",
       "        text-align: right;\n",
       "    }\n",
       "</style>\n",
       "<table border=\"1\" class=\"dataframe\">\n",
       "  <thead>\n",
       "    <tr style=\"text-align: right;\">\n",
       "      <th>theme</th>\n",
       "      <th>info</th>\n",
       "      <th>teamwork</th>\n",
       "      <th>other</th>\n",
       "      <th>exerciser</th>\n",
       "      <th>projects</th>\n",
       "      <th>library</th>\n",
       "    </tr>\n",
       "  </thead>\n",
       "  <tbody>\n",
       "    <tr>\n",
       "      <th>Общее количество реакций</th>\n",
       "      <td>5054</td>\n",
       "      <td>2133</td>\n",
       "      <td>1397</td>\n",
       "      <td>1266</td>\n",
       "      <td>1146</td>\n",
       "      <td>164</td>\n",
       "    </tr>\n",
       "  </tbody>\n",
       "</table>\n",
       "</div>"
      ],
      "text/plain": [
       "theme                     info  teamwork  other  exerciser  projects  library\n",
       "Общее количество реакций  5054      2133   1397       1266      1146      164"
      ]
     },
     "metadata": {},
     "output_type": "display_data"
    }
   ],
   "source": [
    "group_theme = df_wr_mn.pivot_table(index='theme', values=['all_reactions'], aggfunc='sum').sort_values(by='all_reactions', ascending=False) #сводная таблица с общим количеством реакций для разных тематик обучения\n",
    "group_theme.columns = ['Общее количество реакций']\n",
    "display(group_theme.sort_values(by='Общее количество реакций', ascending=False).T)"
   ]
  },
  {
   "cell_type": "code",
   "execution_count": 103,
   "id": "1e1a5a68",
   "metadata": {
    "colab": {
     "base_uri": "https://localhost:8080/",
     "height": 81
    },
    "id": "1e1a5a68",
    "outputId": "5f591ec8-d007-4880-e29f-b442e13f6de9"
   },
   "outputs": [
    {
     "data": {
      "text/html": [
       "<div>\n",
       "<style scoped>\n",
       "    .dataframe tbody tr th:only-of-type {\n",
       "        vertical-align: middle;\n",
       "    }\n",
       "\n",
       "    .dataframe tbody tr th {\n",
       "        vertical-align: top;\n",
       "    }\n",
       "\n",
       "    .dataframe thead th {\n",
       "        text-align: right;\n",
       "    }\n",
       "</style>\n",
       "<table border=\"1\" class=\"dataframe\">\n",
       "  <thead>\n",
       "    <tr style=\"text-align: right;\">\n",
       "      <th>theme</th>\n",
       "      <th>projects</th>\n",
       "      <th>exerciser</th>\n",
       "      <th>teamwork</th>\n",
       "      <th>info</th>\n",
       "      <th>other</th>\n",
       "      <th>library</th>\n",
       "    </tr>\n",
       "  </thead>\n",
       "  <tbody>\n",
       "    <tr>\n",
       "      <th>Общее количество сообщений</th>\n",
       "      <td>7331</td>\n",
       "      <td>6830</td>\n",
       "      <td>4278</td>\n",
       "      <td>3855</td>\n",
       "      <td>3189</td>\n",
       "      <td>1019</td>\n",
       "    </tr>\n",
       "  </tbody>\n",
       "</table>\n",
       "</div>"
      ],
      "text/plain": [
       "theme                       projects  exerciser  teamwork  info  other  \\\n",
       "Общее количество сообщений      7331       6830      4278  3855   3189   \n",
       "\n",
       "theme                       library  \n",
       "Общее количество сообщений     1019  "
      ]
     },
     "metadata": {},
     "output_type": "display_data"
    }
   ],
   "source": [
    "group_theme_mes = df_wr_mn.pivot_table(index='theme', values=['ts'], aggfunc='count') #сводная таблица с общим количеством сообщений разных тематик\n",
    "group_theme_mes.columns = ['Общее количество сообщений']\n",
    "display(group_theme_mes.sort_values(by='Общее количество сообщений', ascending=False).T)"
   ]
  },
  {
   "cell_type": "code",
   "execution_count": 104,
   "id": "3525b5bf",
   "metadata": {},
   "outputs": [],
   "source": [
    "group_theme_mes = group_theme_mes.reindex(['info', 'teamwork', 'other', 'exerciser', 'projects', 'library'])"
   ]
  },
  {
   "cell_type": "code",
   "execution_count": 105,
   "id": "f2c848a5",
   "metadata": {
    "colab": {
     "base_uri": "https://localhost:8080/",
     "height": 762
    },
    "id": "f2c848a5",
    "outputId": "050a5bfe-b7d3-405d-f679-ec0d7081283a"
   },
   "outputs": [
    {
     "data": {
      "image/png": "[encoded data removed]",
      "text/plain": [
       "<Figure size 1800x720 with 2 Axes>"
      ]
     },
     "metadata": {
      "needs_background": "light"
     },
     "output_type": "display_data"
    }
   ],
   "source": [
    "ax6 = plt.subplots(figsize=(25, 10))\n",
    "ax6 = sns.barplot(y=group_theme['Общее количество реакций'], x=group_theme.index)\n",
    "ax6.set_title('Распределение количества реакций по тематикам сообщений', fontsize=20, fontweight=\"bold\")\n",
    "ax6.set_xlabel('Тематика сообщений', fontsize=14, fontweight=\"bold\")\n",
    "ax6.set_ylabel('Количество реакций', fontsize=14, fontweight=\"bold\")\n",
    "plt.xticks(fontsize = 15)\n",
    "ax61 = ax6.twinx() \n",
    "ax61.set_ylabel('Количество сообщений по по тематикам сообщений', color = 'blue', fontsize=14, fontweight=\"bold\") \n",
    "ax61.plot(group_theme_mes, color = 'blue') \n",
    "ax61.tick_params(axis ='y', labelcolor = 'blue');"
   ]
  },
  {
   "cell_type": "markdown",
   "id": "6fac2581",
   "metadata": {
    "id": "6fac2581"
   },
   "source": [
    "Мы посмотрели общее количество реакций по тематикам сообщений: реакции есть для сообщений всех тематик."
   ]
  },
  {
   "cell_type": "code",
   "execution_count": 106,
   "id": "d5a2d9fa",
   "metadata": {
    "colab": {
     "base_uri": "https://localhost:8080/",
     "height": 81
    },
    "id": "d5a2d9fa",
    "outputId": "c3e3a7f3-1f0e-49ec-fac4-205f34996e2f"
   },
   "outputs": [
    {
     "data": {
      "text/html": [
       "<div>\n",
       "<style scoped>\n",
       "    .dataframe tbody tr th:only-of-type {\n",
       "        vertical-align: middle;\n",
       "    }\n",
       "\n",
       "    .dataframe tbody tr th {\n",
       "        vertical-align: top;\n",
       "    }\n",
       "\n",
       "    .dataframe thead th {\n",
       "        text-align: right;\n",
       "    }\n",
       "</style>\n",
       "<table border=\"1\" class=\"dataframe\">\n",
       "  <thead>\n",
       "    <tr style=\"text-align: right;\">\n",
       "      <th>theme</th>\n",
       "      <th>info</th>\n",
       "      <th>teamwork</th>\n",
       "      <th>other</th>\n",
       "      <th>exerciser</th>\n",
       "      <th>library</th>\n",
       "      <th>projects</th>\n",
       "    </tr>\n",
       "  </thead>\n",
       "  <tbody>\n",
       "    <tr>\n",
       "      <th>Среднее количество реакций</th>\n",
       "      <td>1.31</td>\n",
       "      <td>0.5</td>\n",
       "      <td>0.44</td>\n",
       "      <td>0.19</td>\n",
       "      <td>0.16</td>\n",
       "      <td>0.16</td>\n",
       "    </tr>\n",
       "  </tbody>\n",
       "</table>\n",
       "</div>"
      ],
      "text/plain": [
       "theme                       info  teamwork  other  exerciser  library  \\\n",
       "Среднее количество реакций  1.31       0.5   0.44       0.19     0.16   \n",
       "\n",
       "theme                       projects  \n",
       "Среднее количество реакций      0.16  "
      ]
     },
     "metadata": {},
     "output_type": "display_data"
    }
   ],
   "source": [
    "group_theme_mean = df_wr_mn.pivot_table(index='theme', values=['all_reactions'], aggfunc='mean').round(2).sort_values(by='all_reactions', ascending=False) #сводная таблица с средним количеством реакций для разных тематик обучения\n",
    "group_theme_mean.columns = ['Среднее количество реакций']\n",
    "display(group_theme_mean.sort_values(by='Среднее количество реакций', ascending=False).T)"
   ]
  },
  {
   "cell_type": "code",
   "execution_count": 107,
   "id": "2c2f6454",
   "metadata": {
    "colab": {
     "base_uri": "https://localhost:8080/",
     "height": 811
    },
    "id": "2c2f6454",
    "outputId": "70da2853-ed0a-48d2-92fb-bcacabfd765f"
   },
   "outputs": [
    {
     "data": {
      "image/png": "[encoded data removed]",
      "text/plain": [
       "<Figure size 1800x720 with 1 Axes>"
      ]
     },
     "metadata": {
      "needs_background": "light"
     },
     "output_type": "display_data"
    }
   ],
   "source": [
    "ax7 = plt.subplots(figsize=(25, 10))\n",
    "ax7 = sns.barplot(y=group_theme_mean['Среднее количество реакций'], x=group_theme_mean.index)\n",
    "ax7.set_title('Среднее количество реакций по тематикам сообщений', fontsize=20, fontweight=\"bold\")\n",
    "ax7.set_xlabel('Тематика сообщений', fontsize=14, fontweight=\"bold\")\n",
    "ax7.set_ylabel('Среднее количество реакций', fontsize=14, fontweight=\"bold\")\n",
    "plt.xticks(fontsize = 15);"
   ]
  },
  {
   "cell_type": "markdown",
   "id": "4c729a4c",
   "metadata": {
    "id": "4c729a4c"
   },
   "source": [
    "Мы видим, что среднее количество реакций на сообщения отличается в зависимости от тематики сообщений.\\\n",
    "Наибольшее количество реакций для сообщений тематик info и teamwork - это, наш взгляд, объяснимо, так как студенты в первую очередь реагируют на сообщения информационно-организационного характера.\\\n",
    "На графике выше мы видим, что наибольшее количество сообщений и реакций на них тематики projects. При этом среднее количество реакций для сообщений тематики projects минимальное - это объясняется тем, что на сообщения данной тематики, также как и на сообщения других тематик с низким средним количеством реакций, реакции студентов не требуются: студенты в сообщениях данных тематик обсуждают рабочие учебные вопросы, делятся учебными материалами и т.п.\n",
    "С учетом изложенного мы можем дать следующую рекомендацию:\\\n",
    " **- сообщения организационно-информационного характера, на которые требуется обратная связь студентов, что студенты с ними ознакомлены, следует публиковать строго в канале info.**"
   ]
  },
  {
   "cell_type": "markdown",
   "id": "2e3e4277",
   "metadata": {
    "id": "2e3e4277"
   },
   "source": [
    " <a id=\"fifth\"></a> \n",
    "## Общие выводы и итоговые рекомендации"
   ]
  },
  {
   "cell_type": "markdown",
   "id": "abb5413b",
   "metadata": {
    "id": "abb5413b"
   },
   "source": [
    "Мы провели исследование активности обратной связи на сообщения и сделали следующие выводы:\n",
    "\n",
    "1. Длина текста сообщений и количества реакций к сообщениям имеют низкий коэффициент корреляции - 0.17.\n",
    "   Длина текста сообщений и количество слов в сообщениях имеют низкий коэффициент корреляции - 0.19.\n",
    "2. Мы выявили интересную зависимость, что чем длиннее сообщение, тем большее количество реакций оно имеет.\n",
    "3. Наибольшее среднее количество реакций приходится на сообщения, опубликованные в период утро-день.\n",
    "4. Среднее количество реакций на сообщения отличается в зависимости от направления обучения, по которому было опубликовано сообщение. Соответственно, курс обучения является существенным фактором, определяющим активность обратной связи на сообщения.\n",
    "5. Среднее количество реакций на сообщения отличается в зависимости от тематики сообщений: студенты в первую очередь реагируют на сообщения информационно-организационного характера.\n",
    "   \n",
    "Для повышения активности обратной связи на сообщения мы сформулировали следующие рекомендации:   \n",
    "1. С учетом установленной зависимости, что чем длиннее сообщение, тем большее количество реакций оно имеет, и с учетом низкой корреляции длины сообщений и количества реакций на сообщения мы сделаем следующую рекомендацию:\n",
    " - для повышения активности обратной связи на сообщения не стоит сокращать количество слов в сообщениях в ущерб содержанию; длинный текст не является фактором, который снижает обратную связь на сообщение.\n",
    "2. Для повышения активности обратной связи сообщения стоит публиковать в начале дня - с утра до обеда.\n",
    "3. Сообщения организационно-информационного характера нужно публиковать строго в тематической группе info."
   ]
  },
  {
   "cell_type": "code",
   "execution_count": null,
   "id": "03db49ea",
   "metadata": {
    "id": "03db49ea"
   },
   "outputs": [],
   "source": []
  }
 ],
 "metadata": {
  "ExecuteTimeLog": [
   {
    "duration": 516,
    "start_time": "2023-04-04T18:26:06.881Z"
   },
   {
    "duration": 131,
    "start_time": "2023-04-04T18:26:07.400Z"
   },
   {
    "duration": 0,
    "start_time": "2023-04-04T18:26:07.534Z"
   },
   {
    "duration": 0,
    "start_time": "2023-04-04T18:26:07.540Z"
   },
   {
    "duration": 0,
    "start_time": "2023-04-04T18:26:07.541Z"
   },
   {
    "duration": 0,
    "start_time": "2023-04-04T18:26:07.542Z"
   },
   {
    "duration": 0,
    "start_time": "2023-04-04T18:26:07.542Z"
   },
   {
    "duration": 0,
    "start_time": "2023-04-04T18:26:07.543Z"
   },
   {
    "duration": 0,
    "start_time": "2023-04-04T18:26:07.544Z"
   },
   {
    "duration": 0,
    "start_time": "2023-04-04T18:26:07.548Z"
   },
   {
    "duration": 0,
    "start_time": "2023-04-04T18:26:07.549Z"
   },
   {
    "duration": 0,
    "start_time": "2023-04-04T18:26:07.549Z"
   },
   {
    "duration": 0,
    "start_time": "2023-04-04T18:26:07.550Z"
   },
   {
    "duration": 0,
    "start_time": "2023-04-04T18:26:07.554Z"
   },
   {
    "duration": 0,
    "start_time": "2023-04-04T18:26:07.555Z"
   },
   {
    "duration": 0,
    "start_time": "2023-04-04T18:26:07.556Z"
   },
   {
    "duration": 0,
    "start_time": "2023-04-04T18:26:07.556Z"
   },
   {
    "duration": 0,
    "start_time": "2023-04-04T18:26:07.558Z"
   },
   {
    "duration": 0,
    "start_time": "2023-04-04T18:26:07.559Z"
   },
   {
    "duration": 0,
    "start_time": "2023-04-04T18:26:07.560Z"
   },
   {
    "duration": 0,
    "start_time": "2023-04-04T18:26:07.561Z"
   },
   {
    "duration": 1,
    "start_time": "2023-04-04T18:26:07.562Z"
   },
   {
    "duration": 0,
    "start_time": "2023-04-04T18:26:07.575Z"
   },
   {
    "duration": 0,
    "start_time": "2023-04-04T18:26:07.576Z"
   },
   {
    "duration": 0,
    "start_time": "2023-04-04T18:26:07.576Z"
   },
   {
    "duration": 0,
    "start_time": "2023-04-04T18:26:07.577Z"
   },
   {
    "duration": 0,
    "start_time": "2023-04-04T18:26:07.578Z"
   },
   {
    "duration": 0,
    "start_time": "2023-04-04T18:26:07.580Z"
   },
   {
    "duration": 0,
    "start_time": "2023-04-04T18:26:07.581Z"
   },
   {
    "duration": 0,
    "start_time": "2023-04-04T18:26:07.582Z"
   },
   {
    "duration": 0,
    "start_time": "2023-04-04T18:26:07.582Z"
   },
   {
    "duration": 0,
    "start_time": "2023-04-04T18:26:07.583Z"
   },
   {
    "duration": 0,
    "start_time": "2023-04-04T18:26:07.584Z"
   },
   {
    "duration": 0,
    "start_time": "2023-04-04T18:26:07.585Z"
   },
   {
    "duration": 0,
    "start_time": "2023-04-04T18:26:07.586Z"
   },
   {
    "duration": 0,
    "start_time": "2023-04-04T18:26:07.587Z"
   },
   {
    "duration": 0,
    "start_time": "2023-04-04T18:26:07.589Z"
   },
   {
    "duration": 0,
    "start_time": "2023-04-04T18:26:07.591Z"
   },
   {
    "duration": 0,
    "start_time": "2023-04-04T18:26:07.592Z"
   },
   {
    "duration": 0,
    "start_time": "2023-04-04T18:26:07.593Z"
   },
   {
    "duration": 0,
    "start_time": "2023-04-04T18:26:07.594Z"
   },
   {
    "duration": 0,
    "start_time": "2023-04-04T18:26:07.595Z"
   },
   {
    "duration": 78,
    "start_time": "2023-04-04T18:26:50.470Z"
   },
   {
    "duration": 200,
    "start_time": "2023-04-04T18:33:57.854Z"
   },
   {
    "duration": 34,
    "start_time": "2023-04-04T18:34:14.856Z"
   },
   {
    "duration": 29,
    "start_time": "2023-04-04T18:34:22.422Z"
   },
   {
    "duration": 93,
    "start_time": "2023-04-04T18:34:30.015Z"
   },
   {
    "duration": 0,
    "start_time": "2023-04-04T18:34:30.111Z"
   },
   {
    "duration": 0,
    "start_time": "2023-04-04T18:34:30.112Z"
   },
   {
    "duration": 0,
    "start_time": "2023-04-04T18:34:30.114Z"
   },
   {
    "duration": 0,
    "start_time": "2023-04-04T18:34:30.115Z"
   },
   {
    "duration": 0,
    "start_time": "2023-04-04T18:34:30.117Z"
   },
   {
    "duration": 0,
    "start_time": "2023-04-04T18:34:30.119Z"
   },
   {
    "duration": 0,
    "start_time": "2023-04-04T18:34:30.120Z"
   },
   {
    "duration": 0,
    "start_time": "2023-04-04T18:34:30.121Z"
   },
   {
    "duration": 0,
    "start_time": "2023-04-04T18:34:30.123Z"
   },
   {
    "duration": 0,
    "start_time": "2023-04-04T18:34:30.125Z"
   },
   {
    "duration": 0,
    "start_time": "2023-04-04T18:34:30.126Z"
   },
   {
    "duration": 0,
    "start_time": "2023-04-04T18:34:30.127Z"
   },
   {
    "duration": 0,
    "start_time": "2023-04-04T18:34:30.129Z"
   },
   {
    "duration": 55,
    "start_time": "2023-04-04T18:34:30.132Z"
   },
   {
    "duration": 0,
    "start_time": "2023-04-04T18:34:30.189Z"
   },
   {
    "duration": 0,
    "start_time": "2023-04-04T18:34:30.190Z"
   },
   {
    "duration": 0,
    "start_time": "2023-04-04T18:34:30.191Z"
   },
   {
    "duration": 0,
    "start_time": "2023-04-04T18:34:30.193Z"
   },
   {
    "duration": 0,
    "start_time": "2023-04-04T18:34:30.194Z"
   },
   {
    "duration": 60,
    "start_time": "2023-04-04T18:34:30.195Z"
   },
   {
    "duration": 0,
    "start_time": "2023-04-04T18:34:30.257Z"
   },
   {
    "duration": 0,
    "start_time": "2023-04-04T18:34:30.259Z"
   },
   {
    "duration": 0,
    "start_time": "2023-04-04T18:34:30.261Z"
   },
   {
    "duration": 0,
    "start_time": "2023-04-04T18:34:30.263Z"
   },
   {
    "duration": 0,
    "start_time": "2023-04-04T18:34:30.265Z"
   },
   {
    "duration": 0,
    "start_time": "2023-04-04T18:34:30.266Z"
   },
   {
    "duration": 0,
    "start_time": "2023-04-04T18:34:30.268Z"
   },
   {
    "duration": 0,
    "start_time": "2023-04-04T18:34:30.269Z"
   },
   {
    "duration": 9,
    "start_time": "2023-04-04T18:34:30.272Z"
   },
   {
    "duration": 0,
    "start_time": "2023-04-04T18:34:30.282Z"
   },
   {
    "duration": 58,
    "start_time": "2023-04-04T18:34:30.284Z"
   },
   {
    "duration": 0,
    "start_time": "2023-04-04T18:34:30.346Z"
   },
   {
    "duration": 0,
    "start_time": "2023-04-04T18:34:30.347Z"
   },
   {
    "duration": 0,
    "start_time": "2023-04-04T18:34:30.347Z"
   },
   {
    "duration": 0,
    "start_time": "2023-04-04T18:34:30.353Z"
   },
   {
    "duration": 0,
    "start_time": "2023-04-04T18:34:30.354Z"
   },
   {
    "duration": 0,
    "start_time": "2023-04-04T18:34:30.355Z"
   },
   {
    "duration": 0,
    "start_time": "2023-04-04T18:34:30.357Z"
   },
   {
    "duration": 7,
    "start_time": "2023-04-04T18:34:30.359Z"
   },
   {
    "duration": 0,
    "start_time": "2023-04-04T18:34:30.367Z"
   },
   {
    "duration": 0,
    "start_time": "2023-04-04T18:34:30.368Z"
   },
   {
    "duration": 34,
    "start_time": "2023-04-04T18:34:30.373Z"
   },
   {
    "duration": 486,
    "start_time": "2023-04-04T18:34:54.822Z"
   },
   {
    "duration": 187,
    "start_time": "2023-04-04T18:34:55.310Z"
   },
   {
    "duration": 32,
    "start_time": "2023-04-04T18:34:55.499Z"
   },
   {
    "duration": 27,
    "start_time": "2023-04-04T18:34:55.542Z"
   },
   {
    "duration": 12,
    "start_time": "2023-04-04T18:34:55.571Z"
   },
   {
    "duration": 24,
    "start_time": "2023-04-04T18:34:55.585Z"
   },
   {
    "duration": 20,
    "start_time": "2023-04-04T18:34:55.611Z"
   },
   {
    "duration": 17,
    "start_time": "2023-04-04T18:34:55.642Z"
   },
   {
    "duration": 13,
    "start_time": "2023-04-04T18:34:55.661Z"
   },
   {
    "duration": 19,
    "start_time": "2023-04-04T18:34:55.677Z"
   },
   {
    "duration": 16,
    "start_time": "2023-04-04T18:34:55.698Z"
   },
   {
    "duration": 38,
    "start_time": "2023-04-04T18:34:55.716Z"
   },
   {
    "duration": 10,
    "start_time": "2023-04-04T18:34:55.756Z"
   },
   {
    "duration": 12,
    "start_time": "2023-04-04T18:34:55.767Z"
   },
   {
    "duration": 7,
    "start_time": "2023-04-04T18:34:55.781Z"
   },
   {
    "duration": 10,
    "start_time": "2023-04-04T18:34:55.790Z"
   },
   {
    "duration": 61,
    "start_time": "2023-04-04T18:34:55.802Z"
   },
   {
    "duration": 53,
    "start_time": "2023-04-04T18:34:55.865Z"
   },
   {
    "duration": 36,
    "start_time": "2023-04-04T18:34:55.920Z"
   },
   {
    "duration": 7,
    "start_time": "2023-04-04T18:34:55.958Z"
   },
   {
    "duration": 8,
    "start_time": "2023-04-04T18:34:55.967Z"
   },
   {
    "duration": 24,
    "start_time": "2023-04-04T18:34:55.977Z"
   },
   {
    "duration": 6,
    "start_time": "2023-04-04T18:34:56.003Z"
   },
   {
    "duration": 39,
    "start_time": "2023-04-04T18:34:56.011Z"
   },
   {
    "duration": 7,
    "start_time": "2023-04-04T18:34:56.054Z"
   },
   {
    "duration": 7,
    "start_time": "2023-04-04T18:34:56.063Z"
   },
   {
    "duration": 10,
    "start_time": "2023-04-04T18:34:56.072Z"
   },
   {
    "duration": 9,
    "start_time": "2023-04-04T18:34:56.085Z"
   },
   {
    "duration": 5,
    "start_time": "2023-04-04T18:34:56.096Z"
   },
   {
    "duration": 6,
    "start_time": "2023-04-04T18:34:56.103Z"
   },
   {
    "duration": 10,
    "start_time": "2023-04-04T18:34:56.111Z"
   },
   {
    "duration": 13144,
    "start_time": "2023-04-04T18:34:56.123Z"
   },
   {
    "duration": 7,
    "start_time": "2023-04-04T18:35:09.269Z"
   },
   {
    "duration": 13481,
    "start_time": "2023-04-04T18:35:09.278Z"
   },
   {
    "duration": 5,
    "start_time": "2023-04-04T18:35:22.760Z"
   },
   {
    "duration": 17,
    "start_time": "2023-04-04T18:35:22.767Z"
   },
   {
    "duration": 29,
    "start_time": "2023-04-04T18:35:22.786Z"
   },
   {
    "duration": 12149,
    "start_time": "2023-04-04T18:35:22.817Z"
   },
   {
    "duration": 16,
    "start_time": "2023-04-04T18:35:34.968Z"
   },
   {
    "duration": 4,
    "start_time": "2023-04-04T18:35:34.986Z"
   },
   {
    "duration": 9,
    "start_time": "2023-04-04T18:35:34.992Z"
   },
   {
    "duration": 6,
    "start_time": "2023-04-04T18:35:35.002Z"
   },
   {
    "duration": 70,
    "start_time": "2023-04-04T19:10:53.468Z"
   },
   {
    "duration": 110,
    "start_time": "2023-04-04T19:17:29.083Z"
   },
   {
    "duration": 79,
    "start_time": "2023-04-04T19:17:47.027Z"
   },
   {
    "duration": 5,
    "start_time": "2023-04-04T19:18:12.209Z"
   },
   {
    "duration": 10,
    "start_time": "2023-04-04T19:18:26.054Z"
   },
   {
    "duration": 11,
    "start_time": "2023-04-04T19:18:55.305Z"
   },
   {
    "duration": 3,
    "start_time": "2023-04-04T19:21:00.897Z"
   },
   {
    "duration": 13,
    "start_time": "2023-04-04T19:21:55.390Z"
   },
   {
    "duration": 5,
    "start_time": "2023-04-04T19:23:58.628Z"
   },
   {
    "duration": 79,
    "start_time": "2023-04-04T19:24:19.677Z"
   },
   {
    "duration": 12,
    "start_time": "2023-04-04T19:24:29.613Z"
   },
   {
    "duration": 4,
    "start_time": "2023-04-04T19:24:44.268Z"
   },
   {
    "duration": 12,
    "start_time": "2023-04-04T19:24:57.884Z"
   },
   {
    "duration": 12,
    "start_time": "2023-04-04T19:25:28.198Z"
   },
   {
    "duration": 15,
    "start_time": "2023-04-04T19:28:04.418Z"
   },
   {
    "duration": 5,
    "start_time": "2023-04-04T19:28:41.993Z"
   },
   {
    "duration": 12,
    "start_time": "2023-04-04T19:29:17.723Z"
   },
   {
    "duration": 5,
    "start_time": "2023-04-04T19:30:33.205Z"
   },
   {
    "duration": 6,
    "start_time": "2023-04-04T19:30:47.757Z"
   },
   {
    "duration": 9,
    "start_time": "2023-04-04T19:31:04.269Z"
   },
   {
    "duration": 603,
    "start_time": "2023-04-04T19:31:20.499Z"
   },
   {
    "duration": 15,
    "start_time": "2023-04-04T19:31:56.989Z"
   },
   {
    "duration": 2,
    "start_time": "2023-04-04T19:32:53.015Z"
   },
   {
    "duration": 125,
    "start_time": "2023-04-04T19:33:38.193Z"
   },
   {
    "duration": 13,
    "start_time": "2023-04-04T19:34:05.254Z"
   },
   {
    "duration": 130,
    "start_time": "2023-04-04T19:35:19.937Z"
   },
   {
    "duration": 164,
    "start_time": "2023-04-04T19:39:47.123Z"
   },
   {
    "duration": 190,
    "start_time": "2023-04-04T19:40:48.559Z"
   },
   {
    "duration": 127,
    "start_time": "2023-04-04T19:41:07.687Z"
   },
   {
    "duration": 8,
    "start_time": "2023-04-04T19:41:21.226Z"
   },
   {
    "duration": 9,
    "start_time": "2023-04-04T19:41:43.850Z"
   },
   {
    "duration": 4,
    "start_time": "2023-04-04T19:42:17.729Z"
   },
   {
    "duration": 116,
    "start_time": "2023-04-04T19:42:39.913Z"
   },
   {
    "duration": 10,
    "start_time": "2023-04-04T19:43:25.043Z"
   },
   {
    "duration": 735,
    "start_time": "2023-04-04T19:43:51.833Z"
   },
   {
    "duration": 202,
    "start_time": "2023-04-04T19:43:52.570Z"
   },
   {
    "duration": 28,
    "start_time": "2023-04-04T19:43:52.774Z"
   },
   {
    "duration": 19,
    "start_time": "2023-04-04T19:43:52.804Z"
   },
   {
    "duration": 26,
    "start_time": "2023-04-04T19:43:52.824Z"
   },
   {
    "duration": 36,
    "start_time": "2023-04-04T19:43:52.852Z"
   },
   {
    "duration": 11,
    "start_time": "2023-04-04T19:43:52.890Z"
   },
   {
    "duration": 11,
    "start_time": "2023-04-04T19:43:52.903Z"
   },
   {
    "duration": 26,
    "start_time": "2023-04-04T19:43:52.916Z"
   },
   {
    "duration": 5,
    "start_time": "2023-04-04T19:43:52.945Z"
   },
   {
    "duration": 15,
    "start_time": "2023-04-04T19:43:52.952Z"
   },
   {
    "duration": 12,
    "start_time": "2023-04-04T19:43:52.970Z"
   },
   {
    "duration": 10,
    "start_time": "2023-04-04T19:43:52.984Z"
   },
   {
    "duration": 48,
    "start_time": "2023-04-04T19:43:52.996Z"
   },
   {
    "duration": 9,
    "start_time": "2023-04-04T19:43:53.046Z"
   },
   {
    "duration": 10,
    "start_time": "2023-04-04T19:43:53.056Z"
   },
   {
    "duration": 59,
    "start_time": "2023-04-04T19:43:53.067Z"
   },
   {
    "duration": 54,
    "start_time": "2023-04-04T19:43:53.128Z"
   },
   {
    "duration": 9,
    "start_time": "2023-04-04T19:43:53.184Z"
   },
   {
    "duration": 5,
    "start_time": "2023-04-04T19:43:53.194Z"
   },
   {
    "duration": 9,
    "start_time": "2023-04-04T19:43:53.201Z"
   },
   {
    "duration": 54,
    "start_time": "2023-04-04T19:43:53.212Z"
   },
   {
    "duration": 21,
    "start_time": "2023-04-04T19:43:53.268Z"
   },
   {
    "duration": 71,
    "start_time": "2023-04-04T19:43:53.291Z"
   },
   {
    "duration": 0,
    "start_time": "2023-04-04T19:43:53.365Z"
   },
   {
    "duration": 0,
    "start_time": "2023-04-04T19:43:53.366Z"
   },
   {
    "duration": 0,
    "start_time": "2023-04-04T19:43:53.368Z"
   },
   {
    "duration": 0,
    "start_time": "2023-04-04T19:43:53.369Z"
   },
   {
    "duration": 0,
    "start_time": "2023-04-04T19:43:53.370Z"
   },
   {
    "duration": 0,
    "start_time": "2023-04-04T19:43:53.371Z"
   },
   {
    "duration": 0,
    "start_time": "2023-04-04T19:43:53.373Z"
   },
   {
    "duration": 0,
    "start_time": "2023-04-04T19:43:53.374Z"
   },
   {
    "duration": 0,
    "start_time": "2023-04-04T19:43:53.376Z"
   },
   {
    "duration": 0,
    "start_time": "2023-04-04T19:43:53.377Z"
   },
   {
    "duration": 0,
    "start_time": "2023-04-04T19:43:53.379Z"
   },
   {
    "duration": 0,
    "start_time": "2023-04-04T19:43:53.381Z"
   },
   {
    "duration": 0,
    "start_time": "2023-04-04T19:43:53.382Z"
   },
   {
    "duration": 0,
    "start_time": "2023-04-04T19:43:53.384Z"
   },
   {
    "duration": 0,
    "start_time": "2023-04-04T19:43:53.385Z"
   },
   {
    "duration": 0,
    "start_time": "2023-04-04T19:43:53.386Z"
   },
   {
    "duration": 0,
    "start_time": "2023-04-04T19:43:53.388Z"
   },
   {
    "duration": 0,
    "start_time": "2023-04-04T19:43:53.391Z"
   },
   {
    "duration": 0,
    "start_time": "2023-04-04T19:43:53.392Z"
   },
   {
    "duration": 0,
    "start_time": "2023-04-04T19:43:53.394Z"
   },
   {
    "duration": 0,
    "start_time": "2023-04-04T19:43:53.400Z"
   },
   {
    "duration": 0,
    "start_time": "2023-04-04T19:43:53.402Z"
   },
   {
    "duration": 0,
    "start_time": "2023-04-04T19:43:53.442Z"
   },
   {
    "duration": 0,
    "start_time": "2023-04-04T19:43:53.444Z"
   },
   {
    "duration": 0,
    "start_time": "2023-04-04T19:43:53.445Z"
   },
   {
    "duration": 0,
    "start_time": "2023-04-04T19:43:53.446Z"
   },
   {
    "duration": 0,
    "start_time": "2023-04-04T19:43:53.447Z"
   },
   {
    "duration": 0,
    "start_time": "2023-04-04T19:43:53.448Z"
   },
   {
    "duration": 0,
    "start_time": "2023-04-04T19:43:53.449Z"
   },
   {
    "duration": 707,
    "start_time": "2023-04-04T19:44:18.346Z"
   },
   {
    "duration": 139,
    "start_time": "2023-04-04T19:44:19.055Z"
   },
   {
    "duration": 30,
    "start_time": "2023-04-04T19:44:19.196Z"
   },
   {
    "duration": 34,
    "start_time": "2023-04-04T19:44:19.228Z"
   },
   {
    "duration": 6,
    "start_time": "2023-04-04T19:44:19.265Z"
   },
   {
    "duration": 27,
    "start_time": "2023-04-04T19:44:19.273Z"
   },
   {
    "duration": 21,
    "start_time": "2023-04-04T19:44:19.302Z"
   },
   {
    "duration": 16,
    "start_time": "2023-04-04T19:44:19.342Z"
   },
   {
    "duration": 14,
    "start_time": "2023-04-04T19:44:19.360Z"
   },
   {
    "duration": 5,
    "start_time": "2023-04-04T19:44:19.377Z"
   },
   {
    "duration": 25,
    "start_time": "2023-04-04T19:44:19.383Z"
   },
   {
    "duration": 41,
    "start_time": "2023-04-04T19:44:19.411Z"
   },
   {
    "duration": 13,
    "start_time": "2023-04-04T19:44:19.454Z"
   },
   {
    "duration": 17,
    "start_time": "2023-04-04T19:44:19.472Z"
   },
   {
    "duration": 12,
    "start_time": "2023-04-04T19:44:19.491Z"
   },
   {
    "duration": 38,
    "start_time": "2023-04-04T19:44:19.505Z"
   },
   {
    "duration": 52,
    "start_time": "2023-04-04T19:44:19.545Z"
   },
   {
    "duration": 73,
    "start_time": "2023-04-04T19:44:19.600Z"
   },
   {
    "duration": 10,
    "start_time": "2023-04-04T19:44:19.675Z"
   },
   {
    "duration": 5,
    "start_time": "2023-04-04T19:44:19.687Z"
   },
   {
    "duration": 9,
    "start_time": "2023-04-04T19:44:19.694Z"
   },
   {
    "duration": 45,
    "start_time": "2023-04-04T19:44:19.705Z"
   },
   {
    "duration": 7,
    "start_time": "2023-04-04T19:44:19.753Z"
   },
   {
    "duration": 10,
    "start_time": "2023-04-04T19:44:19.762Z"
   },
   {
    "duration": 10,
    "start_time": "2023-04-04T19:44:19.774Z"
   },
   {
    "duration": 9,
    "start_time": "2023-04-04T19:44:19.786Z"
   },
   {
    "duration": 43,
    "start_time": "2023-04-04T19:44:19.797Z"
   },
   {
    "duration": 6,
    "start_time": "2023-04-04T19:44:19.842Z"
   },
   {
    "duration": 10,
    "start_time": "2023-04-04T19:44:19.849Z"
   },
   {
    "duration": 13,
    "start_time": "2023-04-04T19:44:19.860Z"
   },
   {
    "duration": 12,
    "start_time": "2023-04-04T19:44:19.874Z"
   },
   {
    "duration": 13,
    "start_time": "2023-04-04T19:44:19.888Z"
   },
   {
    "duration": 6,
    "start_time": "2023-04-04T19:44:19.902Z"
   },
   {
    "duration": 33,
    "start_time": "2023-04-04T19:44:19.909Z"
   },
   {
    "duration": 12,
    "start_time": "2023-04-04T19:44:19.944Z"
   },
   {
    "duration": 9,
    "start_time": "2023-04-04T19:44:19.958Z"
   },
   {
    "duration": 206,
    "start_time": "2023-04-04T19:44:19.969Z"
   },
   {
    "duration": 4,
    "start_time": "2023-04-04T19:44:20.177Z"
   },
   {
    "duration": 136,
    "start_time": "2023-04-04T19:44:20.183Z"
   },
   {
    "duration": 4,
    "start_time": "2023-04-04T19:44:20.322Z"
   },
   {
    "duration": 4,
    "start_time": "2023-04-04T19:44:20.340Z"
   },
   {
    "duration": 13133,
    "start_time": "2023-04-04T19:44:20.346Z"
   },
   {
    "duration": 6,
    "start_time": "2023-04-04T19:44:33.481Z"
   },
   {
    "duration": 13747,
    "start_time": "2023-04-04T19:44:33.488Z"
   },
   {
    "duration": 5,
    "start_time": "2023-04-04T19:44:47.241Z"
   },
   {
    "duration": 10,
    "start_time": "2023-04-04T19:44:47.248Z"
   },
   {
    "duration": 12,
    "start_time": "2023-04-04T19:44:47.260Z"
   },
   {
    "duration": 12510,
    "start_time": "2023-04-04T19:44:47.274Z"
   },
   {
    "duration": 19,
    "start_time": "2023-04-04T19:44:59.786Z"
   },
   {
    "duration": 4,
    "start_time": "2023-04-04T19:44:59.808Z"
   },
   {
    "duration": 34,
    "start_time": "2023-04-04T19:44:59.814Z"
   },
   {
    "duration": 8,
    "start_time": "2023-04-04T19:44:59.850Z"
   },
   {
    "duration": 12,
    "start_time": "2023-04-04T19:45:29.482Z"
   },
   {
    "duration": 4,
    "start_time": "2023-04-04T19:45:33.122Z"
   },
   {
    "duration": 13,
    "start_time": "2023-04-04T19:49:24.179Z"
   },
   {
    "duration": 20,
    "start_time": "2023-04-04T19:50:47.062Z"
   },
   {
    "duration": 18,
    "start_time": "2023-04-04T19:51:17.730Z"
   },
   {
    "duration": 12,
    "start_time": "2023-04-04T19:52:00.896Z"
   },
   {
    "duration": 78,
    "start_time": "2023-04-04T19:52:44.021Z"
   },
   {
    "duration": 13,
    "start_time": "2023-04-04T19:52:56.618Z"
   },
   {
    "duration": 89,
    "start_time": "2023-04-04T19:53:01.907Z"
   },
   {
    "duration": 90,
    "start_time": "2023-04-04T19:53:11.722Z"
   },
   {
    "duration": 104,
    "start_time": "2023-04-04T19:53:24.426Z"
   },
   {
    "duration": 3,
    "start_time": "2023-04-04T19:53:30.358Z"
   },
   {
    "duration": 13,
    "start_time": "2023-04-04T19:53:39.854Z"
   },
   {
    "duration": 78,
    "start_time": "2023-04-04T19:53:49.054Z"
   },
   {
    "duration": 80,
    "start_time": "2023-04-04T19:53:57.189Z"
   },
   {
    "duration": 86,
    "start_time": "2023-04-04T19:54:06.506Z"
   },
   {
    "duration": 13,
    "start_time": "2023-04-04T19:54:12.075Z"
   },
   {
    "duration": 11,
    "start_time": "2023-04-04T19:54:18.854Z"
   },
   {
    "duration": 5,
    "start_time": "2023-04-04T19:55:08.485Z"
   },
   {
    "duration": 5,
    "start_time": "2023-04-04T19:56:35.280Z"
   },
   {
    "duration": 10,
    "start_time": "2023-04-04T19:56:59.200Z"
   },
   {
    "duration": 176,
    "start_time": "2023-04-04T19:57:04.729Z"
   },
   {
    "duration": 191,
    "start_time": "2023-04-04T19:59:39.590Z"
   },
   {
    "duration": 124,
    "start_time": "2023-04-04T19:59:53.265Z"
   },
   {
    "duration": 186,
    "start_time": "2023-04-04T20:00:13.995Z"
   },
   {
    "duration": 161,
    "start_time": "2023-04-04T20:01:27.164Z"
   },
   {
    "duration": 147,
    "start_time": "2023-04-04T20:01:42.961Z"
   },
   {
    "duration": 292,
    "start_time": "2023-04-04T20:01:55.062Z"
   },
   {
    "duration": 220,
    "start_time": "2023-04-04T20:03:36.476Z"
   },
   {
    "duration": 441,
    "start_time": "2023-04-04T20:03:42.171Z"
   },
   {
    "duration": 245,
    "start_time": "2023-04-04T20:03:48.225Z"
   },
   {
    "duration": 246,
    "start_time": "2023-04-04T20:03:56.937Z"
   },
   {
    "duration": 295,
    "start_time": "2023-04-04T20:04:02.081Z"
   },
   {
    "duration": 600,
    "start_time": "2023-04-04T20:04:08.390Z"
   },
   {
    "duration": 259,
    "start_time": "2023-04-04T20:04:27.473Z"
   },
   {
    "duration": 468,
    "start_time": "2023-04-04T20:04:51.865Z"
   },
   {
    "duration": 466,
    "start_time": "2023-04-04T20:06:11.553Z"
   },
   {
    "duration": 235,
    "start_time": "2023-04-04T20:06:24.083Z"
   },
   {
    "duration": 204,
    "start_time": "2023-04-04T20:06:45.196Z"
   },
   {
    "duration": 209,
    "start_time": "2023-04-04T20:06:50.898Z"
   },
   {
    "duration": 243,
    "start_time": "2023-04-04T20:06:58.210Z"
   },
   {
    "duration": 247,
    "start_time": "2023-04-04T20:07:08.189Z"
   },
   {
    "duration": 91,
    "start_time": "2023-04-04T20:17:16.234Z"
   },
   {
    "duration": 13,
    "start_time": "2023-04-04T20:19:07.925Z"
   },
   {
    "duration": 5,
    "start_time": "2023-04-04T20:19:26.463Z"
   },
   {
    "duration": 15,
    "start_time": "2023-04-04T20:21:20.375Z"
   },
   {
    "duration": 6,
    "start_time": "2023-04-04T20:21:30.172Z"
   },
   {
    "duration": 93,
    "start_time": "2023-04-04T20:23:58.179Z"
   },
   {
    "duration": 51,
    "start_time": "2023-04-05T06:12:33.553Z"
   },
   {
    "duration": 727,
    "start_time": "2023-04-05T06:12:41.435Z"
   },
   {
    "duration": 292,
    "start_time": "2023-04-05T06:12:42.164Z"
   },
   {
    "duration": 27,
    "start_time": "2023-04-05T06:12:42.458Z"
   },
   {
    "duration": 20,
    "start_time": "2023-04-05T06:12:42.487Z"
   },
   {
    "duration": 6,
    "start_time": "2023-04-05T06:12:42.508Z"
   },
   {
    "duration": 20,
    "start_time": "2023-04-05T06:12:42.515Z"
   },
   {
    "duration": 15,
    "start_time": "2023-04-05T06:12:42.537Z"
   },
   {
    "duration": 9,
    "start_time": "2023-04-05T06:12:42.554Z"
   },
   {
    "duration": 15,
    "start_time": "2023-04-05T06:12:42.572Z"
   },
   {
    "duration": 5,
    "start_time": "2023-04-05T06:12:42.590Z"
   },
   {
    "duration": 15,
    "start_time": "2023-04-05T06:12:42.597Z"
   },
   {
    "duration": 16,
    "start_time": "2023-04-05T06:12:42.613Z"
   },
   {
    "duration": 14,
    "start_time": "2023-04-05T06:12:42.631Z"
   },
   {
    "duration": 13,
    "start_time": "2023-04-05T06:12:42.647Z"
   },
   {
    "duration": 24,
    "start_time": "2023-04-05T06:12:42.662Z"
   },
   {
    "duration": 16,
    "start_time": "2023-04-05T06:12:42.688Z"
   },
   {
    "duration": 29,
    "start_time": "2023-04-05T06:12:42.706Z"
   },
   {
    "duration": 53,
    "start_time": "2023-04-05T06:12:42.737Z"
   },
   {
    "duration": 10,
    "start_time": "2023-04-05T06:12:42.792Z"
   },
   {
    "duration": 6,
    "start_time": "2023-04-05T06:12:42.804Z"
   },
   {
    "duration": 7,
    "start_time": "2023-04-05T06:12:42.811Z"
   },
   {
    "duration": 26,
    "start_time": "2023-04-05T06:12:42.820Z"
   },
   {
    "duration": 6,
    "start_time": "2023-04-05T06:12:42.848Z"
   },
   {
    "duration": 25,
    "start_time": "2023-04-05T06:12:42.855Z"
   },
   {
    "duration": 6,
    "start_time": "2023-04-05T06:12:42.886Z"
   },
   {
    "duration": 13,
    "start_time": "2023-04-05T06:12:42.894Z"
   },
   {
    "duration": 20,
    "start_time": "2023-04-05T06:12:42.909Z"
   },
   {
    "duration": 11,
    "start_time": "2023-04-05T06:12:42.932Z"
   },
   {
    "duration": 12,
    "start_time": "2023-04-05T06:12:42.945Z"
   },
   {
    "duration": 27,
    "start_time": "2023-04-05T06:12:42.959Z"
   },
   {
    "duration": 13,
    "start_time": "2023-04-05T06:12:42.988Z"
   },
   {
    "duration": 6,
    "start_time": "2023-04-05T06:12:43.002Z"
   },
   {
    "duration": 8,
    "start_time": "2023-04-05T06:12:43.010Z"
   },
   {
    "duration": 14,
    "start_time": "2023-04-05T06:12:43.019Z"
   },
   {
    "duration": 256,
    "start_time": "2023-04-05T06:12:43.034Z"
   },
   {
    "duration": 11,
    "start_time": "2023-04-05T06:12:43.291Z"
   },
   {
    "duration": 4,
    "start_time": "2023-04-05T06:12:43.304Z"
   },
   {
    "duration": 24,
    "start_time": "2023-04-05T06:12:43.309Z"
   },
   {
    "duration": 12,
    "start_time": "2023-04-05T06:12:43.334Z"
   },
   {
    "duration": 14,
    "start_time": "2023-04-05T06:12:43.347Z"
   },
   {
    "duration": 4,
    "start_time": "2023-04-05T06:12:43.363Z"
   },
   {
    "duration": 25,
    "start_time": "2023-04-05T06:12:43.369Z"
   },
   {
    "duration": 11014,
    "start_time": "2023-04-05T06:12:43.396Z"
   },
   {
    "duration": 8,
    "start_time": "2023-04-05T06:12:54.412Z"
   },
   {
    "duration": 10610,
    "start_time": "2023-04-05T06:12:54.421Z"
   },
   {
    "duration": 5,
    "start_time": "2023-04-05T06:13:05.032Z"
   },
   {
    "duration": 25,
    "start_time": "2023-04-05T06:13:05.038Z"
   },
   {
    "duration": 35,
    "start_time": "2023-04-05T06:13:05.064Z"
   },
   {
    "duration": 10717,
    "start_time": "2023-04-05T06:13:05.101Z"
   },
   {
    "duration": 12,
    "start_time": "2023-04-05T06:13:15.820Z"
   },
   {
    "duration": 4,
    "start_time": "2023-04-05T06:13:15.833Z"
   },
   {
    "duration": 5,
    "start_time": "2023-04-05T06:13:15.839Z"
   },
   {
    "duration": 28,
    "start_time": "2023-04-05T06:13:15.846Z"
   },
   {
    "duration": 110,
    "start_time": "2023-04-05T06:13:56.687Z"
   },
   {
    "duration": 242,
    "start_time": "2023-04-05T06:14:17.148Z"
   },
   {
    "duration": 160,
    "start_time": "2023-04-05T06:14:23.096Z"
   },
   {
    "duration": 181,
    "start_time": "2023-04-05T06:15:04.506Z"
   },
   {
    "duration": 144,
    "start_time": "2023-04-05T06:15:12.197Z"
   },
   {
    "duration": 41,
    "start_time": "2023-04-05T06:15:42.928Z"
   },
   {
    "duration": 12,
    "start_time": "2023-04-05T06:15:49.190Z"
   },
   {
    "duration": 161,
    "start_time": "2023-04-05T06:15:58.599Z"
   },
   {
    "duration": 18,
    "start_time": "2023-04-05T06:16:05.966Z"
   },
   {
    "duration": 162,
    "start_time": "2023-04-05T06:18:29.046Z"
   },
   {
    "duration": 178,
    "start_time": "2023-04-05T06:18:53.602Z"
   },
   {
    "duration": 272,
    "start_time": "2023-04-05T06:19:00.755Z"
   },
   {
    "duration": 302,
    "start_time": "2023-04-05T06:19:08.760Z"
   },
   {
    "duration": 369,
    "start_time": "2023-04-05T06:19:52.452Z"
   },
   {
    "duration": 304,
    "start_time": "2023-04-05T06:20:11.752Z"
   },
   {
    "duration": 499,
    "start_time": "2023-04-05T06:32:58.814Z"
   },
   {
    "duration": 8,
    "start_time": "2023-04-05T11:25:11.219Z"
   },
   {
    "duration": 292,
    "start_time": "2023-04-05T11:25:48.596Z"
   },
   {
    "duration": 307,
    "start_time": "2023-04-05T11:27:10.763Z"
   },
   {
    "duration": 241,
    "start_time": "2023-04-05T11:39:24.285Z"
   },
   {
    "duration": 248,
    "start_time": "2023-04-05T11:41:05.891Z"
   },
   {
    "duration": 305,
    "start_time": "2023-04-05T11:41:19.258Z"
   },
   {
    "duration": 221,
    "start_time": "2023-04-05T11:41:28.040Z"
   },
   {
    "duration": 325,
    "start_time": "2023-04-05T11:42:09.061Z"
   },
   {
    "duration": 229,
    "start_time": "2023-04-05T11:44:28.012Z"
   },
   {
    "duration": 227,
    "start_time": "2023-04-05T11:44:37.796Z"
   },
   {
    "duration": 309,
    "start_time": "2023-04-05T11:48:27.227Z"
   },
   {
    "duration": 323,
    "start_time": "2023-04-05T11:48:33.992Z"
   },
   {
    "duration": 436,
    "start_time": "2023-04-05T11:58:13.926Z"
   },
   {
    "duration": 300,
    "start_time": "2023-04-05T11:58:40.621Z"
   },
   {
    "duration": 3,
    "start_time": "2023-04-05T17:51:56.732Z"
   },
   {
    "duration": 3,
    "start_time": "2023-04-05T18:15:35.418Z"
   },
   {
    "duration": 6,
    "start_time": "2023-04-05T18:36:51.153Z"
   },
   {
    "duration": 4,
    "start_time": "2023-04-05T18:37:03.969Z"
   },
   {
    "duration": 10970,
    "start_time": "2023-04-05T18:40:03.797Z"
   },
   {
    "duration": 4,
    "start_time": "2023-04-05T18:40:58.319Z"
   },
   {
    "duration": 7,
    "start_time": "2023-04-05T18:49:20.966Z"
   },
   {
    "duration": 4,
    "start_time": "2023-04-05T18:50:42.699Z"
   },
   {
    "duration": 10462,
    "start_time": "2023-04-05T18:50:47.698Z"
   },
   {
    "duration": 4,
    "start_time": "2023-04-05T18:53:03.988Z"
   },
   {
    "duration": 12,
    "start_time": "2023-04-05T18:53:11.957Z"
   },
   {
    "duration": 5,
    "start_time": "2023-04-05T18:54:15.232Z"
   },
   {
    "duration": 11,
    "start_time": "2023-04-05T18:54:16.996Z"
   },
   {
    "duration": 6,
    "start_time": "2023-04-05T18:54:35.295Z"
   },
   {
    "duration": 11,
    "start_time": "2023-04-05T18:54:36.695Z"
   },
   {
    "duration": 10,
    "start_time": "2023-04-05T18:55:06.844Z"
   },
   {
    "duration": 712,
    "start_time": "2023-04-05T18:58:22.340Z"
   },
   {
    "duration": 229,
    "start_time": "2023-04-05T18:58:23.054Z"
   },
   {
    "duration": 28,
    "start_time": "2023-04-05T18:58:23.285Z"
   },
   {
    "duration": 27,
    "start_time": "2023-04-05T18:58:23.316Z"
   },
   {
    "duration": 7,
    "start_time": "2023-04-05T18:58:23.372Z"
   },
   {
    "duration": 32,
    "start_time": "2023-04-05T18:58:23.381Z"
   },
   {
    "duration": 22,
    "start_time": "2023-04-05T18:58:23.414Z"
   },
   {
    "duration": 12,
    "start_time": "2023-04-05T18:58:23.438Z"
   },
   {
    "duration": 13,
    "start_time": "2023-04-05T18:58:23.471Z"
   },
   {
    "duration": 5,
    "start_time": "2023-04-05T18:58:23.487Z"
   },
   {
    "duration": 15,
    "start_time": "2023-04-05T18:58:23.494Z"
   },
   {
    "duration": 12,
    "start_time": "2023-04-05T18:58:23.511Z"
   },
   {
    "duration": 48,
    "start_time": "2023-04-05T18:58:23.525Z"
   },
   {
    "duration": 16,
    "start_time": "2023-04-05T18:58:23.575Z"
   },
   {
    "duration": 10,
    "start_time": "2023-04-05T18:58:23.592Z"
   },
   {
    "duration": 7,
    "start_time": "2023-04-05T18:58:23.603Z"
   },
   {
    "duration": 71,
    "start_time": "2023-04-05T18:58:23.612Z"
   },
   {
    "duration": 48,
    "start_time": "2023-04-05T18:58:23.685Z"
   },
   {
    "duration": 10,
    "start_time": "2023-04-05T18:58:23.735Z"
   },
   {
    "duration": 6,
    "start_time": "2023-04-05T18:58:23.773Z"
   },
   {
    "duration": 20,
    "start_time": "2023-04-05T18:58:23.781Z"
   },
   {
    "duration": 25,
    "start_time": "2023-04-05T18:58:23.803Z"
   },
   {
    "duration": 7,
    "start_time": "2023-04-05T18:58:23.829Z"
   },
   {
    "duration": 35,
    "start_time": "2023-04-05T18:58:23.838Z"
   },
   {
    "duration": 9,
    "start_time": "2023-04-05T18:58:23.875Z"
   },
   {
    "duration": 8,
    "start_time": "2023-04-05T18:58:23.887Z"
   },
   {
    "duration": 12,
    "start_time": "2023-04-05T18:58:23.897Z"
   },
   {
    "duration": 4,
    "start_time": "2023-04-05T18:58:23.914Z"
   },
   {
    "duration": 5,
    "start_time": "2023-04-05T18:58:23.920Z"
   },
   {
    "duration": 56,
    "start_time": "2023-04-05T18:58:23.926Z"
   },
   {
    "duration": 14,
    "start_time": "2023-04-05T18:58:23.984Z"
   },
   {
    "duration": 5,
    "start_time": "2023-04-05T18:58:23.999Z"
   },
   {
    "duration": 10,
    "start_time": "2023-04-05T18:58:24.006Z"
   },
   {
    "duration": 20,
    "start_time": "2023-04-05T18:58:24.017Z"
   },
   {
    "duration": 311,
    "start_time": "2023-04-05T18:58:24.039Z"
   },
   {
    "duration": 21,
    "start_time": "2023-04-05T18:58:24.352Z"
   },
   {
    "duration": 6,
    "start_time": "2023-04-05T18:58:24.375Z"
   },
   {
    "duration": 13,
    "start_time": "2023-04-05T18:58:24.382Z"
   },
   {
    "duration": 9,
    "start_time": "2023-04-05T18:58:24.397Z"
   },
   {
    "duration": 13,
    "start_time": "2023-04-05T18:58:24.407Z"
   },
   {
    "duration": 371,
    "start_time": "2023-04-05T18:58:24.422Z"
   },
   {
    "duration": 381,
    "start_time": "2023-04-05T18:58:24.795Z"
   },
   {
    "duration": 8,
    "start_time": "2023-04-05T18:58:25.178Z"
   },
   {
    "duration": 340,
    "start_time": "2023-04-05T18:58:25.187Z"
   },
   {
    "duration": 357,
    "start_time": "2023-04-05T18:58:25.528Z"
   },
   {
    "duration": 4,
    "start_time": "2023-04-05T18:58:25.887Z"
   },
   {
    "duration": 6,
    "start_time": "2023-04-05T18:58:25.892Z"
   },
   {
    "duration": 10880,
    "start_time": "2023-04-05T18:58:25.899Z"
   },
   {
    "duration": 5,
    "start_time": "2023-04-05T18:58:36.781Z"
   },
   {
    "duration": 7,
    "start_time": "2023-04-05T18:58:36.787Z"
   },
   {
    "duration": 6,
    "start_time": "2023-04-05T18:58:36.795Z"
   },
   {
    "duration": 6,
    "start_time": "2023-04-05T18:58:36.802Z"
   },
   {
    "duration": 4,
    "start_time": "2023-04-05T18:58:36.809Z"
   },
   {
    "duration": 10500,
    "start_time": "2023-04-05T18:58:36.814Z"
   },
   {
    "duration": 10,
    "start_time": "2023-04-05T18:58:47.316Z"
   },
   {
    "duration": 10,
    "start_time": "2023-04-05T18:58:47.328Z"
   },
   {
    "duration": 41,
    "start_time": "2023-04-05T18:58:47.340Z"
   },
   {
    "duration": 0,
    "start_time": "2023-04-05T18:58:47.383Z"
   },
   {
    "duration": 0,
    "start_time": "2023-04-05T18:58:47.385Z"
   },
   {
    "duration": 1,
    "start_time": "2023-04-05T18:58:47.386Z"
   },
   {
    "duration": 0,
    "start_time": "2023-04-05T18:58:47.388Z"
   },
   {
    "duration": 0,
    "start_time": "2023-04-05T18:58:47.389Z"
   },
   {
    "duration": 0,
    "start_time": "2023-04-05T18:58:47.390Z"
   },
   {
    "duration": 8,
    "start_time": "2023-04-05T18:59:07.113Z"
   },
   {
    "duration": 3,
    "start_time": "2023-04-05T18:59:08.443Z"
   },
   {
    "duration": 5,
    "start_time": "2023-04-05T18:59:09.739Z"
   },
   {
    "duration": 9498,
    "start_time": "2023-04-05T18:59:11.787Z"
   },
   {
    "duration": 7,
    "start_time": "2023-04-05T19:00:49.831Z"
   },
   {
    "duration": 6,
    "start_time": "2023-04-05T19:07:37.918Z"
   },
   {
    "duration": 8,
    "start_time": "2023-04-05T19:08:10.519Z"
   },
   {
    "duration": 85,
    "start_time": "2023-04-05T19:09:42.764Z"
   },
   {
    "duration": 570,
    "start_time": "2023-04-05T19:29:33.305Z"
   },
   {
    "duration": 243,
    "start_time": "2023-04-05T19:29:33.877Z"
   },
   {
    "duration": 23,
    "start_time": "2023-04-05T19:29:34.122Z"
   },
   {
    "duration": 30,
    "start_time": "2023-04-05T19:29:34.147Z"
   },
   {
    "duration": 4,
    "start_time": "2023-04-05T19:29:34.179Z"
   },
   {
    "duration": 15,
    "start_time": "2023-04-05T19:29:34.185Z"
   },
   {
    "duration": 12,
    "start_time": "2023-04-05T19:29:34.202Z"
   },
   {
    "duration": 16,
    "start_time": "2023-04-05T19:29:34.216Z"
   },
   {
    "duration": 23,
    "start_time": "2023-04-05T19:29:34.233Z"
   },
   {
    "duration": 18,
    "start_time": "2023-04-05T19:29:34.258Z"
   },
   {
    "duration": 44,
    "start_time": "2023-04-05T19:29:34.277Z"
   },
   {
    "duration": 13,
    "start_time": "2023-04-05T19:29:34.323Z"
   },
   {
    "duration": 6,
    "start_time": "2023-04-05T19:29:34.338Z"
   },
   {
    "duration": 38,
    "start_time": "2023-04-05T19:29:34.346Z"
   },
   {
    "duration": 14,
    "start_time": "2023-04-05T19:29:34.385Z"
   },
   {
    "duration": 4,
    "start_time": "2023-04-05T19:29:34.401Z"
   },
   {
    "duration": 29,
    "start_time": "2023-04-05T19:29:34.407Z"
   },
   {
    "duration": 59,
    "start_time": "2023-04-05T19:29:34.438Z"
   },
   {
    "duration": 9,
    "start_time": "2023-04-05T19:29:34.499Z"
   },
   {
    "duration": 6,
    "start_time": "2023-04-05T19:29:34.510Z"
   },
   {
    "duration": 22,
    "start_time": "2023-04-05T19:29:34.517Z"
   },
   {
    "duration": 32,
    "start_time": "2023-04-05T19:29:34.541Z"
   },
   {
    "duration": 5,
    "start_time": "2023-04-05T19:29:34.575Z"
   },
   {
    "duration": 12,
    "start_time": "2023-04-05T19:29:34.581Z"
   },
   {
    "duration": 11,
    "start_time": "2023-04-05T19:29:34.595Z"
   },
   {
    "duration": 8,
    "start_time": "2023-04-05T19:29:34.607Z"
   },
   {
    "duration": 7,
    "start_time": "2023-04-05T19:29:34.616Z"
   },
   {
    "duration": 5,
    "start_time": "2023-04-05T19:29:34.626Z"
   },
   {
    "duration": 11,
    "start_time": "2023-04-05T19:29:34.632Z"
   },
   {
    "duration": 11,
    "start_time": "2023-04-05T19:29:34.672Z"
   },
   {
    "duration": 10,
    "start_time": "2023-04-05T19:29:34.684Z"
   },
   {
    "duration": 12,
    "start_time": "2023-04-05T19:29:34.695Z"
   },
   {
    "duration": 5,
    "start_time": "2023-04-05T19:29:34.708Z"
   },
   {
    "duration": 9,
    "start_time": "2023-04-05T19:29:34.715Z"
   },
   {
    "duration": 284,
    "start_time": "2023-04-05T19:29:34.725Z"
   },
   {
    "duration": 13,
    "start_time": "2023-04-05T19:29:35.011Z"
   },
   {
    "duration": 6,
    "start_time": "2023-04-05T19:29:35.026Z"
   },
   {
    "duration": 40,
    "start_time": "2023-04-05T19:29:35.033Z"
   },
   {
    "duration": 4,
    "start_time": "2023-04-05T19:29:35.074Z"
   },
   {
    "duration": 12,
    "start_time": "2023-04-05T19:29:35.080Z"
   },
   {
    "duration": 326,
    "start_time": "2023-04-05T19:29:35.093Z"
   },
   {
    "duration": 368,
    "start_time": "2023-04-05T19:29:35.421Z"
   },
   {
    "duration": 8,
    "start_time": "2023-04-05T19:29:35.791Z"
   },
   {
    "duration": 311,
    "start_time": "2023-04-05T19:29:35.801Z"
   },
   {
    "duration": 354,
    "start_time": "2023-04-05T19:29:36.114Z"
   },
   {
    "duration": 4,
    "start_time": "2023-04-05T19:29:36.473Z"
   },
   {
    "duration": 9,
    "start_time": "2023-04-05T19:29:36.478Z"
   },
   {
    "duration": 10747,
    "start_time": "2023-04-05T19:29:36.490Z"
   },
   {
    "duration": 6,
    "start_time": "2023-04-05T19:29:47.238Z"
   },
   {
    "duration": 4,
    "start_time": "2023-04-05T19:29:47.245Z"
   },
   {
    "duration": 23,
    "start_time": "2023-04-05T19:29:47.251Z"
   },
   {
    "duration": 13,
    "start_time": "2023-04-05T19:29:47.277Z"
   },
   {
    "duration": 7,
    "start_time": "2023-04-05T19:29:47.291Z"
   },
   {
    "duration": 11492,
    "start_time": "2023-04-05T19:29:47.300Z"
   },
   {
    "duration": 8,
    "start_time": "2023-04-05T19:29:58.794Z"
   },
   {
    "duration": 8,
    "start_time": "2023-04-05T19:29:58.804Z"
   },
   {
    "duration": 19,
    "start_time": "2023-04-05T19:29:58.813Z"
   },
   {
    "duration": 10,
    "start_time": "2023-04-05T19:29:58.834Z"
   },
   {
    "duration": 27,
    "start_time": "2023-04-05T19:29:58.845Z"
   },
   {
    "duration": 9396,
    "start_time": "2023-04-05T19:29:58.874Z"
   },
   {
    "duration": 7,
    "start_time": "2023-04-05T19:30:08.271Z"
   },
   {
    "duration": 10,
    "start_time": "2023-04-05T19:30:08.279Z"
   },
   {
    "duration": 63,
    "start_time": "2023-04-08T07:07:29.402Z"
   },
   {
    "duration": 940,
    "start_time": "2023-04-08T07:07:32.414Z"
   },
   {
    "duration": 198,
    "start_time": "2023-04-08T07:07:33.356Z"
   },
   {
    "duration": 29,
    "start_time": "2023-04-08T07:07:33.556Z"
   },
   {
    "duration": 121,
    "start_time": "2023-04-08T07:07:33.587Z"
   },
   {
    "duration": 10,
    "start_time": "2023-04-08T07:07:33.710Z"
   },
   {
    "duration": 16,
    "start_time": "2023-04-08T07:07:33.722Z"
   },
   {
    "duration": 24,
    "start_time": "2023-04-08T07:07:33.741Z"
   },
   {
    "duration": 27,
    "start_time": "2023-04-08T07:07:33.767Z"
   },
   {
    "duration": 15,
    "start_time": "2023-04-08T07:07:33.796Z"
   },
   {
    "duration": 33,
    "start_time": "2023-04-08T07:07:33.814Z"
   },
   {
    "duration": 5,
    "start_time": "2023-04-08T07:07:33.848Z"
   },
   {
    "duration": 28,
    "start_time": "2023-04-08T07:07:33.855Z"
   },
   {
    "duration": 23,
    "start_time": "2023-04-08T07:07:33.885Z"
   },
   {
    "duration": 24,
    "start_time": "2023-04-08T07:07:33.910Z"
   },
   {
    "duration": 21,
    "start_time": "2023-04-08T07:07:33.936Z"
   },
   {
    "duration": 12,
    "start_time": "2023-04-08T07:07:33.959Z"
   },
   {
    "duration": 7,
    "start_time": "2023-04-08T07:07:33.973Z"
   },
   {
    "duration": 64,
    "start_time": "2023-04-08T07:07:33.982Z"
   },
   {
    "duration": 71,
    "start_time": "2023-04-08T07:07:34.048Z"
   },
   {
    "duration": 27,
    "start_time": "2023-04-08T07:07:34.121Z"
   },
   {
    "duration": 7,
    "start_time": "2023-04-08T07:07:34.150Z"
   },
   {
    "duration": 12,
    "start_time": "2023-04-08T07:07:34.159Z"
   },
   {
    "duration": 30,
    "start_time": "2023-04-08T07:07:34.173Z"
   },
   {
    "duration": 7,
    "start_time": "2023-04-08T07:07:34.205Z"
   },
   {
    "duration": 33,
    "start_time": "2023-04-08T07:07:34.214Z"
   },
   {
    "duration": 18,
    "start_time": "2023-04-08T07:07:34.249Z"
   },
   {
    "duration": 40,
    "start_time": "2023-04-08T07:07:34.270Z"
   },
   {
    "duration": 34,
    "start_time": "2023-04-08T07:07:34.314Z"
   },
   {
    "duration": 32,
    "start_time": "2023-04-08T07:07:34.350Z"
   },
   {
    "duration": 27,
    "start_time": "2023-04-08T07:07:34.384Z"
   },
   {
    "duration": 22,
    "start_time": "2023-04-08T07:07:34.413Z"
   },
   {
    "duration": 17,
    "start_time": "2023-04-08T07:07:34.436Z"
   },
   {
    "duration": 69,
    "start_time": "2023-04-08T07:07:34.454Z"
   },
   {
    "duration": 30,
    "start_time": "2023-04-08T07:07:34.525Z"
   },
   {
    "duration": 17,
    "start_time": "2023-04-08T07:07:34.557Z"
   },
   {
    "duration": 289,
    "start_time": "2023-04-08T07:07:34.576Z"
   },
   {
    "duration": 14,
    "start_time": "2023-04-08T07:07:34.866Z"
   },
   {
    "duration": 14,
    "start_time": "2023-04-08T07:07:34.882Z"
   },
   {
    "duration": 17,
    "start_time": "2023-04-08T07:07:34.898Z"
   },
   {
    "duration": 25,
    "start_time": "2023-04-08T07:07:34.917Z"
   },
   {
    "duration": 22,
    "start_time": "2023-04-08T07:07:34.944Z"
   },
   {
    "duration": 396,
    "start_time": "2023-04-08T07:07:34.967Z"
   },
   {
    "duration": 456,
    "start_time": "2023-04-08T07:07:35.365Z"
   },
   {
    "duration": 25,
    "start_time": "2023-04-08T07:07:35.824Z"
   },
   {
    "duration": 431,
    "start_time": "2023-04-08T07:07:35.851Z"
   },
   {
    "duration": 389,
    "start_time": "2023-04-08T07:07:36.284Z"
   },
   {
    "duration": 10,
    "start_time": "2023-04-08T07:07:36.676Z"
   },
   {
    "duration": 30,
    "start_time": "2023-04-08T07:07:36.689Z"
   },
   {
    "duration": 13314,
    "start_time": "2023-04-08T07:07:36.722Z"
   },
   {
    "duration": 7,
    "start_time": "2023-04-08T07:07:50.038Z"
   },
   {
    "duration": 96,
    "start_time": "2023-04-08T07:07:50.048Z"
   },
   {
    "duration": 60,
    "start_time": "2023-04-08T07:07:50.146Z"
   },
   {
    "duration": 10,
    "start_time": "2023-04-08T07:07:50.208Z"
   },
   {
    "duration": 20,
    "start_time": "2023-04-08T07:07:50.221Z"
   },
   {
    "duration": 12723,
    "start_time": "2023-04-08T07:07:50.243Z"
   },
   {
    "duration": 13,
    "start_time": "2023-04-08T07:08:02.968Z"
   },
   {
    "duration": 27,
    "start_time": "2023-04-08T07:08:02.984Z"
   },
   {
    "duration": 33,
    "start_time": "2023-04-08T07:08:03.014Z"
   },
   {
    "duration": 13,
    "start_time": "2023-04-08T07:08:03.050Z"
   },
   {
    "duration": 19,
    "start_time": "2023-04-08T07:08:03.065Z"
   },
   {
    "duration": 11371,
    "start_time": "2023-04-08T07:08:03.086Z"
   },
   {
    "duration": 8,
    "start_time": "2023-04-08T07:08:14.458Z"
   },
   {
    "duration": 8,
    "start_time": "2023-04-08T07:08:14.467Z"
   },
   {
    "duration": 9,
    "start_time": "2023-04-08T07:08:14.478Z"
   },
   {
    "duration": 10,
    "start_time": "2023-04-08T07:51:17.540Z"
   },
   {
    "duration": 53,
    "start_time": "2023-04-08T07:52:47.076Z"
   },
   {
    "duration": 16,
    "start_time": "2023-04-08T07:52:59.269Z"
   },
   {
    "duration": 9,
    "start_time": "2023-04-08T07:54:23.746Z"
   },
   {
    "duration": 745,
    "start_time": "2023-04-08T07:56:18.329Z"
   },
   {
    "duration": 2219,
    "start_time": "2023-04-08T07:56:19.076Z"
   },
   {
    "duration": 45,
    "start_time": "2023-04-08T07:56:21.296Z"
   },
   {
    "duration": 22,
    "start_time": "2023-04-08T07:56:21.345Z"
   },
   {
    "duration": 16,
    "start_time": "2023-04-08T07:56:21.369Z"
   },
   {
    "duration": 17,
    "start_time": "2023-04-08T07:56:21.386Z"
   },
   {
    "duration": 44,
    "start_time": "2023-04-08T07:56:21.405Z"
   },
   {
    "duration": 25,
    "start_time": "2023-04-08T07:56:21.451Z"
   },
   {
    "duration": 12,
    "start_time": "2023-04-08T07:56:21.479Z"
   },
   {
    "duration": 12,
    "start_time": "2023-04-08T07:56:21.494Z"
   },
   {
    "duration": 4,
    "start_time": "2023-04-08T07:56:21.508Z"
   },
   {
    "duration": 38,
    "start_time": "2023-04-08T07:56:21.514Z"
   },
   {
    "duration": 12,
    "start_time": "2023-04-08T07:56:21.554Z"
   },
   {
    "duration": 11,
    "start_time": "2023-04-08T07:56:21.568Z"
   },
   {
    "duration": 15,
    "start_time": "2023-04-08T07:56:21.582Z"
   },
   {
    "duration": 10,
    "start_time": "2023-04-08T07:56:21.599Z"
   },
   {
    "duration": 6,
    "start_time": "2023-04-08T07:56:21.642Z"
   },
   {
    "duration": 40,
    "start_time": "2023-04-08T07:56:21.649Z"
   },
   {
    "duration": 71,
    "start_time": "2023-04-08T07:56:21.690Z"
   },
   {
    "duration": 12,
    "start_time": "2023-04-08T07:56:21.764Z"
   },
   {
    "duration": 12,
    "start_time": "2023-04-08T07:56:21.778Z"
   },
   {
    "duration": 20,
    "start_time": "2023-04-08T07:56:21.792Z"
   },
   {
    "duration": 39,
    "start_time": "2023-04-08T07:56:21.815Z"
   },
   {
    "duration": 7,
    "start_time": "2023-04-08T07:56:21.856Z"
   },
   {
    "duration": 13,
    "start_time": "2023-04-08T07:56:21.865Z"
   },
   {
    "duration": 13,
    "start_time": "2023-04-08T07:56:21.881Z"
   },
   {
    "duration": 46,
    "start_time": "2023-04-08T07:56:21.897Z"
   },
   {
    "duration": 10,
    "start_time": "2023-04-08T07:56:21.950Z"
   },
   {
    "duration": 24,
    "start_time": "2023-04-08T07:56:21.962Z"
   },
   {
    "duration": 22,
    "start_time": "2023-04-08T07:56:21.987Z"
   },
   {
    "duration": 24,
    "start_time": "2023-04-08T07:56:22.011Z"
   },
   {
    "duration": 17,
    "start_time": "2023-04-08T07:56:22.038Z"
   },
   {
    "duration": 21,
    "start_time": "2023-04-08T07:56:22.057Z"
   },
   {
    "duration": 48,
    "start_time": "2023-04-08T07:56:22.080Z"
   },
   {
    "duration": 20,
    "start_time": "2023-04-08T07:56:22.130Z"
   },
   {
    "duration": 316,
    "start_time": "2023-04-08T07:56:22.152Z"
   },
   {
    "duration": 15,
    "start_time": "2023-04-08T07:56:22.470Z"
   },
   {
    "duration": 14,
    "start_time": "2023-04-08T07:56:22.487Z"
   },
   {
    "duration": 20,
    "start_time": "2023-04-08T07:56:22.503Z"
   },
   {
    "duration": 6,
    "start_time": "2023-04-08T07:56:22.542Z"
   },
   {
    "duration": 28,
    "start_time": "2023-04-08T07:56:22.550Z"
   },
   {
    "duration": 455,
    "start_time": "2023-04-08T07:56:22.580Z"
   },
   {
    "duration": 507,
    "start_time": "2023-04-08T07:56:23.037Z"
   },
   {
    "duration": 19,
    "start_time": "2023-04-08T07:56:23.546Z"
   },
   {
    "duration": 399,
    "start_time": "2023-04-08T07:56:23.567Z"
   },
   {
    "duration": 381,
    "start_time": "2023-04-08T07:56:23.968Z"
   },
   {
    "duration": 5,
    "start_time": "2023-04-08T07:56:24.352Z"
   },
   {
    "duration": 123,
    "start_time": "2023-04-08T07:56:24.358Z"
   },
   {
    "duration": 13026,
    "start_time": "2023-04-08T07:56:24.484Z"
   },
   {
    "duration": 6,
    "start_time": "2023-04-08T07:56:37.512Z"
   },
   {
    "duration": 18,
    "start_time": "2023-04-08T07:56:37.520Z"
   },
   {
    "duration": 14,
    "start_time": "2023-04-08T07:56:37.540Z"
   },
   {
    "duration": 26,
    "start_time": "2023-04-08T07:56:37.556Z"
   },
   {
    "duration": 11,
    "start_time": "2023-04-08T07:56:37.584Z"
   },
   {
    "duration": 12333,
    "start_time": "2023-04-08T07:56:37.597Z"
   },
   {
    "duration": 17,
    "start_time": "2023-04-08T07:56:49.932Z"
   },
   {
    "duration": 43,
    "start_time": "2023-04-08T07:56:49.951Z"
   },
   {
    "duration": 15,
    "start_time": "2023-04-08T07:56:49.996Z"
   },
   {
    "duration": 30,
    "start_time": "2023-04-08T07:56:50.013Z"
   },
   {
    "duration": 18,
    "start_time": "2023-04-08T07:56:50.046Z"
   },
   {
    "duration": 12431,
    "start_time": "2023-04-08T07:56:50.067Z"
   },
   {
    "duration": 8,
    "start_time": "2023-04-08T07:57:02.500Z"
   },
   {
    "duration": 191,
    "start_time": "2023-04-08T07:57:02.510Z"
   },
   {
    "duration": 87,
    "start_time": "2023-04-08T07:57:02.703Z"
   },
   {
    "duration": 24,
    "start_time": "2023-04-08T07:57:02.792Z"
   },
   {
    "duration": 68,
    "start_time": "2023-04-08T07:57:02.818Z"
   },
   {
    "duration": 55,
    "start_time": "2023-04-08T07:57:02.888Z"
   },
   {
    "duration": 55,
    "start_time": "2023-04-08T07:57:02.946Z"
   },
   {
    "duration": 852,
    "start_time": "2023-04-08T07:59:56.441Z"
   },
   {
    "duration": 2013,
    "start_time": "2023-04-08T07:59:57.295Z"
   },
   {
    "duration": 40,
    "start_time": "2023-04-08T07:59:59.310Z"
   },
   {
    "duration": 31,
    "start_time": "2023-04-08T07:59:59.352Z"
   },
   {
    "duration": 25,
    "start_time": "2023-04-08T07:59:59.385Z"
   },
   {
    "duration": 23,
    "start_time": "2023-04-08T07:59:59.412Z"
   },
   {
    "duration": 31,
    "start_time": "2023-04-08T07:59:59.438Z"
   },
   {
    "duration": 40,
    "start_time": "2023-04-08T07:59:59.472Z"
   },
   {
    "duration": 15,
    "start_time": "2023-04-08T07:59:59.515Z"
   },
   {
    "duration": 29,
    "start_time": "2023-04-08T07:59:59.533Z"
   },
   {
    "duration": 26,
    "start_time": "2023-04-08T07:59:59.565Z"
   },
   {
    "duration": 30,
    "start_time": "2023-04-08T07:59:59.593Z"
   },
   {
    "duration": 18,
    "start_time": "2023-04-08T07:59:59.625Z"
   },
   {
    "duration": 23,
    "start_time": "2023-04-08T07:59:59.645Z"
   },
   {
    "duration": 27,
    "start_time": "2023-04-08T07:59:59.670Z"
   },
   {
    "duration": 13,
    "start_time": "2023-04-08T07:59:59.703Z"
   },
   {
    "duration": 14,
    "start_time": "2023-04-08T07:59:59.718Z"
   },
   {
    "duration": 48,
    "start_time": "2023-04-08T07:59:59.743Z"
   },
   {
    "duration": 81,
    "start_time": "2023-04-08T07:59:59.793Z"
   },
   {
    "duration": 17,
    "start_time": "2023-04-08T07:59:59.876Z"
   },
   {
    "duration": 11,
    "start_time": "2023-04-08T07:59:59.895Z"
   },
   {
    "duration": 13,
    "start_time": "2023-04-08T07:59:59.908Z"
   },
   {
    "duration": 41,
    "start_time": "2023-04-08T07:59:59.923Z"
   },
   {
    "duration": 8,
    "start_time": "2023-04-08T07:59:59.966Z"
   },
   {
    "duration": 17,
    "start_time": "2023-04-08T07:59:59.976Z"
   },
   {
    "duration": 24,
    "start_time": "2023-04-08T07:59:59.995Z"
   },
   {
    "duration": 25,
    "start_time": "2023-04-08T08:00:00.022Z"
   },
   {
    "duration": 19,
    "start_time": "2023-04-08T08:00:00.052Z"
   },
   {
    "duration": 27,
    "start_time": "2023-04-08T08:00:00.073Z"
   },
   {
    "duration": 24,
    "start_time": "2023-04-08T08:00:00.103Z"
   },
   {
    "duration": 52,
    "start_time": "2023-04-08T08:00:00.129Z"
   },
   {
    "duration": 36,
    "start_time": "2023-04-08T08:00:00.184Z"
   },
   {
    "duration": 56,
    "start_time": "2023-04-08T08:00:00.223Z"
   },
   {
    "duration": 41,
    "start_time": "2023-04-08T08:00:00.282Z"
   },
   {
    "duration": 47,
    "start_time": "2023-04-08T08:00:00.325Z"
   },
   {
    "duration": 368,
    "start_time": "2023-04-08T08:00:00.373Z"
   },
   {
    "duration": 27,
    "start_time": "2023-04-08T08:00:00.743Z"
   },
   {
    "duration": 26,
    "start_time": "2023-04-08T08:00:00.772Z"
   },
   {
    "duration": 67,
    "start_time": "2023-04-08T08:00:00.800Z"
   },
   {
    "duration": 60,
    "start_time": "2023-04-08T08:00:00.870Z"
   },
   {
    "duration": 53,
    "start_time": "2023-04-08T08:00:00.933Z"
   },
   {
    "duration": 470,
    "start_time": "2023-04-08T08:00:00.988Z"
   },
   {
    "duration": 481,
    "start_time": "2023-04-08T08:00:01.460Z"
   },
   {
    "duration": 14,
    "start_time": "2023-04-08T08:00:01.945Z"
   },
   {
    "duration": 455,
    "start_time": "2023-04-08T08:00:01.964Z"
   },
   {
    "duration": 400,
    "start_time": "2023-04-08T08:00:02.421Z"
   },
   {
    "duration": 4,
    "start_time": "2023-04-08T08:00:02.824Z"
   },
   {
    "duration": 240,
    "start_time": "2023-04-08T08:00:02.841Z"
   },
   {
    "duration": 14507,
    "start_time": "2023-04-08T08:00:03.083Z"
   },
   {
    "duration": 6,
    "start_time": "2023-04-08T08:00:17.592Z"
   },
   {
    "duration": 27,
    "start_time": "2023-04-08T08:00:17.602Z"
   },
   {
    "duration": 29,
    "start_time": "2023-04-08T08:00:17.631Z"
   },
   {
    "duration": 24,
    "start_time": "2023-04-08T08:00:17.663Z"
   },
   {
    "duration": 23,
    "start_time": "2023-04-08T08:00:17.689Z"
   },
   {
    "duration": 13546,
    "start_time": "2023-04-08T08:00:17.714Z"
   },
   {
    "duration": 19,
    "start_time": "2023-04-08T08:00:31.263Z"
   },
   {
    "duration": 47,
    "start_time": "2023-04-08T08:00:31.286Z"
   },
   {
    "duration": 137,
    "start_time": "2023-04-08T08:00:31.335Z"
   },
   {
    "duration": 89,
    "start_time": "2023-04-08T08:00:31.474Z"
   },
   {
    "duration": 45,
    "start_time": "2023-04-08T08:00:31.568Z"
   },
   {
    "duration": 13227,
    "start_time": "2023-04-08T08:00:31.615Z"
   },
   {
    "duration": 12,
    "start_time": "2023-04-08T08:00:44.845Z"
   },
   {
    "duration": 27,
    "start_time": "2023-04-08T08:00:44.860Z"
   },
   {
    "duration": 35,
    "start_time": "2023-04-08T08:00:44.889Z"
   },
   {
    "duration": 29,
    "start_time": "2023-04-08T08:00:44.926Z"
   },
   {
    "duration": 61,
    "start_time": "2023-04-08T08:00:44.957Z"
   },
   {
    "duration": 56,
    "start_time": "2023-04-08T08:00:45.020Z"
   },
   {
    "duration": 23,
    "start_time": "2023-04-08T08:00:45.079Z"
   },
   {
    "duration": 16,
    "start_time": "2023-04-08T08:04:37.472Z"
   },
   {
    "duration": 891,
    "start_time": "2023-04-08T08:05:09.049Z"
   },
   {
    "duration": 268,
    "start_time": "2023-04-08T08:05:09.944Z"
   },
   {
    "duration": 45,
    "start_time": "2023-04-08T08:05:10.215Z"
   },
   {
    "duration": 30,
    "start_time": "2023-04-08T08:05:10.262Z"
   },
   {
    "duration": 11,
    "start_time": "2023-04-08T08:05:10.294Z"
   },
   {
    "duration": 12,
    "start_time": "2023-04-08T08:05:10.308Z"
   },
   {
    "duration": 41,
    "start_time": "2023-04-08T08:05:10.322Z"
   },
   {
    "duration": 41,
    "start_time": "2023-04-08T08:05:10.365Z"
   },
   {
    "duration": 18,
    "start_time": "2023-04-08T08:05:10.408Z"
   },
   {
    "duration": 51,
    "start_time": "2023-04-08T08:05:10.431Z"
   },
   {
    "duration": 32,
    "start_time": "2023-04-08T08:05:10.485Z"
   },
   {
    "duration": 25,
    "start_time": "2023-04-08T08:05:10.519Z"
   },
   {
    "duration": 21,
    "start_time": "2023-04-08T08:05:10.546Z"
   },
   {
    "duration": 14,
    "start_time": "2023-04-08T08:05:10.569Z"
   },
   {
    "duration": 21,
    "start_time": "2023-04-08T08:05:10.584Z"
   },
   {
    "duration": 12,
    "start_time": "2023-04-08T08:05:10.606Z"
   },
   {
    "duration": 28,
    "start_time": "2023-04-08T08:05:10.621Z"
   },
   {
    "duration": 41,
    "start_time": "2023-04-08T08:05:10.651Z"
   },
   {
    "duration": 59,
    "start_time": "2023-04-08T08:05:10.694Z"
   },
   {
    "duration": 11,
    "start_time": "2023-04-08T08:05:10.755Z"
   },
   {
    "duration": 41,
    "start_time": "2023-04-08T08:05:10.768Z"
   },
   {
    "duration": 23,
    "start_time": "2023-04-08T08:05:10.811Z"
   },
   {
    "duration": 54,
    "start_time": "2023-04-08T08:05:10.837Z"
   },
   {
    "duration": 7,
    "start_time": "2023-04-08T08:05:10.893Z"
   },
   {
    "duration": 32,
    "start_time": "2023-04-08T08:05:10.902Z"
   },
   {
    "duration": 37,
    "start_time": "2023-04-08T08:05:10.937Z"
   },
   {
    "duration": 22,
    "start_time": "2023-04-08T08:05:10.976Z"
   },
   {
    "duration": 34,
    "start_time": "2023-04-08T08:05:11.005Z"
   },
   {
    "duration": 46,
    "start_time": "2023-04-08T08:05:11.044Z"
   },
   {
    "duration": 27,
    "start_time": "2023-04-08T08:05:11.092Z"
   },
   {
    "duration": 33,
    "start_time": "2023-04-08T08:05:11.122Z"
   },
   {
    "duration": 17,
    "start_time": "2023-04-08T08:05:11.167Z"
   },
   {
    "duration": 15,
    "start_time": "2023-04-08T08:05:11.186Z"
   },
   {
    "duration": 15,
    "start_time": "2023-04-08T08:05:11.204Z"
   },
   {
    "duration": 17,
    "start_time": "2023-04-08T08:05:11.221Z"
   },
   {
    "duration": 471,
    "start_time": "2023-04-08T08:05:11.241Z"
   },
   {
    "duration": 31,
    "start_time": "2023-04-08T08:05:11.715Z"
   },
   {
    "duration": 23,
    "start_time": "2023-04-08T08:05:11.749Z"
   },
   {
    "duration": 20,
    "start_time": "2023-04-08T08:05:11.774Z"
   },
   {
    "duration": 7,
    "start_time": "2023-04-08T08:05:11.796Z"
   },
   {
    "duration": 17,
    "start_time": "2023-04-08T08:05:11.805Z"
   },
   {
    "duration": 476,
    "start_time": "2023-04-08T08:05:11.824Z"
   },
   {
    "duration": 503,
    "start_time": "2023-04-08T08:05:12.302Z"
   },
   {
    "duration": 12,
    "start_time": "2023-04-08T08:05:12.807Z"
   },
   {
    "duration": 435,
    "start_time": "2023-04-08T08:05:12.821Z"
   },
   {
    "duration": 392,
    "start_time": "2023-04-08T08:05:13.261Z"
   },
   {
    "duration": 4,
    "start_time": "2023-04-08T08:05:13.658Z"
   },
   {
    "duration": 13,
    "start_time": "2023-04-08T08:05:13.663Z"
   },
   {
    "duration": 13868,
    "start_time": "2023-04-08T08:05:13.678Z"
   },
   {
    "duration": 12,
    "start_time": "2023-04-08T08:05:27.549Z"
   },
   {
    "duration": 15,
    "start_time": "2023-04-08T08:05:27.563Z"
   },
   {
    "duration": 12,
    "start_time": "2023-04-08T08:05:27.580Z"
   },
   {
    "duration": 15,
    "start_time": "2023-04-08T08:05:27.595Z"
   },
   {
    "duration": 25,
    "start_time": "2023-04-08T08:05:27.612Z"
   },
   {
    "duration": 12737,
    "start_time": "2023-04-08T08:05:27.639Z"
   },
   {
    "duration": 14,
    "start_time": "2023-04-08T08:05:40.378Z"
   },
   {
    "duration": 9,
    "start_time": "2023-04-08T08:05:40.395Z"
   },
   {
    "duration": 18,
    "start_time": "2023-04-08T08:05:40.406Z"
   },
   {
    "duration": 11,
    "start_time": "2023-04-08T08:05:40.442Z"
   },
   {
    "duration": 29,
    "start_time": "2023-04-08T08:05:40.455Z"
   },
   {
    "duration": 12515,
    "start_time": "2023-04-08T08:05:40.486Z"
   },
   {
    "duration": 8,
    "start_time": "2023-04-08T08:05:53.002Z"
   },
   {
    "duration": 15,
    "start_time": "2023-04-08T08:05:53.012Z"
   },
   {
    "duration": 37,
    "start_time": "2023-04-08T08:05:53.041Z"
   },
   {
    "duration": 29,
    "start_time": "2023-04-08T08:05:53.080Z"
   },
   {
    "duration": 5,
    "start_time": "2023-04-08T08:05:53.111Z"
   },
   {
    "duration": 48,
    "start_time": "2023-04-08T08:05:53.117Z"
   },
   {
    "duration": 54,
    "start_time": "2023-04-08T08:05:53.167Z"
   },
   {
    "duration": 17,
    "start_time": "2023-04-08T08:05:53.223Z"
   },
   {
    "duration": 62,
    "start_time": "2023-04-08T08:05:53.243Z"
   },
   {
    "duration": 6,
    "start_time": "2023-04-08T08:12:03.981Z"
   },
   {
    "duration": 9,
    "start_time": "2023-04-08T08:12:14.648Z"
   },
   {
    "duration": 6,
    "start_time": "2023-04-08T08:12:45.725Z"
   },
   {
    "duration": 54,
    "start_time": "2023-04-08T08:22:48.991Z"
   },
   {
    "duration": 693,
    "start_time": "2023-04-08T08:23:05.093Z"
   },
   {
    "duration": 275,
    "start_time": "2023-04-08T08:23:05.789Z"
   },
   {
    "duration": 33,
    "start_time": "2023-04-08T08:23:06.411Z"
   },
   {
    "duration": 19,
    "start_time": "2023-04-08T08:23:09.498Z"
   },
   {
    "duration": 13,
    "start_time": "2023-04-08T08:23:10.911Z"
   },
   {
    "duration": 10,
    "start_time": "2023-04-08T08:23:11.939Z"
   },
   {
    "duration": 6,
    "start_time": "2023-04-08T08:23:33.478Z"
   },
   {
    "duration": 94,
    "start_time": "2023-04-08T08:24:19.986Z"
   },
   {
    "duration": 13,
    "start_time": "2023-04-08T08:24:24.490Z"
   },
   {
    "duration": 5,
    "start_time": "2023-04-08T08:33:21.913Z"
   },
   {
    "duration": 5,
    "start_time": "2023-04-08T08:33:29.895Z"
   },
   {
    "duration": 4,
    "start_time": "2023-04-08T08:33:34.980Z"
   },
   {
    "duration": 5,
    "start_time": "2023-04-08T08:33:40.804Z"
   },
   {
    "duration": 5,
    "start_time": "2023-04-08T08:33:43.920Z"
   },
   {
    "duration": 5,
    "start_time": "2023-04-08T08:33:59.579Z"
   },
   {
    "duration": 5,
    "start_time": "2023-04-08T08:34:04.121Z"
   },
   {
    "duration": 5,
    "start_time": "2023-04-08T08:34:07.879Z"
   },
   {
    "duration": 4,
    "start_time": "2023-04-08T08:34:11.817Z"
   },
   {
    "duration": 33,
    "start_time": "2023-04-08T08:41:01.099Z"
   },
   {
    "duration": 5,
    "start_time": "2023-04-08T08:41:18.635Z"
   },
   {
    "duration": 52,
    "start_time": "2023-04-08T08:43:03.800Z"
   },
   {
    "duration": 3,
    "start_time": "2023-04-08T08:43:07.606Z"
   },
   {
    "duration": 15,
    "start_time": "2023-04-08T08:43:09.985Z"
   },
   {
    "duration": 13,
    "start_time": "2023-04-08T08:43:58.387Z"
   },
   {
    "duration": 4,
    "start_time": "2023-04-08T08:43:59.109Z"
   },
   {
    "duration": 37,
    "start_time": "2023-04-08T08:43:59.756Z"
   },
   {
    "duration": 4,
    "start_time": "2023-04-08T08:44:00.980Z"
   },
   {
    "duration": 11,
    "start_time": "2023-04-08T08:44:03.417Z"
   },
   {
    "duration": 5,
    "start_time": "2023-04-08T08:45:14.113Z"
   },
   {
    "duration": 1253,
    "start_time": "2023-04-08T08:46:41.460Z"
   },
   {
    "duration": 9,
    "start_time": "2023-04-08T08:46:47.760Z"
   },
   {
    "duration": 1034,
    "start_time": "2023-04-08T08:46:48.997Z"
   },
   {
    "duration": 197,
    "start_time": "2023-04-08T08:47:03.899Z"
   },
   {
    "duration": 342,
    "start_time": "2023-04-08T08:47:26.650Z"
   },
   {
    "duration": 337,
    "start_time": "2023-04-08T08:47:41.528Z"
   },
   {
    "duration": 221,
    "start_time": "2023-04-08T08:48:20.238Z"
   },
   {
    "duration": 14,
    "start_time": "2023-04-08T08:48:55.289Z"
   },
   {
    "duration": 256,
    "start_time": "2023-04-08T08:49:23.018Z"
   },
   {
    "duration": 5,
    "start_time": "2023-04-08T08:50:04.890Z"
   },
   {
    "duration": 4,
    "start_time": "2023-04-08T08:50:11.180Z"
   },
   {
    "duration": 11,
    "start_time": "2023-04-08T08:50:34.359Z"
   },
   {
    "duration": 11,
    "start_time": "2023-04-08T08:50:36.992Z"
   },
   {
    "duration": 10,
    "start_time": "2023-04-08T08:54:05.118Z"
   },
   {
    "duration": 65,
    "start_time": "2023-04-08T08:54:58.840Z"
   },
   {
    "duration": 13,
    "start_time": "2023-04-08T08:55:26.381Z"
   },
   {
    "duration": 785,
    "start_time": "2023-04-08T09:06:02.979Z"
   },
   {
    "duration": 321,
    "start_time": "2023-04-08T09:06:03.773Z"
   },
   {
    "duration": 31,
    "start_time": "2023-04-08T09:06:04.097Z"
   },
   {
    "duration": 46,
    "start_time": "2023-04-08T09:06:04.131Z"
   },
   {
    "duration": 16,
    "start_time": "2023-04-08T09:06:07.864Z"
   },
   {
    "duration": 25,
    "start_time": "2023-04-08T09:06:09.486Z"
   },
   {
    "duration": 32,
    "start_time": "2023-04-08T09:06:16.431Z"
   },
   {
    "duration": 36,
    "start_time": "2023-04-08T09:06:33.697Z"
   },
   {
    "duration": 21,
    "start_time": "2023-04-08T09:07:55.587Z"
   },
   {
    "duration": 25,
    "start_time": "2023-04-08T09:08:18.027Z"
   },
   {
    "duration": 23,
    "start_time": "2023-04-08T09:08:35.166Z"
   },
   {
    "duration": 21,
    "start_time": "2023-04-08T09:09:28.189Z"
   },
   {
    "duration": 28,
    "start_time": "2023-04-08T09:09:58.893Z"
   },
   {
    "duration": 19,
    "start_time": "2023-04-08T09:10:21.292Z"
   },
   {
    "duration": 4,
    "start_time": "2023-04-08T09:14:32.501Z"
   },
   {
    "duration": 80,
    "start_time": "2023-04-08T09:14:45.322Z"
   },
   {
    "duration": 7,
    "start_time": "2023-04-08T09:15:25.980Z"
   },
   {
    "duration": 91,
    "start_time": "2023-04-08T09:16:19.813Z"
   },
   {
    "duration": 9,
    "start_time": "2023-04-08T09:20:14.120Z"
   },
   {
    "duration": 10,
    "start_time": "2023-04-08T09:25:28.125Z"
   },
   {
    "duration": 12,
    "start_time": "2023-04-08T09:26:36.398Z"
   },
   {
    "duration": 9,
    "start_time": "2023-04-08T09:29:08.969Z"
   },
   {
    "duration": 96,
    "start_time": "2023-04-08T09:33:00.016Z"
   },
   {
    "duration": 48,
    "start_time": "2023-04-08T09:33:27.447Z"
   },
   {
    "duration": 4,
    "start_time": "2023-04-08T09:34:23.928Z"
   },
   {
    "duration": 5,
    "start_time": "2023-04-08T09:35:11.652Z"
   },
   {
    "duration": 5,
    "start_time": "2023-04-08T09:35:23.313Z"
   },
   {
    "duration": 10,
    "start_time": "2023-04-08T09:35:32.513Z"
   },
   {
    "duration": 10,
    "start_time": "2023-04-08T09:35:39.778Z"
   },
   {
    "duration": 11,
    "start_time": "2023-04-08T09:43:41.485Z"
   },
   {
    "duration": 14,
    "start_time": "2023-04-08T09:43:52.759Z"
   },
   {
    "duration": 8,
    "start_time": "2023-04-08T09:54:32.999Z"
   },
   {
    "duration": 3,
    "start_time": "2023-04-08T09:54:44.699Z"
   },
   {
    "duration": 10,
    "start_time": "2023-04-08T09:54:48.830Z"
   },
   {
    "duration": 6,
    "start_time": "2023-04-08T09:57:08.455Z"
   },
   {
    "duration": 10,
    "start_time": "2023-04-08T09:57:38.960Z"
   },
   {
    "duration": 22,
    "start_time": "2023-04-08T09:59:06.263Z"
   },
   {
    "duration": 205,
    "start_time": "2023-04-08T10:00:03.496Z"
   },
   {
    "duration": 6,
    "start_time": "2023-04-08T10:00:16.636Z"
   },
   {
    "duration": 132,
    "start_time": "2023-04-08T10:00:41.599Z"
   },
   {
    "duration": 9,
    "start_time": "2023-04-08T10:00:52.772Z"
   },
   {
    "duration": 14,
    "start_time": "2023-04-08T10:03:35.304Z"
   },
   {
    "duration": 3,
    "start_time": "2023-04-08T10:05:12.656Z"
   },
   {
    "duration": 10,
    "start_time": "2023-04-08T10:05:32.561Z"
   },
   {
    "duration": 14,
    "start_time": "2023-04-08T10:06:58.961Z"
   },
   {
    "duration": 12,
    "start_time": "2023-04-08T10:07:20.835Z"
   },
   {
    "duration": 205,
    "start_time": "2023-04-08T10:13:08.865Z"
   },
   {
    "duration": 70,
    "start_time": "2023-04-08T10:13:22.888Z"
   },
   {
    "duration": 75,
    "start_time": "2023-04-08T10:13:44.091Z"
   },
   {
    "duration": 4,
    "start_time": "2023-04-08T10:13:54.949Z"
   },
   {
    "duration": 10,
    "start_time": "2023-04-08T10:14:10.358Z"
   },
   {
    "duration": 676,
    "start_time": "2023-04-08T10:14:58.333Z"
   },
   {
    "duration": 199,
    "start_time": "2023-04-08T10:14:59.012Z"
   },
   {
    "duration": 30,
    "start_time": "2023-04-08T10:14:59.246Z"
   },
   {
    "duration": 19,
    "start_time": "2023-04-08T10:15:02.698Z"
   },
   {
    "duration": 11,
    "start_time": "2023-04-08T10:15:06.301Z"
   },
   {
    "duration": 4,
    "start_time": "2023-04-08T10:15:07.477Z"
   },
   {
    "duration": 1302,
    "start_time": "2023-04-08T10:15:08.950Z"
   },
   {
    "duration": 3,
    "start_time": "2023-04-08T10:15:25.645Z"
   },
   {
    "duration": 5,
    "start_time": "2023-04-08T10:15:26.736Z"
   },
   {
    "duration": 443,
    "start_time": "2023-04-08T10:15:28.678Z"
   },
   {
    "duration": 4,
    "start_time": "2023-04-08T10:21:03.870Z"
   },
   {
    "duration": 123,
    "start_time": "2023-04-08T10:21:05.774Z"
   },
   {
    "duration": 157,
    "start_time": "2023-04-08T10:21:13.535Z"
   },
   {
    "duration": 148,
    "start_time": "2023-04-08T10:21:41.215Z"
   },
   {
    "duration": 140,
    "start_time": "2023-04-08T10:21:59.887Z"
   },
   {
    "duration": 6,
    "start_time": "2023-04-08T10:22:10.575Z"
   },
   {
    "duration": 6,
    "start_time": "2023-04-08T10:22:41.399Z"
   },
   {
    "duration": 5,
    "start_time": "2023-04-08T10:23:00.786Z"
   },
   {
    "duration": 117,
    "start_time": "2023-04-08T10:23:01.481Z"
   },
   {
    "duration": 5,
    "start_time": "2023-04-08T10:23:02.832Z"
   },
   {
    "duration": 5,
    "start_time": "2023-04-08T10:23:17.008Z"
   },
   {
    "duration": 147,
    "start_time": "2023-04-08T10:23:17.668Z"
   },
   {
    "duration": 6,
    "start_time": "2023-04-08T10:23:18.459Z"
   },
   {
    "duration": 5,
    "start_time": "2023-04-08T10:23:20.537Z"
   },
   {
    "duration": 4,
    "start_time": "2023-04-08T10:37:27.154Z"
   },
   {
    "duration": 388,
    "start_time": "2023-04-08T10:38:48.450Z"
   },
   {
    "duration": 28,
    "start_time": "2023-04-08T10:38:49.188Z"
   },
   {
    "duration": 22,
    "start_time": "2023-04-08T10:38:52.434Z"
   },
   {
    "duration": 93,
    "start_time": "2023-04-08T10:40:34.844Z"
   },
   {
    "duration": 117,
    "start_time": "2023-04-08T10:52:04.095Z"
   },
   {
    "duration": 12,
    "start_time": "2023-04-08T10:52:34.210Z"
   },
   {
    "duration": 5,
    "start_time": "2023-04-08T10:52:44.896Z"
   },
   {
    "duration": 140,
    "start_time": "2023-04-08T10:53:08.212Z"
   },
   {
    "duration": 10,
    "start_time": "2023-04-08T10:53:14.720Z"
   },
   {
    "duration": 9,
    "start_time": "2023-04-08T10:54:06.650Z"
   },
   {
    "duration": 153,
    "start_time": "2023-04-08T10:56:40.920Z"
   },
   {
    "duration": 12,
    "start_time": "2023-04-08T10:56:48.292Z"
   },
   {
    "duration": 12,
    "start_time": "2023-04-08T10:58:47.625Z"
   },
   {
    "duration": 20,
    "start_time": "2023-04-08T11:02:56.733Z"
   },
   {
    "duration": 6,
    "start_time": "2023-04-08T11:23:29.480Z"
   },
   {
    "duration": 5,
    "start_time": "2023-04-08T11:23:49.212Z"
   },
   {
    "duration": 5,
    "start_time": "2023-04-08T12:07:14.978Z"
   },
   {
    "duration": 7,
    "start_time": "2023-04-08T12:21:26.989Z"
   },
   {
    "duration": 8,
    "start_time": "2023-04-08T12:21:45.894Z"
   },
   {
    "duration": 5,
    "start_time": "2023-04-08T12:22:02.798Z"
   },
   {
    "duration": 295,
    "start_time": "2023-04-08T12:24:11.162Z"
   },
   {
    "duration": 184,
    "start_time": "2023-04-08T12:24:38.386Z"
   },
   {
    "duration": 213,
    "start_time": "2023-04-08T12:25:01.284Z"
   },
   {
    "duration": 268,
    "start_time": "2023-04-08T12:25:20.690Z"
   },
   {
    "duration": 244,
    "start_time": "2023-04-08T12:25:31.255Z"
   },
   {
    "duration": 217,
    "start_time": "2023-04-08T12:25:54.147Z"
   },
   {
    "duration": 245,
    "start_time": "2023-04-08T12:26:03.336Z"
   },
   {
    "duration": 237,
    "start_time": "2023-04-08T12:26:15.049Z"
   },
   {
    "duration": 187,
    "start_time": "2023-04-08T12:30:58.530Z"
   },
   {
    "duration": 9,
    "start_time": "2023-04-08T12:31:28.256Z"
   },
   {
    "duration": 139,
    "start_time": "2023-04-08T12:31:31.031Z"
   },
   {
    "duration": 21,
    "start_time": "2023-04-08T12:37:49.236Z"
   },
   {
    "duration": 9,
    "start_time": "2023-04-08T12:38:12.502Z"
   },
   {
    "duration": 773,
    "start_time": "2023-04-08T12:38:24.873Z"
   },
   {
    "duration": 296,
    "start_time": "2023-04-08T12:38:25.649Z"
   },
   {
    "duration": 42,
    "start_time": "2023-04-08T12:38:25.948Z"
   },
   {
    "duration": 33,
    "start_time": "2023-04-08T12:38:25.993Z"
   },
   {
    "duration": 26,
    "start_time": "2023-04-08T12:38:26.029Z"
   },
   {
    "duration": 26,
    "start_time": "2023-04-08T12:38:26.058Z"
   },
   {
    "duration": 21,
    "start_time": "2023-04-08T12:38:26.086Z"
   },
   {
    "duration": 12,
    "start_time": "2023-04-08T12:38:26.109Z"
   },
   {
    "duration": 22,
    "start_time": "2023-04-08T12:38:26.123Z"
   },
   {
    "duration": 6,
    "start_time": "2023-04-08T12:38:26.149Z"
   },
   {
    "duration": 22,
    "start_time": "2023-04-08T12:38:26.156Z"
   },
   {
    "duration": 14,
    "start_time": "2023-04-08T12:38:26.180Z"
   },
   {
    "duration": 12,
    "start_time": "2023-04-08T12:38:26.196Z"
   },
   {
    "duration": 17,
    "start_time": "2023-04-08T12:38:26.242Z"
   },
   {
    "duration": 11,
    "start_time": "2023-04-08T12:38:26.261Z"
   },
   {
    "duration": 19,
    "start_time": "2023-04-08T12:38:26.274Z"
   },
   {
    "duration": 59,
    "start_time": "2023-04-08T12:38:26.295Z"
   },
   {
    "duration": 57,
    "start_time": "2023-04-08T12:38:26.356Z"
   },
   {
    "duration": 29,
    "start_time": "2023-04-08T12:38:26.415Z"
   },
   {
    "duration": 7,
    "start_time": "2023-04-08T12:38:26.445Z"
   },
   {
    "duration": 17,
    "start_time": "2023-04-08T12:38:26.454Z"
   },
   {
    "duration": 34,
    "start_time": "2023-04-08T12:38:26.473Z"
   },
   {
    "duration": 5,
    "start_time": "2023-04-08T12:38:26.510Z"
   },
   {
    "duration": 27,
    "start_time": "2023-04-08T12:38:26.517Z"
   },
   {
    "duration": 17,
    "start_time": "2023-04-08T12:38:26.547Z"
   },
   {
    "duration": 9,
    "start_time": "2023-04-08T12:38:26.566Z"
   },
   {
    "duration": 18,
    "start_time": "2023-04-08T12:38:26.577Z"
   },
   {
    "duration": 12,
    "start_time": "2023-04-08T12:38:26.601Z"
   },
   {
    "duration": 27,
    "start_time": "2023-04-08T12:38:26.615Z"
   },
   {
    "duration": 21,
    "start_time": "2023-04-08T12:38:26.645Z"
   },
   {
    "duration": 48,
    "start_time": "2023-04-08T12:38:26.668Z"
   },
   {
    "duration": 41,
    "start_time": "2023-04-08T12:38:26.718Z"
   },
   {
    "duration": 31,
    "start_time": "2023-04-08T12:38:26.761Z"
   },
   {
    "duration": 17,
    "start_time": "2023-04-08T12:38:26.795Z"
   },
   {
    "duration": 331,
    "start_time": "2023-04-08T12:38:26.815Z"
   },
   {
    "duration": 14,
    "start_time": "2023-04-08T12:38:27.150Z"
   },
   {
    "duration": 19,
    "start_time": "2023-04-08T12:38:27.166Z"
   },
   {
    "duration": 34,
    "start_time": "2023-04-08T12:38:27.187Z"
   },
   {
    "duration": 11,
    "start_time": "2023-04-08T12:38:27.223Z"
   },
   {
    "duration": 17,
    "start_time": "2023-04-08T12:38:27.236Z"
   },
   {
    "duration": 417,
    "start_time": "2023-04-08T12:38:27.259Z"
   },
   {
    "duration": 535,
    "start_time": "2023-04-08T12:38:27.679Z"
   },
   {
    "duration": 11,
    "start_time": "2023-04-08T12:38:28.216Z"
   },
   {
    "duration": 429,
    "start_time": "2023-04-08T12:38:28.240Z"
   },
   {
    "duration": 376,
    "start_time": "2023-04-08T12:38:28.671Z"
   },
   {
    "duration": 7,
    "start_time": "2023-04-08T12:38:29.049Z"
   },
   {
    "duration": 13,
    "start_time": "2023-04-08T12:38:29.058Z"
   },
   {
    "duration": 13732,
    "start_time": "2023-04-08T12:38:29.073Z"
   },
   {
    "duration": 6,
    "start_time": "2023-04-08T12:38:42.807Z"
   },
   {
    "duration": 6,
    "start_time": "2023-04-08T12:38:42.815Z"
   },
   {
    "duration": 19,
    "start_time": "2023-04-08T12:38:42.823Z"
   },
   {
    "duration": 13,
    "start_time": "2023-04-08T12:38:42.844Z"
   },
   {
    "duration": 21,
    "start_time": "2023-04-08T12:38:42.859Z"
   },
   {
    "duration": 13386,
    "start_time": "2023-04-08T12:38:42.882Z"
   },
   {
    "duration": 16,
    "start_time": "2023-04-08T12:38:56.270Z"
   },
   {
    "duration": 5,
    "start_time": "2023-04-08T12:38:56.288Z"
   },
   {
    "duration": 12,
    "start_time": "2023-04-08T12:38:56.295Z"
   },
   {
    "duration": 6,
    "start_time": "2023-04-08T12:38:56.309Z"
   },
   {
    "duration": 6,
    "start_time": "2023-04-08T12:38:56.344Z"
   },
   {
    "duration": 12279,
    "start_time": "2023-04-08T12:38:56.352Z"
   },
   {
    "duration": 11,
    "start_time": "2023-04-08T12:39:08.633Z"
   },
   {
    "duration": 43,
    "start_time": "2023-04-08T12:39:08.647Z"
   },
   {
    "duration": 38,
    "start_time": "2023-04-08T12:39:08.692Z"
   },
   {
    "duration": 160,
    "start_time": "2023-04-08T12:39:08.732Z"
   },
   {
    "duration": 16,
    "start_time": "2023-04-08T12:39:08.893Z"
   },
   {
    "duration": 20,
    "start_time": "2023-04-08T12:39:08.910Z"
   },
   {
    "duration": 49,
    "start_time": "2023-04-08T12:39:08.932Z"
   },
   {
    "duration": 16,
    "start_time": "2023-04-08T12:39:08.983Z"
   },
   {
    "duration": 14,
    "start_time": "2023-04-08T12:39:09.000Z"
   },
   {
    "duration": 17,
    "start_time": "2023-04-08T12:39:09.015Z"
   },
   {
    "duration": 50,
    "start_time": "2023-04-08T12:39:09.034Z"
   },
   {
    "duration": 25,
    "start_time": "2023-04-08T12:39:09.086Z"
   },
   {
    "duration": 291,
    "start_time": "2023-04-08T12:39:09.112Z"
   },
   {
    "duration": 7,
    "start_time": "2023-04-08T12:39:09.405Z"
   },
   {
    "duration": 334,
    "start_time": "2023-04-08T12:39:09.414Z"
   },
   {
    "duration": 8,
    "start_time": "2023-04-08T12:40:22.920Z"
   },
   {
    "duration": 245,
    "start_time": "2023-04-08T12:40:27.083Z"
   },
   {
    "duration": 10,
    "start_time": "2023-04-08T12:41:47.572Z"
   },
   {
    "duration": 169,
    "start_time": "2023-04-08T12:42:41.124Z"
   },
   {
    "duration": 8,
    "start_time": "2023-04-08T12:42:56.316Z"
   },
   {
    "duration": 225,
    "start_time": "2023-04-08T12:42:57.764Z"
   },
   {
    "duration": 8,
    "start_time": "2023-04-08T12:43:03.113Z"
   },
   {
    "duration": 9,
    "start_time": "2023-04-08T12:43:03.953Z"
   },
   {
    "duration": 228,
    "start_time": "2023-04-08T12:43:04.821Z"
   },
   {
    "duration": 261,
    "start_time": "2023-04-08T12:43:34.249Z"
   },
   {
    "duration": 11,
    "start_time": "2023-04-08T12:44:35.308Z"
   },
   {
    "duration": 16,
    "start_time": "2023-04-08T12:44:36.262Z"
   },
   {
    "duration": 268,
    "start_time": "2023-04-08T12:44:37.014Z"
   },
   {
    "duration": 9,
    "start_time": "2023-04-08T12:44:59.013Z"
   },
   {
    "duration": 201,
    "start_time": "2023-04-08T12:45:01.719Z"
   },
   {
    "duration": 9,
    "start_time": "2023-04-08T12:45:26.787Z"
   },
   {
    "duration": 9,
    "start_time": "2023-04-08T12:45:27.821Z"
   },
   {
    "duration": 225,
    "start_time": "2023-04-08T12:45:28.703Z"
   },
   {
    "duration": 50,
    "start_time": "2023-04-09T11:10:10.750Z"
   },
   {
    "duration": 812,
    "start_time": "2023-04-09T11:10:14.406Z"
   },
   {
    "duration": 246,
    "start_time": "2023-04-09T11:10:15.220Z"
   },
   {
    "duration": 24,
    "start_time": "2023-04-09T11:10:15.468Z"
   },
   {
    "duration": 18,
    "start_time": "2023-04-09T11:10:15.494Z"
   },
   {
    "duration": 5,
    "start_time": "2023-04-09T11:10:15.513Z"
   },
   {
    "duration": 28,
    "start_time": "2023-04-09T11:10:15.520Z"
   },
   {
    "duration": 11,
    "start_time": "2023-04-09T11:10:15.549Z"
   },
   {
    "duration": 8,
    "start_time": "2023-04-09T11:10:15.561Z"
   },
   {
    "duration": 22,
    "start_time": "2023-04-09T11:10:15.570Z"
   },
   {
    "duration": 3,
    "start_time": "2023-04-09T11:10:15.595Z"
   },
   {
    "duration": 12,
    "start_time": "2023-04-09T11:10:15.599Z"
   },
   {
    "duration": 28,
    "start_time": "2023-04-09T11:10:15.613Z"
   },
   {
    "duration": 8,
    "start_time": "2023-04-09T11:10:15.642Z"
   },
   {
    "duration": 10,
    "start_time": "2023-04-09T11:10:15.652Z"
   },
   {
    "duration": 7,
    "start_time": "2023-04-09T11:10:15.664Z"
   },
   {
    "duration": 4,
    "start_time": "2023-04-09T11:10:15.672Z"
   },
   {
    "duration": 30,
    "start_time": "2023-04-09T11:10:15.677Z"
   },
   {
    "duration": 63,
    "start_time": "2023-04-09T11:10:15.708Z"
   },
   {
    "duration": 7,
    "start_time": "2023-04-09T11:10:15.773Z"
   },
   {
    "duration": 5,
    "start_time": "2023-04-09T11:10:15.782Z"
   },
   {
    "duration": 6,
    "start_time": "2023-04-09T11:10:15.788Z"
   },
   {
    "duration": 16,
    "start_time": "2023-04-09T11:10:15.795Z"
   },
   {
    "duration": 5,
    "start_time": "2023-04-09T11:10:15.839Z"
   },
   {
    "duration": 14,
    "start_time": "2023-04-09T11:10:15.845Z"
   },
   {
    "duration": 14,
    "start_time": "2023-04-09T11:10:15.861Z"
   },
   {
    "duration": 7,
    "start_time": "2023-04-09T11:10:15.876Z"
   },
   {
    "duration": 15,
    "start_time": "2023-04-09T11:10:15.885Z"
   },
   {
    "duration": 4,
    "start_time": "2023-04-09T11:10:15.905Z"
   },
   {
    "duration": 5,
    "start_time": "2023-04-09T11:10:15.910Z"
   },
   {
    "duration": 24,
    "start_time": "2023-04-09T11:10:15.917Z"
   },
   {
    "duration": 20,
    "start_time": "2023-04-09T11:10:15.943Z"
   },
   {
    "duration": 6,
    "start_time": "2023-04-09T11:10:15.964Z"
   },
   {
    "duration": 13,
    "start_time": "2023-04-09T11:10:15.972Z"
   },
   {
    "duration": 10,
    "start_time": "2023-04-09T11:10:15.986Z"
   },
   {
    "duration": 290,
    "start_time": "2023-04-09T11:10:15.998Z"
   },
   {
    "duration": 14,
    "start_time": "2023-04-09T11:10:16.290Z"
   },
   {
    "duration": 4,
    "start_time": "2023-04-09T11:10:16.305Z"
   },
   {
    "duration": 12,
    "start_time": "2023-04-09T11:10:16.310Z"
   },
   {
    "duration": 3,
    "start_time": "2023-04-09T11:10:16.340Z"
   },
   {
    "duration": 13,
    "start_time": "2023-04-09T11:10:16.345Z"
   },
   {
    "duration": 341,
    "start_time": "2023-04-09T11:10:16.359Z"
   },
   {
    "duration": 418,
    "start_time": "2023-04-09T11:10:16.701Z"
   },
   {
    "duration": 7,
    "start_time": "2023-04-09T11:10:17.121Z"
   },
   {
    "duration": 303,
    "start_time": "2023-04-09T11:10:17.129Z"
   },
   {
    "duration": 299,
    "start_time": "2023-04-09T11:10:17.434Z"
   },
   {
    "duration": 6,
    "start_time": "2023-04-09T11:10:17.735Z"
   },
   {
    "duration": 12,
    "start_time": "2023-04-09T11:10:17.742Z"
   },
   {
    "duration": 10563,
    "start_time": "2023-04-09T11:10:17.755Z"
   },
   {
    "duration": 4,
    "start_time": "2023-04-09T11:10:28.320Z"
   },
   {
    "duration": 22,
    "start_time": "2023-04-09T11:10:28.325Z"
   },
   {
    "duration": 28,
    "start_time": "2023-04-09T11:10:28.348Z"
   },
   {
    "duration": 32,
    "start_time": "2023-04-09T11:10:28.378Z"
   },
   {
    "duration": 28,
    "start_time": "2023-04-09T11:10:28.411Z"
   },
   {
    "duration": 10866,
    "start_time": "2023-04-09T11:10:28.440Z"
   },
   {
    "duration": 10,
    "start_time": "2023-04-09T11:10:39.307Z"
   },
   {
    "duration": 6,
    "start_time": "2023-04-09T11:10:39.318Z"
   },
   {
    "duration": 18,
    "start_time": "2023-04-09T11:10:39.326Z"
   },
   {
    "duration": 5,
    "start_time": "2023-04-09T11:10:39.345Z"
   },
   {
    "duration": 6,
    "start_time": "2023-04-09T11:10:39.351Z"
   },
   {
    "duration": 9599,
    "start_time": "2023-04-09T11:10:39.358Z"
   },
   {
    "duration": 5,
    "start_time": "2023-04-09T11:10:48.958Z"
   },
   {
    "duration": 17,
    "start_time": "2023-04-09T11:10:48.964Z"
   },
   {
    "duration": 10,
    "start_time": "2023-04-09T11:10:48.982Z"
   },
   {
    "duration": 111,
    "start_time": "2023-04-09T11:10:48.993Z"
   },
   {
    "duration": 9,
    "start_time": "2023-04-09T11:10:49.106Z"
   },
   {
    "duration": 10,
    "start_time": "2023-04-09T11:10:49.116Z"
   },
   {
    "duration": 15,
    "start_time": "2023-04-09T11:10:49.127Z"
   },
   {
    "duration": 7,
    "start_time": "2023-04-09T11:10:49.143Z"
   },
   {
    "duration": 8,
    "start_time": "2023-04-09T11:10:49.151Z"
   },
   {
    "duration": 11,
    "start_time": "2023-04-09T11:10:49.161Z"
   },
   {
    "duration": 11,
    "start_time": "2023-04-09T11:10:49.174Z"
   },
   {
    "duration": 16,
    "start_time": "2023-04-09T11:10:49.186Z"
   },
   {
    "duration": 211,
    "start_time": "2023-04-09T11:10:49.203Z"
   },
   {
    "duration": 42,
    "start_time": "2023-04-09T11:10:49.416Z"
   },
   {
    "duration": 0,
    "start_time": "2023-04-09T11:10:49.459Z"
   },
   {
    "duration": 0,
    "start_time": "2023-04-09T11:10:49.460Z"
   },
   {
    "duration": 6,
    "start_time": "2023-04-09T11:27:10.160Z"
   },
   {
    "duration": 7,
    "start_time": "2023-04-09T11:27:20.509Z"
   },
   {
    "duration": 6,
    "start_time": "2023-04-09T11:27:29.424Z"
   },
   {
    "duration": 8,
    "start_time": "2023-04-09T11:27:54.652Z"
   },
   {
    "duration": 6,
    "start_time": "2023-04-09T11:28:01.567Z"
   },
   {
    "duration": 211,
    "start_time": "2023-04-09T11:28:05.509Z"
   },
   {
    "duration": 6,
    "start_time": "2023-04-09T11:29:10.730Z"
   },
   {
    "duration": 5,
    "start_time": "2023-04-09T11:29:12.283Z"
   },
   {
    "duration": 177,
    "start_time": "2023-04-09T11:29:13.427Z"
   },
   {
    "duration": 5,
    "start_time": "2023-04-09T11:30:06.972Z"
   },
   {
    "duration": 175,
    "start_time": "2023-04-09T11:30:07.917Z"
   },
   {
    "duration": 6,
    "start_time": "2023-04-09T11:32:31.167Z"
   },
   {
    "duration": 6,
    "start_time": "2023-04-09T11:32:40.389Z"
   },
   {
    "duration": 641,
    "start_time": "2023-04-09T11:33:38.137Z"
   },
   {
    "duration": 146,
    "start_time": "2023-04-09T11:33:38.780Z"
   },
   {
    "duration": 25,
    "start_time": "2023-04-09T11:33:38.928Z"
   },
   {
    "duration": 18,
    "start_time": "2023-04-09T11:33:38.955Z"
   },
   {
    "duration": 8,
    "start_time": "2023-04-09T11:33:38.975Z"
   },
   {
    "duration": 32,
    "start_time": "2023-04-09T11:33:38.984Z"
   },
   {
    "duration": 9,
    "start_time": "2023-04-09T11:33:39.018Z"
   },
   {
    "duration": 17,
    "start_time": "2023-04-09T11:33:39.029Z"
   },
   {
    "duration": 8,
    "start_time": "2023-04-09T11:33:39.047Z"
   },
   {
    "duration": 3,
    "start_time": "2023-04-09T11:33:39.058Z"
   },
   {
    "duration": 14,
    "start_time": "2023-04-09T11:33:39.062Z"
   },
   {
    "duration": 9,
    "start_time": "2023-04-09T11:33:39.077Z"
   },
   {
    "duration": 7,
    "start_time": "2023-04-09T11:33:39.087Z"
   },
   {
    "duration": 18,
    "start_time": "2023-04-09T11:33:39.095Z"
   },
   {
    "duration": 30,
    "start_time": "2023-04-09T11:33:39.114Z"
   },
   {
    "duration": 4,
    "start_time": "2023-04-09T11:33:39.145Z"
   },
   {
    "duration": 27,
    "start_time": "2023-04-09T11:33:39.150Z"
   },
   {
    "duration": 65,
    "start_time": "2023-04-09T11:33:39.178Z"
   },
   {
    "duration": 7,
    "start_time": "2023-04-09T11:33:39.245Z"
   },
   {
    "duration": 5,
    "start_time": "2023-04-09T11:33:39.253Z"
   },
   {
    "duration": 6,
    "start_time": "2023-04-09T11:33:39.260Z"
   },
   {
    "duration": 16,
    "start_time": "2023-04-09T11:33:39.267Z"
   },
   {
    "duration": 4,
    "start_time": "2023-04-09T11:33:39.285Z"
   },
   {
    "duration": 10,
    "start_time": "2023-04-09T11:33:39.291Z"
   },
   {
    "duration": 39,
    "start_time": "2023-04-09T11:33:39.303Z"
   },
   {
    "duration": 6,
    "start_time": "2023-04-09T11:33:39.343Z"
   },
   {
    "duration": 4,
    "start_time": "2023-04-09T11:33:39.350Z"
   },
   {
    "duration": 4,
    "start_time": "2023-04-09T11:33:39.358Z"
   },
   {
    "duration": 4,
    "start_time": "2023-04-09T11:33:39.363Z"
   },
   {
    "duration": 10,
    "start_time": "2023-04-09T11:33:39.368Z"
   },
   {
    "duration": 10,
    "start_time": "2023-04-09T11:33:39.379Z"
   },
   {
    "duration": 5,
    "start_time": "2023-04-09T11:33:39.390Z"
   },
   {
    "duration": 46,
    "start_time": "2023-04-09T11:33:39.396Z"
   },
   {
    "duration": 10,
    "start_time": "2023-04-09T11:33:39.443Z"
   },
   {
    "duration": 281,
    "start_time": "2023-04-09T11:33:39.455Z"
   },
   {
    "duration": 11,
    "start_time": "2023-04-09T11:33:39.737Z"
   },
   {
    "duration": 7,
    "start_time": "2023-04-09T11:33:39.749Z"
   },
   {
    "duration": 12,
    "start_time": "2023-04-09T11:33:39.758Z"
   },
   {
    "duration": 5,
    "start_time": "2023-04-09T11:33:39.772Z"
   },
   {
    "duration": 8,
    "start_time": "2023-04-09T11:33:39.779Z"
   },
   {
    "duration": 341,
    "start_time": "2023-04-09T11:33:39.789Z"
   },
   {
    "duration": 359,
    "start_time": "2023-04-09T11:33:40.131Z"
   },
   {
    "duration": 8,
    "start_time": "2023-04-09T11:33:40.491Z"
   },
   {
    "duration": 339,
    "start_time": "2023-04-09T11:33:40.501Z"
   },
   {
    "duration": 311,
    "start_time": "2023-04-09T11:33:40.842Z"
   },
   {
    "duration": 3,
    "start_time": "2023-04-09T11:33:41.154Z"
   },
   {
    "duration": 4,
    "start_time": "2023-04-09T11:33:41.158Z"
   },
   {
    "duration": 11002,
    "start_time": "2023-04-09T11:33:41.163Z"
   },
   {
    "duration": 6,
    "start_time": "2023-04-09T11:33:52.166Z"
   },
   {
    "duration": 4,
    "start_time": "2023-04-09T11:33:52.173Z"
   },
   {
    "duration": 3,
    "start_time": "2023-04-09T11:33:52.178Z"
   },
   {
    "duration": 11,
    "start_time": "2023-04-09T11:33:52.182Z"
   },
   {
    "duration": 4,
    "start_time": "2023-04-09T11:33:52.194Z"
   },
   {
    "duration": 10515,
    "start_time": "2023-04-09T11:33:52.199Z"
   },
   {
    "duration": 8,
    "start_time": "2023-04-09T11:34:02.715Z"
   },
   {
    "duration": 3,
    "start_time": "2023-04-09T11:34:02.725Z"
   },
   {
    "duration": 5,
    "start_time": "2023-04-09T11:34:02.740Z"
   },
   {
    "duration": 2,
    "start_time": "2023-04-09T11:34:02.747Z"
   },
   {
    "duration": 4,
    "start_time": "2023-04-09T11:34:02.751Z"
   },
   {
    "duration": 9071,
    "start_time": "2023-04-09T11:34:02.756Z"
   },
   {
    "duration": 11,
    "start_time": "2023-04-09T11:34:11.829Z"
   },
   {
    "duration": 4,
    "start_time": "2023-04-09T11:34:11.842Z"
   },
   {
    "duration": 3,
    "start_time": "2023-04-09T11:34:11.848Z"
   },
   {
    "duration": 121,
    "start_time": "2023-04-09T11:34:11.852Z"
   },
   {
    "duration": 10,
    "start_time": "2023-04-09T11:34:11.975Z"
   },
   {
    "duration": 7,
    "start_time": "2023-04-09T11:34:11.986Z"
   },
   {
    "duration": 8,
    "start_time": "2023-04-09T11:34:11.995Z"
   },
   {
    "duration": 5,
    "start_time": "2023-04-09T11:34:12.004Z"
   },
   {
    "duration": 29,
    "start_time": "2023-04-09T11:34:12.011Z"
   },
   {
    "duration": 3,
    "start_time": "2023-04-09T11:34:12.042Z"
   },
   {
    "duration": 219,
    "start_time": "2023-04-09T11:34:12.046Z"
   },
   {
    "duration": 5,
    "start_time": "2023-04-09T11:34:12.267Z"
   },
   {
    "duration": 5,
    "start_time": "2023-04-09T11:34:12.273Z"
   },
   {
    "duration": 5,
    "start_time": "2023-04-09T11:34:12.279Z"
   },
   {
    "duration": 10,
    "start_time": "2023-04-09T11:34:12.285Z"
   },
   {
    "duration": 5,
    "start_time": "2023-04-09T11:34:12.296Z"
   },
   {
    "duration": 250,
    "start_time": "2023-04-09T11:34:12.302Z"
   },
   {
    "duration": 71,
    "start_time": "2023-04-09T11:36:21.708Z"
   },
   {
    "duration": 9,
    "start_time": "2023-04-09T11:36:50.391Z"
   },
   {
    "duration": 7,
    "start_time": "2023-04-09T11:38:06.822Z"
   },
   {
    "duration": 6,
    "start_time": "2023-04-09T11:38:07.484Z"
   },
   {
    "duration": 182,
    "start_time": "2023-04-09T11:38:08.208Z"
   },
   {
    "duration": 7,
    "start_time": "2023-04-09T11:38:28.958Z"
   },
   {
    "duration": 6,
    "start_time": "2023-04-09T11:38:29.711Z"
   },
   {
    "duration": 189,
    "start_time": "2023-04-09T11:38:30.520Z"
   },
   {
    "duration": 6,
    "start_time": "2023-04-09T11:38:50.400Z"
   },
   {
    "duration": 7,
    "start_time": "2023-04-09T11:39:23.147Z"
   },
   {
    "duration": 5,
    "start_time": "2023-04-09T11:39:26.945Z"
   },
   {
    "duration": 195,
    "start_time": "2023-04-09T11:39:29.352Z"
   },
   {
    "duration": 6,
    "start_time": "2023-04-09T11:39:53.558Z"
   },
   {
    "duration": 177,
    "start_time": "2023-04-09T11:39:54.443Z"
   },
   {
    "duration": 8,
    "start_time": "2023-04-09T11:40:04.545Z"
   },
   {
    "duration": 182,
    "start_time": "2023-04-09T11:40:06.527Z"
   },
   {
    "duration": 6,
    "start_time": "2023-04-09T11:41:26.161Z"
   },
   {
    "duration": 6,
    "start_time": "2023-04-09T11:41:27.674Z"
   },
   {
    "duration": 192,
    "start_time": "2023-04-09T11:41:30.228Z"
   },
   {
    "duration": 6,
    "start_time": "2023-04-09T11:41:50.257Z"
   },
   {
    "duration": 178,
    "start_time": "2023-04-09T11:41:53.201Z"
   },
   {
    "duration": 5,
    "start_time": "2023-04-09T11:42:05.547Z"
   },
   {
    "duration": 4,
    "start_time": "2023-04-09T11:42:11.210Z"
   },
   {
    "duration": 189,
    "start_time": "2023-04-09T11:42:12.652Z"
   },
   {
    "duration": 5,
    "start_time": "2023-04-09T11:45:23.187Z"
   },
   {
    "duration": 5,
    "start_time": "2023-04-09T11:45:23.734Z"
   },
   {
    "duration": 150,
    "start_time": "2023-04-09T11:45:25.663Z"
   },
   {
    "duration": 9,
    "start_time": "2023-04-09T11:45:41.328Z"
   },
   {
    "duration": 10,
    "start_time": "2023-04-09T11:46:04.651Z"
   },
   {
    "duration": 7,
    "start_time": "2023-04-09T11:46:11.250Z"
   },
   {
    "duration": 125,
    "start_time": "2023-04-09T11:46:13.082Z"
   },
   {
    "duration": 9,
    "start_time": "2023-04-09T11:47:52.600Z"
   },
   {
    "duration": 6,
    "start_time": "2023-04-09T11:48:03.104Z"
   },
   {
    "duration": 350,
    "start_time": "2023-04-09T11:48:04.011Z"
   },
   {
    "duration": 244,
    "start_time": "2023-04-09T11:48:15.712Z"
   },
   {
    "duration": 308,
    "start_time": "2023-04-09T11:48:46.218Z"
   },
   {
    "duration": 913,
    "start_time": "2023-04-11T18:03:35.121Z"
   },
   {
    "duration": 604,
    "start_time": "2023-04-11T18:03:36.037Z"
   },
   {
    "duration": 53,
    "start_time": "2023-04-11T18:03:36.643Z"
   },
   {
    "duration": 22,
    "start_time": "2023-04-11T18:03:36.698Z"
   },
   {
    "duration": 6,
    "start_time": "2023-04-11T18:03:36.722Z"
   },
   {
    "duration": 16,
    "start_time": "2023-04-11T18:03:36.730Z"
   },
   {
    "duration": 43,
    "start_time": "2023-04-11T18:03:36.748Z"
   },
   {
    "duration": 9,
    "start_time": "2023-04-11T18:03:36.793Z"
   },
   {
    "duration": 9,
    "start_time": "2023-04-11T18:03:36.804Z"
   },
   {
    "duration": 4,
    "start_time": "2023-04-11T18:03:36.815Z"
   },
   {
    "duration": 18,
    "start_time": "2023-04-11T18:03:36.820Z"
   },
   {
    "duration": 18,
    "start_time": "2023-04-11T18:03:36.840Z"
   },
   {
    "duration": 14,
    "start_time": "2023-04-11T18:03:36.871Z"
   },
   {
    "duration": 14,
    "start_time": "2023-04-11T18:03:36.886Z"
   },
   {
    "duration": 8,
    "start_time": "2023-04-11T18:03:36.902Z"
   },
   {
    "duration": 31,
    "start_time": "2023-04-11T18:03:36.911Z"
   },
   {
    "duration": 77,
    "start_time": "2023-04-11T18:03:36.944Z"
   },
   {
    "duration": 70,
    "start_time": "2023-04-11T18:03:37.022Z"
   },
   {
    "duration": 17,
    "start_time": "2023-04-11T18:03:37.094Z"
   },
   {
    "duration": 14,
    "start_time": "2023-04-11T18:03:37.113Z"
   },
   {
    "duration": 8,
    "start_time": "2023-04-11T18:03:37.129Z"
   },
   {
    "duration": 26,
    "start_time": "2023-04-11T18:03:37.139Z"
   },
   {
    "duration": 32,
    "start_time": "2023-04-11T18:03:37.166Z"
   },
   {
    "duration": 15,
    "start_time": "2023-04-11T18:03:37.200Z"
   },
   {
    "duration": 8,
    "start_time": "2023-04-11T18:03:37.217Z"
   },
   {
    "duration": 9,
    "start_time": "2023-04-11T18:03:37.228Z"
   },
   {
    "duration": 42,
    "start_time": "2023-04-11T18:03:37.238Z"
   },
   {
    "duration": 7,
    "start_time": "2023-04-11T18:03:37.286Z"
   },
   {
    "duration": 11,
    "start_time": "2023-04-11T18:03:37.294Z"
   },
   {
    "duration": 23,
    "start_time": "2023-04-11T18:03:37.306Z"
   },
   {
    "duration": 17,
    "start_time": "2023-04-11T18:03:37.330Z"
   },
   {
    "duration": 50,
    "start_time": "2023-04-11T18:03:37.349Z"
   },
   {
    "duration": 6,
    "start_time": "2023-04-11T18:03:37.400Z"
   },
   {
    "duration": 9,
    "start_time": "2023-04-11T18:03:37.408Z"
   },
   {
    "duration": 349,
    "start_time": "2023-04-11T18:03:37.418Z"
   },
   {
    "duration": 27,
    "start_time": "2023-04-11T18:03:37.779Z"
   },
   {
    "duration": 7,
    "start_time": "2023-04-11T18:03:37.808Z"
   },
   {
    "duration": 13,
    "start_time": "2023-04-11T18:03:37.817Z"
   },
   {
    "duration": 5,
    "start_time": "2023-04-11T18:03:37.831Z"
   },
   {
    "duration": 18,
    "start_time": "2023-04-11T18:03:37.837Z"
   },
   {
    "duration": 448,
    "start_time": "2023-04-11T18:03:37.857Z"
   },
   {
    "duration": 466,
    "start_time": "2023-04-11T18:03:38.306Z"
   },
   {
    "duration": 28,
    "start_time": "2023-04-11T18:03:38.775Z"
   },
   {
    "duration": 423,
    "start_time": "2023-04-11T18:03:38.805Z"
   },
   {
    "duration": 453,
    "start_time": "2023-04-11T18:03:39.230Z"
   },
   {
    "duration": 5,
    "start_time": "2023-04-11T18:03:39.691Z"
   },
   {
    "duration": 6,
    "start_time": "2023-04-11T18:03:39.700Z"
   },
   {
    "duration": 13107,
    "start_time": "2023-04-11T18:03:39.708Z"
   },
   {
    "duration": 5,
    "start_time": "2023-04-11T18:03:52.817Z"
   },
   {
    "duration": 6,
    "start_time": "2023-04-11T18:03:52.823Z"
   },
   {
    "duration": 6,
    "start_time": "2023-04-11T18:03:52.831Z"
   },
   {
    "duration": 7,
    "start_time": "2023-04-11T18:03:52.849Z"
   },
   {
    "duration": 31,
    "start_time": "2023-04-11T18:03:52.858Z"
   },
   {
    "duration": 13169,
    "start_time": "2023-04-11T18:03:52.890Z"
   },
   {
    "duration": 15,
    "start_time": "2023-04-11T18:04:06.061Z"
   },
   {
    "duration": 28,
    "start_time": "2023-04-11T18:04:06.078Z"
   },
   {
    "duration": 25,
    "start_time": "2023-04-11T18:04:06.108Z"
   },
   {
    "duration": 4,
    "start_time": "2023-04-11T18:04:06.135Z"
   },
   {
    "duration": 5,
    "start_time": "2023-04-11T18:04:06.140Z"
   },
   {
    "duration": 11747,
    "start_time": "2023-04-11T18:04:06.147Z"
   },
   {
    "duration": 7,
    "start_time": "2023-04-11T18:04:17.896Z"
   },
   {
    "duration": 16,
    "start_time": "2023-04-11T18:04:17.904Z"
   },
   {
    "duration": 17,
    "start_time": "2023-04-11T18:04:17.921Z"
   },
   {
    "duration": 157,
    "start_time": "2023-04-11T18:04:17.939Z"
   },
   {
    "duration": 15,
    "start_time": "2023-04-11T18:04:18.097Z"
   },
   {
    "duration": 8,
    "start_time": "2023-04-11T18:04:18.113Z"
   },
   {
    "duration": 9,
    "start_time": "2023-04-11T18:04:18.122Z"
   },
   {
    "duration": 25,
    "start_time": "2023-04-11T18:04:18.132Z"
   },
   {
    "duration": 34,
    "start_time": "2023-04-11T18:04:18.159Z"
   },
   {
    "duration": 282,
    "start_time": "2023-04-11T18:04:18.194Z"
   },
   {
    "duration": 20,
    "start_time": "2023-04-11T18:04:18.478Z"
   },
   {
    "duration": 5,
    "start_time": "2023-04-11T18:04:18.500Z"
   },
   {
    "duration": 8,
    "start_time": "2023-04-11T18:04:18.507Z"
   },
   {
    "duration": 6,
    "start_time": "2023-04-11T18:04:18.516Z"
   },
   {
    "duration": 9,
    "start_time": "2023-04-11T18:04:18.524Z"
   },
   {
    "duration": 51,
    "start_time": "2023-04-11T18:04:18.535Z"
   },
   {
    "duration": 528,
    "start_time": "2023-04-11T18:04:18.588Z"
   },
   {
    "duration": 345,
    "start_time": "2023-04-11T18:07:46.874Z"
   },
   {
    "duration": 330,
    "start_time": "2023-04-11T18:09:50.976Z"
   },
   {
    "duration": 129,
    "start_time": "2023-04-11T18:13:48.584Z"
   },
   {
    "duration": 296,
    "start_time": "2023-04-11T18:14:02.614Z"
   },
   {
    "duration": 67,
    "start_time": "2023-04-11T18:29:23.608Z"
   },
   {
    "duration": 5,
    "start_time": "2023-04-11T18:29:31.679Z"
   },
   {
    "duration": 10195,
    "start_time": "2023-04-11T18:29:35.007Z"
   },
   {
    "duration": 7,
    "start_time": "2023-04-11T18:30:13.162Z"
   },
   {
    "duration": 87,
    "start_time": "2023-04-11T18:30:15.483Z"
   },
   {
    "duration": 722,
    "start_time": "2023-04-11T18:30:33.691Z"
   },
   {
    "duration": 243,
    "start_time": "2023-04-11T18:30:34.415Z"
   },
   {
    "duration": 27,
    "start_time": "2023-04-11T18:30:34.660Z"
   },
   {
    "duration": 17,
    "start_time": "2023-04-11T18:30:34.689Z"
   },
   {
    "duration": 27,
    "start_time": "2023-04-11T18:30:34.708Z"
   },
   {
    "duration": 29,
    "start_time": "2023-04-11T18:30:34.736Z"
   },
   {
    "duration": 22,
    "start_time": "2023-04-11T18:30:34.767Z"
   },
   {
    "duration": 10,
    "start_time": "2023-04-11T18:30:34.790Z"
   },
   {
    "duration": 30,
    "start_time": "2023-04-11T18:30:34.801Z"
   },
   {
    "duration": 6,
    "start_time": "2023-04-11T18:30:34.833Z"
   },
   {
    "duration": 20,
    "start_time": "2023-04-11T18:30:34.846Z"
   },
   {
    "duration": 29,
    "start_time": "2023-04-11T18:30:34.868Z"
   },
   {
    "duration": 14,
    "start_time": "2023-04-11T18:30:34.899Z"
   },
   {
    "duration": 29,
    "start_time": "2023-04-11T18:30:34.916Z"
   },
   {
    "duration": 32,
    "start_time": "2023-04-11T18:30:34.947Z"
   },
   {
    "duration": 12,
    "start_time": "2023-04-11T18:30:34.981Z"
   },
   {
    "duration": 53,
    "start_time": "2023-04-11T18:30:34.995Z"
   },
   {
    "duration": 69,
    "start_time": "2023-04-11T18:30:35.050Z"
   },
   {
    "duration": 11,
    "start_time": "2023-04-11T18:30:35.120Z"
   },
   {
    "duration": 19,
    "start_time": "2023-04-11T18:30:35.132Z"
   },
   {
    "duration": 48,
    "start_time": "2023-04-11T18:30:35.153Z"
   },
   {
    "duration": 50,
    "start_time": "2023-04-11T18:30:35.203Z"
   },
   {
    "duration": 26,
    "start_time": "2023-04-11T18:30:35.257Z"
   },
   {
    "duration": 11,
    "start_time": "2023-04-11T18:30:35.285Z"
   },
   {
    "duration": 10,
    "start_time": "2023-04-11T18:30:35.297Z"
   },
   {
    "duration": 6,
    "start_time": "2023-04-11T18:30:35.309Z"
   },
   {
    "duration": 15,
    "start_time": "2023-04-11T18:30:35.317Z"
   },
   {
    "duration": 7,
    "start_time": "2023-04-11T18:30:35.336Z"
   },
   {
    "duration": 25,
    "start_time": "2023-04-11T18:30:35.345Z"
   },
   {
    "duration": 18,
    "start_time": "2023-04-11T18:30:35.372Z"
   },
   {
    "duration": 10,
    "start_time": "2023-04-11T18:30:35.391Z"
   },
   {
    "duration": 5,
    "start_time": "2023-04-11T18:30:35.402Z"
   },
   {
    "duration": 6,
    "start_time": "2023-04-11T18:30:35.408Z"
   },
   {
    "duration": 12,
    "start_time": "2023-04-11T18:30:35.416Z"
   },
   {
    "duration": 312,
    "start_time": "2023-04-11T18:30:35.429Z"
   },
   {
    "duration": 15,
    "start_time": "2023-04-11T18:30:35.743Z"
   },
   {
    "duration": 21,
    "start_time": "2023-04-11T18:30:35.760Z"
   },
   {
    "duration": 12,
    "start_time": "2023-04-11T18:30:35.783Z"
   },
   {
    "duration": 7,
    "start_time": "2023-04-11T18:30:35.797Z"
   },
   {
    "duration": 9,
    "start_time": "2023-04-11T18:30:35.805Z"
   },
   {
    "duration": 355,
    "start_time": "2023-04-11T18:30:35.816Z"
   },
   {
    "duration": 389,
    "start_time": "2023-04-11T18:30:36.173Z"
   },
   {
    "duration": 10,
    "start_time": "2023-04-11T18:30:36.563Z"
   },
   {
    "duration": 343,
    "start_time": "2023-04-11T18:30:36.575Z"
   },
   {
    "duration": 354,
    "start_time": "2023-04-11T18:30:36.920Z"
   },
   {
    "duration": 4,
    "start_time": "2023-04-11T18:30:37.276Z"
   },
   {
    "duration": 12,
    "start_time": "2023-04-11T18:30:37.282Z"
   },
   {
    "duration": 11781,
    "start_time": "2023-04-11T18:30:37.296Z"
   },
   {
    "duration": 6,
    "start_time": "2023-04-11T18:30:49.079Z"
   },
   {
    "duration": 6,
    "start_time": "2023-04-11T18:30:49.086Z"
   },
   {
    "duration": 6,
    "start_time": "2023-04-11T18:30:49.093Z"
   },
   {
    "duration": 6,
    "start_time": "2023-04-11T18:30:49.101Z"
   },
   {
    "duration": 8,
    "start_time": "2023-04-11T18:30:49.109Z"
   },
   {
    "duration": 11932,
    "start_time": "2023-04-11T18:30:49.119Z"
   },
   {
    "duration": 20,
    "start_time": "2023-04-11T18:31:01.054Z"
   },
   {
    "duration": 46,
    "start_time": "2023-04-11T18:31:01.077Z"
   },
   {
    "duration": 26,
    "start_time": "2023-04-11T18:31:01.125Z"
   },
   {
    "duration": 69,
    "start_time": "2023-04-11T18:31:01.152Z"
   },
   {
    "duration": 78,
    "start_time": "2023-04-11T18:31:01.222Z"
   },
   {
    "duration": 10183,
    "start_time": "2023-04-11T18:31:01.301Z"
   },
   {
    "duration": 6,
    "start_time": "2023-04-11T18:31:11.486Z"
   },
   {
    "duration": 17,
    "start_time": "2023-04-11T18:31:11.493Z"
   },
   {
    "duration": 14,
    "start_time": "2023-04-11T18:31:11.512Z"
   },
   {
    "duration": 133,
    "start_time": "2023-04-11T18:31:11.528Z"
   },
   {
    "duration": 15,
    "start_time": "2023-04-11T18:31:11.663Z"
   },
   {
    "duration": 19,
    "start_time": "2023-04-11T18:31:11.681Z"
   },
   {
    "duration": 22,
    "start_time": "2023-04-11T18:31:11.701Z"
   },
   {
    "duration": 5,
    "start_time": "2023-04-11T18:31:11.724Z"
   },
   {
    "duration": 10140,
    "start_time": "2023-04-11T18:31:11.731Z"
   },
   {
    "duration": 1753,
    "start_time": "2023-04-11T18:31:21.873Z"
   },
   {
    "duration": 0,
    "start_time": "2023-04-11T18:31:23.628Z"
   },
   {
    "duration": 0,
    "start_time": "2023-04-11T18:31:23.629Z"
   },
   {
    "duration": 0,
    "start_time": "2023-04-11T18:31:23.631Z"
   },
   {
    "duration": 0,
    "start_time": "2023-04-11T18:31:23.632Z"
   },
   {
    "duration": 0,
    "start_time": "2023-04-11T18:31:23.633Z"
   },
   {
    "duration": 0,
    "start_time": "2023-04-11T18:31:23.634Z"
   },
   {
    "duration": 0,
    "start_time": "2023-04-11T18:31:23.635Z"
   },
   {
    "duration": 0,
    "start_time": "2023-04-11T18:31:23.637Z"
   },
   {
    "duration": 0,
    "start_time": "2023-04-11T18:31:23.639Z"
   },
   {
    "duration": 0,
    "start_time": "2023-04-11T18:31:23.641Z"
   },
   {
    "duration": 655,
    "start_time": "2023-04-11T18:33:32.407Z"
   },
   {
    "duration": 207,
    "start_time": "2023-04-11T18:33:33.064Z"
   },
   {
    "duration": 27,
    "start_time": "2023-04-11T18:33:33.273Z"
   },
   {
    "duration": 19,
    "start_time": "2023-04-11T18:33:33.303Z"
   },
   {
    "duration": 5,
    "start_time": "2023-04-11T18:33:33.324Z"
   },
   {
    "duration": 22,
    "start_time": "2023-04-11T18:33:33.348Z"
   },
   {
    "duration": 19,
    "start_time": "2023-04-11T18:33:33.371Z"
   },
   {
    "duration": 11,
    "start_time": "2023-04-11T18:33:33.392Z"
   },
   {
    "duration": 10,
    "start_time": "2023-04-11T18:33:33.405Z"
   },
   {
    "duration": 7,
    "start_time": "2023-04-11T18:33:33.417Z"
   },
   {
    "duration": 31,
    "start_time": "2023-04-11T18:33:33.426Z"
   },
   {
    "duration": 32,
    "start_time": "2023-04-11T18:33:33.459Z"
   },
   {
    "duration": 11,
    "start_time": "2023-04-11T18:33:33.493Z"
   },
   {
    "duration": 12,
    "start_time": "2023-04-11T18:33:33.506Z"
   },
   {
    "duration": 9,
    "start_time": "2023-04-11T18:33:33.519Z"
   },
   {
    "duration": 22,
    "start_time": "2023-04-11T18:33:33.529Z"
   },
   {
    "duration": 46,
    "start_time": "2023-04-11T18:33:33.553Z"
   },
   {
    "duration": 56,
    "start_time": "2023-04-11T18:33:33.600Z"
   },
   {
    "duration": 10,
    "start_time": "2023-04-11T18:33:33.658Z"
   },
   {
    "duration": 23,
    "start_time": "2023-04-11T18:33:33.670Z"
   },
   {
    "duration": 70,
    "start_time": "2023-04-11T18:33:33.694Z"
   },
   {
    "duration": 38,
    "start_time": "2023-04-11T18:33:33.765Z"
   },
   {
    "duration": 11,
    "start_time": "2023-04-11T18:33:33.805Z"
   },
   {
    "duration": 8,
    "start_time": "2023-04-11T18:33:33.818Z"
   },
   {
    "duration": 9,
    "start_time": "2023-04-11T18:33:33.827Z"
   },
   {
    "duration": 15,
    "start_time": "2023-04-11T18:33:33.838Z"
   },
   {
    "duration": 22,
    "start_time": "2023-04-11T18:33:33.855Z"
   },
   {
    "duration": 13,
    "start_time": "2023-04-11T18:33:33.881Z"
   },
   {
    "duration": 28,
    "start_time": "2023-04-11T18:33:33.895Z"
   },
   {
    "duration": 24,
    "start_time": "2023-04-11T18:33:33.924Z"
   },
   {
    "duration": 13,
    "start_time": "2023-04-11T18:33:33.950Z"
   },
   {
    "duration": 17,
    "start_time": "2023-04-11T18:33:33.965Z"
   },
   {
    "duration": 6,
    "start_time": "2023-04-11T18:33:33.984Z"
   },
   {
    "duration": 9,
    "start_time": "2023-04-11T18:33:33.992Z"
   },
   {
    "duration": 318,
    "start_time": "2023-04-11T18:33:34.003Z"
   },
   {
    "duration": 12,
    "start_time": "2023-04-11T18:33:34.323Z"
   },
   {
    "duration": 10,
    "start_time": "2023-04-11T18:33:34.349Z"
   },
   {
    "duration": 21,
    "start_time": "2023-04-11T18:33:34.360Z"
   },
   {
    "duration": 13,
    "start_time": "2023-04-11T18:33:34.383Z"
   },
   {
    "duration": 12,
    "start_time": "2023-04-11T18:33:34.397Z"
   },
   {
    "duration": 410,
    "start_time": "2023-04-11T18:33:34.410Z"
   },
   {
    "duration": 420,
    "start_time": "2023-04-11T18:33:34.821Z"
   },
   {
    "duration": 16,
    "start_time": "2023-04-11T18:33:35.242Z"
   },
   {
    "duration": 352,
    "start_time": "2023-04-11T18:33:35.260Z"
   },
   {
    "duration": 348,
    "start_time": "2023-04-11T18:33:35.613Z"
   },
   {
    "duration": 5,
    "start_time": "2023-04-11T18:33:35.963Z"
   },
   {
    "duration": 9,
    "start_time": "2023-04-11T18:33:35.969Z"
   },
   {
    "duration": 12085,
    "start_time": "2023-04-11T18:33:35.979Z"
   },
   {
    "duration": 7,
    "start_time": "2023-04-11T18:33:48.066Z"
   },
   {
    "duration": 23,
    "start_time": "2023-04-11T18:33:48.075Z"
   },
   {
    "duration": 24,
    "start_time": "2023-04-11T18:33:48.100Z"
   },
   {
    "duration": 5,
    "start_time": "2023-04-11T18:33:48.126Z"
   },
   {
    "duration": 5,
    "start_time": "2023-04-11T18:33:48.132Z"
   },
   {
    "duration": 11787,
    "start_time": "2023-04-11T18:33:48.139Z"
   },
   {
    "duration": 12,
    "start_time": "2023-04-11T18:33:59.928Z"
   },
   {
    "duration": 4,
    "start_time": "2023-04-11T18:33:59.949Z"
   },
   {
    "duration": 26,
    "start_time": "2023-04-11T18:33:59.954Z"
   },
   {
    "duration": 4,
    "start_time": "2023-04-11T18:33:59.981Z"
   },
   {
    "duration": 6,
    "start_time": "2023-04-11T18:33:59.987Z"
   },
   {
    "duration": 10346,
    "start_time": "2023-04-11T18:33:59.994Z"
   },
   {
    "duration": 8,
    "start_time": "2023-04-11T18:34:10.342Z"
   },
   {
    "duration": 22,
    "start_time": "2023-04-11T18:34:10.351Z"
   },
   {
    "duration": 4,
    "start_time": "2023-04-11T18:34:10.374Z"
   },
   {
    "duration": 122,
    "start_time": "2023-04-11T18:34:10.380Z"
   },
   {
    "duration": 16,
    "start_time": "2023-04-11T18:34:10.504Z"
   },
   {
    "duration": 28,
    "start_time": "2023-04-11T18:34:10.521Z"
   },
   {
    "duration": 12,
    "start_time": "2023-04-11T18:34:10.551Z"
   },
   {
    "duration": 14,
    "start_time": "2023-04-11T18:34:10.565Z"
   },
   {
    "duration": 7,
    "start_time": "2023-04-11T18:34:10.581Z"
   },
   {
    "duration": 10490,
    "start_time": "2023-04-11T18:34:10.590Z"
   },
   {
    "duration": 5,
    "start_time": "2023-04-11T18:34:21.082Z"
   },
   {
    "duration": 292,
    "start_time": "2023-04-11T18:34:21.088Z"
   },
   {
    "duration": 6,
    "start_time": "2023-04-11T18:34:21.381Z"
   },
   {
    "duration": 348,
    "start_time": "2023-04-11T18:34:21.388Z"
   },
   {
    "duration": 21,
    "start_time": "2023-04-11T18:34:21.737Z"
   },
   {
    "duration": 9,
    "start_time": "2023-04-11T18:34:21.759Z"
   },
   {
    "duration": 7,
    "start_time": "2023-04-11T18:34:21.769Z"
   },
   {
    "duration": 8,
    "start_time": "2023-04-11T18:34:21.778Z"
   },
   {
    "duration": 14,
    "start_time": "2023-04-11T18:34:21.788Z"
   },
   {
    "duration": 5,
    "start_time": "2023-04-11T18:34:21.803Z"
   },
   {
    "duration": 451,
    "start_time": "2023-04-11T18:34:21.809Z"
   },
   {
    "duration": 15,
    "start_time": "2023-04-11T18:36:26.112Z"
   },
   {
    "duration": 85,
    "start_time": "2023-04-11T18:37:41.285Z"
   },
   {
    "duration": 16,
    "start_time": "2023-04-11T18:37:48.138Z"
   },
   {
    "duration": 21,
    "start_time": "2023-04-11T18:38:05.209Z"
   },
   {
    "duration": 14,
    "start_time": "2023-04-11T18:38:27.364Z"
   },
   {
    "duration": 17,
    "start_time": "2023-04-11T18:38:35.651Z"
   },
   {
    "duration": 16,
    "start_time": "2023-04-11T18:38:42.675Z"
   },
   {
    "duration": 9,
    "start_time": "2023-04-11T18:43:33.809Z"
   },
   {
    "duration": 28,
    "start_time": "2023-04-11T18:48:32.113Z"
   },
   {
    "duration": 7,
    "start_time": "2023-04-11T18:48:37.728Z"
   },
   {
    "duration": 17,
    "start_time": "2023-04-11T18:49:25.977Z"
   },
   {
    "duration": 17,
    "start_time": "2023-04-11T18:49:40.487Z"
   },
   {
    "duration": 4,
    "start_time": "2023-04-12T14:48:48.659Z"
   },
   {
    "duration": 51,
    "start_time": "2023-04-12T14:51:35.446Z"
   },
   {
    "duration": 833,
    "start_time": "2023-04-12T14:51:45.439Z"
   },
   {
    "duration": 293,
    "start_time": "2023-04-12T14:51:46.274Z"
   },
   {
    "duration": 26,
    "start_time": "2023-04-12T14:51:46.569Z"
   },
   {
    "duration": 18,
    "start_time": "2023-04-12T14:51:46.596Z"
   },
   {
    "duration": 9,
    "start_time": "2023-04-12T14:51:46.616Z"
   },
   {
    "duration": 25,
    "start_time": "2023-04-12T14:51:46.626Z"
   },
   {
    "duration": 12,
    "start_time": "2023-04-12T14:51:46.653Z"
   },
   {
    "duration": 10,
    "start_time": "2023-04-12T14:51:46.667Z"
   },
   {
    "duration": 9,
    "start_time": "2023-04-12T14:51:46.678Z"
   },
   {
    "duration": 6,
    "start_time": "2023-04-12T14:51:46.689Z"
   },
   {
    "duration": 19,
    "start_time": "2023-04-12T14:51:46.696Z"
   },
   {
    "duration": 38,
    "start_time": "2023-04-12T14:51:46.716Z"
   },
   {
    "duration": 9,
    "start_time": "2023-04-12T14:51:46.755Z"
   },
   {
    "duration": 16,
    "start_time": "2023-04-12T14:51:46.768Z"
   },
   {
    "duration": 13,
    "start_time": "2023-04-12T14:51:46.785Z"
   },
   {
    "duration": 7,
    "start_time": "2023-04-12T14:51:46.800Z"
   },
   {
    "duration": 48,
    "start_time": "2023-04-12T14:51:46.808Z"
   },
   {
    "duration": 43,
    "start_time": "2023-04-12T14:51:46.857Z"
   },
   {
    "duration": 8,
    "start_time": "2023-04-12T14:51:46.901Z"
   },
   {
    "duration": 15,
    "start_time": "2023-04-12T14:51:46.910Z"
   },
   {
    "duration": 23,
    "start_time": "2023-04-12T14:51:46.926Z"
   },
   {
    "duration": 20,
    "start_time": "2023-04-12T14:51:46.950Z"
   },
   {
    "duration": 13,
    "start_time": "2023-04-12T14:51:46.972Z"
   },
   {
    "duration": 14,
    "start_time": "2023-04-12T14:51:46.987Z"
   },
   {
    "duration": 7,
    "start_time": "2023-04-12T14:51:47.002Z"
   },
   {
    "duration": 7,
    "start_time": "2023-04-12T14:51:47.011Z"
   },
   {
    "duration": 7,
    "start_time": "2023-04-12T14:51:47.019Z"
   },
   {
    "duration": 34,
    "start_time": "2023-04-12T14:51:47.027Z"
   },
   {
    "duration": 12,
    "start_time": "2023-04-12T14:51:47.063Z"
   },
   {
    "duration": 27,
    "start_time": "2023-04-12T14:51:47.077Z"
   },
   {
    "duration": 9,
    "start_time": "2023-04-12T14:51:47.106Z"
   },
   {
    "duration": 15,
    "start_time": "2023-04-12T14:51:47.116Z"
   },
   {
    "duration": 10,
    "start_time": "2023-04-12T14:51:47.133Z"
   },
   {
    "duration": 11,
    "start_time": "2023-04-12T14:51:47.145Z"
   },
   {
    "duration": 278,
    "start_time": "2023-04-12T14:51:47.157Z"
   },
   {
    "duration": 14,
    "start_time": "2023-04-12T14:51:47.437Z"
   },
   {
    "duration": 8,
    "start_time": "2023-04-12T14:51:47.453Z"
   },
   {
    "duration": 12,
    "start_time": "2023-04-12T14:51:47.462Z"
   },
   {
    "duration": 12,
    "start_time": "2023-04-12T14:51:47.476Z"
   },
   {
    "duration": 10,
    "start_time": "2023-04-12T14:51:47.490Z"
   },
   {
    "duration": 337,
    "start_time": "2023-04-12T14:51:47.504Z"
   },
   {
    "duration": 389,
    "start_time": "2023-04-12T14:51:47.843Z"
   },
   {
    "duration": 16,
    "start_time": "2023-04-12T14:51:48.233Z"
   },
   {
    "duration": 322,
    "start_time": "2023-04-12T14:51:48.251Z"
   },
   {
    "duration": 327,
    "start_time": "2023-04-12T14:51:48.575Z"
   },
   {
    "duration": 2,
    "start_time": "2023-04-12T14:51:48.904Z"
   },
   {
    "duration": 6,
    "start_time": "2023-04-12T14:51:48.908Z"
   },
   {
    "duration": 11206,
    "start_time": "2023-04-12T14:51:48.916Z"
   },
   {
    "duration": 5,
    "start_time": "2023-04-12T14:52:00.123Z"
   },
   {
    "duration": 14,
    "start_time": "2023-04-12T14:52:00.130Z"
   },
   {
    "duration": 19,
    "start_time": "2023-04-12T14:52:00.149Z"
   },
   {
    "duration": 11,
    "start_time": "2023-04-12T14:52:00.170Z"
   },
   {
    "duration": 21,
    "start_time": "2023-04-12T14:52:00.182Z"
   },
   {
    "duration": 11400,
    "start_time": "2023-04-12T14:52:00.204Z"
   },
   {
    "duration": 10,
    "start_time": "2023-04-12T14:52:11.605Z"
   },
   {
    "duration": 5,
    "start_time": "2023-04-12T14:52:11.616Z"
   },
   {
    "duration": 19,
    "start_time": "2023-04-12T14:52:11.622Z"
   },
   {
    "duration": 9,
    "start_time": "2023-04-12T14:52:11.642Z"
   },
   {
    "duration": 9,
    "start_time": "2023-04-12T14:52:11.652Z"
   },
   {
    "duration": 9684,
    "start_time": "2023-04-12T14:52:11.663Z"
   },
   {
    "duration": 6,
    "start_time": "2023-04-12T14:52:21.349Z"
   },
   {
    "duration": 14,
    "start_time": "2023-04-12T14:52:21.356Z"
   },
   {
    "duration": 13,
    "start_time": "2023-04-12T14:52:21.372Z"
   },
   {
    "duration": 128,
    "start_time": "2023-04-12T14:52:21.387Z"
   },
   {
    "duration": 14,
    "start_time": "2023-04-12T14:52:21.516Z"
   },
   {
    "duration": 19,
    "start_time": "2023-04-12T14:52:21.531Z"
   },
   {
    "duration": 10,
    "start_time": "2023-04-12T14:52:21.551Z"
   },
   {
    "duration": 3,
    "start_time": "2023-04-12T14:52:21.563Z"
   },
   {
    "duration": 20,
    "start_time": "2023-04-12T14:52:21.568Z"
   },
   {
    "duration": 9546,
    "start_time": "2023-04-12T14:52:21.589Z"
   },
   {
    "duration": 4,
    "start_time": "2023-04-12T14:52:31.136Z"
   },
   {
    "duration": 42,
    "start_time": "2023-04-12T14:52:31.148Z"
   },
   {
    "duration": 54,
    "start_time": "2023-04-12T14:52:31.191Z"
   },
   {
    "duration": 293,
    "start_time": "2023-04-12T14:52:31.246Z"
   },
   {
    "duration": 22,
    "start_time": "2023-04-12T14:52:31.541Z"
   },
   {
    "duration": 11,
    "start_time": "2023-04-12T14:52:31.564Z"
   },
   {
    "duration": 323,
    "start_time": "2023-04-12T14:52:31.577Z"
   },
   {
    "duration": 2,
    "start_time": "2023-04-12T14:52:31.902Z"
   },
   {
    "duration": 28,
    "start_time": "2023-04-12T14:52:31.905Z"
   },
   {
    "duration": 13,
    "start_time": "2023-04-12T14:52:31.934Z"
   },
   {
    "duration": 30,
    "start_time": "2023-04-12T14:52:31.948Z"
   },
   {
    "duration": 35,
    "start_time": "2023-04-12T14:52:31.980Z"
   },
   {
    "duration": 26,
    "start_time": "2023-04-12T14:52:32.016Z"
   },
   {
    "duration": 16,
    "start_time": "2023-04-12T14:52:32.043Z"
   },
   {
    "duration": 408,
    "start_time": "2023-04-12T14:52:32.060Z"
   },
   {
    "duration": 869,
    "start_time": "2023-04-12T17:07:23.434Z"
   },
   {
    "duration": 214,
    "start_time": "2023-04-12T17:07:24.305Z"
   },
   {
    "duration": 25,
    "start_time": "2023-04-12T17:07:24.521Z"
   },
   {
    "duration": 17,
    "start_time": "2023-04-12T17:07:24.549Z"
   },
   {
    "duration": 11,
    "start_time": "2023-04-12T17:07:24.568Z"
   },
   {
    "duration": 26,
    "start_time": "2023-04-12T17:07:24.581Z"
   },
   {
    "duration": 17,
    "start_time": "2023-04-12T17:07:24.609Z"
   },
   {
    "duration": 10,
    "start_time": "2023-04-12T17:07:24.628Z"
   },
   {
    "duration": 14,
    "start_time": "2023-04-12T17:07:24.641Z"
   },
   {
    "duration": 4,
    "start_time": "2023-04-12T17:07:24.659Z"
   },
   {
    "duration": 17,
    "start_time": "2023-04-12T17:07:24.665Z"
   },
   {
    "duration": 11,
    "start_time": "2023-04-12T17:07:24.684Z"
   },
   {
    "duration": 8,
    "start_time": "2023-04-12T17:07:24.696Z"
   },
   {
    "duration": 44,
    "start_time": "2023-04-12T17:07:24.706Z"
   },
   {
    "duration": 9,
    "start_time": "2023-04-12T17:07:24.752Z"
   },
   {
    "duration": 10,
    "start_time": "2023-04-12T17:07:24.763Z"
   },
   {
    "duration": 40,
    "start_time": "2023-04-12T17:07:24.775Z"
   },
   {
    "duration": 64,
    "start_time": "2023-04-12T17:07:24.817Z"
   },
   {
    "duration": 9,
    "start_time": "2023-04-12T17:07:24.883Z"
   },
   {
    "duration": 6,
    "start_time": "2023-04-12T17:07:24.894Z"
   },
   {
    "duration": 16,
    "start_time": "2023-04-12T17:07:24.901Z"
   },
   {
    "duration": 34,
    "start_time": "2023-04-12T17:07:24.918Z"
   },
   {
    "duration": 6,
    "start_time": "2023-04-12T17:07:24.954Z"
   },
   {
    "duration": 14,
    "start_time": "2023-04-12T17:07:24.961Z"
   },
   {
    "duration": 12,
    "start_time": "2023-04-12T17:07:24.977Z"
   },
   {
    "duration": 10,
    "start_time": "2023-04-12T17:07:24.991Z"
   },
   {
    "duration": 30,
    "start_time": "2023-04-12T17:07:25.002Z"
   },
   {
    "duration": 21,
    "start_time": "2023-04-12T17:07:25.036Z"
   },
   {
    "duration": 14,
    "start_time": "2023-04-12T17:07:25.059Z"
   },
   {
    "duration": 22,
    "start_time": "2023-04-12T17:07:25.075Z"
   },
   {
    "duration": 11,
    "start_time": "2023-04-12T17:07:25.098Z"
   },
   {
    "duration": 25,
    "start_time": "2023-04-12T17:07:25.111Z"
   },
   {
    "duration": 10,
    "start_time": "2023-04-12T17:07:25.138Z"
   },
   {
    "duration": 12,
    "start_time": "2023-04-12T17:07:25.150Z"
   },
   {
    "duration": 287,
    "start_time": "2023-04-12T17:07:25.164Z"
   },
   {
    "duration": 12,
    "start_time": "2023-04-12T17:07:25.453Z"
   },
   {
    "duration": 20,
    "start_time": "2023-04-12T17:07:25.466Z"
   },
   {
    "duration": 22,
    "start_time": "2023-04-12T17:07:25.488Z"
   },
   {
    "duration": 23,
    "start_time": "2023-04-12T17:07:25.511Z"
   },
   {
    "duration": 24,
    "start_time": "2023-04-12T17:07:25.536Z"
   },
   {
    "duration": 391,
    "start_time": "2023-04-12T17:07:25.562Z"
   },
   {
    "duration": 411,
    "start_time": "2023-04-12T17:07:25.955Z"
   },
   {
    "duration": 10,
    "start_time": "2023-04-12T17:07:26.368Z"
   },
   {
    "duration": 361,
    "start_time": "2023-04-12T17:07:26.380Z"
   },
   {
    "duration": 339,
    "start_time": "2023-04-12T17:07:26.743Z"
   },
   {
    "duration": 4,
    "start_time": "2023-04-12T17:07:27.084Z"
   },
   {
    "duration": 6,
    "start_time": "2023-04-12T17:07:27.090Z"
   },
   {
    "duration": 12180,
    "start_time": "2023-04-12T17:07:27.098Z"
   },
   {
    "duration": 6,
    "start_time": "2023-04-12T17:07:39.281Z"
   },
   {
    "duration": 50,
    "start_time": "2023-04-12T17:07:39.289Z"
   },
   {
    "duration": 13,
    "start_time": "2023-04-12T17:07:39.341Z"
   },
   {
    "duration": 27,
    "start_time": "2023-04-12T17:07:39.355Z"
   },
   {
    "duration": 25,
    "start_time": "2023-04-12T17:07:39.384Z"
   },
   {
    "duration": 11677,
    "start_time": "2023-04-12T17:07:39.411Z"
   },
   {
    "duration": 11,
    "start_time": "2023-04-12T17:07:51.090Z"
   },
   {
    "duration": 11,
    "start_time": "2023-04-12T17:07:51.103Z"
   },
   {
    "duration": 13,
    "start_time": "2023-04-12T17:07:51.116Z"
   },
   {
    "duration": 18,
    "start_time": "2023-04-12T17:07:51.131Z"
   },
   {
    "duration": 18,
    "start_time": "2023-04-12T17:07:51.151Z"
   },
   {
    "duration": 11464,
    "start_time": "2023-04-12T17:07:51.171Z"
   },
   {
    "duration": 8,
    "start_time": "2023-04-12T17:08:02.640Z"
   },
   {
    "duration": 21,
    "start_time": "2023-04-12T17:08:02.650Z"
   },
   {
    "duration": 25,
    "start_time": "2023-04-12T17:08:02.673Z"
   },
   {
    "duration": 146,
    "start_time": "2023-04-12T17:08:02.700Z"
   },
   {
    "duration": 16,
    "start_time": "2023-04-12T17:08:02.848Z"
   },
   {
    "duration": 20,
    "start_time": "2023-04-12T17:08:02.866Z"
   },
   {
    "duration": 20,
    "start_time": "2023-04-12T17:08:02.888Z"
   },
   {
    "duration": 11,
    "start_time": "2023-04-12T17:08:02.910Z"
   },
   {
    "duration": 29,
    "start_time": "2023-04-12T17:08:02.923Z"
   },
   {
    "duration": 10631,
    "start_time": "2023-04-12T17:08:02.954Z"
   },
   {
    "duration": 4,
    "start_time": "2023-04-12T17:08:13.587Z"
   },
   {
    "duration": 16,
    "start_time": "2023-04-12T17:08:13.592Z"
   },
   {
    "duration": 31,
    "start_time": "2023-04-12T17:08:13.610Z"
   },
   {
    "duration": 274,
    "start_time": "2023-04-12T17:08:13.643Z"
   },
   {
    "duration": 31,
    "start_time": "2023-04-12T17:08:13.919Z"
   },
   {
    "duration": 5,
    "start_time": "2023-04-12T17:08:13.951Z"
   },
   {
    "duration": 357,
    "start_time": "2023-04-12T17:08:13.958Z"
   },
   {
    "duration": 2,
    "start_time": "2023-04-12T17:08:14.317Z"
   },
   {
    "duration": 26,
    "start_time": "2023-04-12T17:08:14.321Z"
   },
   {
    "duration": 8,
    "start_time": "2023-04-12T17:08:14.348Z"
   },
   {
    "duration": 34,
    "start_time": "2023-04-12T17:08:14.357Z"
   },
   {
    "duration": 13,
    "start_time": "2023-04-12T17:08:14.397Z"
   },
   {
    "duration": 11,
    "start_time": "2023-04-12T17:08:14.412Z"
   },
   {
    "duration": 8,
    "start_time": "2023-04-12T17:08:14.424Z"
   },
   {
    "duration": 397,
    "start_time": "2023-04-12T17:08:14.434Z"
   },
   {
    "duration": 5,
    "start_time": "2023-04-12T17:09:08.671Z"
   },
   {
    "duration": 10732,
    "start_time": "2023-04-12T17:09:38.404Z"
   },
   {
    "duration": 25,
    "start_time": "2023-04-12T17:20:24.696Z"
   },
   {
    "duration": 5,
    "start_time": "2023-04-12T17:23:33.463Z"
   },
   {
    "duration": 75,
    "start_time": "2023-04-12T17:23:34.175Z"
   },
   {
    "duration": 689,
    "start_time": "2023-04-12T17:23:43.020Z"
   },
   {
    "duration": 200,
    "start_time": "2023-04-12T17:23:43.711Z"
   },
   {
    "duration": 27,
    "start_time": "2023-04-12T17:23:43.912Z"
   },
   {
    "duration": 20,
    "start_time": "2023-04-12T17:23:43.941Z"
   },
   {
    "duration": 7,
    "start_time": "2023-04-12T17:23:43.963Z"
   },
   {
    "duration": 24,
    "start_time": "2023-04-12T17:23:43.972Z"
   },
   {
    "duration": 15,
    "start_time": "2023-04-12T17:23:43.998Z"
   },
   {
    "duration": 35,
    "start_time": "2023-04-12T17:23:44.015Z"
   },
   {
    "duration": 13,
    "start_time": "2023-04-12T17:23:44.051Z"
   },
   {
    "duration": 26,
    "start_time": "2023-04-12T17:23:44.067Z"
   },
   {
    "duration": 34,
    "start_time": "2023-04-12T17:23:44.095Z"
   },
   {
    "duration": 11,
    "start_time": "2023-04-12T17:23:44.131Z"
   },
   {
    "duration": 21,
    "start_time": "2023-04-12T17:23:44.143Z"
   },
   {
    "duration": 21,
    "start_time": "2023-04-12T17:23:44.166Z"
   },
   {
    "duration": 14,
    "start_time": "2023-04-12T17:23:44.189Z"
   },
   {
    "duration": 18,
    "start_time": "2023-04-12T17:23:44.204Z"
   },
   {
    "duration": 38,
    "start_time": "2023-04-12T17:23:44.224Z"
   },
   {
    "duration": 50,
    "start_time": "2023-04-12T17:23:44.264Z"
   },
   {
    "duration": 27,
    "start_time": "2023-04-12T17:23:44.316Z"
   },
   {
    "duration": 5,
    "start_time": "2023-04-12T17:23:44.345Z"
   },
   {
    "duration": 25,
    "start_time": "2023-04-12T17:23:44.352Z"
   },
   {
    "duration": 37,
    "start_time": "2023-04-12T17:23:44.379Z"
   },
   {
    "duration": 5,
    "start_time": "2023-04-12T17:23:44.419Z"
   },
   {
    "duration": 17,
    "start_time": "2023-04-12T17:23:44.426Z"
   },
   {
    "duration": 22,
    "start_time": "2023-04-12T17:23:44.445Z"
   },
   {
    "duration": 21,
    "start_time": "2023-04-12T17:23:44.469Z"
   },
   {
    "duration": 47,
    "start_time": "2023-04-12T17:23:44.492Z"
   },
   {
    "duration": 44,
    "start_time": "2023-04-12T17:23:44.543Z"
   },
   {
    "duration": 28,
    "start_time": "2023-04-12T17:23:44.589Z"
   },
   {
    "duration": 23,
    "start_time": "2023-04-12T17:23:44.618Z"
   },
   {
    "duration": 32,
    "start_time": "2023-04-12T17:23:44.643Z"
   },
   {
    "duration": 7,
    "start_time": "2023-04-12T17:23:44.677Z"
   },
   {
    "duration": 14,
    "start_time": "2023-04-12T17:23:44.686Z"
   },
   {
    "duration": 23,
    "start_time": "2023-04-12T17:23:44.702Z"
   },
   {
    "duration": 297,
    "start_time": "2023-04-12T17:23:44.726Z"
   },
   {
    "duration": 18,
    "start_time": "2023-04-12T17:23:45.025Z"
   },
   {
    "duration": 97,
    "start_time": "2023-04-12T17:23:45.044Z"
   },
   {
    "duration": 96,
    "start_time": "2023-04-12T17:23:45.142Z"
   },
   {
    "duration": 28,
    "start_time": "2023-04-12T17:23:45.240Z"
   },
   {
    "duration": 26,
    "start_time": "2023-04-12T17:23:45.270Z"
   },
   {
    "duration": 344,
    "start_time": "2023-04-12T17:23:45.297Z"
   },
   {
    "duration": 534,
    "start_time": "2023-04-12T17:23:45.643Z"
   },
   {
    "duration": 9,
    "start_time": "2023-04-12T17:23:46.179Z"
   },
   {
    "duration": 390,
    "start_time": "2023-04-12T17:23:46.190Z"
   },
   {
    "duration": 406,
    "start_time": "2023-04-12T17:23:46.582Z"
   },
   {
    "duration": 5,
    "start_time": "2023-04-12T17:23:46.990Z"
   },
   {
    "duration": 14,
    "start_time": "2023-04-12T17:23:46.996Z"
   },
   {
    "duration": 12547,
    "start_time": "2023-04-12T17:23:47.012Z"
   },
   {
    "duration": 6,
    "start_time": "2023-04-12T17:23:59.561Z"
   },
   {
    "duration": 9,
    "start_time": "2023-04-12T17:23:59.569Z"
   },
   {
    "duration": 11,
    "start_time": "2023-04-12T17:23:59.580Z"
   },
   {
    "duration": 19,
    "start_time": "2023-04-12T17:23:59.593Z"
   },
   {
    "duration": 29,
    "start_time": "2023-04-12T17:23:59.614Z"
   },
   {
    "duration": 11681,
    "start_time": "2023-04-12T17:23:59.645Z"
   },
   {
    "duration": 17,
    "start_time": "2023-04-12T17:24:11.328Z"
   },
   {
    "duration": 9,
    "start_time": "2023-04-12T17:24:11.346Z"
   },
   {
    "duration": 13,
    "start_time": "2023-04-12T17:24:11.356Z"
   },
   {
    "duration": 13,
    "start_time": "2023-04-12T17:24:11.370Z"
   },
   {
    "duration": 12,
    "start_time": "2023-04-12T17:24:11.385Z"
   },
   {
    "duration": 10506,
    "start_time": "2023-04-12T17:24:11.399Z"
   },
   {
    "duration": 7,
    "start_time": "2023-04-12T17:24:21.907Z"
   },
   {
    "duration": 11,
    "start_time": "2023-04-12T17:24:21.915Z"
   },
   {
    "duration": 15,
    "start_time": "2023-04-12T17:24:21.927Z"
   },
   {
    "duration": 125,
    "start_time": "2023-04-12T17:24:21.944Z"
   },
   {
    "duration": 15,
    "start_time": "2023-04-12T17:24:22.071Z"
   },
   {
    "duration": 11,
    "start_time": "2023-04-12T17:24:22.088Z"
   },
   {
    "duration": 19,
    "start_time": "2023-04-12T17:24:22.100Z"
   },
   {
    "duration": 23,
    "start_time": "2023-04-12T17:24:22.120Z"
   },
   {
    "duration": 14,
    "start_time": "2023-04-12T17:24:22.145Z"
   },
   {
    "duration": 10540,
    "start_time": "2023-04-12T17:24:22.160Z"
   },
   {
    "duration": 3,
    "start_time": "2023-04-12T17:24:32.702Z"
   },
   {
    "duration": 21,
    "start_time": "2023-04-12T17:24:32.706Z"
   },
   {
    "duration": 10429,
    "start_time": "2023-04-12T17:24:32.729Z"
   },
   {
    "duration": 5,
    "start_time": "2023-04-12T17:24:43.160Z"
   },
   {
    "duration": 283,
    "start_time": "2023-04-12T17:24:43.167Z"
   },
   {
    "duration": 23,
    "start_time": "2023-04-12T17:24:43.451Z"
   },
   {
    "duration": 5,
    "start_time": "2023-04-12T17:24:43.476Z"
   },
   {
    "duration": 367,
    "start_time": "2023-04-12T17:24:43.482Z"
   },
   {
    "duration": 17,
    "start_time": "2023-04-12T17:24:43.851Z"
   },
   {
    "duration": 10,
    "start_time": "2023-04-12T17:24:43.870Z"
   },
   {
    "duration": 9,
    "start_time": "2023-04-12T17:24:43.881Z"
   },
   {
    "duration": 10,
    "start_time": "2023-04-12T17:24:43.895Z"
   },
   {
    "duration": 6,
    "start_time": "2023-04-12T17:24:43.906Z"
   },
   {
    "duration": 33,
    "start_time": "2023-04-12T17:24:43.914Z"
   },
   {
    "duration": 5,
    "start_time": "2023-04-12T17:24:43.948Z"
   },
   {
    "duration": 424,
    "start_time": "2023-04-12T17:24:43.955Z"
   },
   {
    "duration": 3,
    "start_time": "2023-04-12T17:49:24.583Z"
   },
   {
    "duration": 13,
    "start_time": "2023-04-12T17:50:22.870Z"
   },
   {
    "duration": 18,
    "start_time": "2023-04-12T17:52:20.015Z"
   },
   {
    "duration": 19,
    "start_time": "2023-04-12T17:53:27.769Z"
   },
   {
    "duration": 303,
    "start_time": "2023-04-12T19:16:01.390Z"
   },
   {
    "duration": 120,
    "start_time": "2023-04-12T19:16:16.121Z"
   },
   {
    "duration": 10,
    "start_time": "2023-04-12T19:16:24.375Z"
   },
   {
    "duration": 76,
    "start_time": "2023-04-12T19:16:38.983Z"
   },
   {
    "duration": 16,
    "start_time": "2023-04-12T19:16:55.112Z"
   },
   {
    "duration": 11,
    "start_time": "2023-04-12T19:17:50.504Z"
   },
   {
    "duration": 12,
    "start_time": "2023-04-12T19:18:02.872Z"
   },
   {
    "duration": 13,
    "start_time": "2023-04-12T19:18:09.484Z"
   },
   {
    "duration": 673,
    "start_time": "2023-04-12T19:20:45.143Z"
   },
   {
    "duration": 70,
    "start_time": "2023-04-12T19:21:16.495Z"
   },
   {
    "duration": 9,
    "start_time": "2023-04-12T19:21:28.230Z"
   },
   {
    "duration": 7,
    "start_time": "2023-04-12T19:21:33.142Z"
   },
   {
    "duration": 270,
    "start_time": "2023-04-12T19:21:53.253Z"
   },
   {
    "duration": 20,
    "start_time": "2023-04-12T19:22:05.222Z"
   },
   {
    "duration": 7,
    "start_time": "2023-04-12T19:22:12.022Z"
   },
   {
    "duration": 264,
    "start_time": "2023-04-12T19:22:17.081Z"
   },
   {
    "duration": 18,
    "start_time": "2023-04-12T19:22:23.851Z"
   },
   {
    "duration": 902,
    "start_time": "2023-04-13T06:39:33.405Z"
   },
   {
    "duration": 403,
    "start_time": "2023-04-13T06:39:34.309Z"
   },
   {
    "duration": 27,
    "start_time": "2023-04-13T06:39:34.714Z"
   },
   {
    "duration": 36,
    "start_time": "2023-04-13T06:39:34.742Z"
   },
   {
    "duration": 6,
    "start_time": "2023-04-13T06:39:34.780Z"
   },
   {
    "duration": 41,
    "start_time": "2023-04-13T06:39:34.788Z"
   },
   {
    "duration": 20,
    "start_time": "2023-04-13T06:39:34.831Z"
   },
   {
    "duration": 14,
    "start_time": "2023-04-13T06:39:34.853Z"
   },
   {
    "duration": 14,
    "start_time": "2023-04-13T06:39:34.869Z"
   },
   {
    "duration": 45,
    "start_time": "2023-04-13T06:39:34.885Z"
   },
   {
    "duration": 21,
    "start_time": "2023-04-13T06:39:34.932Z"
   },
   {
    "duration": 16,
    "start_time": "2023-04-13T06:39:34.955Z"
   },
   {
    "duration": 33,
    "start_time": "2023-04-13T06:39:34.987Z"
   },
   {
    "duration": 13,
    "start_time": "2023-04-13T06:39:35.024Z"
   },
   {
    "duration": 9,
    "start_time": "2023-04-13T06:39:35.039Z"
   },
   {
    "duration": 61,
    "start_time": "2023-04-13T06:39:35.050Z"
   },
   {
    "duration": 57,
    "start_time": "2023-04-13T06:39:35.113Z"
   },
   {
    "duration": 72,
    "start_time": "2023-04-13T06:39:35.172Z"
   },
   {
    "duration": 8,
    "start_time": "2023-04-13T06:39:35.246Z"
   },
   {
    "duration": 13,
    "start_time": "2023-04-13T06:39:35.256Z"
   },
   {
    "duration": 59,
    "start_time": "2023-04-13T06:39:35.270Z"
   },
   {
    "duration": 24,
    "start_time": "2023-04-13T06:39:35.331Z"
   },
   {
    "duration": 4,
    "start_time": "2023-04-13T06:39:35.357Z"
   },
   {
    "duration": 13,
    "start_time": "2023-04-13T06:39:35.363Z"
   },
   {
    "duration": 32,
    "start_time": "2023-04-13T06:39:35.378Z"
   },
   {
    "duration": 6,
    "start_time": "2023-04-13T06:39:35.412Z"
   },
   {
    "duration": 17,
    "start_time": "2023-04-13T06:39:35.420Z"
   },
   {
    "duration": 9,
    "start_time": "2023-04-13T06:39:35.439Z"
   },
   {
    "duration": 7,
    "start_time": "2023-04-13T06:39:35.449Z"
   },
   {
    "duration": 12,
    "start_time": "2023-04-13T06:39:35.457Z"
   },
   {
    "duration": 26,
    "start_time": "2023-04-13T06:39:35.471Z"
   },
   {
    "duration": 17,
    "start_time": "2023-04-13T06:39:35.498Z"
   },
   {
    "duration": 9,
    "start_time": "2023-04-13T06:39:35.517Z"
   },
   {
    "duration": 14,
    "start_time": "2023-04-13T06:39:35.528Z"
   },
   {
    "duration": 358,
    "start_time": "2023-04-13T06:39:35.544Z"
   },
   {
    "duration": 17,
    "start_time": "2023-04-13T06:39:35.906Z"
   },
   {
    "duration": 20,
    "start_time": "2023-04-13T06:39:35.924Z"
   },
   {
    "duration": 63,
    "start_time": "2023-04-13T06:39:35.945Z"
   },
   {
    "duration": 30,
    "start_time": "2023-04-13T06:39:36.009Z"
   },
   {
    "duration": 95,
    "start_time": "2023-04-13T06:39:36.042Z"
   },
   {
    "duration": 465,
    "start_time": "2023-04-13T06:39:36.143Z"
   },
   {
    "duration": 427,
    "start_time": "2023-04-13T06:39:36.611Z"
   },
   {
    "duration": 7,
    "start_time": "2023-04-13T06:39:37.040Z"
   },
   {
    "duration": 375,
    "start_time": "2023-04-13T06:39:37.049Z"
   },
   {
    "duration": 379,
    "start_time": "2023-04-13T06:39:37.425Z"
   },
   {
    "duration": 4,
    "start_time": "2023-04-13T06:39:37.807Z"
   },
   {
    "duration": 8,
    "start_time": "2023-04-13T06:39:37.813Z"
   },
   {
    "duration": 13313,
    "start_time": "2023-04-13T06:39:37.822Z"
   },
   {
    "duration": 5,
    "start_time": "2023-04-13T06:39:51.137Z"
   },
   {
    "duration": 24,
    "start_time": "2023-04-13T06:39:51.143Z"
   },
   {
    "duration": 49,
    "start_time": "2023-04-13T06:39:51.169Z"
   },
   {
    "duration": 11,
    "start_time": "2023-04-13T06:39:51.220Z"
   },
   {
    "duration": 43,
    "start_time": "2023-04-13T06:39:51.232Z"
   },
   {
    "duration": 11820,
    "start_time": "2023-04-13T06:39:51.277Z"
   },
   {
    "duration": 13,
    "start_time": "2023-04-13T06:40:03.099Z"
   },
   {
    "duration": 4,
    "start_time": "2023-04-13T06:40:03.114Z"
   },
   {
    "duration": 8,
    "start_time": "2023-04-13T06:40:03.119Z"
   },
   {
    "duration": 10,
    "start_time": "2023-04-13T06:40:03.128Z"
   },
   {
    "duration": 13,
    "start_time": "2023-04-13T06:40:03.140Z"
   },
   {
    "duration": 10531,
    "start_time": "2023-04-13T06:40:03.155Z"
   },
   {
    "duration": 15,
    "start_time": "2023-04-13T06:40:13.693Z"
   },
   {
    "duration": 16,
    "start_time": "2023-04-13T06:40:13.710Z"
   },
   {
    "duration": 16,
    "start_time": "2023-04-13T06:40:13.728Z"
   },
   {
    "duration": 131,
    "start_time": "2023-04-13T06:40:13.746Z"
   },
   {
    "duration": 24,
    "start_time": "2023-04-13T06:40:13.879Z"
   },
   {
    "duration": 18,
    "start_time": "2023-04-13T06:40:13.905Z"
   },
   {
    "duration": 22,
    "start_time": "2023-04-13T06:40:13.925Z"
   },
   {
    "duration": 16,
    "start_time": "2023-04-13T06:40:13.948Z"
   },
   {
    "duration": 40,
    "start_time": "2023-04-13T06:40:13.965Z"
   },
   {
    "duration": 10138,
    "start_time": "2023-04-13T06:40:14.007Z"
   },
   {
    "duration": 4,
    "start_time": "2023-04-13T06:40:24.146Z"
   },
   {
    "duration": 56,
    "start_time": "2023-04-13T06:40:24.152Z"
   },
   {
    "duration": 11554,
    "start_time": "2023-04-13T06:40:24.210Z"
   },
   {
    "duration": 31,
    "start_time": "2023-04-13T06:40:35.777Z"
   },
   {
    "duration": 32,
    "start_time": "2023-04-13T06:40:35.810Z"
   },
   {
    "duration": 12,
    "start_time": "2023-04-13T06:40:35.844Z"
   },
   {
    "duration": 364,
    "start_time": "2023-04-13T06:40:35.858Z"
   },
   {
    "duration": 21,
    "start_time": "2023-04-13T06:40:36.224Z"
   },
   {
    "duration": 77,
    "start_time": "2023-04-13T06:40:36.247Z"
   },
   {
    "duration": 354,
    "start_time": "2023-04-13T06:40:36.326Z"
   },
   {
    "duration": 26,
    "start_time": "2023-04-13T06:40:36.689Z"
   },
   {
    "duration": 100,
    "start_time": "2023-04-13T06:40:36.717Z"
   },
   {
    "duration": 0,
    "start_time": "2023-04-13T06:40:36.818Z"
   },
   {
    "duration": 24,
    "start_time": "2023-04-13T06:41:43.025Z"
   },
   {
    "duration": 10,
    "start_time": "2023-04-13T06:42:27.987Z"
   },
   {
    "duration": 7,
    "start_time": "2023-04-13T06:42:46.282Z"
   },
   {
    "duration": 20,
    "start_time": "2023-04-13T06:43:08.784Z"
   },
   {
    "duration": 5,
    "start_time": "2023-04-13T06:51:53.387Z"
   },
   {
    "duration": 5,
    "start_time": "2023-04-13T06:52:17.065Z"
   },
   {
    "duration": 6,
    "start_time": "2023-04-13T06:52:22.736Z"
   },
   {
    "duration": 6,
    "start_time": "2023-04-13T06:52:28.399Z"
   },
   {
    "duration": 118,
    "start_time": "2023-04-13T06:53:26.544Z"
   },
   {
    "duration": 150,
    "start_time": "2023-04-13T06:53:50.965Z"
   },
   {
    "duration": 162,
    "start_time": "2023-04-13T06:54:14.584Z"
   },
   {
    "duration": 186,
    "start_time": "2023-04-13T06:55:37.802Z"
   },
   {
    "duration": 208,
    "start_time": "2023-04-13T06:56:52.904Z"
   },
   {
    "duration": 875,
    "start_time": "2023-04-13T07:00:07.313Z"
   },
   {
    "duration": 4,
    "start_time": "2023-04-13T07:04:25.918Z"
   },
   {
    "duration": 10,
    "start_time": "2023-04-13T07:04:35.320Z"
   },
   {
    "duration": 13,
    "start_time": "2023-04-13T07:04:48.843Z"
   },
   {
    "duration": 20,
    "start_time": "2023-04-13T07:05:06.591Z"
   },
   {
    "duration": 11,
    "start_time": "2023-04-13T07:05:12.387Z"
   },
   {
    "duration": 1218,
    "start_time": "2023-04-13T07:06:46.483Z"
   },
   {
    "duration": 11,
    "start_time": "2023-04-13T07:07:17.987Z"
   },
   {
    "duration": 17,
    "start_time": "2023-04-13T07:08:06.768Z"
   },
   {
    "duration": 5,
    "start_time": "2023-04-13T07:08:15.923Z"
   },
   {
    "duration": 19,
    "start_time": "2023-04-13T07:08:36.864Z"
   },
   {
    "duration": 4,
    "start_time": "2023-04-13T07:08:37.738Z"
   },
   {
    "duration": 9,
    "start_time": "2023-04-13T07:14:54.498Z"
   },
   {
    "duration": 9,
    "start_time": "2023-04-13T07:15:07.047Z"
   },
   {
    "duration": 21,
    "start_time": "2023-04-13T08:31:53.089Z"
   },
   {
    "duration": 511,
    "start_time": "2023-04-13T08:32:54.510Z"
   },
   {
    "duration": 2,
    "start_time": "2023-04-13T08:33:13.611Z"
   },
   {
    "duration": 301,
    "start_time": "2023-04-13T08:35:14.230Z"
   },
   {
    "duration": 275,
    "start_time": "2023-04-13T08:35:34.273Z"
   },
   {
    "duration": 266,
    "start_time": "2023-04-13T08:35:53.457Z"
   },
   {
    "duration": 17,
    "start_time": "2023-04-13T08:36:43.696Z"
   },
   {
    "duration": 26,
    "start_time": "2023-04-13T08:36:58.068Z"
   },
   {
    "duration": 22,
    "start_time": "2023-04-13T08:37:07.862Z"
   },
   {
    "duration": 261,
    "start_time": "2023-04-13T08:37:12.341Z"
   },
   {
    "duration": 338,
    "start_time": "2023-04-13T08:37:25.917Z"
   },
   {
    "duration": 261,
    "start_time": "2023-04-13T08:37:33.437Z"
   },
   {
    "duration": 258,
    "start_time": "2023-04-13T08:37:37.997Z"
   },
   {
    "duration": 253,
    "start_time": "2023-04-13T08:37:42.022Z"
   },
   {
    "duration": 282,
    "start_time": "2023-04-13T08:38:43.631Z"
   },
   {
    "duration": 268,
    "start_time": "2023-04-13T08:39:10.394Z"
   },
   {
    "duration": 374,
    "start_time": "2023-04-13T08:40:42.629Z"
   },
   {
    "duration": 267,
    "start_time": "2023-04-13T08:40:52.792Z"
   },
   {
    "duration": 287,
    "start_time": "2023-04-13T08:41:27.618Z"
   },
   {
    "duration": 267,
    "start_time": "2023-04-13T08:41:36.396Z"
   },
   {
    "duration": 288,
    "start_time": "2023-04-13T08:41:42.232Z"
   },
   {
    "duration": 283,
    "start_time": "2023-04-13T08:41:52.222Z"
   },
   {
    "duration": 15,
    "start_time": "2023-04-13T08:43:08.196Z"
   },
   {
    "duration": 315,
    "start_time": "2023-04-13T08:44:31.531Z"
   },
   {
    "duration": 22,
    "start_time": "2023-04-13T08:45:49.597Z"
   },
   {
    "duration": 24,
    "start_time": "2023-04-13T08:46:11.590Z"
   },
   {
    "duration": 21,
    "start_time": "2023-04-13T08:46:37.094Z"
   },
   {
    "duration": 23,
    "start_time": "2023-04-13T08:46:45.857Z"
   },
   {
    "duration": 18,
    "start_time": "2023-04-13T08:48:17.633Z"
   },
   {
    "duration": 17,
    "start_time": "2023-04-13T08:49:50.632Z"
   },
   {
    "duration": 23,
    "start_time": "2023-04-13T08:50:00.900Z"
   },
   {
    "duration": 22,
    "start_time": "2023-04-13T08:50:28.093Z"
   },
   {
    "duration": 17,
    "start_time": "2023-04-13T08:50:48.398Z"
   },
   {
    "duration": 32,
    "start_time": "2023-04-13T08:54:52.994Z"
   },
   {
    "duration": 294,
    "start_time": "2023-04-13T08:54:53.635Z"
   },
   {
    "duration": 476,
    "start_time": "2023-04-13T09:16:59.094Z"
   },
   {
    "duration": 25,
    "start_time": "2023-04-13T09:18:53.941Z"
   },
   {
    "duration": 37,
    "start_time": "2023-04-13T09:19:10.192Z"
   },
   {
    "duration": 28,
    "start_time": "2023-04-13T09:19:19.163Z"
   },
   {
    "duration": 545,
    "start_time": "2023-04-13T09:19:49.092Z"
   },
   {
    "duration": 450,
    "start_time": "2023-04-13T09:19:59.455Z"
   },
   {
    "duration": 436,
    "start_time": "2023-04-13T09:20:41.717Z"
   },
   {
    "duration": 552,
    "start_time": "2023-04-13T09:22:53.544Z"
   },
   {
    "duration": 16,
    "start_time": "2023-04-13T09:29:10.219Z"
   },
   {
    "duration": 801,
    "start_time": "2023-04-13T09:34:27.631Z"
   },
   {
    "duration": 815,
    "start_time": "2023-04-13T09:35:21.890Z"
   },
   {
    "duration": 11,
    "start_time": "2023-04-13T09:35:31.103Z"
   },
   {
    "duration": 7834,
    "start_time": "2023-04-13T09:35:50.408Z"
   },
   {
    "duration": 11977,
    "start_time": "2023-04-13T09:37:04.223Z"
   },
   {
    "duration": 8624,
    "start_time": "2023-04-13T09:37:28.989Z"
   },
   {
    "duration": 8855,
    "start_time": "2023-04-13T09:39:16.313Z"
   },
   {
    "duration": 10886,
    "start_time": "2023-04-13T09:39:59.720Z"
   },
   {
    "duration": 10122,
    "start_time": "2023-04-13T09:40:20.270Z"
   },
   {
    "duration": 9,
    "start_time": "2023-04-13T09:43:04.147Z"
   },
   {
    "duration": 10,
    "start_time": "2023-04-13T09:43:48.833Z"
   },
   {
    "duration": 14,
    "start_time": "2023-04-13T09:44:13.715Z"
   },
   {
    "duration": 10,
    "start_time": "2023-04-13T09:44:39.995Z"
   },
   {
    "duration": 10,
    "start_time": "2023-04-13T09:44:53.847Z"
   },
   {
    "duration": 9,
    "start_time": "2023-04-13T09:45:00.228Z"
   },
   {
    "duration": 6,
    "start_time": "2023-04-13T09:45:07.971Z"
   },
   {
    "duration": 13,
    "start_time": "2023-04-13T09:45:09.711Z"
   },
   {
    "duration": 1892,
    "start_time": "2023-04-13T09:45:46.838Z"
   },
   {
    "duration": 874,
    "start_time": "2023-04-13T09:45:48.732Z"
   },
   {
    "duration": 38,
    "start_time": "2023-04-13T09:45:49.607Z"
   },
   {
    "duration": 17,
    "start_time": "2023-04-13T09:45:49.647Z"
   },
   {
    "duration": 22,
    "start_time": "2023-04-13T09:45:49.667Z"
   },
   {
    "duration": 55,
    "start_time": "2023-04-13T09:45:49.699Z"
   },
   {
    "duration": 55,
    "start_time": "2023-04-13T09:45:49.756Z"
   },
   {
    "duration": 32,
    "start_time": "2023-04-13T09:45:49.813Z"
   },
   {
    "duration": 11,
    "start_time": "2023-04-13T09:45:49.847Z"
   },
   {
    "duration": 3,
    "start_time": "2023-04-13T09:45:49.860Z"
   },
   {
    "duration": 75,
    "start_time": "2023-04-13T09:45:49.865Z"
   },
   {
    "duration": 10,
    "start_time": "2023-04-13T09:45:49.943Z"
   },
   {
    "duration": 9,
    "start_time": "2023-04-13T09:45:49.954Z"
   },
   {
    "duration": 44,
    "start_time": "2023-04-13T09:45:49.965Z"
   },
   {
    "duration": 30,
    "start_time": "2023-04-13T09:45:50.010Z"
   },
   {
    "duration": 24,
    "start_time": "2023-04-13T09:45:50.042Z"
   },
   {
    "duration": 113,
    "start_time": "2023-04-13T09:45:50.068Z"
   },
   {
    "duration": 68,
    "start_time": "2023-04-13T09:45:50.183Z"
   },
   {
    "duration": 8,
    "start_time": "2023-04-13T09:45:50.252Z"
   },
   {
    "duration": 75,
    "start_time": "2023-04-13T09:45:50.262Z"
   },
   {
    "duration": 10,
    "start_time": "2023-04-13T09:45:50.338Z"
   },
   {
    "duration": 45,
    "start_time": "2023-04-13T09:45:50.349Z"
   },
   {
    "duration": 41,
    "start_time": "2023-04-13T09:45:50.395Z"
   },
   {
    "duration": 9,
    "start_time": "2023-04-13T09:45:50.437Z"
   },
   {
    "duration": 7,
    "start_time": "2023-04-13T09:45:50.448Z"
   },
   {
    "duration": 8,
    "start_time": "2023-04-13T09:45:50.457Z"
   },
   {
    "duration": 22,
    "start_time": "2023-04-13T09:45:50.467Z"
   },
   {
    "duration": 37,
    "start_time": "2023-04-13T09:45:50.495Z"
   },
   {
    "duration": 5,
    "start_time": "2023-04-13T09:45:50.533Z"
   },
   {
    "duration": 12,
    "start_time": "2023-04-13T09:45:50.540Z"
   },
   {
    "duration": 29,
    "start_time": "2023-04-13T09:45:50.553Z"
   },
   {
    "duration": 57,
    "start_time": "2023-04-13T09:45:50.583Z"
   },
   {
    "duration": 18,
    "start_time": "2023-04-13T09:45:50.642Z"
   },
   {
    "duration": 103,
    "start_time": "2023-04-13T09:45:50.662Z"
   },
   {
    "duration": 426,
    "start_time": "2023-04-13T09:45:50.767Z"
   },
   {
    "duration": 17,
    "start_time": "2023-04-13T09:45:51.206Z"
   },
   {
    "duration": 20,
    "start_time": "2023-04-13T09:45:51.224Z"
   },
   {
    "duration": 36,
    "start_time": "2023-04-13T09:45:51.245Z"
   },
   {
    "duration": 50,
    "start_time": "2023-04-13T09:45:51.288Z"
   },
   {
    "duration": 81,
    "start_time": "2023-04-13T09:45:51.340Z"
   },
   {
    "duration": 438,
    "start_time": "2023-04-13T09:45:51.423Z"
   },
   {
    "duration": 447,
    "start_time": "2023-04-13T09:45:51.863Z"
   },
   {
    "duration": 12,
    "start_time": "2023-04-13T09:45:52.311Z"
   },
   {
    "duration": 667,
    "start_time": "2023-04-13T09:45:52.324Z"
   },
   {
    "duration": 495,
    "start_time": "2023-04-13T09:45:52.993Z"
   },
   {
    "duration": 4,
    "start_time": "2023-04-13T09:45:53.495Z"
   },
   {
    "duration": 29,
    "start_time": "2023-04-13T09:45:53.504Z"
   },
   {
    "duration": 12311,
    "start_time": "2023-04-13T09:45:53.535Z"
   },
   {
    "duration": 5,
    "start_time": "2023-04-13T09:46:05.848Z"
   },
   {
    "duration": 7,
    "start_time": "2023-04-13T09:46:05.854Z"
   },
   {
    "duration": 15,
    "start_time": "2023-04-13T09:46:05.862Z"
   },
   {
    "duration": 49,
    "start_time": "2023-04-13T09:46:05.881Z"
   },
   {
    "duration": 18,
    "start_time": "2023-04-13T09:46:05.932Z"
   },
   {
    "duration": 11754,
    "start_time": "2023-04-13T09:46:05.951Z"
   },
   {
    "duration": 14,
    "start_time": "2023-04-13T09:46:17.714Z"
   },
   {
    "duration": 13,
    "start_time": "2023-04-13T09:46:17.730Z"
   },
   {
    "duration": 8,
    "start_time": "2023-04-13T09:46:17.744Z"
   },
   {
    "duration": 5,
    "start_time": "2023-04-13T09:46:17.753Z"
   },
   {
    "duration": 8,
    "start_time": "2023-04-13T09:46:17.759Z"
   },
   {
    "duration": 10533,
    "start_time": "2023-04-13T09:46:17.768Z"
   },
   {
    "duration": 7,
    "start_time": "2023-04-13T09:46:28.305Z"
   },
   {
    "duration": 33,
    "start_time": "2023-04-13T09:46:28.318Z"
   },
   {
    "duration": 5,
    "start_time": "2023-04-13T09:46:28.353Z"
   },
   {
    "duration": 232,
    "start_time": "2023-04-13T09:46:28.360Z"
   },
   {
    "duration": 15,
    "start_time": "2023-04-13T09:46:28.594Z"
   },
   {
    "duration": 24,
    "start_time": "2023-04-13T09:46:28.611Z"
   },
   {
    "duration": 146,
    "start_time": "2023-04-13T09:46:28.637Z"
   },
   {
    "duration": 9,
    "start_time": "2023-04-13T09:46:28.785Z"
   },
   {
    "duration": 39,
    "start_time": "2023-04-13T09:46:28.800Z"
   },
   {
    "duration": 12,
    "start_time": "2023-04-13T09:46:28.841Z"
   },
   {
    "duration": 9,
    "start_time": "2023-04-13T09:46:28.854Z"
   },
   {
    "duration": 5,
    "start_time": "2023-04-13T09:46:28.865Z"
   },
   {
    "duration": 10602,
    "start_time": "2023-04-13T09:46:28.880Z"
   },
   {
    "duration": 5,
    "start_time": "2023-04-13T09:46:39.488Z"
   },
   {
    "duration": 52,
    "start_time": "2023-04-13T09:46:39.495Z"
   },
   {
    "duration": 10422,
    "start_time": "2023-04-13T09:46:39.548Z"
   },
   {
    "duration": 16,
    "start_time": "2023-04-13T09:46:49.972Z"
   },
   {
    "duration": 8,
    "start_time": "2023-04-13T09:46:49.990Z"
   },
   {
    "duration": 7,
    "start_time": "2023-04-13T09:46:50.000Z"
   },
   {
    "duration": 351,
    "start_time": "2023-04-13T09:46:50.009Z"
   },
   {
    "duration": 29,
    "start_time": "2023-04-13T09:46:50.361Z"
   },
   {
    "duration": 35,
    "start_time": "2023-04-13T09:46:50.401Z"
   },
   {
    "duration": 309,
    "start_time": "2023-04-13T09:46:50.437Z"
   },
   {
    "duration": 28,
    "start_time": "2023-04-13T09:46:50.748Z"
   },
   {
    "duration": 48,
    "start_time": "2023-04-13T09:46:50.777Z"
   },
   {
    "duration": 17,
    "start_time": "2023-04-13T09:46:50.826Z"
   },
   {
    "duration": 422,
    "start_time": "2023-04-13T09:46:50.844Z"
   },
   {
    "duration": 4,
    "start_time": "2023-04-13T09:46:51.268Z"
   },
   {
    "duration": 185,
    "start_time": "2023-04-13T09:46:51.273Z"
   },
   {
    "duration": 0,
    "start_time": "2023-04-13T09:46:51.459Z"
   },
   {
    "duration": 0,
    "start_time": "2023-04-13T09:46:51.460Z"
   },
   {
    "duration": 0,
    "start_time": "2023-04-13T09:46:51.461Z"
   },
   {
    "duration": 0,
    "start_time": "2023-04-13T09:46:51.462Z"
   },
   {
    "duration": 0,
    "start_time": "2023-04-13T09:46:51.463Z"
   },
   {
    "duration": 10,
    "start_time": "2023-04-13T09:47:24.798Z"
   },
   {
    "duration": 20,
    "start_time": "2023-04-13T09:47:36.725Z"
   },
   {
    "duration": 67,
    "start_time": "2023-04-13T09:48:55.882Z"
   },
   {
    "duration": 32,
    "start_time": "2023-04-13T09:49:04.128Z"
   },
   {
    "duration": 3,
    "start_time": "2023-04-13T09:51:24.434Z"
   },
   {
    "duration": 13,
    "start_time": "2023-04-13T09:51:31.591Z"
   },
   {
    "duration": 28,
    "start_time": "2023-04-13T09:51:32.207Z"
   },
   {
    "duration": 17,
    "start_time": "2023-04-13T09:52:48.620Z"
   },
   {
    "duration": 16,
    "start_time": "2023-04-13T09:53:32.206Z"
   },
   {
    "duration": 22,
    "start_time": "2023-04-13T09:53:50.223Z"
   },
   {
    "duration": 28,
    "start_time": "2023-04-13T09:54:05.638Z"
   },
   {
    "duration": 268,
    "start_time": "2023-04-13T09:54:07.998Z"
   },
   {
    "duration": 261,
    "start_time": "2023-04-13T09:56:45.832Z"
   },
   {
    "duration": 232,
    "start_time": "2023-04-13T09:57:01.534Z"
   },
   {
    "duration": 355,
    "start_time": "2023-04-13T09:57:09.035Z"
   },
   {
    "duration": 393,
    "start_time": "2023-04-13T10:00:34.359Z"
   },
   {
    "duration": 2,
    "start_time": "2023-04-13T12:55:43.424Z"
   },
   {
    "duration": 21,
    "start_time": "2023-04-13T12:58:23.738Z"
   },
   {
    "duration": 14,
    "start_time": "2023-04-13T12:58:48.845Z"
   },
   {
    "duration": 22,
    "start_time": "2023-04-13T14:39:34.378Z"
   },
   {
    "duration": 188,
    "start_time": "2023-04-13T14:47:36.627Z"
   },
   {
    "duration": 305,
    "start_time": "2023-04-13T14:48:00.000Z"
   },
   {
    "duration": 19,
    "start_time": "2023-04-13T14:58:16.759Z"
   },
   {
    "duration": 162,
    "start_time": "2023-04-13T14:58:55.402Z"
   },
   {
    "duration": 220,
    "start_time": "2023-04-13T14:59:01.791Z"
   },
   {
    "duration": 186,
    "start_time": "2023-04-13T14:59:29.202Z"
   },
   {
    "duration": 1408,
    "start_time": "2023-04-13T16:30:14.605Z"
   },
   {
    "duration": 215,
    "start_time": "2023-04-13T16:30:16.015Z"
   },
   {
    "duration": 27,
    "start_time": "2023-04-13T16:30:16.231Z"
   },
   {
    "duration": 30,
    "start_time": "2023-04-13T16:30:16.259Z"
   },
   {
    "duration": 5,
    "start_time": "2023-04-13T16:30:16.292Z"
   },
   {
    "duration": 24,
    "start_time": "2023-04-13T16:30:16.299Z"
   },
   {
    "duration": 21,
    "start_time": "2023-04-13T16:30:16.325Z"
   },
   {
    "duration": 10,
    "start_time": "2023-04-13T16:30:16.348Z"
   },
   {
    "duration": 35,
    "start_time": "2023-04-13T16:30:16.360Z"
   },
   {
    "duration": 6,
    "start_time": "2023-04-13T16:30:16.396Z"
   },
   {
    "duration": 19,
    "start_time": "2023-04-13T16:30:16.403Z"
   },
   {
    "duration": 12,
    "start_time": "2023-04-13T16:30:16.424Z"
   },
   {
    "duration": 30,
    "start_time": "2023-04-13T16:30:16.439Z"
   },
   {
    "duration": 22,
    "start_time": "2023-04-13T16:30:16.473Z"
   },
   {
    "duration": 8,
    "start_time": "2023-04-13T16:30:16.496Z"
   },
   {
    "duration": 15,
    "start_time": "2023-04-13T16:30:16.506Z"
   },
   {
    "duration": 45,
    "start_time": "2023-04-13T16:30:16.523Z"
   },
   {
    "duration": 81,
    "start_time": "2023-04-13T16:30:16.570Z"
   },
   {
    "duration": 9,
    "start_time": "2023-04-13T16:30:16.653Z"
   },
   {
    "duration": 27,
    "start_time": "2023-04-13T16:30:16.664Z"
   },
   {
    "duration": 20,
    "start_time": "2023-04-13T16:30:16.693Z"
   },
   {
    "duration": 34,
    "start_time": "2023-04-13T16:30:16.715Z"
   },
   {
    "duration": 9,
    "start_time": "2023-04-13T16:30:16.751Z"
   },
   {
    "duration": 19,
    "start_time": "2023-04-13T16:30:16.762Z"
   },
   {
    "duration": 25,
    "start_time": "2023-04-13T16:30:16.783Z"
   },
   {
    "duration": 34,
    "start_time": "2023-04-13T16:30:16.810Z"
   },
   {
    "duration": 10,
    "start_time": "2023-04-13T16:30:16.846Z"
   },
   {
    "duration": 11,
    "start_time": "2023-04-13T16:30:16.859Z"
   },
   {
    "duration": 8,
    "start_time": "2023-04-13T16:30:16.872Z"
   },
   {
    "duration": 15,
    "start_time": "2023-04-13T16:30:16.881Z"
   },
   {
    "duration": 18,
    "start_time": "2023-04-13T16:30:16.898Z"
   },
   {
    "duration": 9,
    "start_time": "2023-04-13T16:30:16.918Z"
   },
   {
    "duration": 6,
    "start_time": "2023-04-13T16:30:16.928Z"
   },
   {
    "duration": 11,
    "start_time": "2023-04-13T16:30:16.935Z"
   },
   {
    "duration": 311,
    "start_time": "2023-04-13T16:30:16.947Z"
   },
   {
    "duration": 11,
    "start_time": "2023-04-13T16:30:17.260Z"
   },
   {
    "duration": 5,
    "start_time": "2023-04-13T16:30:17.287Z"
   },
   {
    "duration": 30,
    "start_time": "2023-04-13T16:30:17.295Z"
   },
   {
    "duration": 9,
    "start_time": "2023-04-13T16:30:17.327Z"
   },
   {
    "duration": 15,
    "start_time": "2023-04-13T16:30:17.338Z"
   },
   {
    "duration": 386,
    "start_time": "2023-04-13T16:30:17.362Z"
   },
   {
    "duration": 358,
    "start_time": "2023-04-13T16:30:17.750Z"
   },
   {
    "duration": 9,
    "start_time": "2023-04-13T16:30:18.110Z"
   },
   {
    "duration": 378,
    "start_time": "2023-04-13T16:30:18.121Z"
   },
   {
    "duration": 446,
    "start_time": "2023-04-13T16:30:18.501Z"
   },
   {
    "duration": 5,
    "start_time": "2023-04-13T16:30:18.949Z"
   },
   {
    "duration": 15,
    "start_time": "2023-04-13T16:30:18.955Z"
   },
   {
    "duration": 13120,
    "start_time": "2023-04-13T16:30:18.972Z"
   },
   {
    "duration": 5,
    "start_time": "2023-04-13T16:30:32.094Z"
   },
   {
    "duration": 18,
    "start_time": "2023-04-13T16:30:32.100Z"
   },
   {
    "duration": 12,
    "start_time": "2023-04-13T16:30:32.119Z"
   },
   {
    "duration": 11,
    "start_time": "2023-04-13T16:30:32.132Z"
   },
   {
    "duration": 9,
    "start_time": "2023-04-13T16:30:32.145Z"
   },
   {
    "duration": 12069,
    "start_time": "2023-04-13T16:30:32.156Z"
   },
   {
    "duration": 10,
    "start_time": "2023-04-13T16:30:44.227Z"
   },
   {
    "duration": 6,
    "start_time": "2023-04-13T16:30:44.238Z"
   },
   {
    "duration": 11,
    "start_time": "2023-04-13T16:30:44.245Z"
   },
   {
    "duration": 3,
    "start_time": "2023-04-13T16:30:44.258Z"
   },
   {
    "duration": 5,
    "start_time": "2023-04-13T16:30:44.288Z"
   },
   {
    "duration": 11150,
    "start_time": "2023-04-13T16:30:44.295Z"
   },
   {
    "duration": 8,
    "start_time": "2023-04-13T16:30:55.447Z"
   },
   {
    "duration": 19,
    "start_time": "2023-04-13T16:30:55.458Z"
   },
   {
    "duration": 14,
    "start_time": "2023-04-13T16:30:55.488Z"
   },
   {
    "duration": 276,
    "start_time": "2023-04-13T16:30:55.504Z"
   },
   {
    "duration": 13,
    "start_time": "2023-04-13T16:30:55.787Z"
   },
   {
    "duration": 4,
    "start_time": "2023-04-13T16:30:55.801Z"
   },
   {
    "duration": 126,
    "start_time": "2023-04-13T16:30:55.806Z"
   },
   {
    "duration": 9,
    "start_time": "2023-04-13T16:30:55.934Z"
   },
   {
    "duration": 8,
    "start_time": "2023-04-13T16:30:55.945Z"
   },
   {
    "duration": 112,
    "start_time": "2023-04-13T16:30:55.954Z"
   },
   {
    "duration": 27,
    "start_time": "2023-04-13T16:30:56.068Z"
   },
   {
    "duration": 41,
    "start_time": "2023-04-13T16:30:56.097Z"
   },
   {
    "duration": 11749,
    "start_time": "2023-04-13T16:30:56.141Z"
   },
   {
    "duration": 4,
    "start_time": "2023-04-13T16:31:07.892Z"
   },
   {
    "duration": 8,
    "start_time": "2023-04-13T16:31:07.898Z"
   },
   {
    "duration": 10802,
    "start_time": "2023-04-13T16:31:07.907Z"
   },
   {
    "duration": 15,
    "start_time": "2023-04-13T16:31:18.711Z"
   },
   {
    "duration": 34,
    "start_time": "2023-04-13T16:31:18.728Z"
   },
   {
    "duration": 19,
    "start_time": "2023-04-13T16:31:18.764Z"
   },
   {
    "duration": 286,
    "start_time": "2023-04-13T16:31:18.785Z"
   },
   {
    "duration": 20,
    "start_time": "2023-04-13T16:31:19.077Z"
   },
   {
    "duration": 7,
    "start_time": "2023-04-13T16:31:19.099Z"
   },
   {
    "duration": 293,
    "start_time": "2023-04-13T16:31:19.107Z"
   },
   {
    "duration": 18,
    "start_time": "2023-04-13T16:31:19.402Z"
   },
   {
    "duration": 15,
    "start_time": "2023-04-13T16:31:19.422Z"
   },
   {
    "duration": 135,
    "start_time": "2023-04-13T16:31:19.439Z"
   },
   {
    "duration": 0,
    "start_time": "2023-04-13T16:31:19.577Z"
   },
   {
    "duration": 0,
    "start_time": "2023-04-13T16:31:19.578Z"
   },
   {
    "duration": 0,
    "start_time": "2023-04-13T16:31:19.588Z"
   },
   {
    "duration": 0,
    "start_time": "2023-04-13T16:31:19.589Z"
   },
   {
    "duration": 0,
    "start_time": "2023-04-13T16:31:19.590Z"
   },
   {
    "duration": 0,
    "start_time": "2023-04-13T16:31:19.591Z"
   },
   {
    "duration": 1,
    "start_time": "2023-04-13T16:31:19.592Z"
   },
   {
    "duration": 0,
    "start_time": "2023-04-13T16:31:19.594Z"
   },
   {
    "duration": 0,
    "start_time": "2023-04-13T16:31:19.595Z"
   },
   {
    "duration": 0,
    "start_time": "2023-04-13T16:31:19.596Z"
   },
   {
    "duration": 0,
    "start_time": "2023-04-13T16:31:19.597Z"
   },
   {
    "duration": 0,
    "start_time": "2023-04-13T16:31:19.598Z"
   },
   {
    "duration": 0,
    "start_time": "2023-04-13T16:31:19.599Z"
   },
   {
    "duration": 0,
    "start_time": "2023-04-13T16:31:19.600Z"
   },
   {
    "duration": 16,
    "start_time": "2023-04-13T16:33:54.608Z"
   },
   {
    "duration": 309,
    "start_time": "2023-04-13T16:33:58.824Z"
   },
   {
    "duration": 11,
    "start_time": "2023-04-13T16:34:19.961Z"
   },
   {
    "duration": 170,
    "start_time": "2023-04-13T16:34:20.843Z"
   },
   {
    "duration": 20,
    "start_time": "2023-04-13T16:37:39.360Z"
   },
   {
    "duration": 219,
    "start_time": "2023-04-13T16:37:42.745Z"
   },
   {
    "duration": 21,
    "start_time": "2023-04-13T17:25:49.879Z"
   },
   {
    "duration": 19,
    "start_time": "2023-04-13T17:25:50.441Z"
   },
   {
    "duration": 399,
    "start_time": "2023-04-13T17:25:51.065Z"
   },
   {
    "duration": 3,
    "start_time": "2023-04-13T17:25:53.726Z"
   },
   {
    "duration": 10,
    "start_time": "2023-04-13T17:25:54.656Z"
   },
   {
    "duration": 36,
    "start_time": "2023-04-13T17:25:55.351Z"
   },
   {
    "duration": 15,
    "start_time": "2023-04-13T17:25:57.873Z"
   },
   {
    "duration": 126,
    "start_time": "2023-04-13T17:26:01.101Z"
   },
   {
    "duration": 250,
    "start_time": "2023-04-13T17:26:02.079Z"
   },
   {
    "duration": 50,
    "start_time": "2023-04-14T03:34:26.506Z"
   },
   {
    "duration": 1434,
    "start_time": "2023-04-14T03:34:47.502Z"
   },
   {
    "duration": 189,
    "start_time": "2023-04-14T03:34:48.938Z"
   },
   {
    "duration": 27,
    "start_time": "2023-04-14T03:34:49.129Z"
   },
   {
    "duration": 34,
    "start_time": "2023-04-14T03:34:49.158Z"
   },
   {
    "duration": 5,
    "start_time": "2023-04-14T03:34:49.193Z"
   },
   {
    "duration": 23,
    "start_time": "2023-04-14T03:34:49.200Z"
   },
   {
    "duration": 11,
    "start_time": "2023-04-14T03:34:49.225Z"
   },
   {
    "duration": 11,
    "start_time": "2023-04-14T03:34:49.238Z"
   },
   {
    "duration": 37,
    "start_time": "2023-04-14T03:34:49.251Z"
   },
   {
    "duration": 4,
    "start_time": "2023-04-14T03:34:49.291Z"
   },
   {
    "duration": 15,
    "start_time": "2023-04-14T03:34:49.297Z"
   },
   {
    "duration": 12,
    "start_time": "2023-04-14T03:34:49.314Z"
   },
   {
    "duration": 10,
    "start_time": "2023-04-14T03:34:49.327Z"
   },
   {
    "duration": 11,
    "start_time": "2023-04-14T03:34:49.338Z"
   },
   {
    "duration": 9,
    "start_time": "2023-04-14T03:34:49.386Z"
   },
   {
    "duration": 5,
    "start_time": "2023-04-14T03:34:49.397Z"
   },
   {
    "duration": 32,
    "start_time": "2023-04-14T03:34:49.403Z"
   },
   {
    "duration": 73,
    "start_time": "2023-04-14T03:34:49.438Z"
   },
   {
    "duration": 9,
    "start_time": "2023-04-14T03:34:49.513Z"
   },
   {
    "duration": 9,
    "start_time": "2023-04-14T03:34:49.524Z"
   },
   {
    "duration": 8,
    "start_time": "2023-04-14T03:34:49.535Z"
   },
   {
    "duration": 42,
    "start_time": "2023-04-14T03:34:49.544Z"
   },
   {
    "duration": 6,
    "start_time": "2023-04-14T03:34:49.588Z"
   },
   {
    "duration": 22,
    "start_time": "2023-04-14T03:34:49.597Z"
   },
   {
    "duration": 7,
    "start_time": "2023-04-14T03:34:49.621Z"
   },
   {
    "duration": 6,
    "start_time": "2023-04-14T03:34:49.630Z"
   },
   {
    "duration": 5,
    "start_time": "2023-04-14T03:34:49.638Z"
   },
   {
    "duration": 9,
    "start_time": "2023-04-14T03:34:49.647Z"
   },
   {
    "duration": 12,
    "start_time": "2023-04-14T03:34:49.658Z"
   },
   {
    "duration": 12,
    "start_time": "2023-04-14T03:34:49.686Z"
   },
   {
    "duration": 13,
    "start_time": "2023-04-14T03:34:49.699Z"
   },
   {
    "duration": 7,
    "start_time": "2023-04-14T03:34:49.713Z"
   },
   {
    "duration": 6,
    "start_time": "2023-04-14T03:34:49.722Z"
   },
   {
    "duration": 10,
    "start_time": "2023-04-14T03:34:49.730Z"
   },
   {
    "duration": 289,
    "start_time": "2023-04-14T03:34:49.741Z"
   },
   {
    "duration": 12,
    "start_time": "2023-04-14T03:34:50.031Z"
   },
   {
    "duration": 17,
    "start_time": "2023-04-14T03:34:50.045Z"
   },
   {
    "duration": 12,
    "start_time": "2023-04-14T03:34:50.063Z"
   },
   {
    "duration": 10,
    "start_time": "2023-04-14T03:34:50.077Z"
   },
   {
    "duration": 12,
    "start_time": "2023-04-14T03:34:50.088Z"
   },
   {
    "duration": 341,
    "start_time": "2023-04-14T03:34:50.102Z"
   },
   {
    "duration": 330,
    "start_time": "2023-04-14T03:34:50.445Z"
   },
   {
    "duration": 14,
    "start_time": "2023-04-14T03:34:50.777Z"
   },
   {
    "duration": 360,
    "start_time": "2023-04-14T03:34:50.793Z"
   },
   {
    "duration": 404,
    "start_time": "2023-04-14T03:34:51.155Z"
   },
   {
    "duration": 5,
    "start_time": "2023-04-14T03:34:51.561Z"
   },
   {
    "duration": 10,
    "start_time": "2023-04-14T03:34:51.567Z"
   },
   {
    "duration": 12183,
    "start_time": "2023-04-14T03:34:51.585Z"
   },
   {
    "duration": 4,
    "start_time": "2023-04-14T03:35:03.770Z"
   },
   {
    "duration": 11,
    "start_time": "2023-04-14T03:35:03.776Z"
   },
   {
    "duration": 4,
    "start_time": "2023-04-14T03:35:03.789Z"
   },
   {
    "duration": 7,
    "start_time": "2023-04-14T03:35:03.794Z"
   },
   {
    "duration": 11,
    "start_time": "2023-04-14T03:35:03.802Z"
   },
   {
    "duration": 11196,
    "start_time": "2023-04-14T03:35:03.814Z"
   },
   {
    "duration": 10,
    "start_time": "2023-04-14T03:35:15.011Z"
   },
   {
    "duration": 18,
    "start_time": "2023-04-14T03:35:15.022Z"
   },
   {
    "duration": 17,
    "start_time": "2023-04-14T03:35:15.042Z"
   },
   {
    "duration": 17,
    "start_time": "2023-04-14T03:35:15.061Z"
   },
   {
    "duration": 24,
    "start_time": "2023-04-14T03:35:15.080Z"
   },
   {
    "duration": 10484,
    "start_time": "2023-04-14T03:35:15.105Z"
   },
   {
    "duration": 7,
    "start_time": "2023-04-14T03:35:25.591Z"
   },
   {
    "duration": 8,
    "start_time": "2023-04-14T03:35:25.600Z"
   },
   {
    "duration": 10,
    "start_time": "2023-04-14T03:35:25.609Z"
   },
   {
    "duration": 242,
    "start_time": "2023-04-14T03:35:25.621Z"
   },
   {
    "duration": 24,
    "start_time": "2023-04-14T03:35:25.865Z"
   },
   {
    "duration": 4,
    "start_time": "2023-04-14T03:35:25.891Z"
   },
   {
    "duration": 122,
    "start_time": "2023-04-14T03:35:25.896Z"
   },
   {
    "duration": 10,
    "start_time": "2023-04-14T03:35:26.020Z"
   },
   {
    "duration": 8,
    "start_time": "2023-04-14T03:35:26.031Z"
   },
   {
    "duration": 15,
    "start_time": "2023-04-14T03:35:26.041Z"
   },
   {
    "duration": 3,
    "start_time": "2023-04-14T03:35:26.058Z"
   },
   {
    "duration": 26,
    "start_time": "2023-04-14T03:35:26.063Z"
   },
   {
    "duration": 10875,
    "start_time": "2023-04-14T03:35:26.090Z"
   },
   {
    "duration": 3,
    "start_time": "2023-04-14T03:35:36.967Z"
   },
   {
    "duration": 14,
    "start_time": "2023-04-14T03:35:36.972Z"
   },
   {
    "duration": 10554,
    "start_time": "2023-04-14T03:35:36.988Z"
   },
   {
    "duration": 13,
    "start_time": "2023-04-14T03:35:47.544Z"
   },
   {
    "duration": 22,
    "start_time": "2023-04-14T03:35:47.558Z"
   },
   {
    "duration": 10,
    "start_time": "2023-04-14T03:35:47.582Z"
   },
   {
    "duration": 257,
    "start_time": "2023-04-14T03:35:47.593Z"
   },
   {
    "duration": 18,
    "start_time": "2023-04-14T03:35:47.851Z"
   },
   {
    "duration": 6,
    "start_time": "2023-04-14T03:35:47.884Z"
   },
   {
    "duration": 264,
    "start_time": "2023-04-14T03:35:47.892Z"
   },
   {
    "duration": 17,
    "start_time": "2023-04-14T03:35:48.158Z"
   },
   {
    "duration": 21,
    "start_time": "2023-04-14T03:35:48.186Z"
   },
   {
    "duration": 14,
    "start_time": "2023-04-14T03:35:48.209Z"
   },
   {
    "duration": 365,
    "start_time": "2023-04-14T03:35:48.224Z"
   },
   {
    "duration": 20,
    "start_time": "2023-04-14T03:35:48.590Z"
   },
   {
    "duration": 227,
    "start_time": "2023-04-14T03:35:48.611Z"
   },
   {
    "duration": 18,
    "start_time": "2023-04-14T03:35:48.840Z"
   },
   {
    "duration": 32,
    "start_time": "2023-04-14T03:35:48.860Z"
   },
   {
    "duration": 372,
    "start_time": "2023-04-14T03:35:48.894Z"
   },
   {
    "duration": 3,
    "start_time": "2023-04-14T03:35:49.268Z"
   },
   {
    "duration": 16,
    "start_time": "2023-04-14T03:35:49.273Z"
   },
   {
    "duration": 23,
    "start_time": "2023-04-14T03:35:49.291Z"
   },
   {
    "duration": 17,
    "start_time": "2023-04-14T03:35:49.316Z"
   },
   {
    "duration": 22,
    "start_time": "2023-04-14T03:35:49.335Z"
   },
   {
    "duration": 247,
    "start_time": "2023-04-14T03:35:49.386Z"
   },
   {
    "duration": 17,
    "start_time": "2023-04-14T03:35:49.635Z"
   },
   {
    "duration": 16,
    "start_time": "2023-04-14T03:41:57.212Z"
   },
   {
    "duration": 376,
    "start_time": "2023-04-14T03:45:17.041Z"
   },
   {
    "duration": 260,
    "start_time": "2023-04-14T03:45:26.329Z"
   },
   {
    "duration": 248,
    "start_time": "2023-04-14T03:45:53.206Z"
   },
   {
    "duration": 312,
    "start_time": "2023-04-14T03:46:05.634Z"
   },
   {
    "duration": 20,
    "start_time": "2023-04-14T03:53:00.921Z"
   },
   {
    "duration": 14,
    "start_time": "2023-04-14T03:53:17.383Z"
   },
   {
    "duration": 217,
    "start_time": "2023-04-14T03:56:22.600Z"
   },
   {
    "duration": 42,
    "start_time": "2023-04-15T07:43:45.101Z"
   },
   {
    "duration": 1406,
    "start_time": "2023-04-15T07:43:51.990Z"
   },
   {
    "duration": 170,
    "start_time": "2023-04-15T07:43:53.398Z"
   },
   {
    "duration": 23,
    "start_time": "2023-04-15T07:43:53.570Z"
   },
   {
    "duration": 27,
    "start_time": "2023-04-15T07:43:53.595Z"
   },
   {
    "duration": 5,
    "start_time": "2023-04-15T07:43:53.624Z"
   },
   {
    "duration": 21,
    "start_time": "2023-04-15T07:43:53.631Z"
   },
   {
    "duration": 26,
    "start_time": "2023-04-15T07:43:53.653Z"
   },
   {
    "duration": 31,
    "start_time": "2023-04-15T07:43:53.680Z"
   },
   {
    "duration": 11,
    "start_time": "2023-04-15T07:43:53.714Z"
   },
   {
    "duration": 16,
    "start_time": "2023-04-15T07:43:53.728Z"
   },
   {
    "duration": 73,
    "start_time": "2023-04-15T07:43:53.746Z"
   },
   {
    "duration": 12,
    "start_time": "2023-04-15T07:43:53.821Z"
   },
   {
    "duration": 19,
    "start_time": "2023-04-15T07:43:53.835Z"
   },
   {
    "duration": 26,
    "start_time": "2023-04-15T07:43:53.856Z"
   },
   {
    "duration": 10,
    "start_time": "2023-04-15T07:43:53.884Z"
   },
   {
    "duration": 20,
    "start_time": "2023-04-15T07:43:53.896Z"
   },
   {
    "duration": 44,
    "start_time": "2023-04-15T07:43:53.917Z"
   },
   {
    "duration": 54,
    "start_time": "2023-04-15T07:43:53.963Z"
   },
   {
    "duration": 9,
    "start_time": "2023-04-15T07:43:54.019Z"
   },
   {
    "duration": 21,
    "start_time": "2023-04-15T07:43:54.033Z"
   },
   {
    "duration": 13,
    "start_time": "2023-04-15T07:43:54.055Z"
   },
   {
    "duration": 32,
    "start_time": "2023-04-15T07:43:54.071Z"
   },
   {
    "duration": 7,
    "start_time": "2023-04-15T07:43:54.105Z"
   },
   {
    "duration": 39,
    "start_time": "2023-04-15T07:43:54.114Z"
   },
   {
    "duration": 13,
    "start_time": "2023-04-15T07:43:54.156Z"
   },
   {
    "duration": 9,
    "start_time": "2023-04-15T07:43:54.172Z"
   },
   {
    "duration": 13,
    "start_time": "2023-04-15T07:43:54.183Z"
   },
   {
    "duration": 7,
    "start_time": "2023-04-15T07:43:54.203Z"
   },
   {
    "duration": 15,
    "start_time": "2023-04-15T07:43:54.212Z"
   },
   {
    "duration": 17,
    "start_time": "2023-04-15T07:43:54.230Z"
   },
   {
    "duration": 27,
    "start_time": "2023-04-15T07:43:54.250Z"
   },
   {
    "duration": 11,
    "start_time": "2023-04-15T07:43:54.293Z"
   },
   {
    "duration": 37,
    "start_time": "2023-04-15T07:43:54.306Z"
   },
   {
    "duration": 22,
    "start_time": "2023-04-15T07:43:54.346Z"
   },
   {
    "duration": 361,
    "start_time": "2023-04-15T07:43:54.370Z"
   },
   {
    "duration": 19,
    "start_time": "2023-04-15T07:43:54.733Z"
   },
   {
    "duration": 36,
    "start_time": "2023-04-15T07:43:54.754Z"
   },
   {
    "duration": 17,
    "start_time": "2023-04-15T07:43:54.792Z"
   },
   {
    "duration": 23,
    "start_time": "2023-04-15T07:43:54.811Z"
   },
   {
    "duration": 11,
    "start_time": "2023-04-15T07:43:54.836Z"
   },
   {
    "duration": 403,
    "start_time": "2023-04-15T07:43:54.849Z"
   },
   {
    "duration": 648,
    "start_time": "2023-04-15T07:43:55.253Z"
   },
   {
    "duration": 8,
    "start_time": "2023-04-15T07:43:55.904Z"
   },
   {
    "duration": 448,
    "start_time": "2023-04-15T07:43:55.913Z"
   },
   {
    "duration": 390,
    "start_time": "2023-04-15T07:43:56.363Z"
   },
   {
    "duration": 4,
    "start_time": "2023-04-15T07:43:56.755Z"
   },
   {
    "duration": 8,
    "start_time": "2023-04-15T07:43:56.761Z"
   },
   {
    "duration": 12054,
    "start_time": "2023-04-15T07:43:56.770Z"
   },
   {
    "duration": 6,
    "start_time": "2023-04-15T07:44:08.826Z"
   },
   {
    "duration": 3,
    "start_time": "2023-04-15T07:44:08.833Z"
   },
   {
    "duration": 3,
    "start_time": "2023-04-15T07:44:08.838Z"
   },
   {
    "duration": 13,
    "start_time": "2023-04-15T07:44:08.843Z"
   },
   {
    "duration": 14,
    "start_time": "2023-04-15T07:44:08.857Z"
   },
   {
    "duration": 11231,
    "start_time": "2023-04-15T07:44:08.873Z"
   },
   {
    "duration": 9,
    "start_time": "2023-04-15T07:44:20.106Z"
   },
   {
    "duration": 9,
    "start_time": "2023-04-15T07:44:20.116Z"
   },
   {
    "duration": 33,
    "start_time": "2023-04-15T07:44:20.126Z"
   },
   {
    "duration": 21,
    "start_time": "2023-04-15T07:44:20.160Z"
   },
   {
    "duration": 8,
    "start_time": "2023-04-15T07:44:20.183Z"
   },
   {
    "duration": 10363,
    "start_time": "2023-04-15T07:44:20.192Z"
   },
   {
    "duration": 7,
    "start_time": "2023-04-15T07:44:30.557Z"
   },
   {
    "duration": 59,
    "start_time": "2023-04-15T07:44:30.566Z"
   },
   {
    "duration": 21,
    "start_time": "2023-04-15T07:44:30.626Z"
   },
   {
    "duration": 222,
    "start_time": "2023-04-15T07:44:30.649Z"
   },
   {
    "duration": 12,
    "start_time": "2023-04-15T07:44:30.873Z"
   },
   {
    "duration": 29,
    "start_time": "2023-04-15T07:44:30.894Z"
   },
   {
    "duration": 128,
    "start_time": "2023-04-15T07:44:30.925Z"
   },
   {
    "duration": 8,
    "start_time": "2023-04-15T07:44:31.055Z"
   },
   {
    "duration": 29,
    "start_time": "2023-04-15T07:44:31.064Z"
   },
   {
    "duration": 25,
    "start_time": "2023-04-15T07:44:31.095Z"
   },
   {
    "duration": 22,
    "start_time": "2023-04-15T07:44:31.122Z"
   },
   {
    "duration": 25,
    "start_time": "2023-04-15T07:44:31.145Z"
   },
   {
    "duration": 10224,
    "start_time": "2023-04-15T07:44:31.171Z"
   },
   {
    "duration": 4,
    "start_time": "2023-04-15T07:44:41.397Z"
   },
   {
    "duration": 14,
    "start_time": "2023-04-15T07:44:41.402Z"
   },
   {
    "duration": 9882,
    "start_time": "2023-04-15T07:44:41.418Z"
   },
   {
    "duration": 13,
    "start_time": "2023-04-15T07:44:51.301Z"
   },
   {
    "duration": 15,
    "start_time": "2023-04-15T07:44:51.315Z"
   },
   {
    "duration": 24,
    "start_time": "2023-04-15T07:44:51.331Z"
   },
   {
    "duration": 260,
    "start_time": "2023-04-15T07:44:51.357Z"
   },
   {
    "duration": 16,
    "start_time": "2023-04-15T07:44:51.618Z"
   },
   {
    "duration": 6,
    "start_time": "2023-04-15T07:44:51.639Z"
   },
   {
    "duration": 256,
    "start_time": "2023-04-15T07:44:51.646Z"
   },
   {
    "duration": 16,
    "start_time": "2023-04-15T07:44:51.904Z"
   },
   {
    "duration": 16,
    "start_time": "2023-04-15T07:44:51.921Z"
   },
   {
    "duration": 12,
    "start_time": "2023-04-15T07:44:51.939Z"
   },
   {
    "duration": 301,
    "start_time": "2023-04-15T07:44:51.952Z"
   },
   {
    "duration": 18,
    "start_time": "2023-04-15T07:44:52.254Z"
   },
   {
    "duration": 209,
    "start_time": "2023-04-15T07:44:52.274Z"
   },
   {
    "duration": 25,
    "start_time": "2023-04-15T07:44:52.485Z"
   },
   {
    "duration": 17,
    "start_time": "2023-04-15T07:44:52.511Z"
   },
   {
    "duration": 453,
    "start_time": "2023-04-15T07:44:52.530Z"
   },
   {
    "duration": 9,
    "start_time": "2023-04-15T07:44:52.985Z"
   },
   {
    "duration": 10,
    "start_time": "2023-04-15T07:44:52.996Z"
   },
   {
    "duration": 19,
    "start_time": "2023-04-15T07:44:53.008Z"
   },
   {
    "duration": 14,
    "start_time": "2023-04-15T07:44:53.029Z"
   },
   {
    "duration": 21,
    "start_time": "2023-04-15T07:44:53.045Z"
   },
   {
    "duration": 243,
    "start_time": "2023-04-15T07:44:53.067Z"
   },
   {
    "duration": 16,
    "start_time": "2023-04-15T07:44:53.311Z"
   },
   {
    "duration": 34,
    "start_time": "2023-04-15T07:44:53.329Z"
   },
   {
    "duration": 283,
    "start_time": "2023-04-15T07:44:53.364Z"
   },
   {
    "duration": 19,
    "start_time": "2023-04-15T07:44:53.649Z"
   },
   {
    "duration": 215,
    "start_time": "2023-04-15T07:44:53.670Z"
   },
   {
    "duration": 14,
    "start_time": "2023-04-15T07:50:43.819Z"
   },
   {
    "duration": 330,
    "start_time": "2023-04-15T07:50:48.706Z"
   },
   {
    "duration": 18,
    "start_time": "2023-04-15T08:10:03.936Z"
   },
   {
    "duration": 14,
    "start_time": "2023-04-15T08:10:04.714Z"
   },
   {
    "duration": 273,
    "start_time": "2023-04-15T08:10:06.753Z"
   },
   {
    "duration": 15,
    "start_time": "2023-04-15T08:12:58.126Z"
   },
   {
    "duration": 15,
    "start_time": "2023-04-15T08:12:58.822Z"
   },
   {
    "duration": 278,
    "start_time": "2023-04-15T08:12:59.719Z"
   },
   {
    "duration": 3,
    "start_time": "2023-04-15T08:13:44.416Z"
   },
   {
    "duration": 95,
    "start_time": "2023-04-15T08:13:45.039Z"
   },
   {
    "duration": 14,
    "start_time": "2023-04-15T08:13:45.839Z"
   },
   {
    "duration": 3,
    "start_time": "2023-04-15T08:14:07.758Z"
   },
   {
    "duration": 15,
    "start_time": "2023-04-15T08:14:08.895Z"
   },
   {
    "duration": 14,
    "start_time": "2023-04-15T08:14:10.184Z"
   },
   {
    "duration": 280,
    "start_time": "2023-04-15T08:14:11.127Z"
   },
   {
    "duration": 8,
    "start_time": "2023-04-15T08:25:44.453Z"
   },
   {
    "duration": 4,
    "start_time": "2023-04-15T08:27:01.542Z"
   },
   {
    "duration": 8,
    "start_time": "2023-04-15T08:27:11.938Z"
   },
   {
    "duration": 16,
    "start_time": "2023-04-15T08:29:58.611Z"
   },
   {
    "duration": 1846,
    "start_time": "2023-04-15T08:30:05.887Z"
   },
   {
    "duration": 1067,
    "start_time": "2023-04-15T08:30:33.219Z"
   },
   {
    "duration": 234,
    "start_time": "2023-04-15T08:30:34.288Z"
   },
   {
    "duration": 25,
    "start_time": "2023-04-15T08:30:34.525Z"
   },
   {
    "duration": 15,
    "start_time": "2023-04-15T08:30:34.552Z"
   },
   {
    "duration": 7,
    "start_time": "2023-04-15T08:30:34.569Z"
   },
   {
    "duration": 29,
    "start_time": "2023-04-15T08:30:34.577Z"
   },
   {
    "duration": 12,
    "start_time": "2023-04-15T08:30:34.607Z"
   },
   {
    "duration": 11,
    "start_time": "2023-04-15T08:30:34.621Z"
   },
   {
    "duration": 11,
    "start_time": "2023-04-15T08:30:34.634Z"
   },
   {
    "duration": 4,
    "start_time": "2023-04-15T08:30:34.647Z"
   },
   {
    "duration": 48,
    "start_time": "2023-04-15T08:30:34.653Z"
   },
   {
    "duration": 10,
    "start_time": "2023-04-15T08:30:34.702Z"
   },
   {
    "duration": 7,
    "start_time": "2023-04-15T08:30:34.714Z"
   },
   {
    "duration": 11,
    "start_time": "2023-04-15T08:30:34.724Z"
   },
   {
    "duration": 7,
    "start_time": "2023-04-15T08:30:34.737Z"
   },
   {
    "duration": 4,
    "start_time": "2023-04-15T08:30:34.745Z"
   },
   {
    "duration": 61,
    "start_time": "2023-04-15T08:30:34.751Z"
   },
   {
    "duration": 45,
    "start_time": "2023-04-15T08:30:34.814Z"
   },
   {
    "duration": 8,
    "start_time": "2023-04-15T08:30:34.860Z"
   },
   {
    "duration": 28,
    "start_time": "2023-04-15T08:30:34.870Z"
   },
   {
    "duration": 24,
    "start_time": "2023-04-15T08:30:34.899Z"
   },
   {
    "duration": 30,
    "start_time": "2023-04-15T08:30:34.925Z"
   },
   {
    "duration": 5,
    "start_time": "2023-04-15T08:30:34.956Z"
   },
   {
    "duration": 9,
    "start_time": "2023-04-15T08:30:34.963Z"
   },
   {
    "duration": 6,
    "start_time": "2023-04-15T08:30:34.974Z"
   },
   {
    "duration": 14,
    "start_time": "2023-04-15T08:30:34.982Z"
   },
   {
    "duration": 7,
    "start_time": "2023-04-15T08:30:34.998Z"
   },
   {
    "duration": 6,
    "start_time": "2023-04-15T08:30:35.006Z"
   },
   {
    "duration": 5,
    "start_time": "2023-04-15T08:30:35.014Z"
   },
   {
    "duration": 24,
    "start_time": "2023-04-15T08:30:35.020Z"
   },
   {
    "duration": 10,
    "start_time": "2023-04-15T08:30:35.046Z"
   },
   {
    "duration": 8,
    "start_time": "2023-04-15T08:30:35.058Z"
   },
   {
    "duration": 26,
    "start_time": "2023-04-15T08:30:35.068Z"
   },
   {
    "duration": 8,
    "start_time": "2023-04-15T08:30:35.096Z"
   },
   {
    "duration": 291,
    "start_time": "2023-04-15T08:30:35.105Z"
   },
   {
    "duration": 13,
    "start_time": "2023-04-15T08:30:35.397Z"
   },
   {
    "duration": 13,
    "start_time": "2023-04-15T08:30:35.411Z"
   },
   {
    "duration": 21,
    "start_time": "2023-04-15T08:30:35.425Z"
   },
   {
    "duration": 18,
    "start_time": "2023-04-15T08:30:35.448Z"
   },
   {
    "duration": 18,
    "start_time": "2023-04-15T08:30:35.467Z"
   },
   {
    "duration": 323,
    "start_time": "2023-04-15T08:30:35.490Z"
   },
   {
    "duration": 588,
    "start_time": "2023-04-15T08:30:35.814Z"
   },
   {
    "duration": 8,
    "start_time": "2023-04-15T08:30:36.403Z"
   },
   {
    "duration": 389,
    "start_time": "2023-04-15T08:30:36.412Z"
   },
   {
    "duration": 364,
    "start_time": "2023-04-15T08:30:36.803Z"
   },
   {
    "duration": 4,
    "start_time": "2023-04-15T08:30:37.168Z"
   },
   {
    "duration": 11,
    "start_time": "2023-04-15T08:30:37.173Z"
   },
   {
    "duration": 11679,
    "start_time": "2023-04-15T08:30:37.186Z"
   },
   {
    "duration": 4,
    "start_time": "2023-04-15T08:30:48.867Z"
   },
   {
    "duration": 13,
    "start_time": "2023-04-15T08:30:48.872Z"
   },
   {
    "duration": 11,
    "start_time": "2023-04-15T08:30:48.887Z"
   },
   {
    "duration": 14,
    "start_time": "2023-04-15T08:30:48.899Z"
   },
   {
    "duration": 8,
    "start_time": "2023-04-15T08:30:48.915Z"
   },
   {
    "duration": 11029,
    "start_time": "2023-04-15T08:30:48.924Z"
   },
   {
    "duration": 10,
    "start_time": "2023-04-15T08:30:59.955Z"
   },
   {
    "duration": 4,
    "start_time": "2023-04-15T08:30:59.967Z"
   },
   {
    "duration": 24,
    "start_time": "2023-04-15T08:30:59.972Z"
   },
   {
    "duration": 4,
    "start_time": "2023-04-15T08:30:59.998Z"
   },
   {
    "duration": 14,
    "start_time": "2023-04-15T08:31:00.003Z"
   },
   {
    "duration": 10621,
    "start_time": "2023-04-15T08:31:00.019Z"
   },
   {
    "duration": 6,
    "start_time": "2023-04-15T08:31:10.641Z"
   },
   {
    "duration": 21,
    "start_time": "2023-04-15T08:31:10.648Z"
   },
   {
    "duration": 6,
    "start_time": "2023-04-15T08:31:10.670Z"
   },
   {
    "duration": 194,
    "start_time": "2023-04-15T08:31:10.678Z"
   },
   {
    "duration": 24,
    "start_time": "2023-04-15T08:31:10.873Z"
   },
   {
    "duration": 4,
    "start_time": "2023-04-15T08:31:10.899Z"
   },
   {
    "duration": 117,
    "start_time": "2023-04-15T08:31:10.904Z"
   },
   {
    "duration": 8,
    "start_time": "2023-04-15T08:31:11.023Z"
   },
   {
    "duration": 9,
    "start_time": "2023-04-15T08:31:11.033Z"
   },
   {
    "duration": 17,
    "start_time": "2023-04-15T08:31:11.044Z"
   },
   {
    "duration": 3,
    "start_time": "2023-04-15T08:31:11.063Z"
   },
   {
    "duration": 5,
    "start_time": "2023-04-15T08:31:11.068Z"
   },
   {
    "duration": 9851,
    "start_time": "2023-04-15T08:31:11.093Z"
   },
   {
    "duration": 3,
    "start_time": "2023-04-15T08:31:20.945Z"
   },
   {
    "duration": 7,
    "start_time": "2023-04-15T08:31:20.949Z"
   },
   {
    "duration": 10224,
    "start_time": "2023-04-15T08:31:20.958Z"
   },
   {
    "duration": 18,
    "start_time": "2023-04-15T08:31:31.184Z"
   },
   {
    "duration": 27,
    "start_time": "2023-04-15T08:31:31.204Z"
   },
   {
    "duration": 37,
    "start_time": "2023-04-15T08:31:31.232Z"
   },
   {
    "duration": 307,
    "start_time": "2023-04-15T08:31:31.271Z"
   },
   {
    "duration": 24,
    "start_time": "2023-04-15T08:31:31.579Z"
   },
   {
    "duration": 51,
    "start_time": "2023-04-15T08:31:31.605Z"
   },
   {
    "duration": 269,
    "start_time": "2023-04-15T08:31:31.658Z"
   },
   {
    "duration": 15,
    "start_time": "2023-04-15T08:31:31.928Z"
   },
   {
    "duration": 3,
    "start_time": "2023-04-15T08:31:31.945Z"
   },
   {
    "duration": 9,
    "start_time": "2023-04-15T08:31:31.950Z"
   },
   {
    "duration": 23,
    "start_time": "2023-04-15T08:31:31.960Z"
   },
   {
    "duration": 39,
    "start_time": "2023-04-15T08:31:31.985Z"
   },
   {
    "duration": 15,
    "start_time": "2023-04-15T08:31:32.026Z"
   },
   {
    "duration": 1705,
    "start_time": "2023-04-15T08:31:32.043Z"
   },
   {
    "duration": 0,
    "start_time": "2023-04-15T08:31:33.750Z"
   },
   {
    "duration": 0,
    "start_time": "2023-04-15T08:31:33.752Z"
   },
   {
    "duration": 0,
    "start_time": "2023-04-15T08:31:33.753Z"
   },
   {
    "duration": 0,
    "start_time": "2023-04-15T08:31:33.755Z"
   },
   {
    "duration": 0,
    "start_time": "2023-04-15T08:31:33.756Z"
   },
   {
    "duration": 0,
    "start_time": "2023-04-15T08:31:33.757Z"
   },
   {
    "duration": 0,
    "start_time": "2023-04-15T08:31:33.759Z"
   },
   {
    "duration": 0,
    "start_time": "2023-04-15T08:31:33.760Z"
   },
   {
    "duration": 0,
    "start_time": "2023-04-15T08:31:33.762Z"
   },
   {
    "duration": 0,
    "start_time": "2023-04-15T08:31:33.763Z"
   },
   {
    "duration": 0,
    "start_time": "2023-04-15T08:31:33.764Z"
   },
   {
    "duration": 0,
    "start_time": "2023-04-15T08:31:33.766Z"
   },
   {
    "duration": 0,
    "start_time": "2023-04-15T08:31:33.795Z"
   },
   {
    "duration": 1,
    "start_time": "2023-04-15T08:31:33.796Z"
   },
   {
    "duration": 0,
    "start_time": "2023-04-15T08:31:33.798Z"
   },
   {
    "duration": 0,
    "start_time": "2023-04-15T08:31:33.799Z"
   },
   {
    "duration": 21,
    "start_time": "2023-04-15T08:32:31.572Z"
   },
   {
    "duration": 17,
    "start_time": "2023-04-15T08:32:40.130Z"
   },
   {
    "duration": 1454,
    "start_time": "2023-04-15T08:33:02.891Z"
   },
   {
    "duration": 15,
    "start_time": "2023-04-15T08:33:19.611Z"
   },
   {
    "duration": 14,
    "start_time": "2023-04-15T08:33:19.984Z"
   },
   {
    "duration": 1587,
    "start_time": "2023-04-15T08:33:20.931Z"
   },
   {
    "duration": 166,
    "start_time": "2023-04-15T08:35:13.331Z"
   },
   {
    "duration": 175,
    "start_time": "2023-04-15T08:36:11.495Z"
   },
   {
    "duration": 14,
    "start_time": "2023-04-15T08:40:55.211Z"
   },
   {
    "duration": 22,
    "start_time": "2023-04-15T08:41:25.150Z"
   },
   {
    "duration": 8,
    "start_time": "2023-04-15T08:41:32.496Z"
   },
   {
    "duration": 15,
    "start_time": "2023-04-15T08:42:38.791Z"
   },
   {
    "duration": 7,
    "start_time": "2023-04-15T08:42:41.775Z"
   },
   {
    "duration": 6,
    "start_time": "2023-04-15T08:42:48.851Z"
   },
   {
    "duration": 52,
    "start_time": "2023-04-16T04:51:44.505Z"
   },
   {
    "duration": 1424,
    "start_time": "2023-04-16T04:51:51.915Z"
   },
   {
    "duration": 216,
    "start_time": "2023-04-16T04:51:53.346Z"
   },
   {
    "duration": 23,
    "start_time": "2023-04-16T04:51:53.564Z"
   },
   {
    "duration": 19,
    "start_time": "2023-04-16T04:51:53.590Z"
   },
   {
    "duration": 33,
    "start_time": "2023-04-16T04:51:53.610Z"
   },
   {
    "duration": 15,
    "start_time": "2023-04-16T04:51:53.647Z"
   },
   {
    "duration": 13,
    "start_time": "2023-04-16T04:51:53.664Z"
   },
   {
    "duration": 12,
    "start_time": "2023-04-16T04:51:53.679Z"
   },
   {
    "duration": 13,
    "start_time": "2023-04-16T04:51:53.692Z"
   },
   {
    "duration": 4,
    "start_time": "2023-04-16T04:51:53.709Z"
   },
   {
    "duration": 23,
    "start_time": "2023-04-16T04:51:53.741Z"
   },
   {
    "duration": 12,
    "start_time": "2023-04-16T04:51:53.766Z"
   },
   {
    "duration": 7,
    "start_time": "2023-04-16T04:51:53.780Z"
   },
   {
    "duration": 11,
    "start_time": "2023-04-16T04:51:53.788Z"
   },
   {
    "duration": 7,
    "start_time": "2023-04-16T04:51:53.800Z"
   },
   {
    "duration": 32,
    "start_time": "2023-04-16T04:51:53.808Z"
   },
   {
    "duration": 41,
    "start_time": "2023-04-16T04:51:53.843Z"
   },
   {
    "duration": 43,
    "start_time": "2023-04-16T04:51:53.887Z"
   },
   {
    "duration": 15,
    "start_time": "2023-04-16T04:51:53.933Z"
   },
   {
    "duration": 12,
    "start_time": "2023-04-16T04:51:53.950Z"
   },
   {
    "duration": 7,
    "start_time": "2023-04-16T04:51:53.964Z"
   },
   {
    "duration": 18,
    "start_time": "2023-04-16T04:51:53.973Z"
   },
   {
    "duration": 5,
    "start_time": "2023-04-16T04:51:53.992Z"
   },
   {
    "duration": 12,
    "start_time": "2023-04-16T04:51:53.999Z"
   },
   {
    "duration": 21,
    "start_time": "2023-04-16T04:51:54.013Z"
   },
   {
    "duration": 22,
    "start_time": "2023-04-16T04:51:54.035Z"
   },
   {
    "duration": 9,
    "start_time": "2023-04-16T04:51:54.059Z"
   },
   {
    "duration": 5,
    "start_time": "2023-04-16T04:51:54.073Z"
   },
   {
    "duration": 7,
    "start_time": "2023-04-16T04:51:54.079Z"
   },
   {
    "duration": 14,
    "start_time": "2023-04-16T04:51:54.087Z"
   },
   {
    "duration": 10,
    "start_time": "2023-04-16T04:51:54.103Z"
   },
   {
    "duration": 11,
    "start_time": "2023-04-16T04:51:54.137Z"
   },
   {
    "duration": 10,
    "start_time": "2023-04-16T04:51:54.150Z"
   },
   {
    "duration": 14,
    "start_time": "2023-04-16T04:51:54.162Z"
   },
   {
    "duration": 305,
    "start_time": "2023-04-16T04:51:54.178Z"
   },
   {
    "duration": 12,
    "start_time": "2023-04-16T04:51:54.485Z"
   },
   {
    "duration": 8,
    "start_time": "2023-04-16T04:51:54.499Z"
   },
   {
    "duration": 13,
    "start_time": "2023-04-16T04:51:54.508Z"
   },
   {
    "duration": 18,
    "start_time": "2023-04-16T04:51:54.536Z"
   },
   {
    "duration": 13,
    "start_time": "2023-04-16T04:51:54.556Z"
   },
   {
    "duration": 394,
    "start_time": "2023-04-16T04:51:54.570Z"
   },
   {
    "duration": 653,
    "start_time": "2023-04-16T04:51:54.966Z"
   },
   {
    "duration": 18,
    "start_time": "2023-04-16T04:51:55.621Z"
   },
   {
    "duration": 386,
    "start_time": "2023-04-16T04:51:55.640Z"
   },
   {
    "duration": 392,
    "start_time": "2023-04-16T04:51:56.028Z"
   },
   {
    "duration": 4,
    "start_time": "2023-04-16T04:51:56.421Z"
   },
   {
    "duration": 35,
    "start_time": "2023-04-16T04:51:56.426Z"
   },
   {
    "duration": 12820,
    "start_time": "2023-04-16T04:51:56.463Z"
   },
   {
    "duration": 6,
    "start_time": "2023-04-16T04:52:09.284Z"
   },
   {
    "duration": 7,
    "start_time": "2023-04-16T04:52:09.291Z"
   },
   {
    "duration": 8,
    "start_time": "2023-04-16T04:52:09.300Z"
   },
   {
    "duration": 9,
    "start_time": "2023-04-16T04:52:09.309Z"
   },
   {
    "duration": 20,
    "start_time": "2023-04-16T04:52:09.321Z"
   },
   {
    "duration": 11011,
    "start_time": "2023-04-16T04:52:09.344Z"
   },
   {
    "duration": 9,
    "start_time": "2023-04-16T04:52:20.357Z"
   },
   {
    "duration": 12,
    "start_time": "2023-04-16T04:52:20.367Z"
   },
   {
    "duration": 15,
    "start_time": "2023-04-16T04:52:20.381Z"
   },
   {
    "duration": 26,
    "start_time": "2023-04-16T04:52:20.398Z"
   },
   {
    "duration": 29,
    "start_time": "2023-04-16T04:52:20.426Z"
   },
   {
    "duration": 10737,
    "start_time": "2023-04-16T04:52:20.457Z"
   },
   {
    "duration": 7,
    "start_time": "2023-04-16T04:52:31.196Z"
   },
   {
    "duration": 31,
    "start_time": "2023-04-16T04:52:31.205Z"
   },
   {
    "duration": 49,
    "start_time": "2023-04-16T04:52:31.238Z"
   },
   {
    "duration": 254,
    "start_time": "2023-04-16T04:52:31.289Z"
   },
   {
    "duration": 20,
    "start_time": "2023-04-16T04:52:31.545Z"
   },
   {
    "duration": 41,
    "start_time": "2023-04-16T04:52:31.567Z"
   },
   {
    "duration": 185,
    "start_time": "2023-04-16T04:52:31.610Z"
   },
   {
    "duration": 8,
    "start_time": "2023-04-16T04:52:31.796Z"
   },
   {
    "duration": 78,
    "start_time": "2023-04-16T04:52:31.805Z"
   },
   {
    "duration": 44,
    "start_time": "2023-04-16T04:52:31.885Z"
   },
   {
    "duration": 52,
    "start_time": "2023-04-16T04:52:31.931Z"
   },
   {
    "duration": 42,
    "start_time": "2023-04-16T04:52:31.985Z"
   },
   {
    "duration": 11601,
    "start_time": "2023-04-16T04:52:32.029Z"
   },
   {
    "duration": 3,
    "start_time": "2023-04-16T04:52:43.634Z"
   },
   {
    "duration": 30,
    "start_time": "2023-04-16T04:52:43.642Z"
   },
   {
    "duration": 11133,
    "start_time": "2023-04-16T04:52:43.674Z"
   },
   {
    "duration": 27,
    "start_time": "2023-04-16T04:52:54.809Z"
   },
   {
    "duration": 40,
    "start_time": "2023-04-16T04:52:54.838Z"
   },
   {
    "duration": 14,
    "start_time": "2023-04-16T04:52:54.880Z"
   },
   {
    "duration": 281,
    "start_time": "2023-04-16T04:52:54.895Z"
   },
   {
    "duration": 17,
    "start_time": "2023-04-16T04:52:55.178Z"
   },
   {
    "duration": 6,
    "start_time": "2023-04-16T04:52:55.202Z"
   },
   {
    "duration": 319,
    "start_time": "2023-04-16T04:52:55.209Z"
   },
   {
    "duration": 30,
    "start_time": "2023-04-16T04:52:55.534Z"
   },
   {
    "duration": 14,
    "start_time": "2023-04-16T04:52:55.566Z"
   },
   {
    "duration": 13,
    "start_time": "2023-04-16T04:52:55.581Z"
   },
   {
    "duration": 7,
    "start_time": "2023-04-16T04:52:55.595Z"
   },
   {
    "duration": 29,
    "start_time": "2023-04-16T04:52:55.604Z"
   },
   {
    "duration": 17,
    "start_time": "2023-04-16T04:52:55.635Z"
   },
   {
    "duration": 20,
    "start_time": "2023-04-16T04:52:55.658Z"
   },
   {
    "duration": 27,
    "start_time": "2023-04-16T04:52:55.679Z"
   },
   {
    "duration": 302,
    "start_time": "2023-04-16T04:52:55.707Z"
   },
   {
    "duration": 0,
    "start_time": "2023-04-16T04:52:56.011Z"
   },
   {
    "duration": 0,
    "start_time": "2023-04-16T04:52:56.012Z"
   },
   {
    "duration": 0,
    "start_time": "2023-04-16T04:52:56.013Z"
   },
   {
    "duration": 0,
    "start_time": "2023-04-16T04:52:56.014Z"
   },
   {
    "duration": 0,
    "start_time": "2023-04-16T04:52:56.015Z"
   },
   {
    "duration": 0,
    "start_time": "2023-04-16T04:52:56.016Z"
   },
   {
    "duration": 0,
    "start_time": "2023-04-16T04:52:56.017Z"
   },
   {
    "duration": 0,
    "start_time": "2023-04-16T04:52:56.018Z"
   },
   {
    "duration": 0,
    "start_time": "2023-04-16T04:52:56.019Z"
   },
   {
    "duration": 0,
    "start_time": "2023-04-16T04:52:56.020Z"
   },
   {
    "duration": 0,
    "start_time": "2023-04-16T04:52:56.021Z"
   },
   {
    "duration": 0,
    "start_time": "2023-04-16T04:52:56.051Z"
   },
   {
    "duration": 0,
    "start_time": "2023-04-16T04:52:56.052Z"
   },
   {
    "duration": 0,
    "start_time": "2023-04-16T04:52:56.053Z"
   },
   {
    "duration": 0,
    "start_time": "2023-04-16T04:52:56.054Z"
   },
   {
    "duration": 0,
    "start_time": "2023-04-16T04:52:56.055Z"
   },
   {
    "duration": 0,
    "start_time": "2023-04-16T04:52:56.057Z"
   },
   {
    "duration": 8,
    "start_time": "2023-04-16T07:03:34.816Z"
   },
   {
    "duration": 14,
    "start_time": "2023-04-16T07:26:03.414Z"
   },
   {
    "duration": 7,
    "start_time": "2023-04-16T07:26:04.310Z"
   },
   {
    "duration": 14,
    "start_time": "2023-04-16T07:26:08.124Z"
   },
   {
    "duration": 303,
    "start_time": "2023-04-16T07:26:12.348Z"
   },
   {
    "duration": 24,
    "start_time": "2023-04-16T07:27:39.564Z"
   },
   {
    "duration": 12,
    "start_time": "2023-04-16T07:27:40.662Z"
   },
   {
    "duration": 3,
    "start_time": "2023-04-16T07:27:43.369Z"
   },
   {
    "duration": 15,
    "start_time": "2023-04-16T07:27:44.116Z"
   },
   {
    "duration": 401,
    "start_time": "2023-04-16T07:27:49.755Z"
   },
   {
    "duration": 10,
    "start_time": "2023-04-16T07:28:25.320Z"
   },
   {
    "duration": 421,
    "start_time": "2023-04-16T07:28:27.141Z"
   },
   {
    "duration": 24,
    "start_time": "2023-04-16T07:28:47.545Z"
   },
   {
    "duration": 13,
    "start_time": "2023-04-16T07:28:56.452Z"
   },
   {
    "duration": 357,
    "start_time": "2023-04-16T07:28:59.321Z"
   },
   {
    "duration": 388,
    "start_time": "2023-04-16T07:29:42.081Z"
   },
   {
    "duration": 4,
    "start_time": "2023-04-16T07:31:56.002Z"
   },
   {
    "duration": 2,
    "start_time": "2023-04-16T07:31:58.603Z"
   },
   {
    "duration": 2,
    "start_time": "2023-04-16T07:31:59.701Z"
   },
   {
    "duration": 15,
    "start_time": "2023-04-16T07:32:02.213Z"
   },
   {
    "duration": 3,
    "start_time": "2023-04-16T07:32:03.491Z"
   },
   {
    "duration": 329,
    "start_time": "2023-04-16T07:32:05.983Z"
   },
   {
    "duration": 8,
    "start_time": "2023-04-16T07:32:27.162Z"
   },
   {
    "duration": 310,
    "start_time": "2023-04-16T07:32:28.454Z"
   },
   {
    "duration": 29,
    "start_time": "2023-04-16T07:39:38.140Z"
   },
   {
    "duration": 4,
    "start_time": "2023-04-16T07:39:38.881Z"
   },
   {
    "duration": 20,
    "start_time": "2023-04-16T07:39:39.471Z"
   },
   {
    "duration": 4,
    "start_time": "2023-04-16T07:39:40.193Z"
   },
   {
    "duration": 348,
    "start_time": "2023-04-16T07:39:41.668Z"
   },
   {
    "duration": 27,
    "start_time": "2023-04-16T07:40:01.553Z"
   },
   {
    "duration": 27,
    "start_time": "2023-04-16T07:40:03.304Z"
   },
   {
    "duration": 442,
    "start_time": "2023-04-16T07:40:04.174Z"
   },
   {
    "duration": 3,
    "start_time": "2023-04-16T07:40:09.023Z"
   },
   {
    "duration": 11,
    "start_time": "2023-04-16T07:40:09.913Z"
   },
   {
    "duration": 34,
    "start_time": "2023-04-16T07:40:10.594Z"
   },
   {
    "duration": 25,
    "start_time": "2023-04-16T07:40:14.059Z"
   },
   {
    "duration": 27,
    "start_time": "2023-04-16T07:40:15.490Z"
   },
   {
    "duration": 258,
    "start_time": "2023-04-16T07:40:16.364Z"
   },
   {
    "duration": 18,
    "start_time": "2023-04-16T07:45:58.063Z"
   },
   {
    "duration": 23,
    "start_time": "2023-04-16T07:50:28.626Z"
   },
   {
    "duration": 22,
    "start_time": "2023-04-16T07:50:30.276Z"
   },
   {
    "duration": 266,
    "start_time": "2023-04-16T07:50:31.687Z"
   },
   {
    "duration": 19,
    "start_time": "2023-04-16T07:51:17.924Z"
   },
   {
    "duration": 319,
    "start_time": "2023-04-16T07:59:50.063Z"
   },
   {
    "duration": 9,
    "start_time": "2023-04-16T08:05:03.645Z"
   },
   {
    "duration": 4,
    "start_time": "2023-04-16T08:05:39.857Z"
   },
   {
    "duration": 21,
    "start_time": "2023-04-16T08:05:56.649Z"
   },
   {
    "duration": 10,
    "start_time": "2023-04-16T08:05:57.680Z"
   },
   {
    "duration": 454,
    "start_time": "2023-04-16T08:05:58.577Z"
   },
   {
    "duration": 346,
    "start_time": "2023-04-16T08:06:39.048Z"
   },
   {
    "duration": 21,
    "start_time": "2023-04-16T08:10:20.265Z"
   },
   {
    "duration": 23,
    "start_time": "2023-04-16T08:10:21.130Z"
   },
   {
    "duration": 348,
    "start_time": "2023-04-16T08:10:23.219Z"
   },
   {
    "duration": 29,
    "start_time": "2023-04-16T08:10:30.452Z"
   },
   {
    "duration": 378,
    "start_time": "2023-04-16T08:10:31.273Z"
   },
   {
    "duration": 5,
    "start_time": "2023-04-16T08:18:26.980Z"
   },
   {
    "duration": 306,
    "start_time": "2023-04-16T08:19:10.895Z"
   },
   {
    "duration": 15,
    "start_time": "2023-04-16T08:19:45.943Z"
   },
   {
    "duration": 4,
    "start_time": "2023-04-16T08:19:46.728Z"
   },
   {
    "duration": 387,
    "start_time": "2023-04-16T08:19:50.206Z"
   },
   {
    "duration": 274,
    "start_time": "2023-04-16T08:21:54.124Z"
   },
   {
    "duration": 24,
    "start_time": "2023-04-16T08:21:58.083Z"
   },
   {
    "duration": 16,
    "start_time": "2023-04-16T08:21:58.799Z"
   },
   {
    "duration": 4,
    "start_time": "2023-04-16T08:21:59.575Z"
   },
   {
    "duration": 353,
    "start_time": "2023-04-16T08:22:00.530Z"
   },
   {
    "duration": 4,
    "start_time": "2023-04-16T08:23:20.818Z"
   },
   {
    "duration": 277,
    "start_time": "2023-04-16T08:23:21.773Z"
   },
   {
    "duration": 14,
    "start_time": "2023-04-16T08:23:30.569Z"
   },
   {
    "duration": 4,
    "start_time": "2023-04-16T08:23:31.226Z"
   },
   {
    "duration": 311,
    "start_time": "2023-04-16T08:23:32.109Z"
   },
   {
    "duration": 23,
    "start_time": "2023-04-16T08:24:45.467Z"
   },
   {
    "duration": 201,
    "start_time": "2023-04-16T08:24:46.302Z"
   },
   {
    "duration": 532,
    "start_time": "2023-04-16T08:57:47.984Z"
   },
   {
    "duration": 717,
    "start_time": "2023-04-16T08:58:09.274Z"
   },
   {
    "duration": 359,
    "start_time": "2023-04-16T08:58:28.656Z"
   },
   {
    "duration": 380,
    "start_time": "2023-04-16T08:58:55.277Z"
   },
   {
    "duration": 355,
    "start_time": "2023-04-16T08:59:19.226Z"
   },
   {
    "duration": 2420,
    "start_time": "2023-04-16T08:59:34.377Z"
   },
   {
    "duration": 415,
    "start_time": "2023-04-16T08:59:57.586Z"
   },
   {
    "duration": 338,
    "start_time": "2023-04-16T09:00:06.453Z"
   },
   {
    "duration": 359,
    "start_time": "2023-04-16T09:00:23.814Z"
   },
   {
    "duration": 530,
    "start_time": "2023-04-16T09:00:34.123Z"
   },
   {
    "duration": 373,
    "start_time": "2023-04-16T09:00:39.923Z"
   },
   {
    "duration": 10,
    "start_time": "2023-04-16T09:00:58.178Z"
   },
   {
    "duration": 320,
    "start_time": "2023-04-16T09:00:59.017Z"
   },
   {
    "duration": 295,
    "start_time": "2023-04-16T09:02:52.333Z"
   },
   {
    "duration": 348,
    "start_time": "2023-04-16T09:03:00.832Z"
   },
   {
    "duration": 1329,
    "start_time": "2023-04-16T09:03:36.725Z"
   },
   {
    "duration": 254,
    "start_time": "2023-04-16T09:03:38.057Z"
   },
   {
    "duration": 37,
    "start_time": "2023-04-16T09:03:38.312Z"
   },
   {
    "duration": 25,
    "start_time": "2023-04-16T09:03:38.352Z"
   },
   {
    "duration": 7,
    "start_time": "2023-04-16T09:03:38.380Z"
   },
   {
    "duration": 47,
    "start_time": "2023-04-16T09:03:38.389Z"
   },
   {
    "duration": 11,
    "start_time": "2023-04-16T09:03:38.438Z"
   },
   {
    "duration": 11,
    "start_time": "2023-04-16T09:03:38.450Z"
   },
   {
    "duration": 12,
    "start_time": "2023-04-16T09:03:38.463Z"
   },
   {
    "duration": 4,
    "start_time": "2023-04-16T09:03:38.478Z"
   },
   {
    "duration": 51,
    "start_time": "2023-04-16T09:03:38.484Z"
   },
   {
    "duration": 14,
    "start_time": "2023-04-16T09:03:38.537Z"
   },
   {
    "duration": 14,
    "start_time": "2023-04-16T09:03:38.553Z"
   },
   {
    "duration": 16,
    "start_time": "2023-04-16T09:03:38.570Z"
   },
   {
    "duration": 9,
    "start_time": "2023-04-16T09:03:38.588Z"
   },
   {
    "duration": 37,
    "start_time": "2023-04-16T09:03:38.598Z"
   },
   {
    "duration": 33,
    "start_time": "2023-04-16T09:03:38.638Z"
   },
   {
    "duration": 68,
    "start_time": "2023-04-16T09:03:38.674Z"
   },
   {
    "duration": 9,
    "start_time": "2023-04-16T09:03:38.744Z"
   },
   {
    "duration": 9,
    "start_time": "2023-04-16T09:03:38.755Z"
   },
   {
    "duration": 12,
    "start_time": "2023-04-16T09:03:38.766Z"
   },
   {
    "duration": 25,
    "start_time": "2023-04-16T09:03:38.780Z"
   },
   {
    "duration": 5,
    "start_time": "2023-04-16T09:03:38.807Z"
   },
   {
    "duration": 9,
    "start_time": "2023-04-16T09:03:38.834Z"
   },
   {
    "duration": 10,
    "start_time": "2023-04-16T09:03:38.844Z"
   },
   {
    "duration": 26,
    "start_time": "2023-04-16T09:03:38.856Z"
   },
   {
    "duration": 17,
    "start_time": "2023-04-16T09:03:38.883Z"
   },
   {
    "duration": 15,
    "start_time": "2023-04-16T09:03:38.905Z"
   },
   {
    "duration": 7,
    "start_time": "2023-04-16T09:03:38.921Z"
   },
   {
    "duration": 14,
    "start_time": "2023-04-16T09:03:38.929Z"
   },
   {
    "duration": 12,
    "start_time": "2023-04-16T09:03:38.944Z"
   },
   {
    "duration": 7,
    "start_time": "2023-04-16T09:03:38.957Z"
   },
   {
    "duration": 8,
    "start_time": "2023-04-16T09:03:38.966Z"
   },
   {
    "duration": 11,
    "start_time": "2023-04-16T09:03:38.976Z"
   },
   {
    "duration": 295,
    "start_time": "2023-04-16T09:03:38.988Z"
   },
   {
    "duration": 12,
    "start_time": "2023-04-16T09:03:39.285Z"
   },
   {
    "duration": 13,
    "start_time": "2023-04-16T09:03:39.299Z"
   },
   {
    "duration": 21,
    "start_time": "2023-04-16T09:03:39.314Z"
   },
   {
    "duration": 7,
    "start_time": "2023-04-16T09:03:39.337Z"
   },
   {
    "duration": 9,
    "start_time": "2023-04-16T09:03:39.346Z"
   },
   {
    "duration": 337,
    "start_time": "2023-04-16T09:03:39.357Z"
   },
   {
    "duration": 661,
    "start_time": "2023-04-16T09:03:39.696Z"
   },
   {
    "duration": 9,
    "start_time": "2023-04-16T09:03:40.358Z"
   },
   {
    "duration": 399,
    "start_time": "2023-04-16T09:03:40.368Z"
   },
   {
    "duration": 401,
    "start_time": "2023-04-16T09:03:40.769Z"
   },
   {
    "duration": 4,
    "start_time": "2023-04-16T09:03:41.171Z"
   },
   {
    "duration": 6,
    "start_time": "2023-04-16T09:03:41.177Z"
   },
   {
    "duration": 12239,
    "start_time": "2023-04-16T09:03:41.185Z"
   },
   {
    "duration": 10,
    "start_time": "2023-04-16T09:03:53.426Z"
   },
   {
    "duration": 15,
    "start_time": "2023-04-16T09:03:53.438Z"
   },
   {
    "duration": 21,
    "start_time": "2023-04-16T09:03:53.455Z"
   },
   {
    "duration": 16,
    "start_time": "2023-04-16T09:03:53.478Z"
   },
   {
    "duration": 18,
    "start_time": "2023-04-16T09:03:53.496Z"
   },
   {
    "duration": 13252,
    "start_time": "2023-04-16T09:03:53.516Z"
   },
   {
    "duration": 10,
    "start_time": "2023-04-16T09:04:06.770Z"
   },
   {
    "duration": 5,
    "start_time": "2023-04-16T09:04:06.835Z"
   },
   {
    "duration": 34,
    "start_time": "2023-04-16T09:04:06.843Z"
   },
   {
    "duration": 56,
    "start_time": "2023-04-16T09:04:06.880Z"
   },
   {
    "duration": 31,
    "start_time": "2023-04-16T09:04:06.938Z"
   },
   {
    "duration": 10527,
    "start_time": "2023-04-16T09:04:06.972Z"
   },
   {
    "duration": 7,
    "start_time": "2023-04-16T09:04:17.501Z"
   },
   {
    "duration": 15,
    "start_time": "2023-04-16T09:04:17.509Z"
   },
   {
    "duration": 8,
    "start_time": "2023-04-16T09:04:17.535Z"
   },
   {
    "duration": 219,
    "start_time": "2023-04-16T09:04:17.545Z"
   },
   {
    "duration": 12,
    "start_time": "2023-04-16T09:04:17.766Z"
   },
   {
    "duration": 4,
    "start_time": "2023-04-16T09:04:17.780Z"
   },
   {
    "duration": 140,
    "start_time": "2023-04-16T09:04:17.786Z"
   },
   {
    "duration": 11,
    "start_time": "2023-04-16T09:04:17.928Z"
   },
   {
    "duration": 16,
    "start_time": "2023-04-16T09:04:17.941Z"
   },
   {
    "duration": 14,
    "start_time": "2023-04-16T09:04:17.958Z"
   },
   {
    "duration": 30,
    "start_time": "2023-04-16T09:04:17.974Z"
   },
   {
    "duration": 14,
    "start_time": "2023-04-16T09:04:18.005Z"
   },
   {
    "duration": 10539,
    "start_time": "2023-04-16T09:04:18.020Z"
   },
   {
    "duration": 3,
    "start_time": "2023-04-16T09:04:28.561Z"
   },
   {
    "duration": 7,
    "start_time": "2023-04-16T09:04:28.566Z"
   },
   {
    "duration": 11078,
    "start_time": "2023-04-16T09:04:28.575Z"
   },
   {
    "duration": 18,
    "start_time": "2023-04-16T09:04:39.655Z"
   },
   {
    "duration": 15,
    "start_time": "2023-04-16T09:04:39.675Z"
   },
   {
    "duration": 7,
    "start_time": "2023-04-16T09:04:39.692Z"
   },
   {
    "duration": 310,
    "start_time": "2023-04-16T09:04:39.701Z"
   },
   {
    "duration": 26,
    "start_time": "2023-04-16T09:04:40.013Z"
   },
   {
    "duration": 7,
    "start_time": "2023-04-16T09:04:40.044Z"
   },
   {
    "duration": 277,
    "start_time": "2023-04-16T09:04:40.052Z"
   },
   {
    "duration": 20,
    "start_time": "2023-04-16T09:04:40.334Z"
   },
   {
    "duration": 13,
    "start_time": "2023-04-16T09:04:40.355Z"
   },
   {
    "duration": 3,
    "start_time": "2023-04-16T09:04:40.370Z"
   },
   {
    "duration": 18,
    "start_time": "2023-04-16T09:04:40.375Z"
   },
   {
    "duration": 4,
    "start_time": "2023-04-16T09:04:40.394Z"
   },
   {
    "duration": 373,
    "start_time": "2023-04-16T09:04:40.399Z"
   },
   {
    "duration": 20,
    "start_time": "2023-04-16T09:04:40.774Z"
   },
   {
    "duration": 256,
    "start_time": "2023-04-16T09:04:40.795Z"
   },
   {
    "duration": 19,
    "start_time": "2023-04-16T09:04:41.053Z"
   },
   {
    "duration": 17,
    "start_time": "2023-04-16T09:04:41.073Z"
   },
   {
    "duration": 3,
    "start_time": "2023-04-16T09:04:41.092Z"
   },
   {
    "duration": 40,
    "start_time": "2023-04-16T09:04:41.096Z"
   },
   {
    "duration": 38,
    "start_time": "2023-04-16T09:04:41.137Z"
   },
   {
    "duration": 16,
    "start_time": "2023-04-16T09:04:41.177Z"
   },
   {
    "duration": 4,
    "start_time": "2023-04-16T09:04:41.195Z"
   },
   {
    "duration": 49,
    "start_time": "2023-04-16T09:04:41.201Z"
   },
   {
    "duration": 368,
    "start_time": "2023-04-16T09:04:41.252Z"
   },
   {
    "duration": 20,
    "start_time": "2023-04-16T09:04:41.622Z"
   },
   {
    "duration": 17,
    "start_time": "2023-04-16T09:04:41.644Z"
   },
   {
    "duration": 7,
    "start_time": "2023-04-16T09:04:41.663Z"
   },
   {
    "duration": 414,
    "start_time": "2023-04-16T09:04:41.672Z"
   },
   {
    "duration": 19,
    "start_time": "2023-04-16T09:04:42.088Z"
   },
   {
    "duration": 235,
    "start_time": "2023-04-16T09:04:42.109Z"
   },
   {
    "duration": 306,
    "start_time": "2023-04-16T09:05:03.810Z"
   },
   {
    "duration": 372,
    "start_time": "2023-04-16T09:05:09.097Z"
   },
   {
    "duration": 1642,
    "start_time": "2023-04-16T09:05:14.471Z"
   },
   {
    "duration": 333,
    "start_time": "2023-04-16T09:05:27.478Z"
   },
   {
    "duration": 541,
    "start_time": "2023-04-16T09:05:41.902Z"
   },
   {
    "duration": 439,
    "start_time": "2023-04-16T09:05:49.392Z"
   },
   {
    "duration": 461,
    "start_time": "2023-04-16T09:06:00.881Z"
   },
   {
    "duration": 414,
    "start_time": "2023-04-16T09:06:15.586Z"
   },
   {
    "duration": 313,
    "start_time": "2023-04-16T09:09:11.448Z"
   },
   {
    "duration": 663,
    "start_time": "2023-04-16T09:09:21.210Z"
   },
   {
    "duration": 69,
    "start_time": "2023-04-16T09:10:00.845Z"
   },
   {
    "duration": 480,
    "start_time": "2023-04-16T09:10:21.295Z"
   },
   {
    "duration": 514,
    "start_time": "2023-04-16T09:10:41.567Z"
   },
   {
    "duration": 498,
    "start_time": "2023-04-16T09:10:59.321Z"
   },
   {
    "duration": 357,
    "start_time": "2023-04-16T09:11:11.825Z"
   },
   {
    "duration": 471,
    "start_time": "2023-04-16T09:11:21.776Z"
   },
   {
    "duration": 772,
    "start_time": "2023-04-16T09:11:49.022Z"
   },
   {
    "duration": 487,
    "start_time": "2023-04-16T09:12:12.962Z"
   },
   {
    "duration": 315,
    "start_time": "2023-04-16T09:13:25.910Z"
   },
   {
    "duration": 392,
    "start_time": "2023-04-16T09:13:53.723Z"
   },
   {
    "duration": 433,
    "start_time": "2023-04-16T09:14:04.343Z"
   },
   {
    "duration": 376,
    "start_time": "2023-04-16T09:14:11.158Z"
   },
   {
    "duration": 447,
    "start_time": "2023-04-16T09:14:20.125Z"
   },
   {
    "duration": 391,
    "start_time": "2023-04-16T09:14:31.678Z"
   },
   {
    "duration": 605,
    "start_time": "2023-04-16T09:16:47.647Z"
   },
   {
    "duration": 189,
    "start_time": "2023-04-16T09:17:31.459Z"
   },
   {
    "duration": 188,
    "start_time": "2023-04-16T09:17:44.315Z"
   },
   {
    "duration": 181,
    "start_time": "2023-04-16T09:18:06.730Z"
   },
   {
    "duration": 178,
    "start_time": "2023-04-16T09:18:47.306Z"
   },
   {
    "duration": 70,
    "start_time": "2023-04-16T17:43:21.746Z"
   },
   {
    "duration": 183,
    "start_time": "2023-04-16T17:43:29.583Z"
   },
   {
    "duration": 286,
    "start_time": "2023-04-16T17:44:14.881Z"
   },
   {
    "duration": 356,
    "start_time": "2023-04-16T17:44:27.581Z"
   },
   {
    "duration": 1332,
    "start_time": "2023-04-16T17:44:50.948Z"
   },
   {
    "duration": 246,
    "start_time": "2023-04-16T17:44:59.020Z"
   },
   {
    "duration": 226,
    "start_time": "2023-04-16T17:45:09.346Z"
   },
   {
    "duration": 246,
    "start_time": "2023-04-16T17:45:19.585Z"
   },
   {
    "duration": 128,
    "start_time": "2023-04-16T17:45:54.059Z"
   },
   {
    "duration": 18,
    "start_time": "2023-04-16T17:46:08.585Z"
   },
   {
    "duration": 251,
    "start_time": "2023-04-16T17:46:14.025Z"
   },
   {
    "duration": 18,
    "start_time": "2023-04-16T17:46:57.324Z"
   },
   {
    "duration": 4,
    "start_time": "2023-04-16T17:46:58.086Z"
   },
   {
    "duration": 14,
    "start_time": "2023-04-16T17:46:58.778Z"
   },
   {
    "duration": 4,
    "start_time": "2023-04-16T17:46:59.582Z"
   },
   {
    "duration": 328,
    "start_time": "2023-04-16T17:47:01.521Z"
   },
   {
    "duration": 8,
    "start_time": "2023-04-16T17:48:27.474Z"
   },
   {
    "duration": 7,
    "start_time": "2023-04-16T17:48:34.416Z"
   },
   {
    "duration": 11,
    "start_time": "2023-04-16T17:48:43.826Z"
   },
   {
    "duration": 4,
    "start_time": "2023-04-16T17:48:49.364Z"
   },
   {
    "duration": 8,
    "start_time": "2023-04-16T17:48:50.027Z"
   },
   {
    "duration": 9,
    "start_time": "2023-04-16T17:49:22.378Z"
   },
   {
    "duration": 4,
    "start_time": "2023-04-16T17:49:24.980Z"
   },
   {
    "duration": 6,
    "start_time": "2023-04-16T17:49:26.028Z"
   },
   {
    "duration": 315,
    "start_time": "2023-04-16T17:49:51.928Z"
   },
   {
    "duration": 22,
    "start_time": "2023-04-16T17:49:59.677Z"
   },
   {
    "duration": 237,
    "start_time": "2023-04-16T17:50:03.251Z"
   },
   {
    "duration": 322,
    "start_time": "2023-04-16T17:54:01.440Z"
   },
   {
    "duration": 311,
    "start_time": "2023-04-16T17:54:25.970Z"
   },
   {
    "duration": 323,
    "start_time": "2023-04-16T17:54:42.705Z"
   },
   {
    "duration": 333,
    "start_time": "2023-04-16T17:54:52.205Z"
   },
   {
    "duration": 296,
    "start_time": "2023-04-16T17:55:09.775Z"
   },
   {
    "duration": 495,
    "start_time": "2023-04-16T17:55:27.011Z"
   },
   {
    "duration": 344,
    "start_time": "2023-04-16T17:55:34.566Z"
   },
   {
    "duration": 310,
    "start_time": "2023-04-16T17:55:43.117Z"
   },
   {
    "duration": 322,
    "start_time": "2023-04-16T17:55:51.017Z"
   },
   {
    "duration": 199,
    "start_time": "2023-04-16T17:56:12.425Z"
   },
   {
    "duration": 328,
    "start_time": "2023-04-16T17:56:26.096Z"
   },
   {
    "duration": 316,
    "start_time": "2023-04-16T17:56:44.332Z"
   },
   {
    "duration": 292,
    "start_time": "2023-04-16T17:57:29.604Z"
   },
   {
    "duration": 294,
    "start_time": "2023-04-16T17:57:45.940Z"
   },
   {
    "duration": 224,
    "start_time": "2023-04-16T17:58:05.932Z"
   },
   {
    "duration": 62,
    "start_time": "2023-04-16T18:07:46.609Z"
   },
   {
    "duration": 3,
    "start_time": "2023-04-16T18:09:21.899Z"
   },
   {
    "duration": 185,
    "start_time": "2023-04-16T18:09:24.896Z"
   },
   {
    "duration": 23,
    "start_time": "2023-04-16T18:09:29.808Z"
   },
   {
    "duration": 207,
    "start_time": "2023-04-16T18:20:54.649Z"
   },
   {
    "duration": 437,
    "start_time": "2023-04-16T18:21:29.202Z"
   },
   {
    "duration": 653,
    "start_time": "2023-04-16T18:21:42.618Z"
   },
   {
    "duration": 466,
    "start_time": "2023-04-16T18:22:07.299Z"
   },
   {
    "duration": 466,
    "start_time": "2023-04-16T18:22:15.851Z"
   },
   {
    "duration": 478,
    "start_time": "2023-04-16T18:22:22.801Z"
   },
   {
    "duration": 500,
    "start_time": "2023-04-16T18:22:30.002Z"
   },
   {
    "duration": 660,
    "start_time": "2023-04-16T18:22:58.305Z"
   },
   {
    "duration": 470,
    "start_time": "2023-04-16T18:23:09.624Z"
   },
   {
    "duration": 54,
    "start_time": "2023-04-16T18:24:55.909Z"
   },
   {
    "duration": 84,
    "start_time": "2023-04-16T18:25:29.293Z"
   },
   {
    "duration": 76,
    "start_time": "2023-04-16T18:26:20.238Z"
   },
   {
    "duration": 55,
    "start_time": "2023-04-16T18:26:39.712Z"
   },
   {
    "duration": 68,
    "start_time": "2023-04-16T18:26:59.311Z"
   },
   {
    "duration": 49,
    "start_time": "2023-04-16T18:27:23.516Z"
   },
   {
    "duration": 42,
    "start_time": "2023-04-16T18:27:44.240Z"
   },
   {
    "duration": 512,
    "start_time": "2023-04-16T18:28:39.703Z"
   },
   {
    "duration": 66,
    "start_time": "2023-04-16T18:29:24.938Z"
   },
   {
    "duration": 60,
    "start_time": "2023-04-16T18:29:41.015Z"
   },
   {
    "duration": 648,
    "start_time": "2023-04-16T18:30:19.037Z"
   },
   {
    "duration": 49,
    "start_time": "2023-04-16T18:42:21.073Z"
   },
   {
    "duration": 3,
    "start_time": "2023-04-16T18:42:26.571Z"
   },
   {
    "duration": 17,
    "start_time": "2023-04-16T18:53:02.920Z"
   },
   {
    "duration": 45,
    "start_time": "2023-04-16T19:03:22.171Z"
   },
   {
    "duration": 88,
    "start_time": "2023-04-17T04:42:46.477Z"
   },
   {
    "duration": 108,
    "start_time": "2023-04-17T04:48:51.238Z"
   },
   {
    "duration": 1430,
    "start_time": "2023-04-17T17:25:14.941Z"
   },
   {
    "duration": 3,
    "start_time": "2023-04-17T17:25:16.373Z"
   },
   {
    "duration": 281,
    "start_time": "2023-04-17T17:25:16.377Z"
   },
   {
    "duration": 41,
    "start_time": "2023-04-17T17:25:16.660Z"
   },
   {
    "duration": 19,
    "start_time": "2023-04-17T17:25:16.703Z"
   },
   {
    "duration": 5,
    "start_time": "2023-04-17T17:25:16.724Z"
   },
   {
    "duration": 16,
    "start_time": "2023-04-17T17:25:16.731Z"
   },
   {
    "duration": 12,
    "start_time": "2023-04-17T17:25:16.749Z"
   },
   {
    "duration": 13,
    "start_time": "2023-04-17T17:25:16.794Z"
   },
   {
    "duration": 12,
    "start_time": "2023-04-17T17:25:16.810Z"
   },
   {
    "duration": 5,
    "start_time": "2023-04-17T17:25:16.824Z"
   },
   {
    "duration": 14,
    "start_time": "2023-04-17T17:25:16.831Z"
   },
   {
    "duration": 54,
    "start_time": "2023-04-17T17:25:16.847Z"
   },
   {
    "duration": 10,
    "start_time": "2023-04-17T17:25:16.904Z"
   },
   {
    "duration": 12,
    "start_time": "2023-04-17T17:25:16.916Z"
   },
   {
    "duration": 9,
    "start_time": "2023-04-17T17:25:16.930Z"
   },
   {
    "duration": 5,
    "start_time": "2023-04-17T17:25:16.941Z"
   },
   {
    "duration": 32,
    "start_time": "2023-04-17T17:25:16.994Z"
   },
   {
    "duration": 66,
    "start_time": "2023-04-17T17:25:17.028Z"
   },
   {
    "duration": 9,
    "start_time": "2023-04-17T17:25:17.096Z"
   },
   {
    "duration": 6,
    "start_time": "2023-04-17T17:25:17.107Z"
   },
   {
    "duration": 8,
    "start_time": "2023-04-17T17:25:17.114Z"
   },
   {
    "duration": 20,
    "start_time": "2023-04-17T17:25:17.124Z"
   },
   {
    "duration": 5,
    "start_time": "2023-04-17T17:25:17.145Z"
   },
   {
    "duration": 42,
    "start_time": "2023-04-17T17:25:17.152Z"
   },
   {
    "duration": 7,
    "start_time": "2023-04-17T17:25:17.196Z"
   },
   {
    "duration": 10,
    "start_time": "2023-04-17T17:25:17.205Z"
   },
   {
    "duration": 8,
    "start_time": "2023-04-17T17:25:17.220Z"
   },
   {
    "duration": 6,
    "start_time": "2023-04-17T17:25:17.230Z"
   },
   {
    "duration": 6,
    "start_time": "2023-04-17T17:25:17.237Z"
   },
   {
    "duration": 52,
    "start_time": "2023-04-17T17:25:17.244Z"
   },
   {
    "duration": 13,
    "start_time": "2023-04-17T17:25:17.297Z"
   },
   {
    "duration": 6,
    "start_time": "2023-04-17T17:25:17.312Z"
   },
   {
    "duration": 4,
    "start_time": "2023-04-17T17:25:17.320Z"
   },
   {
    "duration": 10,
    "start_time": "2023-04-17T17:25:17.326Z"
   },
   {
    "duration": 597,
    "start_time": "2023-04-17T17:25:17.338Z"
   },
   {
    "duration": 2,
    "start_time": "2023-04-17T17:25:17.937Z"
   },
   {
    "duration": 29,
    "start_time": "2023-04-17T17:25:17.941Z"
   },
   {
    "duration": 39,
    "start_time": "2023-04-17T17:25:17.972Z"
   },
   {
    "duration": 17,
    "start_time": "2023-04-17T17:25:18.013Z"
   },
   {
    "duration": 18,
    "start_time": "2023-04-17T17:25:18.032Z"
   },
   {
    "duration": 20,
    "start_time": "2023-04-17T17:25:18.051Z"
   },
   {
    "duration": 9,
    "start_time": "2023-04-17T17:25:18.073Z"
   },
   {
    "duration": 447,
    "start_time": "2023-04-17T17:25:18.083Z"
   },
   {
    "duration": 695,
    "start_time": "2023-04-17T17:25:18.532Z"
   },
   {
    "duration": 10,
    "start_time": "2023-04-17T17:25:19.231Z"
   },
   {
    "duration": 806,
    "start_time": "2023-04-17T17:25:19.244Z"
   },
   {
    "duration": 474,
    "start_time": "2023-04-17T17:25:20.052Z"
   },
   {
    "duration": 4,
    "start_time": "2023-04-17T17:25:20.528Z"
   },
   {
    "duration": 5,
    "start_time": "2023-04-17T17:25:20.534Z"
   },
   {
    "duration": 12871,
    "start_time": "2023-04-17T17:25:20.541Z"
   },
   {
    "duration": 5,
    "start_time": "2023-04-17T17:25:33.414Z"
   },
   {
    "duration": 9,
    "start_time": "2023-04-17T17:25:33.421Z"
   },
   {
    "duration": 5,
    "start_time": "2023-04-17T17:25:33.432Z"
   },
   {
    "duration": 12520,
    "start_time": "2023-04-17T17:25:33.439Z"
   },
   {
    "duration": 11,
    "start_time": "2023-04-17T17:25:45.961Z"
   },
   {
    "duration": 21,
    "start_time": "2023-04-17T17:25:45.973Z"
   },
   {
    "duration": 9,
    "start_time": "2023-04-17T17:25:45.996Z"
   },
   {
    "duration": 3,
    "start_time": "2023-04-17T17:25:46.007Z"
   },
   {
    "duration": 4,
    "start_time": "2023-04-17T17:25:46.012Z"
   },
   {
    "duration": 11324,
    "start_time": "2023-04-17T17:25:46.018Z"
   },
   {
    "duration": 8,
    "start_time": "2023-04-17T17:25:57.344Z"
   },
   {
    "duration": 16,
    "start_time": "2023-04-17T17:25:57.354Z"
   },
   {
    "duration": 24,
    "start_time": "2023-04-17T17:25:57.372Z"
   },
   {
    "duration": 221,
    "start_time": "2023-04-17T17:25:57.397Z"
   },
   {
    "duration": 14,
    "start_time": "2023-04-17T17:25:57.620Z"
   },
   {
    "duration": 14,
    "start_time": "2023-04-17T17:25:57.635Z"
   },
   {
    "duration": 125,
    "start_time": "2023-04-17T17:25:57.650Z"
   },
   {
    "duration": 21,
    "start_time": "2023-04-17T17:25:57.777Z"
   },
   {
    "duration": 15,
    "start_time": "2023-04-17T17:25:57.800Z"
   },
   {
    "duration": 13,
    "start_time": "2023-04-17T17:25:57.817Z"
   },
   {
    "duration": 19,
    "start_time": "2023-04-17T17:25:57.832Z"
   },
   {
    "duration": 7,
    "start_time": "2023-04-17T17:25:57.853Z"
   },
   {
    "duration": 11493,
    "start_time": "2023-04-17T17:25:57.862Z"
   },
   {
    "duration": 4,
    "start_time": "2023-04-17T17:26:09.357Z"
   },
   {
    "duration": 5,
    "start_time": "2023-04-17T17:26:09.362Z"
   },
   {
    "duration": 11377,
    "start_time": "2023-04-17T17:26:09.369Z"
   },
   {
    "duration": 13,
    "start_time": "2023-04-17T17:26:20.748Z"
   },
   {
    "duration": 9,
    "start_time": "2023-04-17T17:26:20.763Z"
   },
   {
    "duration": 21,
    "start_time": "2023-04-17T17:26:20.773Z"
   },
   {
    "duration": 299,
    "start_time": "2023-04-17T17:26:20.796Z"
   },
   {
    "duration": 19,
    "start_time": "2023-04-17T17:26:21.101Z"
   },
   {
    "duration": 7,
    "start_time": "2023-04-17T17:26:21.123Z"
   },
   {
    "duration": 330,
    "start_time": "2023-04-17T17:26:21.133Z"
   },
   {
    "duration": 29,
    "start_time": "2023-04-17T17:26:21.465Z"
   },
   {
    "duration": 11,
    "start_time": "2023-04-17T17:26:21.496Z"
   },
   {
    "duration": 4,
    "start_time": "2023-04-17T17:26:21.508Z"
   },
   {
    "duration": 9,
    "start_time": "2023-04-17T17:26:21.514Z"
   },
   {
    "duration": 12,
    "start_time": "2023-04-17T17:26:21.525Z"
   },
   {
    "duration": 3,
    "start_time": "2023-04-17T17:26:21.539Z"
   },
   {
    "duration": 10,
    "start_time": "2023-04-17T17:26:21.543Z"
   },
   {
    "duration": 359,
    "start_time": "2023-04-17T17:26:21.554Z"
   },
   {
    "duration": 29,
    "start_time": "2023-04-17T17:26:21.915Z"
   },
   {
    "duration": 299,
    "start_time": "2023-04-17T17:26:21.946Z"
   },
   {
    "duration": 23,
    "start_time": "2023-04-17T17:26:22.247Z"
   },
   {
    "duration": 35,
    "start_time": "2023-04-17T17:26:22.272Z"
   },
   {
    "duration": 4,
    "start_time": "2023-04-17T17:26:22.309Z"
   },
   {
    "duration": 24,
    "start_time": "2023-04-17T17:26:22.315Z"
   },
   {
    "duration": 29,
    "start_time": "2023-04-17T17:26:22.342Z"
   },
   {
    "duration": 129,
    "start_time": "2023-04-17T17:26:22.374Z"
   },
   {
    "duration": 5,
    "start_time": "2023-04-17T17:26:22.505Z"
   },
   {
    "duration": 27,
    "start_time": "2023-04-17T17:26:22.512Z"
   },
   {
    "duration": 412,
    "start_time": "2023-04-17T17:26:22.541Z"
   },
   {
    "duration": 17,
    "start_time": "2023-04-17T17:26:22.955Z"
   },
   {
    "duration": 15,
    "start_time": "2023-04-17T17:26:22.973Z"
   },
   {
    "duration": 4,
    "start_time": "2023-04-17T17:26:22.990Z"
   },
   {
    "duration": 343,
    "start_time": "2023-04-17T17:26:22.996Z"
   },
   {
    "duration": 20,
    "start_time": "2023-04-17T17:26:23.341Z"
   },
   {
    "duration": 255,
    "start_time": "2023-04-17T17:26:23.363Z"
   },
   {
    "duration": 136,
    "start_time": "2023-04-17T17:29:11.310Z"
   },
   {
    "duration": 16,
    "start_time": "2023-04-17T17:29:22.249Z"
   },
   {
    "duration": 10,
    "start_time": "2023-04-17T17:29:59.134Z"
   },
   {
    "duration": 14,
    "start_time": "2023-04-17T17:31:19.114Z"
   },
   {
    "duration": 14,
    "start_time": "2023-04-17T17:31:35.477Z"
   },
   {
    "duration": 13,
    "start_time": "2023-04-17T17:33:16.104Z"
   },
   {
    "duration": 11,
    "start_time": "2023-04-17T17:33:54.924Z"
   },
   {
    "duration": 131,
    "start_time": "2023-04-17T17:37:22.551Z"
   },
   {
    "duration": 3,
    "start_time": "2023-04-17T18:05:11.640Z"
   },
   {
    "duration": 6,
    "start_time": "2023-04-17T18:05:12.617Z"
   },
   {
    "duration": 10,
    "start_time": "2023-04-17T18:05:38.762Z"
   },
   {
    "duration": 15,
    "start_time": "2023-04-17T18:11:22.402Z"
   },
   {
    "duration": 22,
    "start_time": "2023-04-17T18:11:32.784Z"
   },
   {
    "duration": 5,
    "start_time": "2023-04-17T18:11:33.531Z"
   },
   {
    "duration": 4,
    "start_time": "2023-04-17T18:11:34.712Z"
   },
   {
    "duration": 22,
    "start_time": "2023-04-17T18:11:41.888Z"
   },
   {
    "duration": 19,
    "start_time": "2023-04-17T18:11:49.809Z"
   },
   {
    "duration": 5,
    "start_time": "2023-04-17T18:11:50.514Z"
   },
   {
    "duration": 10,
    "start_time": "2023-04-17T18:11:51.322Z"
   },
   {
    "duration": 12,
    "start_time": "2023-04-17T18:12:27.041Z"
   },
   {
    "duration": 1529,
    "start_time": "2023-04-17T18:13:07.838Z"
   },
   {
    "duration": 4,
    "start_time": "2023-04-17T18:13:09.370Z"
   },
   {
    "duration": 279,
    "start_time": "2023-04-17T18:13:09.376Z"
   },
   {
    "duration": 71,
    "start_time": "2023-04-17T18:13:09.658Z"
   },
   {
    "duration": 30,
    "start_time": "2023-04-17T18:13:09.731Z"
   },
   {
    "duration": 7,
    "start_time": "2023-04-17T18:13:09.763Z"
   },
   {
    "duration": 48,
    "start_time": "2023-04-17T18:13:09.772Z"
   },
   {
    "duration": 29,
    "start_time": "2023-04-17T18:13:09.822Z"
   },
   {
    "duration": 20,
    "start_time": "2023-04-17T18:13:09.853Z"
   },
   {
    "duration": 50,
    "start_time": "2023-04-17T18:13:09.877Z"
   },
   {
    "duration": 10,
    "start_time": "2023-04-17T18:13:09.929Z"
   },
   {
    "duration": 20,
    "start_time": "2023-04-17T18:13:09.941Z"
   },
   {
    "duration": 16,
    "start_time": "2023-04-17T18:13:09.963Z"
   },
   {
    "duration": 26,
    "start_time": "2023-04-17T18:13:09.982Z"
   },
   {
    "duration": 25,
    "start_time": "2023-04-17T18:13:10.013Z"
   },
   {
    "duration": 22,
    "start_time": "2023-04-17T18:13:10.041Z"
   },
   {
    "duration": 9,
    "start_time": "2023-04-17T18:13:10.066Z"
   },
   {
    "duration": 60,
    "start_time": "2023-04-17T18:13:10.078Z"
   },
   {
    "duration": 63,
    "start_time": "2023-04-17T18:13:10.144Z"
   },
   {
    "duration": 18,
    "start_time": "2023-04-17T18:13:10.209Z"
   },
   {
    "duration": 14,
    "start_time": "2023-04-17T18:13:10.232Z"
   },
   {
    "duration": 12,
    "start_time": "2023-04-17T18:13:10.248Z"
   },
   {
    "duration": 40,
    "start_time": "2023-04-17T18:13:10.264Z"
   },
   {
    "duration": 9,
    "start_time": "2023-04-17T18:13:10.306Z"
   },
   {
    "duration": 27,
    "start_time": "2023-04-17T18:13:10.317Z"
   },
   {
    "duration": 15,
    "start_time": "2023-04-17T18:13:10.347Z"
   },
   {
    "duration": 11,
    "start_time": "2023-04-17T18:13:10.367Z"
   },
   {
    "duration": 12,
    "start_time": "2023-04-17T18:13:10.403Z"
   },
   {
    "duration": 25,
    "start_time": "2023-04-17T18:13:10.418Z"
   },
   {
    "duration": 14,
    "start_time": "2023-04-17T18:13:10.446Z"
   },
   {
    "duration": 32,
    "start_time": "2023-04-17T18:13:10.463Z"
   },
   {
    "duration": 29,
    "start_time": "2023-04-17T18:13:10.497Z"
   },
   {
    "duration": 27,
    "start_time": "2023-04-17T18:13:10.535Z"
   },
   {
    "duration": 39,
    "start_time": "2023-04-17T18:13:10.565Z"
   },
   {
    "duration": 60,
    "start_time": "2023-04-17T18:13:10.607Z"
   },
   {
    "duration": 945,
    "start_time": "2023-04-17T18:13:10.670Z"
   },
   {
    "duration": 6,
    "start_time": "2023-04-17T18:13:11.624Z"
   },
   {
    "duration": 25,
    "start_time": "2023-04-17T18:13:11.632Z"
   },
   {
    "duration": 8,
    "start_time": "2023-04-17T18:13:11.659Z"
   },
   {
    "duration": 24,
    "start_time": "2023-04-17T18:13:11.670Z"
   },
   {
    "duration": 12,
    "start_time": "2023-04-17T18:13:11.700Z"
   },
   {
    "duration": 37,
    "start_time": "2023-04-17T18:13:11.714Z"
   },
   {
    "duration": 11,
    "start_time": "2023-04-17T18:13:11.754Z"
   },
   {
    "duration": 566,
    "start_time": "2023-04-17T18:13:11.766Z"
   },
   {
    "duration": 908,
    "start_time": "2023-04-17T18:13:12.334Z"
   },
   {
    "duration": 14,
    "start_time": "2023-04-17T18:13:13.249Z"
   },
   {
    "duration": 935,
    "start_time": "2023-04-17T18:13:13.266Z"
   },
   {
    "duration": 600,
    "start_time": "2023-04-17T18:13:14.203Z"
   },
   {
    "duration": 8,
    "start_time": "2023-04-17T18:13:14.804Z"
   },
   {
    "duration": 14,
    "start_time": "2023-04-17T18:13:14.817Z"
   },
   {
    "duration": 14880,
    "start_time": "2023-04-17T18:13:14.836Z"
   },
   {
    "duration": 9,
    "start_time": "2023-04-17T18:13:29.722Z"
   },
   {
    "duration": 12,
    "start_time": "2023-04-17T18:13:29.734Z"
   },
   {
    "duration": 10,
    "start_time": "2023-04-17T18:13:29.749Z"
   },
   {
    "duration": 15213,
    "start_time": "2023-04-17T18:13:29.761Z"
   },
   {
    "duration": 31,
    "start_time": "2023-04-17T18:13:44.976Z"
   },
   {
    "duration": 4,
    "start_time": "2023-04-17T18:13:45.010Z"
   },
   {
    "duration": 26,
    "start_time": "2023-04-17T18:13:45.019Z"
   },
   {
    "duration": 6,
    "start_time": "2023-04-17T18:13:45.048Z"
   },
   {
    "duration": 16,
    "start_time": "2023-04-17T18:13:45.055Z"
   },
   {
    "duration": 17199,
    "start_time": "2023-04-17T18:13:45.075Z"
   },
   {
    "duration": 21,
    "start_time": "2023-04-17T18:14:02.276Z"
   },
   {
    "duration": 55,
    "start_time": "2023-04-17T18:14:02.300Z"
   },
   {
    "duration": 60,
    "start_time": "2023-04-17T18:14:02.360Z"
   },
   {
    "duration": 255,
    "start_time": "2023-04-17T18:14:02.424Z"
   },
   {
    "duration": 25,
    "start_time": "2023-04-17T18:14:02.681Z"
   },
   {
    "duration": 12,
    "start_time": "2023-04-17T18:14:02.708Z"
   },
   {
    "duration": 153,
    "start_time": "2023-04-17T18:14:02.722Z"
   },
   {
    "duration": 12,
    "start_time": "2023-04-17T18:14:02.877Z"
   },
   {
    "duration": 22,
    "start_time": "2023-04-17T18:14:02.903Z"
   },
   {
    "duration": 48,
    "start_time": "2023-04-17T18:14:02.928Z"
   },
   {
    "duration": 10,
    "start_time": "2023-04-17T18:14:02.978Z"
   },
   {
    "duration": 25,
    "start_time": "2023-04-17T18:14:02.991Z"
   },
   {
    "duration": 17117,
    "start_time": "2023-04-17T18:14:03.024Z"
   },
   {
    "duration": 13,
    "start_time": "2023-04-17T18:14:20.149Z"
   },
   {
    "duration": 9,
    "start_time": "2023-04-17T18:14:20.164Z"
   },
   {
    "duration": 15752,
    "start_time": "2023-04-17T18:14:20.176Z"
   },
   {
    "duration": 18,
    "start_time": "2023-04-17T18:14:35.930Z"
   },
   {
    "duration": 21,
    "start_time": "2023-04-17T18:14:35.951Z"
   },
   {
    "duration": 24,
    "start_time": "2023-04-17T18:14:35.974Z"
   },
   {
    "duration": 503,
    "start_time": "2023-04-17T18:14:36.000Z"
   },
   {
    "duration": 27,
    "start_time": "2023-04-17T18:14:36.515Z"
   },
   {
    "duration": 15,
    "start_time": "2023-04-17T18:14:36.544Z"
   },
   {
    "duration": 419,
    "start_time": "2023-04-17T18:14:36.561Z"
   },
   {
    "duration": 48,
    "start_time": "2023-04-17T18:14:36.983Z"
   },
   {
    "duration": 18,
    "start_time": "2023-04-17T18:14:37.033Z"
   },
   {
    "duration": 5,
    "start_time": "2023-04-17T18:14:37.053Z"
   },
   {
    "duration": 206,
    "start_time": "2023-04-17T18:14:37.061Z"
   },
   {
    "duration": 0,
    "start_time": "2023-04-17T18:14:37.270Z"
   },
   {
    "duration": 0,
    "start_time": "2023-04-17T18:14:37.273Z"
   },
   {
    "duration": 0,
    "start_time": "2023-04-17T18:14:37.275Z"
   },
   {
    "duration": 0,
    "start_time": "2023-04-17T18:14:37.276Z"
   },
   {
    "duration": 0,
    "start_time": "2023-04-17T18:14:37.277Z"
   },
   {
    "duration": 0,
    "start_time": "2023-04-17T18:14:37.278Z"
   },
   {
    "duration": 0,
    "start_time": "2023-04-17T18:14:37.280Z"
   },
   {
    "duration": 0,
    "start_time": "2023-04-17T18:14:37.294Z"
   },
   {
    "duration": 0,
    "start_time": "2023-04-17T18:14:37.295Z"
   },
   {
    "duration": 0,
    "start_time": "2023-04-17T18:14:37.297Z"
   },
   {
    "duration": 0,
    "start_time": "2023-04-17T18:14:37.298Z"
   },
   {
    "duration": 0,
    "start_time": "2023-04-17T18:14:37.299Z"
   },
   {
    "duration": 0,
    "start_time": "2023-04-17T18:14:37.300Z"
   },
   {
    "duration": 0,
    "start_time": "2023-04-17T18:14:37.302Z"
   },
   {
    "duration": 0,
    "start_time": "2023-04-17T18:14:37.308Z"
   },
   {
    "duration": 0,
    "start_time": "2023-04-17T18:14:37.310Z"
   },
   {
    "duration": 0,
    "start_time": "2023-04-17T18:14:37.312Z"
   },
   {
    "duration": 0,
    "start_time": "2023-04-17T18:14:37.314Z"
   },
   {
    "duration": 0,
    "start_time": "2023-04-17T18:14:37.316Z"
   },
   {
    "duration": 0,
    "start_time": "2023-04-17T18:14:37.319Z"
   },
   {
    "duration": 0,
    "start_time": "2023-04-17T18:14:37.321Z"
   },
   {
    "duration": 18,
    "start_time": "2023-04-17T18:14:56.785Z"
   },
   {
    "duration": 18,
    "start_time": "2023-04-17T18:15:41.053Z"
   },
   {
    "duration": 11,
    "start_time": "2023-04-17T18:15:48.526Z"
   },
   {
    "duration": 14,
    "start_time": "2023-04-17T18:15:49.401Z"
   },
   {
    "duration": 18,
    "start_time": "2023-04-17T18:15:58.387Z"
   },
   {
    "duration": 22,
    "start_time": "2023-04-17T18:16:10.083Z"
   },
   {
    "duration": 5,
    "start_time": "2023-04-17T18:16:33.383Z"
   },
   {
    "duration": 8,
    "start_time": "2023-04-17T18:16:44.611Z"
   },
   {
    "duration": 8,
    "start_time": "2023-04-17T18:16:46.013Z"
   },
   {
    "duration": 9,
    "start_time": "2023-04-17T18:17:02.185Z"
   },
   {
    "duration": 16,
    "start_time": "2023-04-17T18:17:09.520Z"
   },
   {
    "duration": 4,
    "start_time": "2023-04-17T18:17:10.295Z"
   },
   {
    "duration": 10,
    "start_time": "2023-04-17T18:17:11.088Z"
   },
   {
    "duration": 9,
    "start_time": "2023-04-17T18:17:59.481Z"
   },
   {
    "duration": 1473,
    "start_time": "2023-04-17T18:18:25.026Z"
   },
   {
    "duration": 379,
    "start_time": "2023-04-17T18:18:56.340Z"
   },
   {
    "duration": 76,
    "start_time": "2023-04-17T18:19:40.679Z"
   },
   {
    "duration": 14,
    "start_time": "2023-04-17T18:19:54.820Z"
   },
   {
    "duration": 22,
    "start_time": "2023-04-17T18:19:59.913Z"
   },
   {
    "duration": 443,
    "start_time": "2023-04-17T18:20:05.342Z"
   },
   {
    "duration": 23,
    "start_time": "2023-04-17T18:46:43.793Z"
   },
   {
    "duration": 30,
    "start_time": "2023-04-17T18:46:44.616Z"
   },
   {
    "duration": 3,
    "start_time": "2023-04-17T18:46:47.549Z"
   },
   {
    "duration": 14,
    "start_time": "2023-04-17T18:46:48.195Z"
   },
   {
    "duration": 37,
    "start_time": "2023-04-17T18:46:48.793Z"
   },
   {
    "duration": 29,
    "start_time": "2023-04-17T18:46:52.149Z"
   },
   {
    "duration": 5,
    "start_time": "2023-04-17T18:46:52.736Z"
   },
   {
    "duration": 35,
    "start_time": "2023-04-17T18:46:54.121Z"
   },
   {
    "duration": 617,
    "start_time": "2023-04-17T18:46:55.089Z"
   },
   {
    "duration": 24,
    "start_time": "2023-04-17T18:48:16.008Z"
   },
   {
    "duration": 22,
    "start_time": "2023-04-17T18:48:29.048Z"
   },
   {
    "duration": 29,
    "start_time": "2023-04-17T18:49:31.541Z"
   },
   {
    "duration": 20,
    "start_time": "2023-04-17T18:49:41.141Z"
   },
   {
    "duration": 20,
    "start_time": "2023-04-17T18:50:16.606Z"
   },
   {
    "duration": 21,
    "start_time": "2023-04-17T18:50:36.905Z"
   },
   {
    "duration": 17,
    "start_time": "2023-04-17T18:51:19.489Z"
   },
   {
    "duration": 23,
    "start_time": "2023-04-17T18:52:07.685Z"
   },
   {
    "duration": 24,
    "start_time": "2023-04-17T18:52:16.598Z"
   },
   {
    "duration": 343,
    "start_time": "2023-04-17T18:52:37.397Z"
   },
   {
    "duration": 19,
    "start_time": "2023-04-17T18:53:57.530Z"
   },
   {
    "duration": 4,
    "start_time": "2023-04-17T18:53:58.360Z"
   },
   {
    "duration": 23,
    "start_time": "2023-04-17T18:54:11.127Z"
   },
   {
    "duration": 356,
    "start_time": "2023-04-17T18:54:13.440Z"
   },
   {
    "duration": 18,
    "start_time": "2023-04-17T18:54:37.715Z"
   },
   {
    "duration": 21,
    "start_time": "2023-04-17T18:55:04.602Z"
   },
   {
    "duration": 24,
    "start_time": "2023-04-17T18:55:13.800Z"
   },
   {
    "duration": 28,
    "start_time": "2023-04-17T18:55:57.008Z"
   },
   {
    "duration": 22,
    "start_time": "2023-04-17T18:56:06.143Z"
   },
   {
    "duration": 5,
    "start_time": "2023-04-17T18:56:09.716Z"
   },
   {
    "duration": 328,
    "start_time": "2023-04-17T18:56:33.376Z"
   },
   {
    "duration": 35,
    "start_time": "2023-04-17T18:57:20.461Z"
   },
   {
    "duration": 25,
    "start_time": "2023-04-17T18:57:55.218Z"
   },
   {
    "duration": 22,
    "start_time": "2023-04-17T18:58:03.599Z"
   },
   {
    "duration": 238,
    "start_time": "2023-04-17T18:58:27.616Z"
   },
   {
    "duration": 187,
    "start_time": "2023-04-17T19:01:35.480Z"
   },
   {
    "duration": 19,
    "start_time": "2023-04-17T19:02:42.172Z"
   },
   {
    "duration": 678,
    "start_time": "2023-04-17T19:02:51.450Z"
   },
   {
    "duration": 513,
    "start_time": "2023-04-17T19:03:10.225Z"
   },
   {
    "duration": 1342,
    "start_time": "2023-04-17T19:04:59.535Z"
   },
   {
    "duration": 159,
    "start_time": "2023-04-17T19:05:00.880Z"
   },
   {
    "duration": 28,
    "start_time": "2023-04-17T19:05:01.041Z"
   },
   {
    "duration": 45,
    "start_time": "2023-04-17T19:05:01.072Z"
   },
   {
    "duration": 22,
    "start_time": "2023-04-17T19:05:01.119Z"
   },
   {
    "duration": 55,
    "start_time": "2023-04-17T19:05:01.143Z"
   },
   {
    "duration": 38,
    "start_time": "2023-04-17T19:05:01.200Z"
   },
   {
    "duration": 44,
    "start_time": "2023-04-17T19:05:01.240Z"
   },
   {
    "duration": 40,
    "start_time": "2023-04-17T19:05:01.286Z"
   },
   {
    "duration": 38,
    "start_time": "2023-04-17T19:05:01.329Z"
   },
   {
    "duration": 41,
    "start_time": "2023-04-17T19:05:01.369Z"
   },
   {
    "duration": 42,
    "start_time": "2023-04-17T19:05:01.412Z"
   },
   {
    "duration": 61,
    "start_time": "2023-04-17T19:05:01.456Z"
   },
   {
    "duration": 30,
    "start_time": "2023-04-17T19:05:01.518Z"
   },
   {
    "duration": 71,
    "start_time": "2023-04-17T19:05:01.550Z"
   },
   {
    "duration": 92,
    "start_time": "2023-04-17T19:05:01.622Z"
   },
   {
    "duration": 72,
    "start_time": "2023-04-17T19:05:01.716Z"
   },
   {
    "duration": 71,
    "start_time": "2023-04-17T19:05:01.789Z"
   },
   {
    "duration": 73,
    "start_time": "2023-04-17T19:05:01.862Z"
   },
   {
    "duration": 33,
    "start_time": "2023-04-17T19:05:01.937Z"
   },
   {
    "duration": 46,
    "start_time": "2023-04-17T19:05:01.972Z"
   },
   {
    "duration": 41,
    "start_time": "2023-04-17T19:05:02.020Z"
   },
   {
    "duration": 28,
    "start_time": "2023-04-17T19:05:02.063Z"
   },
   {
    "duration": 59,
    "start_time": "2023-04-17T19:05:02.093Z"
   },
   {
    "duration": 34,
    "start_time": "2023-04-17T19:05:02.154Z"
   },
   {
    "duration": 38,
    "start_time": "2023-04-17T19:05:02.190Z"
   },
   {
    "duration": 45,
    "start_time": "2023-04-17T19:05:02.230Z"
   },
   {
    "duration": 24,
    "start_time": "2023-04-17T19:05:02.281Z"
   },
   {
    "duration": 49,
    "start_time": "2023-04-17T19:05:02.307Z"
   },
   {
    "duration": 33,
    "start_time": "2023-04-17T19:05:02.358Z"
   },
   {
    "duration": 40,
    "start_time": "2023-04-17T19:05:02.392Z"
   },
   {
    "duration": 40,
    "start_time": "2023-04-17T19:05:02.433Z"
   },
   {
    "duration": 32,
    "start_time": "2023-04-17T19:05:02.475Z"
   },
   {
    "duration": 51,
    "start_time": "2023-04-17T19:05:02.509Z"
   },
   {
    "duration": 580,
    "start_time": "2023-04-17T19:05:02.562Z"
   },
   {
    "duration": 13,
    "start_time": "2023-04-17T19:05:03.144Z"
   },
   {
    "duration": 14,
    "start_time": "2023-04-17T19:05:03.159Z"
   },
   {
    "duration": 28,
    "start_time": "2023-04-17T19:05:03.175Z"
   },
   {
    "duration": 7,
    "start_time": "2023-04-17T19:05:03.205Z"
   },
   {
    "duration": 25,
    "start_time": "2023-04-17T19:05:03.215Z"
   },
   {
    "duration": 11,
    "start_time": "2023-04-17T19:05:03.242Z"
   },
   {
    "duration": 448,
    "start_time": "2023-04-17T19:05:03.255Z"
   },
   {
    "duration": 688,
    "start_time": "2023-04-17T19:05:03.705Z"
   },
   {
    "duration": 11,
    "start_time": "2023-04-17T19:05:04.395Z"
   },
   {
    "duration": 791,
    "start_time": "2023-04-17T19:05:04.409Z"
   },
   {
    "duration": 431,
    "start_time": "2023-04-17T19:05:05.202Z"
   },
   {
    "duration": 6,
    "start_time": "2023-04-17T19:05:05.636Z"
   },
   {
    "duration": 3,
    "start_time": "2023-04-17T19:05:05.643Z"
   },
   {
    "duration": 13015,
    "start_time": "2023-04-17T19:05:05.648Z"
   },
   {
    "duration": 8,
    "start_time": "2023-04-17T19:05:18.665Z"
   },
   {
    "duration": 19,
    "start_time": "2023-04-17T19:05:18.675Z"
   },
   {
    "duration": 13,
    "start_time": "2023-04-17T19:05:18.696Z"
   },
   {
    "duration": 12688,
    "start_time": "2023-04-17T19:05:18.711Z"
   },
   {
    "duration": 11,
    "start_time": "2023-04-17T19:05:31.401Z"
   },
   {
    "duration": 52,
    "start_time": "2023-04-17T19:05:31.414Z"
   },
   {
    "duration": 26,
    "start_time": "2023-04-17T19:05:31.468Z"
   },
   {
    "duration": 26,
    "start_time": "2023-04-17T19:05:31.496Z"
   },
   {
    "duration": 28,
    "start_time": "2023-04-17T19:05:31.524Z"
   },
   {
    "duration": 12111,
    "start_time": "2023-04-17T19:05:31.554Z"
   },
   {
    "duration": 7,
    "start_time": "2023-04-17T19:05:43.667Z"
   },
   {
    "duration": 24,
    "start_time": "2023-04-17T19:05:43.676Z"
   },
   {
    "duration": 9,
    "start_time": "2023-04-17T19:05:43.703Z"
   },
   {
    "duration": 229,
    "start_time": "2023-04-17T19:05:43.714Z"
   },
   {
    "duration": 14,
    "start_time": "2023-04-17T19:05:43.945Z"
   },
   {
    "duration": 4,
    "start_time": "2023-04-17T19:05:43.960Z"
   },
   {
    "duration": 140,
    "start_time": "2023-04-17T19:05:43.966Z"
   },
   {
    "duration": 9,
    "start_time": "2023-04-17T19:05:44.108Z"
   },
   {
    "duration": 8,
    "start_time": "2023-04-17T19:05:44.119Z"
   },
   {
    "duration": 10,
    "start_time": "2023-04-17T19:05:44.129Z"
   },
   {
    "duration": 4,
    "start_time": "2023-04-17T19:05:44.141Z"
   },
   {
    "duration": 6,
    "start_time": "2023-04-17T19:05:44.146Z"
   },
   {
    "duration": 12036,
    "start_time": "2023-04-17T19:05:44.153Z"
   },
   {
    "duration": 4,
    "start_time": "2023-04-17T19:05:56.194Z"
   },
   {
    "duration": 9,
    "start_time": "2023-04-17T19:05:56.200Z"
   },
   {
    "duration": 11615,
    "start_time": "2023-04-17T19:05:56.211Z"
   },
   {
    "duration": 13,
    "start_time": "2023-04-17T19:06:07.827Z"
   },
   {
    "duration": 18,
    "start_time": "2023-04-17T19:06:07.842Z"
   },
   {
    "duration": 7,
    "start_time": "2023-04-17T19:06:07.862Z"
   },
   {
    "duration": 306,
    "start_time": "2023-04-17T19:06:07.871Z"
   },
   {
    "duration": 28,
    "start_time": "2023-04-17T19:06:08.179Z"
   },
   {
    "duration": 7,
    "start_time": "2023-04-17T19:06:08.209Z"
   },
   {
    "duration": 306,
    "start_time": "2023-04-17T19:06:08.222Z"
   },
   {
    "duration": 19,
    "start_time": "2023-04-17T19:06:08.529Z"
   },
   {
    "duration": 11,
    "start_time": "2023-04-17T19:06:08.550Z"
   },
   {
    "duration": 4,
    "start_time": "2023-04-17T19:06:08.563Z"
   },
   {
    "duration": 28,
    "start_time": "2023-04-17T19:06:08.569Z"
   },
   {
    "duration": 22,
    "start_time": "2023-04-17T19:06:08.599Z"
   },
   {
    "duration": 14,
    "start_time": "2023-04-17T19:06:08.623Z"
   },
   {
    "duration": 19,
    "start_time": "2023-04-17T19:06:08.638Z"
   },
   {
    "duration": 329,
    "start_time": "2023-04-17T19:06:08.659Z"
   },
   {
    "duration": 21,
    "start_time": "2023-04-17T19:06:08.992Z"
   },
   {
    "duration": 1456,
    "start_time": "2023-04-17T19:06:09.015Z"
   },
   {
    "duration": 0,
    "start_time": "2023-04-17T19:06:10.473Z"
   },
   {
    "duration": 0,
    "start_time": "2023-04-17T19:06:10.475Z"
   },
   {
    "duration": 0,
    "start_time": "2023-04-17T19:06:10.476Z"
   },
   {
    "duration": 0,
    "start_time": "2023-04-17T19:06:10.477Z"
   },
   {
    "duration": 0,
    "start_time": "2023-04-17T19:06:10.478Z"
   },
   {
    "duration": 0,
    "start_time": "2023-04-17T19:06:10.479Z"
   },
   {
    "duration": 0,
    "start_time": "2023-04-17T19:06:10.480Z"
   },
   {
    "duration": 0,
    "start_time": "2023-04-17T19:06:10.482Z"
   },
   {
    "duration": 0,
    "start_time": "2023-04-17T19:06:10.492Z"
   },
   {
    "duration": 0,
    "start_time": "2023-04-17T19:06:10.493Z"
   },
   {
    "duration": 0,
    "start_time": "2023-04-17T19:06:10.494Z"
   },
   {
    "duration": 0,
    "start_time": "2023-04-17T19:06:10.495Z"
   },
   {
    "duration": 0,
    "start_time": "2023-04-17T19:06:10.497Z"
   },
   {
    "duration": 0,
    "start_time": "2023-04-17T19:06:10.498Z"
   },
   {
    "duration": 0,
    "start_time": "2023-04-17T19:06:10.499Z"
   },
   {
    "duration": 318,
    "start_time": "2023-04-17T19:09:32.390Z"
   },
   {
    "duration": 1267,
    "start_time": "2023-04-17T19:09:40.709Z"
   },
   {
    "duration": 234,
    "start_time": "2023-04-17T19:09:41.978Z"
   },
   {
    "duration": 29,
    "start_time": "2023-04-17T19:09:42.214Z"
   },
   {
    "duration": 22,
    "start_time": "2023-04-17T19:09:42.245Z"
   },
   {
    "duration": 6,
    "start_time": "2023-04-17T19:09:42.268Z"
   },
   {
    "duration": 17,
    "start_time": "2023-04-17T19:09:42.293Z"
   },
   {
    "duration": 12,
    "start_time": "2023-04-17T19:09:42.313Z"
   },
   {
    "duration": 12,
    "start_time": "2023-04-17T19:09:42.327Z"
   },
   {
    "duration": 13,
    "start_time": "2023-04-17T19:09:42.341Z"
   },
   {
    "duration": 38,
    "start_time": "2023-04-17T19:09:42.357Z"
   },
   {
    "duration": 26,
    "start_time": "2023-04-17T19:09:42.397Z"
   },
   {
    "duration": 11,
    "start_time": "2023-04-17T19:09:42.425Z"
   },
   {
    "duration": 9,
    "start_time": "2023-04-17T19:09:42.438Z"
   },
   {
    "duration": 14,
    "start_time": "2023-04-17T19:09:42.448Z"
   },
   {
    "duration": 33,
    "start_time": "2023-04-17T19:09:42.464Z"
   },
   {
    "duration": 5,
    "start_time": "2023-04-17T19:09:42.499Z"
   },
   {
    "duration": 32,
    "start_time": "2023-04-17T19:09:42.506Z"
   },
   {
    "duration": 70,
    "start_time": "2023-04-17T19:09:42.540Z"
   },
   {
    "duration": 9,
    "start_time": "2023-04-17T19:09:42.612Z"
   },
   {
    "duration": 6,
    "start_time": "2023-04-17T19:09:42.623Z"
   },
   {
    "duration": 9,
    "start_time": "2023-04-17T19:09:42.630Z"
   },
   {
    "duration": 18,
    "start_time": "2023-04-17T19:09:42.641Z"
   },
   {
    "duration": 36,
    "start_time": "2023-04-17T19:09:42.660Z"
   },
   {
    "duration": 17,
    "start_time": "2023-04-17T19:09:42.697Z"
   },
   {
    "duration": 7,
    "start_time": "2023-04-17T19:09:42.717Z"
   },
   {
    "duration": 9,
    "start_time": "2023-04-17T19:09:42.726Z"
   },
   {
    "duration": 6,
    "start_time": "2023-04-17T19:09:42.737Z"
   },
   {
    "duration": 14,
    "start_time": "2023-04-17T19:09:42.747Z"
   },
   {
    "duration": 7,
    "start_time": "2023-04-17T19:09:42.762Z"
   },
   {
    "duration": 14,
    "start_time": "2023-04-17T19:09:42.792Z"
   },
   {
    "duration": 11,
    "start_time": "2023-04-17T19:09:42.808Z"
   },
   {
    "duration": 7,
    "start_time": "2023-04-17T19:09:42.821Z"
   },
   {
    "duration": 6,
    "start_time": "2023-04-17T19:09:42.829Z"
   },
   {
    "duration": 10,
    "start_time": "2023-04-17T19:09:42.836Z"
   },
   {
    "duration": 594,
    "start_time": "2023-04-17T19:09:42.847Z"
   },
   {
    "duration": 14,
    "start_time": "2023-04-17T19:09:43.442Z"
   },
   {
    "duration": 10,
    "start_time": "2023-04-17T19:09:43.457Z"
   },
   {
    "duration": 31,
    "start_time": "2023-04-17T19:09:43.468Z"
   },
   {
    "duration": 9,
    "start_time": "2023-04-17T19:09:43.501Z"
   },
   {
    "duration": 19,
    "start_time": "2023-04-17T19:09:43.511Z"
   },
   {
    "duration": 10,
    "start_time": "2023-04-17T19:09:43.532Z"
   },
   {
    "duration": 473,
    "start_time": "2023-04-17T19:09:43.544Z"
   },
   {
    "duration": 688,
    "start_time": "2023-04-17T19:09:44.020Z"
   },
   {
    "duration": 9,
    "start_time": "2023-04-17T19:09:44.710Z"
   },
   {
    "duration": 776,
    "start_time": "2023-04-17T19:09:44.721Z"
   },
   {
    "duration": 428,
    "start_time": "2023-04-17T19:09:45.499Z"
   },
   {
    "duration": 4,
    "start_time": "2023-04-17T19:09:45.930Z"
   },
   {
    "duration": 7,
    "start_time": "2023-04-17T19:09:45.935Z"
   },
   {
    "duration": 13348,
    "start_time": "2023-04-17T19:09:45.944Z"
   },
   {
    "duration": 6,
    "start_time": "2023-04-17T19:09:59.293Z"
   },
   {
    "duration": 17,
    "start_time": "2023-04-17T19:09:59.302Z"
   },
   {
    "duration": 7,
    "start_time": "2023-04-17T19:09:59.321Z"
   },
   {
    "duration": 12475,
    "start_time": "2023-04-17T19:09:59.330Z"
   },
   {
    "duration": 10,
    "start_time": "2023-04-17T19:10:11.806Z"
   },
   {
    "duration": 13,
    "start_time": "2023-04-17T19:10:11.818Z"
   },
   {
    "duration": 12,
    "start_time": "2023-04-17T19:10:11.833Z"
   },
   {
    "duration": 7,
    "start_time": "2023-04-17T19:10:11.847Z"
   },
   {
    "duration": 6,
    "start_time": "2023-04-17T19:10:11.855Z"
   },
   {
    "duration": 11412,
    "start_time": "2023-04-17T19:10:11.862Z"
   },
   {
    "duration": 7,
    "start_time": "2023-04-17T19:10:23.276Z"
   },
   {
    "duration": 8,
    "start_time": "2023-04-17T19:10:23.293Z"
   },
   {
    "duration": 11,
    "start_time": "2023-04-17T19:10:23.302Z"
   },
   {
    "duration": 237,
    "start_time": "2023-04-17T19:10:23.314Z"
   },
   {
    "duration": 13,
    "start_time": "2023-04-17T19:10:23.553Z"
   },
   {
    "duration": 3,
    "start_time": "2023-04-17T19:10:23.568Z"
   },
   {
    "duration": 134,
    "start_time": "2023-04-17T19:10:23.573Z"
   },
   {
    "duration": 9,
    "start_time": "2023-04-17T19:10:23.709Z"
   },
   {
    "duration": 13,
    "start_time": "2023-04-17T19:10:23.720Z"
   },
   {
    "duration": 19,
    "start_time": "2023-04-17T19:10:23.735Z"
   },
   {
    "duration": 3,
    "start_time": "2023-04-17T19:10:23.756Z"
   },
   {
    "duration": 14,
    "start_time": "2023-04-17T19:10:23.761Z"
   },
   {
    "duration": 11801,
    "start_time": "2023-04-17T19:10:23.777Z"
   },
   {
    "duration": 3,
    "start_time": "2023-04-17T19:10:35.580Z"
   },
   {
    "duration": 5,
    "start_time": "2023-04-17T19:10:35.593Z"
   },
   {
    "duration": 11569,
    "start_time": "2023-04-17T19:10:35.599Z"
   },
   {
    "duration": 24,
    "start_time": "2023-04-17T19:10:47.170Z"
   },
   {
    "duration": 11,
    "start_time": "2023-04-17T19:10:47.196Z"
   },
   {
    "duration": 8,
    "start_time": "2023-04-17T19:10:47.208Z"
   },
   {
    "duration": 326,
    "start_time": "2023-04-17T19:10:47.218Z"
   },
   {
    "duration": 18,
    "start_time": "2023-04-17T19:10:47.546Z"
   },
   {
    "duration": 27,
    "start_time": "2023-04-17T19:10:47.566Z"
   },
   {
    "duration": 290,
    "start_time": "2023-04-17T19:10:47.599Z"
   },
   {
    "duration": 19,
    "start_time": "2023-04-17T19:10:47.893Z"
   },
   {
    "duration": 11,
    "start_time": "2023-04-17T19:10:47.913Z"
   },
   {
    "duration": 3,
    "start_time": "2023-04-17T19:10:47.926Z"
   },
   {
    "duration": 8,
    "start_time": "2023-04-17T19:10:47.931Z"
   },
   {
    "duration": 10,
    "start_time": "2023-04-17T19:10:47.941Z"
   },
   {
    "duration": 4,
    "start_time": "2023-04-17T19:10:47.994Z"
   },
   {
    "duration": 10,
    "start_time": "2023-04-17T19:10:47.999Z"
   },
   {
    "duration": 360,
    "start_time": "2023-04-17T19:10:48.011Z"
   },
   {
    "duration": 26,
    "start_time": "2023-04-17T19:10:48.373Z"
   },
   {
    "duration": 238,
    "start_time": "2023-04-17T19:10:48.401Z"
   },
   {
    "duration": 21,
    "start_time": "2023-04-17T19:10:48.641Z"
   },
   {
    "duration": 36,
    "start_time": "2023-04-17T19:10:48.664Z"
   },
   {
    "duration": 2,
    "start_time": "2023-04-17T19:10:48.702Z"
   },
   {
    "duration": 13,
    "start_time": "2023-04-17T19:10:48.706Z"
   },
   {
    "duration": 28,
    "start_time": "2023-04-17T19:10:48.721Z"
   },
   {
    "duration": 117,
    "start_time": "2023-04-17T19:10:48.750Z"
   },
   {
    "duration": 3,
    "start_time": "2023-04-17T19:10:48.869Z"
   },
   {
    "duration": 41,
    "start_time": "2023-04-17T19:10:48.874Z"
   },
   {
    "duration": 388,
    "start_time": "2023-04-17T19:10:48.917Z"
   },
   {
    "duration": 18,
    "start_time": "2023-04-17T19:10:49.308Z"
   },
   {
    "duration": 17,
    "start_time": "2023-04-17T19:10:49.328Z"
   },
   {
    "duration": 4,
    "start_time": "2023-04-17T19:10:49.347Z"
   },
   {
    "duration": 359,
    "start_time": "2023-04-17T19:10:49.353Z"
   },
   {
    "duration": 22,
    "start_time": "2023-04-17T19:10:49.714Z"
   },
   {
    "duration": 260,
    "start_time": "2023-04-17T19:10:49.738Z"
   }
  ],
  "colab": {
   "provenance": []
  },
  "kernelspec": {
   "display_name": "Python 3 (ipykernel)",
   "language": "python",
   "name": "python3"
  },
  "language_info": {
   "codemirror_mode": {
    "name": "ipython",
    "version": 3
   },
   "file_extension": ".py",
   "mimetype": "text/x-python",
   "name": "python",
   "nbconvert_exporter": "python",
   "pygments_lexer": "ipython3",
   "version": "3.9.5"
  },
  "toc": {
   "base_numbering": 1,
   "nav_menu": {},
   "number_sections": true,
   "sideBar": true,
   "skip_h1_title": true,
   "title_cell": "Table of Contents",
   "title_sidebar": "Contents",
   "toc_cell": false,
   "toc_position": {
    "height": "calc(100% - 180px)",
    "left": "10px",
    "top": "150px",
    "width": "292px"
   },
   "toc_section_display": true,
   "toc_window_display": true
  }
 },
 "nbformat": 4,
 "nbformat_minor": 5
}
